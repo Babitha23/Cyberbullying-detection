{
  "nbformat": 4,
  "nbformat_minor": 0,
  "metadata": {
    "colab": {
      "provenance": []
    },
    "kernelspec": {
      "name": "python3",
      "display_name": "Python 3"
    },
    "language_info": {
      "name": "python"
    },
    "gpuClass": "standard",
    "accelerator": "GPU",
    "widgets": {
      "application/vnd.jupyter.widget-state+json": {
        "c369f9d6c4fd49dab590e71317c077f7": {
          "model_module": "@jupyter-widgets/controls",
          "model_name": "HBoxModel",
          "model_module_version": "1.5.0",
          "state": {
            "_dom_classes": [],
            "_model_module": "@jupyter-widgets/controls",
            "_model_module_version": "1.5.0",
            "_model_name": "HBoxModel",
            "_view_count": null,
            "_view_module": "@jupyter-widgets/controls",
            "_view_module_version": "1.5.0",
            "_view_name": "HBoxView",
            "box_style": "",
            "children": [
              "IPY_MODEL_b6f50aac88474e10aed0bedc302f766b",
              "IPY_MODEL_b37105d7e94a4b23a537e9336c39e1e7",
              "IPY_MODEL_6a47b597660f4d36bb1e43cd1d4d6df2"
            ],
            "layout": "IPY_MODEL_28b2138eef0e47fc9ae8275c85524ae1"
          }
        },
        "b6f50aac88474e10aed0bedc302f766b": {
          "model_module": "@jupyter-widgets/controls",
          "model_name": "HTMLModel",
          "model_module_version": "1.5.0",
          "state": {
            "_dom_classes": [],
            "_model_module": "@jupyter-widgets/controls",
            "_model_module_version": "1.5.0",
            "_model_name": "HTMLModel",
            "_view_count": null,
            "_view_module": "@jupyter-widgets/controls",
            "_view_module_version": "1.5.0",
            "_view_name": "HTMLView",
            "description": "",
            "description_tooltip": null,
            "layout": "IPY_MODEL_ff54ea4a88bb45a092f133e6fc54883d",
            "placeholder": "​",
            "style": "IPY_MODEL_c08f25066cf84a7e8e0091ffb1de2108",
            "value": "Downloading: 100%"
          }
        },
        "b37105d7e94a4b23a537e9336c39e1e7": {
          "model_module": "@jupyter-widgets/controls",
          "model_name": "FloatProgressModel",
          "model_module_version": "1.5.0",
          "state": {
            "_dom_classes": [],
            "_model_module": "@jupyter-widgets/controls",
            "_model_module_version": "1.5.0",
            "_model_name": "FloatProgressModel",
            "_view_count": null,
            "_view_module": "@jupyter-widgets/controls",
            "_view_module_version": "1.5.0",
            "_view_name": "ProgressView",
            "bar_style": "success",
            "description": "",
            "description_tooltip": null,
            "layout": "IPY_MODEL_8379a59b93ee4cf8957d971a2356eb05",
            "max": 231508,
            "min": 0,
            "orientation": "horizontal",
            "style": "IPY_MODEL_14addf6957094b4f9aeb697e5d7b878f",
            "value": 231508
          }
        },
        "6a47b597660f4d36bb1e43cd1d4d6df2": {
          "model_module": "@jupyter-widgets/controls",
          "model_name": "HTMLModel",
          "model_module_version": "1.5.0",
          "state": {
            "_dom_classes": [],
            "_model_module": "@jupyter-widgets/controls",
            "_model_module_version": "1.5.0",
            "_model_name": "HTMLModel",
            "_view_count": null,
            "_view_module": "@jupyter-widgets/controls",
            "_view_module_version": "1.5.0",
            "_view_name": "HTMLView",
            "description": "",
            "description_tooltip": null,
            "layout": "IPY_MODEL_87844c24310a4da294f871ca6e8f9e71",
            "placeholder": "​",
            "style": "IPY_MODEL_270c9e478fdc4c499fab7ba12eb2281a",
            "value": " 232k/232k [00:00&lt;00:00, 841kB/s]"
          }
        },
        "28b2138eef0e47fc9ae8275c85524ae1": {
          "model_module": "@jupyter-widgets/base",
          "model_name": "LayoutModel",
          "model_module_version": "1.2.0",
          "state": {
            "_model_module": "@jupyter-widgets/base",
            "_model_module_version": "1.2.0",
            "_model_name": "LayoutModel",
            "_view_count": null,
            "_view_module": "@jupyter-widgets/base",
            "_view_module_version": "1.2.0",
            "_view_name": "LayoutView",
            "align_content": null,
            "align_items": null,
            "align_self": null,
            "border": null,
            "bottom": null,
            "display": null,
            "flex": null,
            "flex_flow": null,
            "grid_area": null,
            "grid_auto_columns": null,
            "grid_auto_flow": null,
            "grid_auto_rows": null,
            "grid_column": null,
            "grid_gap": null,
            "grid_row": null,
            "grid_template_areas": null,
            "grid_template_columns": null,
            "grid_template_rows": null,
            "height": null,
            "justify_content": null,
            "justify_items": null,
            "left": null,
            "margin": null,
            "max_height": null,
            "max_width": null,
            "min_height": null,
            "min_width": null,
            "object_fit": null,
            "object_position": null,
            "order": null,
            "overflow": null,
            "overflow_x": null,
            "overflow_y": null,
            "padding": null,
            "right": null,
            "top": null,
            "visibility": null,
            "width": null
          }
        },
        "ff54ea4a88bb45a092f133e6fc54883d": {
          "model_module": "@jupyter-widgets/base",
          "model_name": "LayoutModel",
          "model_module_version": "1.2.0",
          "state": {
            "_model_module": "@jupyter-widgets/base",
            "_model_module_version": "1.2.0",
            "_model_name": "LayoutModel",
            "_view_count": null,
            "_view_module": "@jupyter-widgets/base",
            "_view_module_version": "1.2.0",
            "_view_name": "LayoutView",
            "align_content": null,
            "align_items": null,
            "align_self": null,
            "border": null,
            "bottom": null,
            "display": null,
            "flex": null,
            "flex_flow": null,
            "grid_area": null,
            "grid_auto_columns": null,
            "grid_auto_flow": null,
            "grid_auto_rows": null,
            "grid_column": null,
            "grid_gap": null,
            "grid_row": null,
            "grid_template_areas": null,
            "grid_template_columns": null,
            "grid_template_rows": null,
            "height": null,
            "justify_content": null,
            "justify_items": null,
            "left": null,
            "margin": null,
            "max_height": null,
            "max_width": null,
            "min_height": null,
            "min_width": null,
            "object_fit": null,
            "object_position": null,
            "order": null,
            "overflow": null,
            "overflow_x": null,
            "overflow_y": null,
            "padding": null,
            "right": null,
            "top": null,
            "visibility": null,
            "width": null
          }
        },
        "c08f25066cf84a7e8e0091ffb1de2108": {
          "model_module": "@jupyter-widgets/controls",
          "model_name": "DescriptionStyleModel",
          "model_module_version": "1.5.0",
          "state": {
            "_model_module": "@jupyter-widgets/controls",
            "_model_module_version": "1.5.0",
            "_model_name": "DescriptionStyleModel",
            "_view_count": null,
            "_view_module": "@jupyter-widgets/base",
            "_view_module_version": "1.2.0",
            "_view_name": "StyleView",
            "description_width": ""
          }
        },
        "8379a59b93ee4cf8957d971a2356eb05": {
          "model_module": "@jupyter-widgets/base",
          "model_name": "LayoutModel",
          "model_module_version": "1.2.0",
          "state": {
            "_model_module": "@jupyter-widgets/base",
            "_model_module_version": "1.2.0",
            "_model_name": "LayoutModel",
            "_view_count": null,
            "_view_module": "@jupyter-widgets/base",
            "_view_module_version": "1.2.0",
            "_view_name": "LayoutView",
            "align_content": null,
            "align_items": null,
            "align_self": null,
            "border": null,
            "bottom": null,
            "display": null,
            "flex": null,
            "flex_flow": null,
            "grid_area": null,
            "grid_auto_columns": null,
            "grid_auto_flow": null,
            "grid_auto_rows": null,
            "grid_column": null,
            "grid_gap": null,
            "grid_row": null,
            "grid_template_areas": null,
            "grid_template_columns": null,
            "grid_template_rows": null,
            "height": null,
            "justify_content": null,
            "justify_items": null,
            "left": null,
            "margin": null,
            "max_height": null,
            "max_width": null,
            "min_height": null,
            "min_width": null,
            "object_fit": null,
            "object_position": null,
            "order": null,
            "overflow": null,
            "overflow_x": null,
            "overflow_y": null,
            "padding": null,
            "right": null,
            "top": null,
            "visibility": null,
            "width": null
          }
        },
        "14addf6957094b4f9aeb697e5d7b878f": {
          "model_module": "@jupyter-widgets/controls",
          "model_name": "ProgressStyleModel",
          "model_module_version": "1.5.0",
          "state": {
            "_model_module": "@jupyter-widgets/controls",
            "_model_module_version": "1.5.0",
            "_model_name": "ProgressStyleModel",
            "_view_count": null,
            "_view_module": "@jupyter-widgets/base",
            "_view_module_version": "1.2.0",
            "_view_name": "StyleView",
            "bar_color": null,
            "description_width": ""
          }
        },
        "87844c24310a4da294f871ca6e8f9e71": {
          "model_module": "@jupyter-widgets/base",
          "model_name": "LayoutModel",
          "model_module_version": "1.2.0",
          "state": {
            "_model_module": "@jupyter-widgets/base",
            "_model_module_version": "1.2.0",
            "_model_name": "LayoutModel",
            "_view_count": null,
            "_view_module": "@jupyter-widgets/base",
            "_view_module_version": "1.2.0",
            "_view_name": "LayoutView",
            "align_content": null,
            "align_items": null,
            "align_self": null,
            "border": null,
            "bottom": null,
            "display": null,
            "flex": null,
            "flex_flow": null,
            "grid_area": null,
            "grid_auto_columns": null,
            "grid_auto_flow": null,
            "grid_auto_rows": null,
            "grid_column": null,
            "grid_gap": null,
            "grid_row": null,
            "grid_template_areas": null,
            "grid_template_columns": null,
            "grid_template_rows": null,
            "height": null,
            "justify_content": null,
            "justify_items": null,
            "left": null,
            "margin": null,
            "max_height": null,
            "max_width": null,
            "min_height": null,
            "min_width": null,
            "object_fit": null,
            "object_position": null,
            "order": null,
            "overflow": null,
            "overflow_x": null,
            "overflow_y": null,
            "padding": null,
            "right": null,
            "top": null,
            "visibility": null,
            "width": null
          }
        },
        "270c9e478fdc4c499fab7ba12eb2281a": {
          "model_module": "@jupyter-widgets/controls",
          "model_name": "DescriptionStyleModel",
          "model_module_version": "1.5.0",
          "state": {
            "_model_module": "@jupyter-widgets/controls",
            "_model_module_version": "1.5.0",
            "_model_name": "DescriptionStyleModel",
            "_view_count": null,
            "_view_module": "@jupyter-widgets/base",
            "_view_module_version": "1.2.0",
            "_view_name": "StyleView",
            "description_width": ""
          }
        },
        "75c1f5e681394be3ab0f1b31b9a1781f": {
          "model_module": "@jupyter-widgets/controls",
          "model_name": "HBoxModel",
          "model_module_version": "1.5.0",
          "state": {
            "_dom_classes": [],
            "_model_module": "@jupyter-widgets/controls",
            "_model_module_version": "1.5.0",
            "_model_name": "HBoxModel",
            "_view_count": null,
            "_view_module": "@jupyter-widgets/controls",
            "_view_module_version": "1.5.0",
            "_view_name": "HBoxView",
            "box_style": "",
            "children": [
              "IPY_MODEL_c4b55db8d2e54ec4af218182f9158de9",
              "IPY_MODEL_a68d32f5a40947e49e15c9add3bdb949",
              "IPY_MODEL_1f8cf3041b9748869dbda05cca31ada2"
            ],
            "layout": "IPY_MODEL_e02de1a97a60404c805ee8f217fce336"
          }
        },
        "c4b55db8d2e54ec4af218182f9158de9": {
          "model_module": "@jupyter-widgets/controls",
          "model_name": "HTMLModel",
          "model_module_version": "1.5.0",
          "state": {
            "_dom_classes": [],
            "_model_module": "@jupyter-widgets/controls",
            "_model_module_version": "1.5.0",
            "_model_name": "HTMLModel",
            "_view_count": null,
            "_view_module": "@jupyter-widgets/controls",
            "_view_module_version": "1.5.0",
            "_view_name": "HTMLView",
            "description": "",
            "description_tooltip": null,
            "layout": "IPY_MODEL_c689434740db4fe4bd23c2066511451b",
            "placeholder": "​",
            "style": "IPY_MODEL_3b5fb513a89849eca11df88037799d20",
            "value": "Downloading: 100%"
          }
        },
        "a68d32f5a40947e49e15c9add3bdb949": {
          "model_module": "@jupyter-widgets/controls",
          "model_name": "FloatProgressModel",
          "model_module_version": "1.5.0",
          "state": {
            "_dom_classes": [],
            "_model_module": "@jupyter-widgets/controls",
            "_model_module_version": "1.5.0",
            "_model_name": "FloatProgressModel",
            "_view_count": null,
            "_view_module": "@jupyter-widgets/controls",
            "_view_module_version": "1.5.0",
            "_view_name": "ProgressView",
            "bar_style": "success",
            "description": "",
            "description_tooltip": null,
            "layout": "IPY_MODEL_32be599e80014de1b13a628ff262edfd",
            "max": 28,
            "min": 0,
            "orientation": "horizontal",
            "style": "IPY_MODEL_fa21382e292f4060a11994530f06c939",
            "value": 28
          }
        },
        "1f8cf3041b9748869dbda05cca31ada2": {
          "model_module": "@jupyter-widgets/controls",
          "model_name": "HTMLModel",
          "model_module_version": "1.5.0",
          "state": {
            "_dom_classes": [],
            "_model_module": "@jupyter-widgets/controls",
            "_model_module_version": "1.5.0",
            "_model_name": "HTMLModel",
            "_view_count": null,
            "_view_module": "@jupyter-widgets/controls",
            "_view_module_version": "1.5.0",
            "_view_name": "HTMLView",
            "description": "",
            "description_tooltip": null,
            "layout": "IPY_MODEL_7c762a2be8a5464ca5464005242b41d0",
            "placeholder": "​",
            "style": "IPY_MODEL_8a53c8feed4c4f5aa66178df87d235ec",
            "value": " 28.0/28.0 [00:00&lt;00:00, 287B/s]"
          }
        },
        "e02de1a97a60404c805ee8f217fce336": {
          "model_module": "@jupyter-widgets/base",
          "model_name": "LayoutModel",
          "model_module_version": "1.2.0",
          "state": {
            "_model_module": "@jupyter-widgets/base",
            "_model_module_version": "1.2.0",
            "_model_name": "LayoutModel",
            "_view_count": null,
            "_view_module": "@jupyter-widgets/base",
            "_view_module_version": "1.2.0",
            "_view_name": "LayoutView",
            "align_content": null,
            "align_items": null,
            "align_self": null,
            "border": null,
            "bottom": null,
            "display": null,
            "flex": null,
            "flex_flow": null,
            "grid_area": null,
            "grid_auto_columns": null,
            "grid_auto_flow": null,
            "grid_auto_rows": null,
            "grid_column": null,
            "grid_gap": null,
            "grid_row": null,
            "grid_template_areas": null,
            "grid_template_columns": null,
            "grid_template_rows": null,
            "height": null,
            "justify_content": null,
            "justify_items": null,
            "left": null,
            "margin": null,
            "max_height": null,
            "max_width": null,
            "min_height": null,
            "min_width": null,
            "object_fit": null,
            "object_position": null,
            "order": null,
            "overflow": null,
            "overflow_x": null,
            "overflow_y": null,
            "padding": null,
            "right": null,
            "top": null,
            "visibility": null,
            "width": null
          }
        },
        "c689434740db4fe4bd23c2066511451b": {
          "model_module": "@jupyter-widgets/base",
          "model_name": "LayoutModel",
          "model_module_version": "1.2.0",
          "state": {
            "_model_module": "@jupyter-widgets/base",
            "_model_module_version": "1.2.0",
            "_model_name": "LayoutModel",
            "_view_count": null,
            "_view_module": "@jupyter-widgets/base",
            "_view_module_version": "1.2.0",
            "_view_name": "LayoutView",
            "align_content": null,
            "align_items": null,
            "align_self": null,
            "border": null,
            "bottom": null,
            "display": null,
            "flex": null,
            "flex_flow": null,
            "grid_area": null,
            "grid_auto_columns": null,
            "grid_auto_flow": null,
            "grid_auto_rows": null,
            "grid_column": null,
            "grid_gap": null,
            "grid_row": null,
            "grid_template_areas": null,
            "grid_template_columns": null,
            "grid_template_rows": null,
            "height": null,
            "justify_content": null,
            "justify_items": null,
            "left": null,
            "margin": null,
            "max_height": null,
            "max_width": null,
            "min_height": null,
            "min_width": null,
            "object_fit": null,
            "object_position": null,
            "order": null,
            "overflow": null,
            "overflow_x": null,
            "overflow_y": null,
            "padding": null,
            "right": null,
            "top": null,
            "visibility": null,
            "width": null
          }
        },
        "3b5fb513a89849eca11df88037799d20": {
          "model_module": "@jupyter-widgets/controls",
          "model_name": "DescriptionStyleModel",
          "model_module_version": "1.5.0",
          "state": {
            "_model_module": "@jupyter-widgets/controls",
            "_model_module_version": "1.5.0",
            "_model_name": "DescriptionStyleModel",
            "_view_count": null,
            "_view_module": "@jupyter-widgets/base",
            "_view_module_version": "1.2.0",
            "_view_name": "StyleView",
            "description_width": ""
          }
        },
        "32be599e80014de1b13a628ff262edfd": {
          "model_module": "@jupyter-widgets/base",
          "model_name": "LayoutModel",
          "model_module_version": "1.2.0",
          "state": {
            "_model_module": "@jupyter-widgets/base",
            "_model_module_version": "1.2.0",
            "_model_name": "LayoutModel",
            "_view_count": null,
            "_view_module": "@jupyter-widgets/base",
            "_view_module_version": "1.2.0",
            "_view_name": "LayoutView",
            "align_content": null,
            "align_items": null,
            "align_self": null,
            "border": null,
            "bottom": null,
            "display": null,
            "flex": null,
            "flex_flow": null,
            "grid_area": null,
            "grid_auto_columns": null,
            "grid_auto_flow": null,
            "grid_auto_rows": null,
            "grid_column": null,
            "grid_gap": null,
            "grid_row": null,
            "grid_template_areas": null,
            "grid_template_columns": null,
            "grid_template_rows": null,
            "height": null,
            "justify_content": null,
            "justify_items": null,
            "left": null,
            "margin": null,
            "max_height": null,
            "max_width": null,
            "min_height": null,
            "min_width": null,
            "object_fit": null,
            "object_position": null,
            "order": null,
            "overflow": null,
            "overflow_x": null,
            "overflow_y": null,
            "padding": null,
            "right": null,
            "top": null,
            "visibility": null,
            "width": null
          }
        },
        "fa21382e292f4060a11994530f06c939": {
          "model_module": "@jupyter-widgets/controls",
          "model_name": "ProgressStyleModel",
          "model_module_version": "1.5.0",
          "state": {
            "_model_module": "@jupyter-widgets/controls",
            "_model_module_version": "1.5.0",
            "_model_name": "ProgressStyleModel",
            "_view_count": null,
            "_view_module": "@jupyter-widgets/base",
            "_view_module_version": "1.2.0",
            "_view_name": "StyleView",
            "bar_color": null,
            "description_width": ""
          }
        },
        "7c762a2be8a5464ca5464005242b41d0": {
          "model_module": "@jupyter-widgets/base",
          "model_name": "LayoutModel",
          "model_module_version": "1.2.0",
          "state": {
            "_model_module": "@jupyter-widgets/base",
            "_model_module_version": "1.2.0",
            "_model_name": "LayoutModel",
            "_view_count": null,
            "_view_module": "@jupyter-widgets/base",
            "_view_module_version": "1.2.0",
            "_view_name": "LayoutView",
            "align_content": null,
            "align_items": null,
            "align_self": null,
            "border": null,
            "bottom": null,
            "display": null,
            "flex": null,
            "flex_flow": null,
            "grid_area": null,
            "grid_auto_columns": null,
            "grid_auto_flow": null,
            "grid_auto_rows": null,
            "grid_column": null,
            "grid_gap": null,
            "grid_row": null,
            "grid_template_areas": null,
            "grid_template_columns": null,
            "grid_template_rows": null,
            "height": null,
            "justify_content": null,
            "justify_items": null,
            "left": null,
            "margin": null,
            "max_height": null,
            "max_width": null,
            "min_height": null,
            "min_width": null,
            "object_fit": null,
            "object_position": null,
            "order": null,
            "overflow": null,
            "overflow_x": null,
            "overflow_y": null,
            "padding": null,
            "right": null,
            "top": null,
            "visibility": null,
            "width": null
          }
        },
        "8a53c8feed4c4f5aa66178df87d235ec": {
          "model_module": "@jupyter-widgets/controls",
          "model_name": "DescriptionStyleModel",
          "model_module_version": "1.5.0",
          "state": {
            "_model_module": "@jupyter-widgets/controls",
            "_model_module_version": "1.5.0",
            "_model_name": "DescriptionStyleModel",
            "_view_count": null,
            "_view_module": "@jupyter-widgets/base",
            "_view_module_version": "1.2.0",
            "_view_name": "StyleView",
            "description_width": ""
          }
        },
        "84ad4ebf245d4e60ae89698aed7cc597": {
          "model_module": "@jupyter-widgets/controls",
          "model_name": "HBoxModel",
          "model_module_version": "1.5.0",
          "state": {
            "_dom_classes": [],
            "_model_module": "@jupyter-widgets/controls",
            "_model_module_version": "1.5.0",
            "_model_name": "HBoxModel",
            "_view_count": null,
            "_view_module": "@jupyter-widgets/controls",
            "_view_module_version": "1.5.0",
            "_view_name": "HBoxView",
            "box_style": "",
            "children": [
              "IPY_MODEL_282cd67339f84faf9517320a04313ed2",
              "IPY_MODEL_4c65abc49a634b46a1e4986abd9426ff",
              "IPY_MODEL_e7016aeab3c740d49435aec510e9c2ac"
            ],
            "layout": "IPY_MODEL_1ed620c70afa4e24b4a0c21f7e616da7"
          }
        },
        "282cd67339f84faf9517320a04313ed2": {
          "model_module": "@jupyter-widgets/controls",
          "model_name": "HTMLModel",
          "model_module_version": "1.5.0",
          "state": {
            "_dom_classes": [],
            "_model_module": "@jupyter-widgets/controls",
            "_model_module_version": "1.5.0",
            "_model_name": "HTMLModel",
            "_view_count": null,
            "_view_module": "@jupyter-widgets/controls",
            "_view_module_version": "1.5.0",
            "_view_name": "HTMLView",
            "description": "",
            "description_tooltip": null,
            "layout": "IPY_MODEL_fdd1074a99834757bd0b02a491418d45",
            "placeholder": "​",
            "style": "IPY_MODEL_1cc7cd2805a147878cca31076967c71c",
            "value": "Downloading: 100%"
          }
        },
        "4c65abc49a634b46a1e4986abd9426ff": {
          "model_module": "@jupyter-widgets/controls",
          "model_name": "FloatProgressModel",
          "model_module_version": "1.5.0",
          "state": {
            "_dom_classes": [],
            "_model_module": "@jupyter-widgets/controls",
            "_model_module_version": "1.5.0",
            "_model_name": "FloatProgressModel",
            "_view_count": null,
            "_view_module": "@jupyter-widgets/controls",
            "_view_module_version": "1.5.0",
            "_view_name": "ProgressView",
            "bar_style": "success",
            "description": "",
            "description_tooltip": null,
            "layout": "IPY_MODEL_0f6346ef506344b9989f2bdfd0cc2ddf",
            "max": 570,
            "min": 0,
            "orientation": "horizontal",
            "style": "IPY_MODEL_ecf5e58e7eb54b3eb0341f284a5c7880",
            "value": 570
          }
        },
        "e7016aeab3c740d49435aec510e9c2ac": {
          "model_module": "@jupyter-widgets/controls",
          "model_name": "HTMLModel",
          "model_module_version": "1.5.0",
          "state": {
            "_dom_classes": [],
            "_model_module": "@jupyter-widgets/controls",
            "_model_module_version": "1.5.0",
            "_model_name": "HTMLModel",
            "_view_count": null,
            "_view_module": "@jupyter-widgets/controls",
            "_view_module_version": "1.5.0",
            "_view_name": "HTMLView",
            "description": "",
            "description_tooltip": null,
            "layout": "IPY_MODEL_646d7e27a2a24f8087ce770b9cb2a618",
            "placeholder": "​",
            "style": "IPY_MODEL_98a4d9e937a547d88781cd94ae9bfe30",
            "value": " 570/570 [00:00&lt;00:00, 7.04kB/s]"
          }
        },
        "1ed620c70afa4e24b4a0c21f7e616da7": {
          "model_module": "@jupyter-widgets/base",
          "model_name": "LayoutModel",
          "model_module_version": "1.2.0",
          "state": {
            "_model_module": "@jupyter-widgets/base",
            "_model_module_version": "1.2.0",
            "_model_name": "LayoutModel",
            "_view_count": null,
            "_view_module": "@jupyter-widgets/base",
            "_view_module_version": "1.2.0",
            "_view_name": "LayoutView",
            "align_content": null,
            "align_items": null,
            "align_self": null,
            "border": null,
            "bottom": null,
            "display": null,
            "flex": null,
            "flex_flow": null,
            "grid_area": null,
            "grid_auto_columns": null,
            "grid_auto_flow": null,
            "grid_auto_rows": null,
            "grid_column": null,
            "grid_gap": null,
            "grid_row": null,
            "grid_template_areas": null,
            "grid_template_columns": null,
            "grid_template_rows": null,
            "height": null,
            "justify_content": null,
            "justify_items": null,
            "left": null,
            "margin": null,
            "max_height": null,
            "max_width": null,
            "min_height": null,
            "min_width": null,
            "object_fit": null,
            "object_position": null,
            "order": null,
            "overflow": null,
            "overflow_x": null,
            "overflow_y": null,
            "padding": null,
            "right": null,
            "top": null,
            "visibility": null,
            "width": null
          }
        },
        "fdd1074a99834757bd0b02a491418d45": {
          "model_module": "@jupyter-widgets/base",
          "model_name": "LayoutModel",
          "model_module_version": "1.2.0",
          "state": {
            "_model_module": "@jupyter-widgets/base",
            "_model_module_version": "1.2.0",
            "_model_name": "LayoutModel",
            "_view_count": null,
            "_view_module": "@jupyter-widgets/base",
            "_view_module_version": "1.2.0",
            "_view_name": "LayoutView",
            "align_content": null,
            "align_items": null,
            "align_self": null,
            "border": null,
            "bottom": null,
            "display": null,
            "flex": null,
            "flex_flow": null,
            "grid_area": null,
            "grid_auto_columns": null,
            "grid_auto_flow": null,
            "grid_auto_rows": null,
            "grid_column": null,
            "grid_gap": null,
            "grid_row": null,
            "grid_template_areas": null,
            "grid_template_columns": null,
            "grid_template_rows": null,
            "height": null,
            "justify_content": null,
            "justify_items": null,
            "left": null,
            "margin": null,
            "max_height": null,
            "max_width": null,
            "min_height": null,
            "min_width": null,
            "object_fit": null,
            "object_position": null,
            "order": null,
            "overflow": null,
            "overflow_x": null,
            "overflow_y": null,
            "padding": null,
            "right": null,
            "top": null,
            "visibility": null,
            "width": null
          }
        },
        "1cc7cd2805a147878cca31076967c71c": {
          "model_module": "@jupyter-widgets/controls",
          "model_name": "DescriptionStyleModel",
          "model_module_version": "1.5.0",
          "state": {
            "_model_module": "@jupyter-widgets/controls",
            "_model_module_version": "1.5.0",
            "_model_name": "DescriptionStyleModel",
            "_view_count": null,
            "_view_module": "@jupyter-widgets/base",
            "_view_module_version": "1.2.0",
            "_view_name": "StyleView",
            "description_width": ""
          }
        },
        "0f6346ef506344b9989f2bdfd0cc2ddf": {
          "model_module": "@jupyter-widgets/base",
          "model_name": "LayoutModel",
          "model_module_version": "1.2.0",
          "state": {
            "_model_module": "@jupyter-widgets/base",
            "_model_module_version": "1.2.0",
            "_model_name": "LayoutModel",
            "_view_count": null,
            "_view_module": "@jupyter-widgets/base",
            "_view_module_version": "1.2.0",
            "_view_name": "LayoutView",
            "align_content": null,
            "align_items": null,
            "align_self": null,
            "border": null,
            "bottom": null,
            "display": null,
            "flex": null,
            "flex_flow": null,
            "grid_area": null,
            "grid_auto_columns": null,
            "grid_auto_flow": null,
            "grid_auto_rows": null,
            "grid_column": null,
            "grid_gap": null,
            "grid_row": null,
            "grid_template_areas": null,
            "grid_template_columns": null,
            "grid_template_rows": null,
            "height": null,
            "justify_content": null,
            "justify_items": null,
            "left": null,
            "margin": null,
            "max_height": null,
            "max_width": null,
            "min_height": null,
            "min_width": null,
            "object_fit": null,
            "object_position": null,
            "order": null,
            "overflow": null,
            "overflow_x": null,
            "overflow_y": null,
            "padding": null,
            "right": null,
            "top": null,
            "visibility": null,
            "width": null
          }
        },
        "ecf5e58e7eb54b3eb0341f284a5c7880": {
          "model_module": "@jupyter-widgets/controls",
          "model_name": "ProgressStyleModel",
          "model_module_version": "1.5.0",
          "state": {
            "_model_module": "@jupyter-widgets/controls",
            "_model_module_version": "1.5.0",
            "_model_name": "ProgressStyleModel",
            "_view_count": null,
            "_view_module": "@jupyter-widgets/base",
            "_view_module_version": "1.2.0",
            "_view_name": "StyleView",
            "bar_color": null,
            "description_width": ""
          }
        },
        "646d7e27a2a24f8087ce770b9cb2a618": {
          "model_module": "@jupyter-widgets/base",
          "model_name": "LayoutModel",
          "model_module_version": "1.2.0",
          "state": {
            "_model_module": "@jupyter-widgets/base",
            "_model_module_version": "1.2.0",
            "_model_name": "LayoutModel",
            "_view_count": null,
            "_view_module": "@jupyter-widgets/base",
            "_view_module_version": "1.2.0",
            "_view_name": "LayoutView",
            "align_content": null,
            "align_items": null,
            "align_self": null,
            "border": null,
            "bottom": null,
            "display": null,
            "flex": null,
            "flex_flow": null,
            "grid_area": null,
            "grid_auto_columns": null,
            "grid_auto_flow": null,
            "grid_auto_rows": null,
            "grid_column": null,
            "grid_gap": null,
            "grid_row": null,
            "grid_template_areas": null,
            "grid_template_columns": null,
            "grid_template_rows": null,
            "height": null,
            "justify_content": null,
            "justify_items": null,
            "left": null,
            "margin": null,
            "max_height": null,
            "max_width": null,
            "min_height": null,
            "min_width": null,
            "object_fit": null,
            "object_position": null,
            "order": null,
            "overflow": null,
            "overflow_x": null,
            "overflow_y": null,
            "padding": null,
            "right": null,
            "top": null,
            "visibility": null,
            "width": null
          }
        },
        "98a4d9e937a547d88781cd94ae9bfe30": {
          "model_module": "@jupyter-widgets/controls",
          "model_name": "DescriptionStyleModel",
          "model_module_version": "1.5.0",
          "state": {
            "_model_module": "@jupyter-widgets/controls",
            "_model_module_version": "1.5.0",
            "_model_name": "DescriptionStyleModel",
            "_view_count": null,
            "_view_module": "@jupyter-widgets/base",
            "_view_module_version": "1.2.0",
            "_view_name": "StyleView",
            "description_width": ""
          }
        }
      }
    }
  },
  "cells": [
    {
      "cell_type": "code",
      "source": [
        "# import torch\n",
        "# if torch.cuda.is_available():       \n",
        "#     device = torch.device(\"cuda\")\n",
        "#     print(f'There are {torch.cuda.device_count()} GPU(s) available.')\n",
        "#     print('Device name:', torch.cuda.get_device_name(0))\n",
        "\n",
        "# else:\n",
        "#     print('No GPU available, using the CPU instead.')\n",
        "#     device = torch.device(\"cpu\")"
      ],
      "metadata": {
        "id": "HuaVQcG5uWoi"
      },
      "execution_count": null,
      "outputs": []
    },
    {
      "cell_type": "code",
      "source": [
        "!pip install wordcloud\n",
        "import os\n",
        "import re\n",
        "from tqdm import tqdm\n",
        "import numpy as np\n",
        "import pandas as pd\n",
        "import pickle\n",
        "import matplotlib.pyplot as plt\n",
        "from wordcloud import WordCloud\n",
        "from google.colab import drive\n",
        "%matplotlib inline\n",
        "from functools import partial\n",
        "from collections import Counter\n",
        "import nltk\n",
        "from nltk.corpus import wordnet\n",
        "from nltk.corpus import stopwords\n",
        "from nltk.stem import WordNetLemmatizer\n",
        "from nltk.stem.porter import PorterStemmer\n",
        "import string\n",
        "import torch"
      ],
      "metadata": {
        "colab": {
          "base_uri": "https://localhost:8080/"
        },
        "id": "Xuo1ps3VuYuw",
        "outputId": "8d94181b-ca81-4a54-8acc-c82d851af382"
      },
      "execution_count": null,
      "outputs": [
        {
          "output_type": "stream",
          "name": "stdout",
          "text": [
            "Looking in indexes: https://pypi.org/simple, https://us-python.pkg.dev/colab-wheels/public/simple/\n",
            "Requirement already satisfied: wordcloud in /usr/local/lib/python3.8/dist-packages (1.8.2.2)\n",
            "Requirement already satisfied: numpy>=1.6.1 in /usr/local/lib/python3.8/dist-packages (from wordcloud) (1.21.6)\n",
            "Requirement already satisfied: pillow in /usr/local/lib/python3.8/dist-packages (from wordcloud) (7.1.2)\n",
            "Requirement already satisfied: matplotlib in /usr/local/lib/python3.8/dist-packages (from wordcloud) (3.2.2)\n",
            "Requirement already satisfied: cycler>=0.10 in /usr/local/lib/python3.8/dist-packages (from matplotlib->wordcloud) (0.11.0)\n",
            "Requirement already satisfied: python-dateutil>=2.1 in /usr/local/lib/python3.8/dist-packages (from matplotlib->wordcloud) (2.8.2)\n",
            "Requirement already satisfied: pyparsing!=2.0.4,!=2.1.2,!=2.1.6,>=2.0.1 in /usr/local/lib/python3.8/dist-packages (from matplotlib->wordcloud) (3.0.9)\n",
            "Requirement already satisfied: kiwisolver>=1.0.1 in /usr/local/lib/python3.8/dist-packages (from matplotlib->wordcloud) (1.4.4)\n",
            "Requirement already satisfied: six>=1.5 in /usr/local/lib/python3.8/dist-packages (from python-dateutil>=2.1->matplotlib->wordcloud) (1.15.0)\n"
          ]
        }
      ]
    },
    {
      "cell_type": "code",
      "source": [
        "nltk.download('wordnet')\n",
        "nltk.download('omw-1.4')"
      ],
      "metadata": {
        "colab": {
          "base_uri": "https://localhost:8080/"
        },
        "id": "5NvPGrsrueXi",
        "outputId": "531f754e-80b5-4fa3-ec42-6659e0fc490e"
      },
      "execution_count": null,
      "outputs": [
        {
          "output_type": "stream",
          "name": "stderr",
          "text": [
            "[nltk_data] Downloading package wordnet to /root/nltk_data...\n",
            "[nltk_data] Downloading package omw-1.4 to /root/nltk_data...\n"
          ]
        },
        {
          "output_type": "execute_result",
          "data": {
            "text/plain": [
              "True"
            ]
          },
          "metadata": {},
          "execution_count": 3
        }
      ]
    },
    {
      "cell_type": "code",
      "execution_count": null,
      "metadata": {
        "colab": {
          "base_uri": "https://localhost:8080/"
        },
        "id": "FoO-O44I-3Ur",
        "outputId": "85c0f11c-bb19-456b-dc0e-5ef6ba82af8f"
      },
      "outputs": [
        {
          "output_type": "stream",
          "name": "stdout",
          "text": [
            "Mounted at /content/gdrive\n"
          ]
        }
      ],
      "source": [
        "import pandas as pd\n",
        "from google.colab import drive\n",
        "# Connect to google drive\n",
        "drive.mount('/content/gdrive')\n",
        "\n",
        "# Load data and set labels\n",
        "#data = pickle.load(open('gdrive/My Drive/Dissertation/formspring_data.pkl', 'rb'))\n",
        "df = pd.read_csv('gdrive/My Drive/Dissertation/enriched_processed_form+tweet.csv', index_col=0)"
      ]
    },
    {
      "cell_type": "code",
      "source": [
        "df.describe().T"
      ],
      "metadata": {
        "colab": {
          "base_uri": "https://localhost:8080/",
          "height": 206
        },
        "id": "crbri637uYFs",
        "outputId": "d77b7c54-e309-45ac-8b9c-cd0d08eac4a4"
      },
      "execution_count": null,
      "outputs": [
        {
          "output_type": "execute_result",
          "data": {
            "text/plain": [
              "                    count        mean        std  min   25%    50%    75%  \\\n",
              "No_of_Characters  39079.0  122.354948  76.555517  7.0  64.0  107.0  144.0   \n",
              "No_of_Words       39079.0   26.075718  16.100767  3.0  14.0   23.0   33.0   \n",
              "No_of_sentence    39079.0    2.058190   1.268395  1.0   1.0    2.0    3.0   \n",
              "label             39079.0    0.500345   0.500006  0.0   0.0    1.0    1.0   \n",
              "sent_length       39079.0   20.579237  13.958837  1.0  10.0   17.0   26.0   \n",
              "\n",
              "                    max  \n",
              "No_of_Characters  910.0  \n",
              "No_of_Words        99.0  \n",
              "No_of_sentence     30.0  \n",
              "label               1.0  \n",
              "sent_length        93.0  "
            ],
            "text/html": [
              "\n",
              "  <div id=\"df-ea9ccc3f-11f9-4315-b3e3-8f7bbd8ffd57\">\n",
              "    <div class=\"colab-df-container\">\n",
              "      <div>\n",
              "<style scoped>\n",
              "    .dataframe tbody tr th:only-of-type {\n",
              "        vertical-align: middle;\n",
              "    }\n",
              "\n",
              "    .dataframe tbody tr th {\n",
              "        vertical-align: top;\n",
              "    }\n",
              "\n",
              "    .dataframe thead th {\n",
              "        text-align: right;\n",
              "    }\n",
              "</style>\n",
              "<table border=\"1\" class=\"dataframe\">\n",
              "  <thead>\n",
              "    <tr style=\"text-align: right;\">\n",
              "      <th></th>\n",
              "      <th>count</th>\n",
              "      <th>mean</th>\n",
              "      <th>std</th>\n",
              "      <th>min</th>\n",
              "      <th>25%</th>\n",
              "      <th>50%</th>\n",
              "      <th>75%</th>\n",
              "      <th>max</th>\n",
              "    </tr>\n",
              "  </thead>\n",
              "  <tbody>\n",
              "    <tr>\n",
              "      <th>No_of_Characters</th>\n",
              "      <td>39079.0</td>\n",
              "      <td>122.354948</td>\n",
              "      <td>76.555517</td>\n",
              "      <td>7.0</td>\n",
              "      <td>64.0</td>\n",
              "      <td>107.0</td>\n",
              "      <td>144.0</td>\n",
              "      <td>910.0</td>\n",
              "    </tr>\n",
              "    <tr>\n",
              "      <th>No_of_Words</th>\n",
              "      <td>39079.0</td>\n",
              "      <td>26.075718</td>\n",
              "      <td>16.100767</td>\n",
              "      <td>3.0</td>\n",
              "      <td>14.0</td>\n",
              "      <td>23.0</td>\n",
              "      <td>33.0</td>\n",
              "      <td>99.0</td>\n",
              "    </tr>\n",
              "    <tr>\n",
              "      <th>No_of_sentence</th>\n",
              "      <td>39079.0</td>\n",
              "      <td>2.058190</td>\n",
              "      <td>1.268395</td>\n",
              "      <td>1.0</td>\n",
              "      <td>1.0</td>\n",
              "      <td>2.0</td>\n",
              "      <td>3.0</td>\n",
              "      <td>30.0</td>\n",
              "    </tr>\n",
              "    <tr>\n",
              "      <th>label</th>\n",
              "      <td>39079.0</td>\n",
              "      <td>0.500345</td>\n",
              "      <td>0.500006</td>\n",
              "      <td>0.0</td>\n",
              "      <td>0.0</td>\n",
              "      <td>1.0</td>\n",
              "      <td>1.0</td>\n",
              "      <td>1.0</td>\n",
              "    </tr>\n",
              "    <tr>\n",
              "      <th>sent_length</th>\n",
              "      <td>39079.0</td>\n",
              "      <td>20.579237</td>\n",
              "      <td>13.958837</td>\n",
              "      <td>1.0</td>\n",
              "      <td>10.0</td>\n",
              "      <td>17.0</td>\n",
              "      <td>26.0</td>\n",
              "      <td>93.0</td>\n",
              "    </tr>\n",
              "  </tbody>\n",
              "</table>\n",
              "</div>\n",
              "      <button class=\"colab-df-convert\" onclick=\"convertToInteractive('df-ea9ccc3f-11f9-4315-b3e3-8f7bbd8ffd57')\"\n",
              "              title=\"Convert this dataframe to an interactive table.\"\n",
              "              style=\"display:none;\">\n",
              "        \n",
              "  <svg xmlns=\"http://www.w3.org/2000/svg\" height=\"24px\"viewBox=\"0 0 24 24\"\n",
              "       width=\"24px\">\n",
              "    <path d=\"M0 0h24v24H0V0z\" fill=\"none\"/>\n",
              "    <path d=\"M18.56 5.44l.94 2.06.94-2.06 2.06-.94-2.06-.94-.94-2.06-.94 2.06-2.06.94zm-11 1L8.5 8.5l.94-2.06 2.06-.94-2.06-.94L8.5 2.5l-.94 2.06-2.06.94zm10 10l.94 2.06.94-2.06 2.06-.94-2.06-.94-.94-2.06-.94 2.06-2.06.94z\"/><path d=\"M17.41 7.96l-1.37-1.37c-.4-.4-.92-.59-1.43-.59-.52 0-1.04.2-1.43.59L10.3 9.45l-7.72 7.72c-.78.78-.78 2.05 0 2.83L4 21.41c.39.39.9.59 1.41.59.51 0 1.02-.2 1.41-.59l7.78-7.78 2.81-2.81c.8-.78.8-2.07 0-2.86zM5.41 20L4 18.59l7.72-7.72 1.47 1.35L5.41 20z\"/>\n",
              "  </svg>\n",
              "      </button>\n",
              "      \n",
              "  <style>\n",
              "    .colab-df-container {\n",
              "      display:flex;\n",
              "      flex-wrap:wrap;\n",
              "      gap: 12px;\n",
              "    }\n",
              "\n",
              "    .colab-df-convert {\n",
              "      background-color: #E8F0FE;\n",
              "      border: none;\n",
              "      border-radius: 50%;\n",
              "      cursor: pointer;\n",
              "      display: none;\n",
              "      fill: #1967D2;\n",
              "      height: 32px;\n",
              "      padding: 0 0 0 0;\n",
              "      width: 32px;\n",
              "    }\n",
              "\n",
              "    .colab-df-convert:hover {\n",
              "      background-color: #E2EBFA;\n",
              "      box-shadow: 0px 1px 2px rgba(60, 64, 67, 0.3), 0px 1px 3px 1px rgba(60, 64, 67, 0.15);\n",
              "      fill: #174EA6;\n",
              "    }\n",
              "\n",
              "    [theme=dark] .colab-df-convert {\n",
              "      background-color: #3B4455;\n",
              "      fill: #D2E3FC;\n",
              "    }\n",
              "\n",
              "    [theme=dark] .colab-df-convert:hover {\n",
              "      background-color: #434B5C;\n",
              "      box-shadow: 0px 1px 3px 1px rgba(0, 0, 0, 0.15);\n",
              "      filter: drop-shadow(0px 1px 2px rgba(0, 0, 0, 0.3));\n",
              "      fill: #FFFFFF;\n",
              "    }\n",
              "  </style>\n",
              "\n",
              "      <script>\n",
              "        const buttonEl =\n",
              "          document.querySelector('#df-ea9ccc3f-11f9-4315-b3e3-8f7bbd8ffd57 button.colab-df-convert');\n",
              "        buttonEl.style.display =\n",
              "          google.colab.kernel.accessAllowed ? 'block' : 'none';\n",
              "\n",
              "        async function convertToInteractive(key) {\n",
              "          const element = document.querySelector('#df-ea9ccc3f-11f9-4315-b3e3-8f7bbd8ffd57');\n",
              "          const dataTable =\n",
              "            await google.colab.kernel.invokeFunction('convertToInteractive',\n",
              "                                                     [key], {});\n",
              "          if (!dataTable) return;\n",
              "\n",
              "          const docLinkHtml = 'Like what you see? Visit the ' +\n",
              "            '<a target=\"_blank\" href=https://colab.research.google.com/notebooks/data_table.ipynb>data table notebook</a>'\n",
              "            + ' to learn more about interactive tables.';\n",
              "          element.innerHTML = '';\n",
              "          dataTable['output_type'] = 'display_data';\n",
              "          await google.colab.output.renderOutput(dataTable, element);\n",
              "          const docLink = document.createElement('div');\n",
              "          docLink.innerHTML = docLinkHtml;\n",
              "          element.appendChild(docLink);\n",
              "        }\n",
              "      </script>\n",
              "    </div>\n",
              "  </div>\n",
              "  "
            ]
          },
          "metadata": {},
          "execution_count": 5
        }
      ]
    },
    {
      "cell_type": "code",
      "source": [
        "df.label.value_counts()"
      ],
      "metadata": {
        "colab": {
          "base_uri": "https://localhost:8080/"
        },
        "id": "RzVFFC9ogaZ0",
        "outputId": "41c11ccf-3007-497b-b233-7ba3b0373c81"
      },
      "execution_count": null,
      "outputs": [
        {
          "output_type": "execute_result",
          "data": {
            "text/plain": [
              "1    19553\n",
              "0    19526\n",
              "Name: label, dtype: int64"
            ]
          },
          "metadata": {},
          "execution_count": 6
        }
      ]
    },
    {
      "cell_type": "markdown",
      "source": [
        "There are 6 rows that has more than 40 words but they skew the data heavily. hence removing."
      ],
      "metadata": {
        "id": "4_BpdpPrfl9g"
      }
    },
    {
      "cell_type": "code",
      "source": [
        "# from ast import literal_eval\n",
        "# df['Lemmatized_Text'] = df['Lemmatized_Text'].apply(lambda x: literal_eval(x))\n",
        "#Creating a corpus of text feature to encode further into vectorized form\n",
        "# corpus= []\n",
        "# for i in df[\"Lemmatized_Text\"]:\n",
        "#     txt = ' '.join([row for row in i])\n",
        "#     corpus.append(txt)"
      ],
      "metadata": {
        "id": "9MmiaIYdvPle"
      },
      "execution_count": null,
      "outputs": []
    },
    {
      "cell_type": "code",
      "source": [
        "X = df['clean_text']\n",
        "y = df['label']"
      ],
      "metadata": {
        "id": "jtBF4qZ9bRzb"
      },
      "execution_count": null,
      "outputs": []
    },
    {
      "cell_type": "code",
      "execution_count": null,
      "metadata": {
        "id": "0Jgtio_7_QCA"
      },
      "outputs": [],
      "source": [
        "from sklearn.model_selection import train_test_split\n",
        "X_train, X_test, y_train, y_test = train_test_split(X, y, test_size=0.1, random_state=40, stratify=y)"
      ]
    },
    {
      "cell_type": "code",
      "source": [
        "y_train.value_counts()"
      ],
      "metadata": {
        "colab": {
          "base_uri": "https://localhost:8080/"
        },
        "id": "a8cfeXYK-bj4",
        "outputId": "0f930ede-f2a7-4269-e37c-cafe9199f650"
      },
      "execution_count": null,
      "outputs": [
        {
          "output_type": "execute_result",
          "data": {
            "text/plain": [
              "1    17598\n",
              "0    17573\n",
              "Name: label, dtype: int64"
            ]
          },
          "metadata": {},
          "execution_count": 10
        }
      ]
    },
    {
      "cell_type": "code",
      "source": [
        "X_train.values"
      ],
      "metadata": {
        "colab": {
          "base_uri": "https://localhost:8080/"
        },
        "id": "k9DqNUG_cF9Q",
        "outputId": "6cdfa0a3-c72f-4e9e-e3f1-52507a2f91db"
      },
      "execution_count": null,
      "outputs": [
        {
          "output_type": "execute_result",
          "data": {
            "text/plain": [
              "array(['hey you know that smurfet is the only female smurf do you think shes hoe nah',\n",
              "       'did even watch the full video the indian man steped right into the crowd the boys didnt do anything except claims harasment after black kid said jesus was black dont say white bois white and friends with tons of colored whatchu got up rn is racism',\n",
              "       'am down facebok friends since yesterday i have not checked the twitter count that is fine in high schol ached to be the popular girl was very much not was bullied every single day for being unapologeticaly myself just for being me',\n",
              "       ...,\n",
              "       'swear some people who support trump are legit brainwashed on the other side no wonder they can convince christian conservatives to kill christians in the middle east fund radical islam they sneak you you eat it up some of you are really that easy to manipulate',\n",
              "       'honestly think the roles of high school are going to completely change in the future kids will be bullied for being homophobic not for being gay boys will have no power leaking nudes who cares girls won get slut shamed and racists rapists cheaters will be exposed',\n",
              "       'will not bother you this few days or for month take care my bis gona die son'],\n",
              "      dtype=object)"
            ]
          },
          "metadata": {},
          "execution_count": 11
        }
      ]
    },
    {
      "cell_type": "code",
      "execution_count": null,
      "metadata": {
        "id": "y9yssAiWBIAp"
      },
      "outputs": [],
      "source": [
        "sentences = X_train.values\n",
        "labels = y_train.values"
      ]
    },
    {
      "cell_type": "code",
      "source": [
        "len(labels)"
      ],
      "metadata": {
        "colab": {
          "base_uri": "https://localhost:8080/"
        },
        "id": "bCfnqBo2DGlC",
        "outputId": "80e301d3-58bf-4a3c-bf84-ef58c3a2d80b"
      },
      "execution_count": null,
      "outputs": [
        {
          "output_type": "execute_result",
          "data": {
            "text/plain": [
              "35171"
            ]
          },
          "metadata": {},
          "execution_count": 13
        }
      ]
    },
    {
      "cell_type": "code",
      "source": [
        "plt.bar(y_train.value_counts().index, y_train.value_counts())\n",
        "plt.title(\"Cyberbullying class distribution\")\n",
        "plt.ylabel(\"Frequency\")\n",
        "plt.show()"
      ],
      "metadata": {
        "colab": {
          "base_uri": "https://localhost:8080/",
          "height": 281
        },
        "id": "Nx2vEeSXDv43",
        "outputId": "80191cae-aaf7-4487-bb21-8c6ebd0105ab"
      },
      "execution_count": null,
      "outputs": [
        {
          "output_type": "display_data",
          "data": {
            "text/plain": [
              "<Figure size 432x288 with 1 Axes>"
            ],
            "image/png": "[encoded data removed]"
          },
          "metadata": {
            "needs_background": "light"
          }
        }
      ]
    },
    {
      "cell_type": "markdown",
      "source": [
        "# Tokenization & Input Formatting"
      ],
      "metadata": {
        "id": "apJYIXUJjtg8"
      }
    },
    {
      "cell_type": "code",
      "source": [
        "!pip install transformers"
      ],
      "metadata": {
        "id": "-007IAmy0VT-",
        "colab": {
          "base_uri": "https://localhost:8080/"
        },
        "outputId": "5f4da344-1f79-478c-a78d-178f39f421a7"
      },
      "execution_count": null,
      "outputs": [
        {
          "output_type": "stream",
          "name": "stdout",
          "text": [
            "Looking in indexes: https://pypi.org/simple, https://us-python.pkg.dev/colab-wheels/public/simple/\n",
            "Collecting transformers\n",
            "  Downloading transformers-4.25.1-py3-none-any.whl (5.8 MB)\n",
            "\u001b[K     |████████████████████████████████| 5.8 MB 8.9 MB/s \n",
            "\u001b[?25hRequirement already satisfied: tqdm>=4.27 in /usr/local/lib/python3.8/dist-packages (from transformers) (4.64.1)\n",
            "Requirement already satisfied: packaging>=20.0 in /usr/local/lib/python3.8/dist-packages (from transformers) (21.3)\n",
            "Requirement already satisfied: requests in /usr/local/lib/python3.8/dist-packages (from transformers) (2.23.0)\n",
            "Requirement already satisfied: regex!=2019.12.17 in /usr/local/lib/python3.8/dist-packages (from transformers) (2022.6.2)\n",
            "Requirement already satisfied: pyyaml>=5.1 in /usr/local/lib/python3.8/dist-packages (from transformers) (6.0)\n",
            "Requirement already satisfied: numpy>=1.17 in /usr/local/lib/python3.8/dist-packages (from transformers) (1.21.6)\n",
            "Collecting huggingface-hub<1.0,>=0.10.0\n",
            "  Downloading huggingface_hub-0.11.1-py3-none-any.whl (182 kB)\n",
            "\u001b[K     |████████████████████████████████| 182 kB 73.0 MB/s \n",
            "\u001b[?25hRequirement already satisfied: filelock in /usr/local/lib/python3.8/dist-packages (from transformers) (3.8.0)\n",
            "Collecting tokenizers!=0.11.3,<0.14,>=0.11.1\n",
            "  Downloading tokenizers-0.13.2-cp38-cp38-manylinux_2_17_x86_64.manylinux2014_x86_64.whl (7.6 MB)\n",
            "\u001b[K     |████████████████████████████████| 7.6 MB 48.9 MB/s \n",
            "\u001b[?25hRequirement already satisfied: typing-extensions>=3.7.4.3 in /usr/local/lib/python3.8/dist-packages (from huggingface-hub<1.0,>=0.10.0->transformers) (4.4.0)\n",
            "Requirement already satisfied: pyparsing!=3.0.5,>=2.0.2 in /usr/local/lib/python3.8/dist-packages (from packaging>=20.0->transformers) (3.0.9)\n",
            "Requirement already satisfied: chardet<4,>=3.0.2 in /usr/local/lib/python3.8/dist-packages (from requests->transformers) (3.0.4)\n",
            "Requirement already satisfied: urllib3!=1.25.0,!=1.25.1,<1.26,>=1.21.1 in /usr/local/lib/python3.8/dist-packages (from requests->transformers) (1.24.3)\n",
            "Requirement already satisfied: idna<3,>=2.5 in /usr/local/lib/python3.8/dist-packages (from requests->transformers) (2.10)\n",
            "Requirement already satisfied: certifi>=2017.4.17 in /usr/local/lib/python3.8/dist-packages (from requests->transformers) (2022.9.24)\n",
            "Installing collected packages: tokenizers, huggingface-hub, transformers\n",
            "Successfully installed huggingface-hub-0.11.1 tokenizers-0.13.2 transformers-4.25.1\n"
          ]
        }
      ]
    },
    {
      "cell_type": "markdown",
      "source": [
        "## BERT Tokenizer"
      ],
      "metadata": {
        "id": "V61-ODHUjxMG"
      }
    },
    {
      "cell_type": "code",
      "source": [
        "from transformers import BertTokenizer\n",
        "\n",
        "# Load the BERT tokenizer.\n",
        "print('Loading BERT tokenizer...')\n",
        "tokenizer = BertTokenizer.from_pretrained('bert-base-uncased', do_lower_case=True)"
      ],
      "metadata": {
        "id": "1k6diO6kxd-2",
        "colab": {
          "base_uri": "https://localhost:8080/",
          "height": 130,
          "referenced_widgets": [
            "c369f9d6c4fd49dab590e71317c077f7",
            "b6f50aac88474e10aed0bedc302f766b",
            "b37105d7e94a4b23a537e9336c39e1e7",
            "6a47b597660f4d36bb1e43cd1d4d6df2",
            "28b2138eef0e47fc9ae8275c85524ae1",
            "ff54ea4a88bb45a092f133e6fc54883d",
            "c08f25066cf84a7e8e0091ffb1de2108",
            "8379a59b93ee4cf8957d971a2356eb05",
            "14addf6957094b4f9aeb697e5d7b878f",
            "87844c24310a4da294f871ca6e8f9e71",
            "270c9e478fdc4c499fab7ba12eb2281a",
            "75c1f5e681394be3ab0f1b31b9a1781f",
            "c4b55db8d2e54ec4af218182f9158de9",
            "a68d32f5a40947e49e15c9add3bdb949",
            "1f8cf3041b9748869dbda05cca31ada2",
            "e02de1a97a60404c805ee8f217fce336",
            "c689434740db4fe4bd23c2066511451b",
            "3b5fb513a89849eca11df88037799d20",
            "32be599e80014de1b13a628ff262edfd",
            "fa21382e292f4060a11994530f06c939",
            "7c762a2be8a5464ca5464005242b41d0",
            "8a53c8feed4c4f5aa66178df87d235ec",
            "84ad4ebf245d4e60ae89698aed7cc597",
            "282cd67339f84faf9517320a04313ed2",
            "4c65abc49a634b46a1e4986abd9426ff",
            "e7016aeab3c740d49435aec510e9c2ac",
            "1ed620c70afa4e24b4a0c21f7e616da7",
            "fdd1074a99834757bd0b02a491418d45",
            "1cc7cd2805a147878cca31076967c71c",
            "0f6346ef506344b9989f2bdfd0cc2ddf",
            "ecf5e58e7eb54b3eb0341f284a5c7880",
            "646d7e27a2a24f8087ce770b9cb2a618",
            "98a4d9e937a547d88781cd94ae9bfe30"
          ]
        },
        "outputId": "21fd4f13-df27-4509-b8ce-d8900f444940"
      },
      "execution_count": null,
      "outputs": [
        {
          "output_type": "stream",
          "name": "stdout",
          "text": [
            "Loading BERT tokenizer...\n"
          ]
        },
        {
          "output_type": "display_data",
          "data": {
            "text/plain": [
              "Downloading:   0%|          | 0.00/232k [00:00<?, ?B/s]"
            ],
            "application/vnd.jupyter.widget-view+json": {
              "version_major": 2,
              "version_minor": 0,
              "model_id": "c369f9d6c4fd49dab590e71317c077f7"
            }
          },
          "metadata": {}
        },
        {
          "output_type": "display_data",
          "data": {
            "text/plain": [
              "Downloading:   0%|          | 0.00/28.0 [00:00<?, ?B/s]"
            ],
            "application/vnd.jupyter.widget-view+json": {
              "version_major": 2,
              "version_minor": 0,
              "model_id": "75c1f5e681394be3ab0f1b31b9a1781f"
            }
          },
          "metadata": {}
        },
        {
          "output_type": "display_data",
          "data": {
            "text/plain": [
              "Downloading:   0%|          | 0.00/570 [00:00<?, ?B/s]"
            ],
            "application/vnd.jupyter.widget-view+json": {
              "version_major": 2,
              "version_minor": 0,
              "model_id": "84ad4ebf245d4e60ae89698aed7cc597"
            }
          },
          "metadata": {}
        }
      ]
    },
    {
      "cell_type": "code",
      "source": [
        "# Print the original sentence.\n",
        "print(' Original: ', sentences[0])\n",
        "\n",
        "# Print the sentence split into tokens.\n",
        "print('Tokenized: ', tokenizer.tokenize(sentences[0]))\n",
        "\n",
        "# Print the sentence mapped to token ids.\n",
        "print('Token IDs: ', tokenizer.convert_tokens_to_ids(tokenizer.tokenize(sentences[0])))"
      ],
      "metadata": {
        "id": "nBQNGmSvxmsd",
        "colab": {
          "base_uri": "https://localhost:8080/"
        },
        "outputId": "a72819e5-acca-433b-a06a-225adc0c0895"
      },
      "execution_count": null,
      "outputs": [
        {
          "output_type": "stream",
          "name": "stdout",
          "text": [
            " Original:  hey you know that smurfet is the only female smurf do you think shes hoe nah\n",
            "Tokenized:  ['hey', 'you', 'know', 'that', 'sm', '##ur', '##fe', '##t', 'is', 'the', 'only', 'female', 'sm', '##ur', '##f', 'do', 'you', 'think', 'she', '##s', 'ho', '##e', 'nah']\n",
            "Token IDs:  [4931, 2017, 2113, 2008, 15488, 3126, 7959, 2102, 2003, 1996, 2069, 2931, 15488, 3126, 2546, 2079, 2017, 2228, 2016, 2015, 7570, 2063, 20976]\n"
          ]
        }
      ]
    },
    {
      "cell_type": "markdown",
      "source": [
        "##Tokenize Dataset"
      ],
      "metadata": {
        "id": "zbrlbPhNkGGU"
      }
    },
    {
      "cell_type": "code",
      "source": [
        "# Find maximum length based on our dataset\n",
        "max_len = 0\n",
        "\n",
        "# For every sentence...\n",
        "for sent in sentences:\n",
        "\n",
        "    # Tokenize the text and add `[CLS]` and `[SEP]` tokens.\n",
        "    input_ids = tokenizer.encode(sent, add_special_tokens=True)\n",
        "\n",
        "    # Update the maximum sentence length.\n",
        "    max_len = max(max_len, len(input_ids))\n",
        "\n",
        "print('Max sentence length: ', max_len)"
      ],
      "metadata": {
        "id": "ilki9h8nybax",
        "colab": {
          "base_uri": "https://localhost:8080/"
        },
        "outputId": "95316fac-b17f-4150-940b-1e7b69eaa4e1"
      },
      "execution_count": null,
      "outputs": [
        {
          "output_type": "stream",
          "name": "stdout",
          "text": [
            "Max sentence length:  143\n"
          ]
        }
      ]
    },
    {
      "cell_type": "code",
      "source": [
        "\"\"\"Perform required preprocessing steps for pretrained BERT.\n",
        "@param    data (np.array): Array of texts to be processed.\n",
        "@return   input_ids (torch.Tensor): Tensor of token ids to be fed to a model.\n",
        "@return   attention_masks (torch.Tensor): Tensor of indices specifying which\n",
        "              tokens should be attended to by the model.\n",
        "\"\"\"\n",
        "# Create empty lists to store outputs\n",
        "input_ids = []\n",
        "attention_masks = []\n",
        "\n",
        "# For every sentence...\n",
        "for sent in sentences:\n",
        "    # `encode_plus` will:\n",
        "    #    (1) Tokenize the sentence\n",
        "    #    (2) Add the `[CLS]` and `[SEP]` token to the start and end\n",
        "    #    (3) Truncate/Pad sentence to max length\n",
        "    #    (4) Map tokens to their IDs\n",
        "    #    (5) Create attention mask\n",
        "    #    (6) Return a dictionary of outputs\n",
        "    encoded_sent = tokenizer.encode_plus(\n",
        "        text=sent,  # Preprocess sentence\n",
        "        add_special_tokens=True,        # Add `[CLS]` and `[SEP]`\n",
        "        max_length=150,             # Max length to truncate/pad\n",
        "        pad_to_max_length=True,         # Pad sentence to max length\n",
        "        return_attention_mask=True,      # Return attention mask\n",
        "        truncation = True\n",
        "        )\n",
        "    # Add the outputs to the lists\n",
        "    input_ids.append(encoded_sent.get('input_ids'))\n",
        "    attention_masks.append(encoded_sent.get('attention_mask'))\n",
        "# Convert lists to tensors\n",
        "input_ids = torch.tensor(input_ids)\n",
        "attention_masks = torch.tensor(attention_masks)\n",
        "labels = torch.tensor(labels)"
      ],
      "metadata": {
        "id": "1yz_hod4xbW8"
      },
      "execution_count": null,
      "outputs": []
    },
    {
      "cell_type": "code",
      "source": [
        "labels.size()"
      ],
      "metadata": {
        "colab": {
          "base_uri": "https://localhost:8080/"
        },
        "id": "9t6lAa3_Ll6V",
        "outputId": "d5d4ffbd-d57c-49d8-fb92-37b1a7691d1c"
      },
      "execution_count": null,
      "outputs": [
        {
          "output_type": "execute_result",
          "data": {
            "text/plain": [
              "torch.Size([35171])"
            ]
          },
          "metadata": {},
          "execution_count": 21
        }
      ]
    },
    {
      "cell_type": "code",
      "source": [
        "# Print sentence 0, now as a list of IDs.\n",
        "print('Original: ', sentences[0])\n",
        "print('Token IDs:', input_ids[0])\n",
        "print('Masks:', attention_masks[0])"
      ],
      "metadata": {
        "colab": {
          "base_uri": "https://localhost:8080/"
        },
        "id": "amRszXkaksvY",
        "outputId": "c181a833-9213-4357-aed6-2c36b365975d"
      },
      "execution_count": null,
      "outputs": [
        {
          "output_type": "stream",
          "name": "stdout",
          "text": [
            "Original:  hey you know that smurfet is the only female smurf do you think shes hoe nah\n",
            "Token IDs: tensor([  101,  4931,  2017,  2113,  2008, 15488,  3126,  7959,  2102,  2003,\n",
            "         1996,  2069,  2931, 15488,  3126,  2546,  2079,  2017,  2228,  2016,\n",
            "         2015,  7570,  2063, 20976,   102,     0,     0,     0,     0,     0,\n",
            "            0,     0,     0,     0,     0,     0,     0,     0,     0,     0,\n",
            "            0,     0,     0,     0,     0,     0,     0,     0,     0,     0,\n",
            "            0,     0,     0,     0,     0,     0,     0,     0,     0,     0,\n",
            "            0,     0,     0,     0,     0,     0,     0,     0,     0,     0,\n",
            "            0,     0,     0,     0,     0,     0,     0,     0,     0,     0,\n",
            "            0,     0,     0,     0,     0,     0,     0,     0,     0,     0,\n",
            "            0,     0,     0,     0,     0,     0,     0,     0,     0,     0,\n",
            "            0,     0,     0,     0,     0,     0,     0,     0,     0,     0,\n",
            "            0,     0,     0,     0,     0,     0,     0,     0,     0,     0,\n",
            "            0,     0,     0,     0,     0,     0,     0,     0,     0,     0,\n",
            "            0,     0,     0,     0,     0,     0,     0,     0,     0,     0,\n",
            "            0,     0,     0,     0,     0,     0,     0,     0,     0,     0])\n",
            "Masks: tensor([1, 1, 1, 1, 1, 1, 1, 1, 1, 1, 1, 1, 1, 1, 1, 1, 1, 1, 1, 1, 1, 1, 1, 1,\n",
            "        1, 0, 0, 0, 0, 0, 0, 0, 0, 0, 0, 0, 0, 0, 0, 0, 0, 0, 0, 0, 0, 0, 0, 0,\n",
            "        0, 0, 0, 0, 0, 0, 0, 0, 0, 0, 0, 0, 0, 0, 0, 0, 0, 0, 0, 0, 0, 0, 0, 0,\n",
            "        0, 0, 0, 0, 0, 0, 0, 0, 0, 0, 0, 0, 0, 0, 0, 0, 0, 0, 0, 0, 0, 0, 0, 0,\n",
            "        0, 0, 0, 0, 0, 0, 0, 0, 0, 0, 0, 0, 0, 0, 0, 0, 0, 0, 0, 0, 0, 0, 0, 0,\n",
            "        0, 0, 0, 0, 0, 0, 0, 0, 0, 0, 0, 0, 0, 0, 0, 0, 0, 0, 0, 0, 0, 0, 0, 0,\n",
            "        0, 0, 0, 0, 0, 0])\n"
          ]
        }
      ]
    },
    {
      "cell_type": "markdown",
      "source": [
        "## Training & Validation Split"
      ],
      "metadata": {
        "id": "E7rbdfSWk98x"
      }
    },
    {
      "cell_type": "code",
      "source": [
        "from torch.utils.data import TensorDataset, random_split\n",
        "\n",
        "# Combine the training inputs into a TensorDataset.\n",
        "dataset = TensorDataset(input_ids, attention_masks, labels)\n",
        "\n",
        "# Create a 90-10 train-validation split.\n",
        "\n",
        "# # Calculate the number of samples to include in each set.\n",
        "# train_size = int(0.9 * len(dataset))\n",
        "# val_size = len(dataset) - train_size\n",
        "\n",
        "# # Divide the dataset by randomly selecting samples.\n",
        "# train_dataset, val_dataset = random_split(dataset, [train_size, val_size])\n",
        "\n",
        "print('{:>5,} Total training samples'.format(len(dataset)))\n",
        "# print('{:>5,} training samples'.format(train_size))\n",
        "# print('{:>5,} validation samples'.format(val_size))"
      ],
      "metadata": {
        "colab": {
          "base_uri": "https://localhost:8080/"
        },
        "id": "G6RT148PlVsv",
        "outputId": "27c2c3ef-9ea1-4c10-a794-3b1883c023d5"
      },
      "execution_count": null,
      "outputs": [
        {
          "output_type": "stream",
          "name": "stdout",
          "text": [
            "35,171 Total training samples\n"
          ]
        }
      ]
    },
    {
      "cell_type": "code",
      "source": [
        "train_labels = []\n",
        "for i in range(len(dataset)):\n",
        "  train_labels.append(dataset[i][2])"
      ],
      "metadata": {
        "id": "sPdymBZC0WKt"
      },
      "execution_count": null,
      "outputs": []
    },
    {
      "cell_type": "code",
      "source": [
        "class_sample_count = np.unique(train_labels, return_counts=True)[1]"
      ],
      "metadata": {
        "id": "LxYV5VVQui9V"
      },
      "execution_count": null,
      "outputs": []
    },
    {
      "cell_type": "code",
      "source": [
        "class_sample_count"
      ],
      "metadata": {
        "colab": {
          "base_uri": "https://localhost:8080/"
        },
        "id": "xSMOfmrj10j8",
        "outputId": "6dfa8641-b789-4334-f84f-b3392c294a66"
      },
      "execution_count": null,
      "outputs": [
        {
          "output_type": "execute_result",
          "data": {
            "text/plain": [
              "array([17573, 17598])"
            ]
          },
          "metadata": {},
          "execution_count": 26
        }
      ]
    },
    {
      "cell_type": "code",
      "source": [
        "from torch.utils.data import WeightedRandomSampler\n",
        "\n",
        "weight = 1. / class_sample_count\n",
        "samples_weight = weight[train_labels]\n",
        "samples_weight = torch.from_numpy(samples_weight)\n",
        "sampler = WeightedRandomSampler(samples_weight, len(samples_weight))"
      ],
      "metadata": {
        "id": "1HJKV1tDv2v5"
      },
      "execution_count": null,
      "outputs": []
    },
    {
      "cell_type": "markdown",
      "source": [
        "We’ll also create an iterator for our dataset using the torch DataLoader class. This helps save on memory during training because, unlike a for loop, with an iterator the entire dataset does not need to be loaded into memory."
      ],
      "metadata": {
        "id": "rlOM9DekmHRG"
      }
    },
    {
      "cell_type": "code",
      "source": [
        "from torch.utils.data import DataLoader, RandomSampler, SequentialSampler\n",
        "\n",
        "# The DataLoader needs to know our batch size for training, so we specify it \n",
        "# here. For fine-tuning BERT on a specific task, the authors recommend a batch \n",
        "# size of 16 or 32.\n",
        "batch_size = 16\n",
        "\n",
        "# Create the DataLoaders for our training and validation sets.\n",
        "# We'll take training samples in random order. \n",
        "train_dataloader = DataLoader(\n",
        "            dataset,  # The training samples.\n",
        "            sampler = sampler, # Select batches based on weights\n",
        "            batch_size = batch_size # Trains with this batch size.\n",
        "        )\n",
        "\n",
        "# # For validation the order doesn't matter, so we'll just read them sequentially.\n",
        "# validation_dataloader = DataLoader(\n",
        "#             val_dataset, # The validation samples.\n",
        "#             sampler = SequentialSampler(val_dataset), # Pull out batches sequentially.\n",
        "#             batch_size = batch_size # Evaluate with this batch size.\n",
        "#         )"
      ],
      "metadata": {
        "id": "iHhPUwTqmAqH"
      },
      "execution_count": null,
      "outputs": []
    },
    {
      "cell_type": "markdown",
      "source": [
        "# Train Our Classification Model"
      ],
      "metadata": {
        "id": "jjYN7AnXmVvk"
      }
    },
    {
      "cell_type": "markdown",
      "source": [
        "Now that our input data is properly formatted, it’s time to fine tune the BERT model."
      ],
      "metadata": {
        "id": "aKqRg6shmeOi"
      }
    },
    {
      "cell_type": "markdown",
      "source": [
        "## BertForSequenceClassification"
      ],
      "metadata": {
        "id": "pcNy0EVImZoL"
      }
    },
    {
      "cell_type": "markdown",
      "source": [
        "We’ll be using BertForSequenceClassification. This is the normal BERT model with an added single linear layer on top for classification that we will use as a sentence classifier. As we feed input data, the entire pre-trained BERT model and the additional untrained classification layer is trained on our specific task."
      ],
      "metadata": {
        "id": "Ijo9LUO0mqF7"
      }
    },
    {
      "cell_type": "code",
      "source": [
        "from transformers import BertForSequenceClassification, AdamW, BertConfig\n",
        "\n",
        "# Load BertForSequenceClassification, the pretrained BERT model with a single \n",
        "# linear classification layer on top. \n",
        "model = BertForSequenceClassification.from_pretrained(\n",
        "    \"bert-base-uncased\", # Use the 12-layer BERT model, with an uncased vocab.\n",
        "    num_labels = 2, # The number of output labels--2 for binary classification.\n",
        "                    # You can increase this for multi-class tasks.   \n",
        "    output_attentions = False, # Whether the model returns attentions weights.\n",
        "    output_hidden_states = False, # Whether the model returns all hidden-states.\n",
        ")\n",
        "\n",
        "# Tell pytorch to run this model on the GPU.\n",
        "model.cuda()"
      ],
      "metadata": {
        "id": "mgObT9ZUmRAS"
      },
      "execution_count": null,
      "outputs": []
    },
    {
      "cell_type": "markdown",
      "source": [
        "In the below cell, I’ve printed out the names and dimensions of the weights for:\n",
        "\n",
        "The embedding layer.\n",
        "The first of the twelve transformers.\n",
        "The output layer."
      ],
      "metadata": {
        "id": "alJfA5EK3PXb"
      }
    },
    {
      "cell_type": "code",
      "source": [
        "# Get all of the model's parameters as a list of tuples.\n",
        "params = list(model.named_parameters())\n",
        "\n",
        "print('The BERT model has {:} different named parameters.\\n'.format(len(params)))\n",
        "\n",
        "print('==== Embedding Layer ====\\n')\n",
        "\n",
        "for p in params[0:5]:\n",
        "    print(\"{:<55} {:>12}\".format(p[0], str(tuple(p[1].size()))))\n",
        "\n",
        "print('\\n==== First Transformer ====\\n')\n",
        "\n",
        "for p in params[5:21]:\n",
        "    print(\"{:<55} {:>12}\".format(p[0], str(tuple(p[1].size()))))\n",
        "\n",
        "print('\\n==== Output Layer ====\\n')\n",
        "\n",
        "for p in params[-4:]:\n",
        "    print(\"{:<55} {:>12}\".format(p[0], str(tuple(p[1].size()))))"
      ],
      "metadata": {
        "id": "1LpW5Z_qmAmy",
        "colab": {
          "base_uri": "https://localhost:8080/"
        },
        "outputId": "fc97300a-872c-478e-8a34-35c97e3cc4db"
      },
      "execution_count": null,
      "outputs": [
        {
          "output_type": "stream",
          "name": "stdout",
          "text": [
            "The BERT model has 201 different named parameters.\n",
            "\n",
            "==== Embedding Layer ====\n",
            "\n",
            "bert.embeddings.word_embeddings.weight                  (30522, 768)\n",
            "bert.embeddings.position_embeddings.weight                (512, 768)\n",
            "bert.embeddings.token_type_embeddings.weight                (2, 768)\n",
            "bert.embeddings.LayerNorm.weight                              (768,)\n",
            "bert.embeddings.LayerNorm.bias                                (768,)\n",
            "\n",
            "==== First Transformer ====\n",
            "\n",
            "bert.encoder.layer.0.attention.self.query.weight          (768, 768)\n",
            "bert.encoder.layer.0.attention.self.query.bias                (768,)\n",
            "bert.encoder.layer.0.attention.self.key.weight            (768, 768)\n",
            "bert.encoder.layer.0.attention.self.key.bias                  (768,)\n",
            "bert.encoder.layer.0.attention.self.value.weight          (768, 768)\n",
            "bert.encoder.layer.0.attention.self.value.bias                (768,)\n",
            "bert.encoder.layer.0.attention.output.dense.weight        (768, 768)\n",
            "bert.encoder.layer.0.attention.output.dense.bias              (768,)\n",
            "bert.encoder.layer.0.attention.output.LayerNorm.weight        (768,)\n",
            "bert.encoder.layer.0.attention.output.LayerNorm.bias          (768,)\n",
            "bert.encoder.layer.0.intermediate.dense.weight           (3072, 768)\n",
            "bert.encoder.layer.0.intermediate.dense.bias                 (3072,)\n",
            "bert.encoder.layer.0.output.dense.weight                 (768, 3072)\n",
            "bert.encoder.layer.0.output.dense.bias                        (768,)\n",
            "bert.encoder.layer.0.output.LayerNorm.weight                  (768,)\n",
            "bert.encoder.layer.0.output.LayerNorm.bias                    (768,)\n",
            "\n",
            "==== Output Layer ====\n",
            "\n",
            "bert.pooler.dense.weight                                  (768, 768)\n",
            "bert.pooler.dense.bias                                        (768,)\n",
            "classifier.weight                                           (2, 768)\n",
            "classifier.bias                                                 (2,)\n"
          ]
        }
      ]
    },
    {
      "cell_type": "markdown",
      "source": [
        "##Optimizer & Learning Rate Scheduler"
      ],
      "metadata": {
        "id": "Wa_jPnuV3lx5"
      }
    },
    {
      "cell_type": "markdown",
      "source": [
        "For the purposes of fine-tuning, the authors recommend choosing from the following values (from Appendix A.3 of the BERT paper):\n",
        "Batch size: 16, 32; \n",
        "Learning rate (Adam): 5e-5, 3e-5, 2e-5; \n",
        "Number of epochs: 2, 3, 4\n",
        "\n",
        "We have chosen:\n",
        "\n",
        "Batch size: 32 (set when creating our DataLoaders);\n",
        "Learning rate: 2e-5;\n",
        "Epochs: 4 (we’ll see that this is probably too many…)"
      ],
      "metadata": {
        "id": "HwYYqaLa3tkt"
      }
    },
    {
      "cell_type": "code",
      "source": [
        "optimizer = torch.optim.AdamW(model.parameters(),\n",
        "                  lr = 2e-5, # args.learning_rate - default is 5e-5, our notebook had 2e-5\n",
        "                  eps = 1e-8 # args.adam_epsilon  - default is 1e-8.\n",
        "                )"
      ],
      "metadata": {
        "id": "Uljz1ZAImAit"
      },
      "execution_count": null,
      "outputs": []
    },
    {
      "cell_type": "code",
      "source": [
        "from transformers import get_linear_schedule_with_warmup\n",
        "\n",
        "# Number of training epochs. The BERT authors recommend between 2 and 4. \n",
        "# We chose to run for 4, but we'll see later that this may be over-fitting the\n",
        "# training data.\n",
        "epochs = 4\n",
        "\n",
        "# Total number of training steps is [number of batches] x [number of epochs]. \n",
        "# (Note that this is not the same as the number of training samples).\n",
        "total_steps = len(train_dataloader) * epochs\n",
        "\n",
        "# Create the learning rate scheduler.\n",
        "scheduler = get_linear_schedule_with_warmup(optimizer, \n",
        "                                            num_warmup_steps = 0, # Default value in run_glue.py\n",
        "                                            num_training_steps = total_steps)"
      ],
      "metadata": {
        "id": "MT-lBuT6mAfo"
      },
      "execution_count": null,
      "outputs": []
    },
    {
      "cell_type": "markdown",
      "source": [
        "## Training Loop"
      ],
      "metadata": {
        "id": "sLnqfMf-5DjF"
      }
    },
    {
      "cell_type": "markdown",
      "source": [
        "Training:\n",
        "\n",
        "Unpack our data inputs and labels\n",
        "Load data onto the GPU for acceleration\n",
        "Clear out the gradients calculated in the previous pass.\n",
        "In pytorch the gradients accumulate by default (useful for things like RNNs) unless you explicitly clear them out.\n",
        "Forward pass (feed input data through the network)\n",
        "Backward pass (backpropagation)\n",
        "Tell the network to update parameters with optimizer.step()\n",
        "Track variables for monitoring progress\n",
        "\n",
        "Evaluation:\n",
        "Unpack our data inputs and labels\n",
        "Load data onto the GPU for acceleration\n",
        "Forward pass (feed input data through the network)\n",
        "Compute loss on our validation data and track variables for monitoring progress"
      ],
      "metadata": {
        "id": "5QjATzX-5Nb-"
      }
    },
    {
      "cell_type": "code",
      "source": [
        "import numpy as np\n",
        "\n",
        "# Function to calculate the accuracy of our predictions vs labels\n",
        "def flat_accuracy(preds, labels):\n",
        "    pred_flat = np.argmax(preds, axis=1).flatten()\n",
        "    labels_flat = labels.flatten()\n",
        "    return np.sum(pred_flat == labels_flat) / len(labels_flat)"
      ],
      "metadata": {
        "id": "LHGFTgWOmAcc"
      },
      "execution_count": null,
      "outputs": []
    },
    {
      "cell_type": "code",
      "source": [
        "import time\n",
        "import datetime\n",
        "\n",
        "def format_time(elapsed):\n",
        "    '''\n",
        "    Takes a time in seconds and returns a string hh:mm:ss\n",
        "    '''\n",
        "    # Round to the nearest second.\n",
        "    elapsed_rounded = int(round((elapsed)))\n",
        "    \n",
        "    # Format as hh:mm:ss\n",
        "    return str(datetime.timedelta(seconds=elapsed_rounded))"
      ],
      "metadata": {
        "id": "4ui4cC1VmAZG"
      },
      "execution_count": null,
      "outputs": []
    },
    {
      "cell_type": "code",
      "source": [
        "import gc\n",
        "gc.collect()"
      ],
      "metadata": {
        "id": "SujpBCRd7WqZ",
        "colab": {
          "base_uri": "https://localhost:8080/"
        },
        "outputId": "0b0ff9be-8df2-4abc-d90c-1e2186000633"
      },
      "execution_count": null,
      "outputs": [
        {
          "output_type": "execute_result",
          "data": {
            "text/plain": [
              "36"
            ]
          },
          "metadata": {},
          "execution_count": 36
        }
      ]
    },
    {
      "cell_type": "code",
      "source": [
        "if torch.cuda.is_available():\n",
        "  device = torch.device(\"cuda\")\n",
        "else:\n",
        "  device = torch.device(\"cpu\")\n",
        "\n",
        "type(device)"
      ],
      "metadata": {
        "id": "1juVxPpc_Eh5",
        "colab": {
          "base_uri": "https://localhost:8080/"
        },
        "outputId": "8d99f82b-baa7-4b23-cf1d-2664644faab2"
      },
      "execution_count": null,
      "outputs": [
        {
          "output_type": "execute_result",
          "data": {
            "text/plain": [
              "torch.device"
            ]
          },
          "metadata": {},
          "execution_count": 37
        }
      ]
    },
    {
      "cell_type": "code",
      "source": [
        "import random\n",
        "import numpy as np\n",
        "\n",
        "# This training code is based on the `run_glue.py` script here:\n",
        "# https://github.com/huggingface/transformers/blob/5bfcd0485ece086ebcbed2d008813037968a9e58/examples/run_glue.py#L128\n",
        "\n",
        "# Set the seed value all over the place to make this reproducible.\n",
        "seed_val = 42\n",
        "\n",
        "random.seed(seed_val)\n",
        "np.random.seed(seed_val)\n",
        "torch.manual_seed(seed_val)\n",
        "torch.cuda.manual_seed_all(seed_val)\n",
        "\n",
        "# We'll store a number of quantities such as training and validation loss, \n",
        "# validation accuracy, and timings.\n",
        "training_stats = []\n",
        "\n",
        "# Measure the total training time for the whole run.\n",
        "total_t0 = time.time()\n",
        "\n",
        "# For each epoch...\n",
        "for epoch_i in range(0, epochs):\n",
        "    \n",
        "    # ========================================\n",
        "    #               Training\n",
        "    # ========================================\n",
        "    \n",
        "    # Perform one full pass over the training set.\n",
        "\n",
        "    print(\"\")\n",
        "    print('======== Epoch {:} / {:} ========'.format(epoch_i + 1, epochs))\n",
        "    print('Training...')\n",
        "\n",
        "    # Measure how long the training epoch takes.\n",
        "    t0 = time.time()\n",
        "\n",
        "    # Reset the total loss for this epoch.\n",
        "    total_train_loss = 0\n",
        "\n",
        "    # Put the model into training mode. Don't be mislead--the call to \n",
        "    # `train` just changes the *mode*, it doesn't *perform* the training.\n",
        "    # `dropout` and `batchnorm` layers behave differently during training\n",
        "    # vs. test (source: https://stackoverflow.com/questions/51433378/what-does-model-train-do-in-pytorch)\n",
        "    model.train()\n",
        "\n",
        "    # For each batch of training data...\n",
        "    for step, batch in enumerate(train_dataloader):\n",
        "\n",
        "        # Progress update every 40 batches.\n",
        "        if step % 40 == 0 and not step == 0:\n",
        "            # Calculate elapsed time in minutes.\n",
        "            elapsed = format_time(time.time() - t0)\n",
        "            \n",
        "            # Report progress.\n",
        "            print('  Batch {:>5,}  of  {:>5,}.    Elapsed: {:}.'.format(step, len(train_dataloader), elapsed))\n",
        "\n",
        "        # Unpack this training batch from our dataloader. \n",
        "        #\n",
        "        # As we unpack the batch, we'll also copy each tensor to the GPU using the \n",
        "        # `to` method.\n",
        "        #\n",
        "        # `batch` contains three pytorch tensors:\n",
        "        #   [0]: input ids \n",
        "        #   [1]: attention masks\n",
        "        #   [2]: labels \n",
        "        b_input_ids = batch[0].to(device)\n",
        "        b_input_mask = batch[1].to(device)\n",
        "        b_labels = batch[2].to(device)\n",
        "\n",
        "        # Always clear any previously calculated gradients before performing a\n",
        "        # backward pass. PyTorch doesn't do this automatically because \n",
        "        # accumulating the gradients is \"convenient while training RNNs\". \n",
        "        # (source: https://stackoverflow.com/questions/48001598/why-do-we-need-to-call-zero-grad-in-pytorch)\n",
        "        model.zero_grad()        \n",
        "\n",
        "        # Perform a forward pass (evaluate the model on this training batch).\n",
        "        # The documentation for this `model` function is here: \n",
        "        # https://huggingface.co/transformers/v2.2.0/model_doc/bert.html#transformers.BertForSequenceClassification\n",
        "        # It returns different numbers of parameters depending on what arguments\n",
        "        # arge given and what flags are set. For our useage here, it returns\n",
        "        # the loss (because we provided labels) and the \"logits\"--the model\n",
        "        # outputs prior to activation.\n",
        "        tmp = model(b_input_ids, \n",
        "                             token_type_ids=None, \n",
        "                             attention_mask=b_input_mask, \n",
        "                             labels=b_labels)\n",
        "        loss, logits = tmp[0], tmp[1]\n",
        "        # Accumulate the training loss over all of the batches so that we can\n",
        "        # calculate the average loss at the end. `loss` is a Tensor containing a\n",
        "        # single value; the `.item()` function just returns the Python value \n",
        "        # from the tensor.\n",
        "        total_train_loss += loss.item()\n",
        "\n",
        "        # Perform a backward pass to calculate the gradients.\n",
        "        loss.backward()\n",
        "\n",
        "        # Clip the norm of the gradients to 1.0.\n",
        "        # This is to help prevent the \"exploding gradients\" problem.\n",
        "        torch.nn.utils.clip_grad_norm_(model.parameters(), 1.0)\n",
        "\n",
        "        # Update parameters and take a step using the computed gradient.\n",
        "        # The optimizer dictates the \"update rule\"--how the parameters are\n",
        "        # modified based on their gradients, the learning rate, etc.\n",
        "        optimizer.step()\n",
        "\n",
        "        # Update the learning rate.\n",
        "        scheduler.step()\n",
        "\n",
        "    # Calculate the average loss over all of the batches.\n",
        "    avg_train_loss = total_train_loss / len(train_dataloader)            \n",
        "    \n",
        "    # Measure how long this epoch took.\n",
        "    training_time = format_time(time.time() - t0)\n",
        "\n",
        "    print(\"\")\n",
        "    print(\"  Average training loss: {0:.2f}\".format(avg_train_loss))\n",
        "    print(\"  Training epcoh took: {:}\".format(training_time))\n",
        "        \n",
        "    # ========================================\n",
        "    #               Validation\n",
        "    # ========================================\n",
        "    # After the completion of each training epoch, measure our performance on\n",
        "    # our validation set.\n",
        "\n",
        "    # print(\"\")\n",
        "    # print(\"Running Validation...\")\n",
        "\n",
        "    # t0 = time.time()\n",
        "\n",
        "    # # Put the model in evaluation mode--the dropout layers behave differently\n",
        "    # # during evaluation.\n",
        "    # model.eval()\n",
        "\n",
        "    # # Tracking variables \n",
        "    # total_eval_accuracy = 0\n",
        "    # total_eval_loss = 0\n",
        "    # nb_eval_steps = 0\n",
        "\n",
        "    # # Evaluate data for one epoch\n",
        "    # for batch in validation_dataloader:\n",
        "        \n",
        "    #     # Unpack this training batch from our dataloader. \n",
        "    #     #\n",
        "    #     # As we unpack the batch, we'll also copy each tensor to the GPU using \n",
        "    #     # the `to` method.\n",
        "    #     #\n",
        "    #     # `batch` contains three pytorch tensors:\n",
        "    #     #   [0]: input ids \n",
        "    #     #   [1]: attention masks\n",
        "    #     #   [2]: labels \n",
        "    #     b_input_ids = batch[0].to(device)\n",
        "    #     b_input_mask = batch[1].to(device)\n",
        "    #     b_labels = batch[2].to(device)\n",
        "        \n",
        "    #     # Tell pytorch not to bother with constructing the compute graph during\n",
        "    #     # the forward pass, since this is only needed for backprop (training).\n",
        "    #     with torch.no_grad():        \n",
        "\n",
        "    #         # Forward pass, calculate logit predictions.\n",
        "    #         # token_type_ids is the same as the \"segment ids\", which \n",
        "    #         # differentiates sentence 1 and 2 in 2-sentence tasks.\n",
        "    #         # The documentation for this `model` function is here: \n",
        "    #         # https://huggingface.co/transformers/v2.2.0/model_doc/bert.html#transformers.BertForSequenceClassification\n",
        "    #         # Get the \"logits\" output by the model. The \"logits\" are the output\n",
        "    #         # values prior to applying an activation function like the softmax.\n",
        "    #         temp = model(b_input_ids, \n",
        "    #                                token_type_ids=None, \n",
        "    #                                attention_mask=b_input_mask,\n",
        "    #                                labels=b_labels)\n",
        "    #         (loss, logits) = temp[0], temp[1]\n",
        "            \n",
        "    #     # Accumulate the validation loss.\n",
        "    #     total_eval_loss += loss.item()\n",
        "\n",
        "    #     # Move logits and labels to CPU\n",
        "    #     logits = logits.detach().cpu().numpy()\n",
        "    #     label_ids = b_labels.to('cpu').numpy()\n",
        "\n",
        "    #     # Calculate the accuracy for this batch of test sentences, and\n",
        "    #     # accumulate it over all batches.\n",
        "    #     total_eval_accuracy += flat_accuracy(logits, label_ids)\n",
        "        \n",
        "\n",
        "    # # Report the final accuracy for this validation run.\n",
        "    # avg_val_accuracy = total_eval_accuracy / len(validation_dataloader)\n",
        "    # print(\"  Accuracy: {0:.2f}\".format(avg_val_accuracy))\n",
        "\n",
        "    # # Calculate the average loss over all of the batches.\n",
        "    # avg_val_loss = total_eval_loss / len(validation_dataloader)\n",
        "    \n",
        "    # # Measure how long the validation run took.\n",
        "    # validation_time = format_time(time.time() - t0)\n",
        "    \n",
        "    # print(\"  Validation Loss: {0:.2f}\".format(avg_val_loss))\n",
        "    # print(\"  Validation took: {:}\".format(validation_time))\n",
        "\n",
        "    # Record all statistics from this epoch.\n",
        "    training_stats.append(\n",
        "        {\n",
        "            'epoch': epoch_i + 1,\n",
        "            'Training Loss': avg_train_loss,\n",
        "            'Training Time': training_time\n",
        "        }\n",
        "    )\n",
        "\n",
        "print(\"\")\n",
        "print(\"Training complete!\")\n",
        "\n",
        "print(\"Total training took {:} (h:mm:ss)\".format(format_time(time.time()-total_t0)))"
      ],
      "metadata": {
        "id": "y2yJZj4X57Om",
        "colab": {
          "base_uri": "https://localhost:8080/"
        },
        "outputId": "e17dc461-32ac-406e-a973-fc47550b5f46"
      },
      "execution_count": null,
      "outputs": [
        {
          "output_type": "stream",
          "name": "stdout",
          "text": [
            "\n",
            "======== Epoch 1 / 4 ========\n",
            "Training...\n",
            "  Batch    40  of  2,199.    Elapsed: 0:00:17.\n",
            "  Batch    80  of  2,199.    Elapsed: 0:00:34.\n",
            "  Batch   120  of  2,199.    Elapsed: 0:00:51.\n",
            "  Batch   160  of  2,199.    Elapsed: 0:01:08.\n",
            "  Batch   200  of  2,199.    Elapsed: 0:01:24.\n",
            "  Batch   240  of  2,199.    Elapsed: 0:01:41.\n",
            "  Batch   280  of  2,199.    Elapsed: 0:01:58.\n",
            "  Batch   320  of  2,199.    Elapsed: 0:02:15.\n",
            "  Batch   360  of  2,199.    Elapsed: 0:02:32.\n",
            "  Batch   400  of  2,199.    Elapsed: 0:02:48.\n",
            "  Batch   440  of  2,199.    Elapsed: 0:03:05.\n",
            "  Batch   480  of  2,199.    Elapsed: 0:03:22.\n",
            "  Batch   520  of  2,199.    Elapsed: 0:03:39.\n",
            "  Batch   560  of  2,199.    Elapsed: 0:03:56.\n",
            "  Batch   600  of  2,199.    Elapsed: 0:04:13.\n",
            "  Batch   640  of  2,199.    Elapsed: 0:04:29.\n",
            "  Batch   680  of  2,199.    Elapsed: 0:04:46.\n",
            "  Batch   720  of  2,199.    Elapsed: 0:05:03.\n",
            "  Batch   760  of  2,199.    Elapsed: 0:05:20.\n",
            "  Batch   800  of  2,199.    Elapsed: 0:05:36.\n",
            "  Batch   840  of  2,199.    Elapsed: 0:05:53.\n",
            "  Batch   880  of  2,199.    Elapsed: 0:06:10.\n",
            "  Batch   920  of  2,199.    Elapsed: 0:06:27.\n",
            "  Batch   960  of  2,199.    Elapsed: 0:06:43.\n",
            "  Batch 1,000  of  2,199.    Elapsed: 0:07:00.\n",
            "  Batch 1,040  of  2,199.    Elapsed: 0:07:17.\n",
            "  Batch 1,080  of  2,199.    Elapsed: 0:07:34.\n",
            "  Batch 1,120  of  2,199.    Elapsed: 0:07:50.\n",
            "  Batch 1,160  of  2,199.    Elapsed: 0:08:07.\n",
            "  Batch 1,200  of  2,199.    Elapsed: 0:08:24.\n",
            "  Batch 1,240  of  2,199.    Elapsed: 0:08:41.\n",
            "  Batch 1,280  of  2,199.    Elapsed: 0:08:57.\n",
            "  Batch 1,320  of  2,199.    Elapsed: 0:09:14.\n",
            "  Batch 1,360  of  2,199.    Elapsed: 0:09:31.\n",
            "  Batch 1,400  of  2,199.    Elapsed: 0:09:48.\n",
            "  Batch 1,440  of  2,199.    Elapsed: 0:10:04.\n",
            "  Batch 1,480  of  2,199.    Elapsed: 0:10:21.\n",
            "  Batch 1,520  of  2,199.    Elapsed: 0:10:38.\n",
            "  Batch 1,560  of  2,199.    Elapsed: 0:10:55.\n",
            "  Batch 1,600  of  2,199.    Elapsed: 0:11:11.\n",
            "  Batch 1,640  of  2,199.    Elapsed: 0:11:28.\n",
            "  Batch 1,680  of  2,199.    Elapsed: 0:11:45.\n",
            "  Batch 1,720  of  2,199.    Elapsed: 0:12:01.\n",
            "  Batch 1,760  of  2,199.    Elapsed: 0:12:18.\n",
            "  Batch 1,800  of  2,199.    Elapsed: 0:12:35.\n",
            "  Batch 1,840  of  2,199.    Elapsed: 0:12:52.\n",
            "  Batch 1,880  of  2,199.    Elapsed: 0:13:08.\n",
            "  Batch 1,920  of  2,199.    Elapsed: 0:13:25.\n",
            "  Batch 1,960  of  2,199.    Elapsed: 0:13:42.\n",
            "  Batch 2,000  of  2,199.    Elapsed: 0:13:59.\n",
            "  Batch 2,040  of  2,199.    Elapsed: 0:14:15.\n",
            "  Batch 2,080  of  2,199.    Elapsed: 0:14:32.\n",
            "  Batch 2,120  of  2,199.    Elapsed: 0:14:49.\n",
            "  Batch 2,160  of  2,199.    Elapsed: 0:15:06.\n",
            "\n",
            "  Average training loss: 0.28\n",
            "  Training epcoh took: 0:15:22\n",
            "\n",
            "======== Epoch 2 / 4 ========\n",
            "Training...\n",
            "  Batch    40  of  2,199.    Elapsed: 0:00:17.\n",
            "  Batch    80  of  2,199.    Elapsed: 0:00:34.\n",
            "  Batch   120  of  2,199.    Elapsed: 0:00:50.\n",
            "  Batch   160  of  2,199.    Elapsed: 0:01:07.\n",
            "  Batch   200  of  2,199.    Elapsed: 0:01:24.\n",
            "  Batch   240  of  2,199.    Elapsed: 0:01:41.\n",
            "  Batch   280  of  2,199.    Elapsed: 0:01:57.\n",
            "  Batch   320  of  2,199.    Elapsed: 0:02:14.\n",
            "  Batch   360  of  2,199.    Elapsed: 0:02:31.\n",
            "  Batch   400  of  2,199.    Elapsed: 0:02:48.\n",
            "  Batch   440  of  2,199.    Elapsed: 0:03:04.\n",
            "  Batch   480  of  2,199.    Elapsed: 0:03:21.\n",
            "  Batch   520  of  2,199.    Elapsed: 0:03:38.\n",
            "  Batch   560  of  2,199.    Elapsed: 0:03:55.\n",
            "  Batch   600  of  2,199.    Elapsed: 0:04:11.\n",
            "  Batch   640  of  2,199.    Elapsed: 0:04:28.\n",
            "  Batch   680  of  2,199.    Elapsed: 0:04:45.\n",
            "  Batch   720  of  2,199.    Elapsed: 0:05:02.\n",
            "  Batch   760  of  2,199.    Elapsed: 0:05:18.\n",
            "  Batch   800  of  2,199.    Elapsed: 0:05:35.\n",
            "  Batch   840  of  2,199.    Elapsed: 0:05:52.\n",
            "  Batch   880  of  2,199.    Elapsed: 0:06:09.\n",
            "  Batch   920  of  2,199.    Elapsed: 0:06:25.\n",
            "  Batch   960  of  2,199.    Elapsed: 0:06:42.\n",
            "  Batch 1,000  of  2,199.    Elapsed: 0:06:59.\n",
            "  Batch 1,040  of  2,199.    Elapsed: 0:07:16.\n",
            "  Batch 1,080  of  2,199.    Elapsed: 0:07:33.\n",
            "  Batch 1,120  of  2,199.    Elapsed: 0:07:49.\n",
            "  Batch 1,160  of  2,199.    Elapsed: 0:08:06.\n",
            "  Batch 1,200  of  2,199.    Elapsed: 0:08:23.\n",
            "  Batch 1,240  of  2,199.    Elapsed: 0:08:40.\n",
            "  Batch 1,280  of  2,199.    Elapsed: 0:08:56.\n",
            "  Batch 1,320  of  2,199.    Elapsed: 0:09:13.\n",
            "  Batch 1,360  of  2,199.    Elapsed: 0:09:30.\n",
            "  Batch 1,400  of  2,199.    Elapsed: 0:09:47.\n",
            "  Batch 1,440  of  2,199.    Elapsed: 0:10:03.\n",
            "  Batch 1,480  of  2,199.    Elapsed: 0:10:20.\n",
            "  Batch 1,520  of  2,199.    Elapsed: 0:10:37.\n",
            "  Batch 1,560  of  2,199.    Elapsed: 0:10:54.\n",
            "  Batch 1,600  of  2,199.    Elapsed: 0:11:11.\n",
            "  Batch 1,640  of  2,199.    Elapsed: 0:11:27.\n",
            "  Batch 1,680  of  2,199.    Elapsed: 0:11:44.\n",
            "  Batch 1,720  of  2,199.    Elapsed: 0:12:01.\n",
            "  Batch 1,760  of  2,199.    Elapsed: 0:12:18.\n",
            "  Batch 1,800  of  2,199.    Elapsed: 0:12:34.\n",
            "  Batch 1,840  of  2,199.    Elapsed: 0:12:51.\n",
            "  Batch 1,880  of  2,199.    Elapsed: 0:13:08.\n",
            "  Batch 1,920  of  2,199.    Elapsed: 0:13:25.\n",
            "  Batch 1,960  of  2,199.    Elapsed: 0:13:41.\n",
            "  Batch 2,000  of  2,199.    Elapsed: 0:13:58.\n",
            "  Batch 2,040  of  2,199.    Elapsed: 0:14:15.\n",
            "  Batch 2,080  of  2,199.    Elapsed: 0:14:32.\n",
            "  Batch 2,120  of  2,199.    Elapsed: 0:14:48.\n",
            "  Batch 2,160  of  2,199.    Elapsed: 0:15:05.\n",
            "\n",
            "  Average training loss: 0.20\n",
            "  Training epcoh took: 0:15:21\n",
            "\n",
            "======== Epoch 3 / 4 ========\n",
            "Training...\n",
            "  Batch    40  of  2,199.    Elapsed: 0:00:17.\n",
            "  Batch    80  of  2,199.    Elapsed: 0:00:34.\n",
            "  Batch   120  of  2,199.    Elapsed: 0:00:50.\n",
            "  Batch   160  of  2,199.    Elapsed: 0:01:07.\n",
            "  Batch   200  of  2,199.    Elapsed: 0:01:24.\n",
            "  Batch   240  of  2,199.    Elapsed: 0:01:41.\n",
            "  Batch   280  of  2,199.    Elapsed: 0:01:57.\n",
            "  Batch   320  of  2,199.    Elapsed: 0:02:14.\n",
            "  Batch   360  of  2,199.    Elapsed: 0:02:31.\n",
            "  Batch   400  of  2,199.    Elapsed: 0:02:48.\n",
            "  Batch   440  of  2,199.    Elapsed: 0:03:04.\n",
            "  Batch   480  of  2,199.    Elapsed: 0:03:21.\n",
            "  Batch   520  of  2,199.    Elapsed: 0:03:38.\n",
            "  Batch   560  of  2,199.    Elapsed: 0:03:55.\n",
            "  Batch   600  of  2,199.    Elapsed: 0:04:11.\n",
            "  Batch   640  of  2,199.    Elapsed: 0:04:28.\n",
            "  Batch   680  of  2,199.    Elapsed: 0:04:45.\n",
            "  Batch   720  of  2,199.    Elapsed: 0:05:02.\n",
            "  Batch   760  of  2,199.    Elapsed: 0:05:19.\n",
            "  Batch   800  of  2,199.    Elapsed: 0:05:35.\n",
            "  Batch   840  of  2,199.    Elapsed: 0:05:52.\n",
            "  Batch   880  of  2,199.    Elapsed: 0:06:09.\n",
            "  Batch   920  of  2,199.    Elapsed: 0:06:26.\n",
            "  Batch   960  of  2,199.    Elapsed: 0:06:42.\n",
            "  Batch 1,000  of  2,199.    Elapsed: 0:06:59.\n",
            "  Batch 1,040  of  2,199.    Elapsed: 0:07:16.\n",
            "  Batch 1,080  of  2,199.    Elapsed: 0:07:33.\n",
            "  Batch 1,120  of  2,199.    Elapsed: 0:07:49.\n",
            "  Batch 1,160  of  2,199.    Elapsed: 0:08:06.\n",
            "  Batch 1,200  of  2,199.    Elapsed: 0:08:23.\n",
            "  Batch 1,240  of  2,199.    Elapsed: 0:08:40.\n",
            "  Batch 1,280  of  2,199.    Elapsed: 0:08:56.\n",
            "  Batch 1,320  of  2,199.    Elapsed: 0:09:13.\n",
            "  Batch 1,360  of  2,199.    Elapsed: 0:09:30.\n",
            "  Batch 1,400  of  2,199.    Elapsed: 0:09:47.\n",
            "  Batch 1,440  of  2,199.    Elapsed: 0:10:04.\n",
            "  Batch 1,480  of  2,199.    Elapsed: 0:10:20.\n",
            "  Batch 1,520  of  2,199.    Elapsed: 0:10:37.\n",
            "  Batch 1,560  of  2,199.    Elapsed: 0:10:54.\n",
            "  Batch 1,600  of  2,199.    Elapsed: 0:11:10.\n",
            "  Batch 1,640  of  2,199.    Elapsed: 0:11:27.\n",
            "  Batch 1,680  of  2,199.    Elapsed: 0:11:44.\n",
            "  Batch 1,720  of  2,199.    Elapsed: 0:12:01.\n",
            "  Batch 1,760  of  2,199.    Elapsed: 0:12:18.\n",
            "  Batch 1,800  of  2,199.    Elapsed: 0:12:34.\n",
            "  Batch 1,840  of  2,199.    Elapsed: 0:12:51.\n",
            "  Batch 1,880  of  2,199.    Elapsed: 0:13:08.\n",
            "  Batch 1,920  of  2,199.    Elapsed: 0:13:25.\n",
            "  Batch 1,960  of  2,199.    Elapsed: 0:13:41.\n",
            "  Batch 2,000  of  2,199.    Elapsed: 0:13:58.\n",
            "  Batch 2,040  of  2,199.    Elapsed: 0:14:15.\n",
            "  Batch 2,080  of  2,199.    Elapsed: 0:14:32.\n",
            "  Batch 2,120  of  2,199.    Elapsed: 0:14:48.\n",
            "  Batch 2,160  of  2,199.    Elapsed: 0:15:05.\n",
            "\n",
            "  Average training loss: 0.16\n",
            "  Training epcoh took: 0:15:21\n",
            "\n",
            "======== Epoch 4 / 4 ========\n",
            "Training...\n",
            "  Batch    40  of  2,199.    Elapsed: 0:00:17.\n",
            "  Batch    80  of  2,199.    Elapsed: 0:00:33.\n",
            "  Batch   120  of  2,199.    Elapsed: 0:00:50.\n",
            "  Batch   160  of  2,199.    Elapsed: 0:01:07.\n",
            "  Batch   200  of  2,199.    Elapsed: 0:01:24.\n",
            "  Batch   240  of  2,199.    Elapsed: 0:01:41.\n",
            "  Batch   280  of  2,199.    Elapsed: 0:01:57.\n",
            "  Batch   320  of  2,199.    Elapsed: 0:02:14.\n",
            "  Batch   360  of  2,199.    Elapsed: 0:02:31.\n",
            "  Batch   400  of  2,199.    Elapsed: 0:02:48.\n",
            "  Batch   440  of  2,199.    Elapsed: 0:03:04.\n",
            "  Batch   480  of  2,199.    Elapsed: 0:03:21.\n",
            "  Batch   520  of  2,199.    Elapsed: 0:03:38.\n",
            "  Batch   560  of  2,199.    Elapsed: 0:03:55.\n",
            "  Batch   600  of  2,199.    Elapsed: 0:04:12.\n",
            "  Batch   640  of  2,199.    Elapsed: 0:04:28.\n",
            "  Batch   680  of  2,199.    Elapsed: 0:04:45.\n",
            "  Batch   720  of  2,199.    Elapsed: 0:05:02.\n",
            "  Batch   760  of  2,199.    Elapsed: 0:05:18.\n",
            "  Batch   800  of  2,199.    Elapsed: 0:05:35.\n",
            "  Batch   840  of  2,199.    Elapsed: 0:05:52.\n",
            "  Batch   880  of  2,199.    Elapsed: 0:06:09.\n",
            "  Batch   920  of  2,199.    Elapsed: 0:06:25.\n",
            "  Batch   960  of  2,199.    Elapsed: 0:06:42.\n",
            "  Batch 1,000  of  2,199.    Elapsed: 0:06:59.\n",
            "  Batch 1,040  of  2,199.    Elapsed: 0:07:16.\n",
            "  Batch 1,080  of  2,199.    Elapsed: 0:07:32.\n",
            "  Batch 1,120  of  2,199.    Elapsed: 0:07:49.\n",
            "  Batch 1,160  of  2,199.    Elapsed: 0:08:06.\n",
            "  Batch 1,200  of  2,199.    Elapsed: 0:08:23.\n",
            "  Batch 1,240  of  2,199.    Elapsed: 0:08:40.\n",
            "  Batch 1,280  of  2,199.    Elapsed: 0:08:56.\n",
            "  Batch 1,320  of  2,199.    Elapsed: 0:09:13.\n",
            "  Batch 1,360  of  2,199.    Elapsed: 0:09:30.\n",
            "  Batch 1,400  of  2,199.    Elapsed: 0:09:47.\n",
            "  Batch 1,440  of  2,199.    Elapsed: 0:10:03.\n",
            "  Batch 1,480  of  2,199.    Elapsed: 0:10:20.\n",
            "  Batch 1,520  of  2,199.    Elapsed: 0:10:37.\n",
            "  Batch 1,560  of  2,199.    Elapsed: 0:10:54.\n",
            "  Batch 1,600  of  2,199.    Elapsed: 0:11:10.\n",
            "  Batch 1,640  of  2,199.    Elapsed: 0:11:27.\n",
            "  Batch 1,680  of  2,199.    Elapsed: 0:11:44.\n",
            "  Batch 1,720  of  2,199.    Elapsed: 0:12:01.\n",
            "  Batch 1,760  of  2,199.    Elapsed: 0:12:17.\n",
            "  Batch 1,800  of  2,199.    Elapsed: 0:12:34.\n",
            "  Batch 1,840  of  2,199.    Elapsed: 0:12:51.\n",
            "  Batch 1,880  of  2,199.    Elapsed: 0:13:08.\n",
            "  Batch 1,920  of  2,199.    Elapsed: 0:13:24.\n",
            "  Batch 1,960  of  2,199.    Elapsed: 0:13:41.\n",
            "  Batch 2,000  of  2,199.    Elapsed: 0:13:58.\n",
            "  Batch 2,040  of  2,199.    Elapsed: 0:14:15.\n",
            "  Batch 2,080  of  2,199.    Elapsed: 0:14:31.\n",
            "  Batch 2,120  of  2,199.    Elapsed: 0:14:48.\n",
            "  Batch 2,160  of  2,199.    Elapsed: 0:15:05.\n",
            "\n",
            "  Average training loss: 0.14\n",
            "  Training epcoh took: 0:15:21\n",
            "\n",
            "Training complete!\n",
            "Total training took 1:01:25 (h:mm:ss)\n"
          ]
        }
      ]
    },
    {
      "cell_type": "code",
      "source": [
        "torch.save(model, 'gdrive/My Drive/Dissertation/enriched_form+tweet_Bertmodel')\n",
        "saved_model = torch.load('gdrive/My Drive/Dissertation/enriched_form+tweet_Bertmodel')"
      ],
      "metadata": {
        "id": "wN3dyQUzcANG"
      },
      "execution_count": null,
      "outputs": []
    },
    {
      "cell_type": "code",
      "source": [
        "type(saved_model)"
      ],
      "metadata": {
        "id": "VMqLIn4hcqmC",
        "colab": {
          "base_uri": "https://localhost:8080/"
        },
        "outputId": "e956da16-e5cb-4504-8f17-80096a0fc965"
      },
      "execution_count": null,
      "outputs": [
        {
          "output_type": "execute_result",
          "data": {
            "text/plain": [
              "transformers.models.bert.modeling_bert.BertForSequenceClassification"
            ]
          },
          "metadata": {},
          "execution_count": 41
        }
      ]
    },
    {
      "cell_type": "markdown",
      "source": [
        "Let’s view the summary of the training process."
      ],
      "metadata": {
        "id": "pLQQztR-8hid"
      }
    },
    {
      "cell_type": "code",
      "source": [
        "import pandas as pd\n",
        "\n",
        "# Display floats with two decimal places.\n",
        "pd.set_option('precision', 2)\n",
        "\n",
        "# Create a DataFrame from our training statistics.\n",
        "df_stats = pd.DataFrame(data=training_stats)\n",
        "\n",
        "# Use the 'epoch' as the row index.\n",
        "df_stats = df_stats.set_index('epoch')\n",
        "\n",
        "# A hack to force the column headers to wrap.\n",
        "#df = df.style.set_table_styles([dict(selector=\"th\",props=[('max-width', '70px')])])\n",
        "\n",
        "# Display the table.\n",
        "df_stats"
      ],
      "metadata": {
        "id": "FptiuCze560r",
        "colab": {
          "base_uri": "https://localhost:8080/",
          "height": 206
        },
        "outputId": "9248600b-fa6b-4b8e-eaa4-5f2e4cff481e"
      },
      "execution_count": null,
      "outputs": [
        {
          "output_type": "execute_result",
          "data": {
            "text/plain": [
              "       Training Loss Training Time\n",
              "epoch                             \n",
              "1               0.28       0:15:22\n",
              "2               0.20       0:15:21\n",
              "3               0.16       0:15:21\n",
              "4               0.14       0:15:21"
            ],
            "text/html": [
              "\n",
              "  <div id=\"df-ce18e224-2b38-4e9d-9cc2-702ee357cb4b\">\n",
              "    <div class=\"colab-df-container\">\n",
              "      <div>\n",
              "<style scoped>\n",
              "    .dataframe tbody tr th:only-of-type {\n",
              "        vertical-align: middle;\n",
              "    }\n",
              "\n",
              "    .dataframe tbody tr th {\n",
              "        vertical-align: top;\n",
              "    }\n",
              "\n",
              "    .dataframe thead th {\n",
              "        text-align: right;\n",
              "    }\n",
              "</style>\n",
              "<table border=\"1\" class=\"dataframe\">\n",
              "  <thead>\n",
              "    <tr style=\"text-align: right;\">\n",
              "      <th></th>\n",
              "      <th>Training Loss</th>\n",
              "      <th>Training Time</th>\n",
              "    </tr>\n",
              "    <tr>\n",
              "      <th>epoch</th>\n",
              "      <th></th>\n",
              "      <th></th>\n",
              "    </tr>\n",
              "  </thead>\n",
              "  <tbody>\n",
              "    <tr>\n",
              "      <th>1</th>\n",
              "      <td>0.28</td>\n",
              "      <td>0:15:22</td>\n",
              "    </tr>\n",
              "    <tr>\n",
              "      <th>2</th>\n",
              "      <td>0.20</td>\n",
              "      <td>0:15:21</td>\n",
              "    </tr>\n",
              "    <tr>\n",
              "      <th>3</th>\n",
              "      <td>0.16</td>\n",
              "      <td>0:15:21</td>\n",
              "    </tr>\n",
              "    <tr>\n",
              "      <th>4</th>\n",
              "      <td>0.14</td>\n",
              "      <td>0:15:21</td>\n",
              "    </tr>\n",
              "  </tbody>\n",
              "</table>\n",
              "</div>\n",
              "      <button class=\"colab-df-convert\" onclick=\"convertToInteractive('df-ce18e224-2b38-4e9d-9cc2-702ee357cb4b')\"\n",
              "              title=\"Convert this dataframe to an interactive table.\"\n",
              "              style=\"display:none;\">\n",
              "        \n",
              "  <svg xmlns=\"http://www.w3.org/2000/svg\" height=\"24px\"viewBox=\"0 0 24 24\"\n",
              "       width=\"24px\">\n",
              "    <path d=\"M0 0h24v24H0V0z\" fill=\"none\"/>\n",
              "    <path d=\"M18.56 5.44l.94 2.06.94-2.06 2.06-.94-2.06-.94-.94-2.06-.94 2.06-2.06.94zm-11 1L8.5 8.5l.94-2.06 2.06-.94-2.06-.94L8.5 2.5l-.94 2.06-2.06.94zm10 10l.94 2.06.94-2.06 2.06-.94-2.06-.94-.94-2.06-.94 2.06-2.06.94z\"/><path d=\"M17.41 7.96l-1.37-1.37c-.4-.4-.92-.59-1.43-.59-.52 0-1.04.2-1.43.59L10.3 9.45l-7.72 7.72c-.78.78-.78 2.05 0 2.83L4 21.41c.39.39.9.59 1.41.59.51 0 1.02-.2 1.41-.59l7.78-7.78 2.81-2.81c.8-.78.8-2.07 0-2.86zM5.41 20L4 18.59l7.72-7.72 1.47 1.35L5.41 20z\"/>\n",
              "  </svg>\n",
              "      </button>\n",
              "      \n",
              "  <style>\n",
              "    .colab-df-container {\n",
              "      display:flex;\n",
              "      flex-wrap:wrap;\n",
              "      gap: 12px;\n",
              "    }\n",
              "\n",
              "    .colab-df-convert {\n",
              "      background-color: #E8F0FE;\n",
              "      border: none;\n",
              "      border-radius: 50%;\n",
              "      cursor: pointer;\n",
              "      display: none;\n",
              "      fill: #1967D2;\n",
              "      height: 32px;\n",
              "      padding: 0 0 0 0;\n",
              "      width: 32px;\n",
              "    }\n",
              "\n",
              "    .colab-df-convert:hover {\n",
              "      background-color: #E2EBFA;\n",
              "      box-shadow: 0px 1px 2px rgba(60, 64, 67, 0.3), 0px 1px 3px 1px rgba(60, 64, 67, 0.15);\n",
              "      fill: #174EA6;\n",
              "    }\n",
              "\n",
              "    [theme=dark] .colab-df-convert {\n",
              "      background-color: #3B4455;\n",
              "      fill: #D2E3FC;\n",
              "    }\n",
              "\n",
              "    [theme=dark] .colab-df-convert:hover {\n",
              "      background-color: #434B5C;\n",
              "      box-shadow: 0px 1px 3px 1px rgba(0, 0, 0, 0.15);\n",
              "      filter: drop-shadow(0px 1px 2px rgba(0, 0, 0, 0.3));\n",
              "      fill: #FFFFFF;\n",
              "    }\n",
              "  </style>\n",
              "\n",
              "      <script>\n",
              "        const buttonEl =\n",
              "          document.querySelector('#df-ce18e224-2b38-4e9d-9cc2-702ee357cb4b button.colab-df-convert');\n",
              "        buttonEl.style.display =\n",
              "          google.colab.kernel.accessAllowed ? 'block' : 'none';\n",
              "\n",
              "        async function convertToInteractive(key) {\n",
              "          const element = document.querySelector('#df-ce18e224-2b38-4e9d-9cc2-702ee357cb4b');\n",
              "          const dataTable =\n",
              "            await google.colab.kernel.invokeFunction('convertToInteractive',\n",
              "                                                     [key], {});\n",
              "          if (!dataTable) return;\n",
              "\n",
              "          const docLinkHtml = 'Like what you see? Visit the ' +\n",
              "            '<a target=\"_blank\" href=https://colab.research.google.com/notebooks/data_table.ipynb>data table notebook</a>'\n",
              "            + ' to learn more about interactive tables.';\n",
              "          element.innerHTML = '';\n",
              "          dataTable['output_type'] = 'display_data';\n",
              "          await google.colab.output.renderOutput(dataTable, element);\n",
              "          const docLink = document.createElement('div');\n",
              "          docLink.innerHTML = docLinkHtml;\n",
              "          element.appendChild(docLink);\n",
              "        }\n",
              "      </script>\n",
              "    </div>\n",
              "  </div>\n",
              "  "
            ]
          },
          "metadata": {},
          "execution_count": 42
        }
      ]
    },
    {
      "cell_type": "code",
      "source": [
        "import matplotlib.pyplot as plt\n",
        "%matplotlib inline\n",
        "\n",
        "\n",
        "import seaborn as sns\n",
        "\n",
        "# Use plot styling from seaborn.\n",
        "sns.set(style='darkgrid')\n",
        "\n",
        "# Increase the plot size and font size.\n",
        "sns.set(font_scale=1.5)\n",
        "plt.rcParams[\"figure.figsize\"] = (12,6)\n",
        "\n",
        "# Plot the learning curve.\n",
        "plt.plot(df_stats['Training Loss'], 'b-o', label=\"Training\")\n",
        "#plt.plot(df_stats['Valid. Loss'], 'g-o', label=\"Validation\")\n",
        "\n",
        "# Label the plot.\n",
        "plt.title(\"Training Loss\")\n",
        "plt.xlabel(\"Epoch\")\n",
        "plt.ylabel(\"Loss\")\n",
        "plt.legend()\n",
        "plt.xticks([1, 2, 3, 4])\n",
        "\n",
        "plt.show()"
      ],
      "metadata": {
        "id": "m8Du9jrM56yQ",
        "colab": {
          "base_uri": "https://localhost:8080/",
          "height": 427
        },
        "outputId": "a27f45a2-c3d4-47dc-e50b-53ed1ea0a775"
      },
      "execution_count": null,
      "outputs": [
        {
          "output_type": "display_data",
          "data": {
            "text/plain": [
              "<Figure size 864x432 with 1 Axes>"
            ],
            "image/png": "[encoded data removed]"
          },
          "metadata": {}
        }
      ]
    },
    {
      "cell_type": "markdown",
      "source": [
        "#Performance On Test Set"
      ],
      "metadata": {
        "id": "m6gfOp3_8yfs"
      }
    },
    {
      "cell_type": "code",
      "source": [
        "pred_sentences = X_test.values\n",
        "y_true = y_test.values"
      ],
      "metadata": {
        "id": "E440uYfXEoBB"
      },
      "execution_count": null,
      "outputs": []
    },
    {
      "cell_type": "code",
      "source": [
        "len(pred_sentences)"
      ],
      "metadata": {
        "colab": {
          "base_uri": "https://localhost:8080/"
        },
        "id": "qf_RHBrIKv-U",
        "outputId": "7d883668-6761-490b-94d5-508d299acbbc"
      },
      "execution_count": null,
      "outputs": [
        {
          "output_type": "execute_result",
          "data": {
            "text/plain": [
              "3908"
            ]
          },
          "metadata": {},
          "execution_count": 44
        }
      ]
    },
    {
      "cell_type": "code",
      "source": [
        "\"\"\"Perform required preprocessing steps for pretrained BERT.\n",
        "@param    data (np.array): Array of texts to be processed.\n",
        "@return   input_ids (torch.Tensor): Tensor of token ids to be fed to a model.\n",
        "@return   attention_masks (torch.Tensor): Tensor of indices specifying which\n",
        "              tokens should be attended to by the model.\n",
        "\"\"\"\n",
        "# Create empty lists to store outputs\n",
        "t_input_ids = []\n",
        "t_attention_masks = []\n",
        "\n",
        "# For every sentence...\n",
        "for s in pred_sentences:\n",
        "    # `encode_plus` will:\n",
        "    #    (1) Tokenize the sentence\n",
        "    #    (2) Add the `[CLS]` and `[SEP]` token to the start and end\n",
        "    #    (3) Truncate/Pad sentence to max length\n",
        "    #    (4) Map tokens to their IDs\n",
        "    #    (5) Create attention mask\n",
        "    #    (6) Return a dictionary of outputs\n",
        "    p_encoded_sent = tokenizer.encode_plus(\n",
        "        text=s,  # Preprocess sentence\n",
        "        add_special_tokens=True,        # Add `[CLS]` and `[SEP]`\n",
        "        max_length=128,             # Max length to truncate/pad\n",
        "        pad_to_max_length=True,         # Pad sentence to max length\n",
        "        return_attention_mask=True,      # Return attention mask\n",
        "        truncation = True\n",
        "        )\n",
        "    # Add the outputs to the lists\n",
        "    t_input_ids.append(p_encoded_sent.get('input_ids'))\n",
        "    t_attention_masks.append(p_encoded_sent.get('attention_mask'))\n",
        "# Convert lists to tensors\n",
        "t_input_ids = torch.tensor(t_input_ids)\n",
        "t_attention_masks = torch.tensor(t_attention_masks)\n",
        "t_labels = torch.tensor(y_true)"
      ],
      "metadata": {
        "colab": {
          "base_uri": "https://localhost:8080/"
        },
        "id": "atwu5FN8EjnS",
        "outputId": "5ee440e2-3588-4ece-f948-ab90d274600b"
      },
      "execution_count": null,
      "outputs": [
        {
          "output_type": "stream",
          "name": "stderr",
          "text": [
            "/usr/local/lib/python3.8/dist-packages/transformers/tokenization_utils_base.py:2336: FutureWarning: The `pad_to_max_length` argument is deprecated and will be removed in a future version, use `padding=True` or `padding='longest'` to pad to the longest sequence in the batch, or use `padding='max_length'` to pad to a max length. In this case, you can give a specific length with `max_length` (e.g. `max_length=45`) or leave max_length to None to pad to the maximal input size of the model (e.g. 512 for Bert).\n",
            "  warnings.warn(\n"
          ]
        }
      ]
    },
    {
      "cell_type": "code",
      "source": [
        "t_input_ids.size()"
      ],
      "metadata": {
        "colab": {
          "base_uri": "https://localhost:8080/"
        },
        "id": "l1oFbWtHK3Gw",
        "outputId": "4731ee36-b3a4-49ab-eb8c-ff2b89726480"
      },
      "execution_count": null,
      "outputs": [
        {
          "output_type": "execute_result",
          "data": {
            "text/plain": [
              "torch.Size([3908, 128])"
            ]
          },
          "metadata": {},
          "execution_count": 46
        }
      ]
    },
    {
      "cell_type": "code",
      "source": [
        "from torch.utils.data import TensorDataset\n",
        "\n",
        "# Combine the training inputs into a TensorDataset.\n",
        "prediction_data = TensorDataset(t_input_ids, t_attention_masks, t_labels)"
      ],
      "metadata": {
        "id": "xOx2mbpGFTMX"
      },
      "execution_count": null,
      "outputs": []
    },
    {
      "cell_type": "code",
      "source": [
        "from torch.utils.data import DataLoader, SequentialSampler\n",
        "\n",
        "# The DataLoader needs to know our batch size for training, so we specify it \n",
        "# here. For fine-tuning BERT on a specific task, the authors recommend a batch \n",
        "# size of 16 or 32.\n",
        "batch_size = 16\n",
        "# For Prediction the order doesn't matter, so we'll just read them sequentially.\n",
        "prediction_dataloader = DataLoader(\n",
        "            prediction_data, # The test samples.\n",
        "            sampler = SequentialSampler(prediction_data), # Pull out batches sequentially.\n",
        "            batch_size = batch_size # Evaluate with this batch size.\n",
        "        )"
      ],
      "metadata": {
        "id": "mpslKc7kqiU3"
      },
      "execution_count": null,
      "outputs": []
    },
    {
      "cell_type": "markdown",
      "source": [
        "## Evaluate on Test set"
      ],
      "metadata": {
        "id": "AYvYXFIfQcpa"
      }
    },
    {
      "cell_type": "code",
      "source": [
        "import torch\n",
        "from google.colab import drive\n",
        "# Connect to google drive\n",
        "drive.mount('/content/gdrive')\n",
        "model = torch.load('gdrive/My Drive/Dissertation/enriched_form+tweet_Bertmodel')"
      ],
      "metadata": {
        "id": "JA2kM3F0gI_4",
        "colab": {
          "base_uri": "https://localhost:8080/"
        },
        "outputId": "9f7eec2a-2441-4692-865a-ccfcf6b07990"
      },
      "execution_count": null,
      "outputs": [
        {
          "output_type": "stream",
          "name": "stdout",
          "text": [
            "Drive already mounted at /content/gdrive; to attempt to forcibly remount, call drive.mount(\"/content/gdrive\", force_remount=True).\n"
          ]
        }
      ]
    },
    {
      "cell_type": "code",
      "source": [
        "# Prediction on test set\n",
        "\n",
        "print('Predicting labels for {:,} test sentences...'.format(len(prediction_data)))\n",
        "\n",
        "# Put model in evaluation mode\n",
        "model.eval()\n",
        "\n",
        "# Tracking variables \n",
        "predictions , true_labels = [], []\n",
        "\n",
        "# Predict \n",
        "for batch in prediction_dataloader:\n",
        "  # Add batch to GPU\n",
        "  batch = tuple(t.to(device) for t in batch)\n",
        "  \n",
        "  # Unpack the inputs from our dataloader\n",
        "  b_input_ids, b_input_mask, b_labels = batch\n",
        "  \n",
        "  # Telling the model not to compute or store gradients, saving memory and \n",
        "  # speeding up prediction\n",
        "  with torch.no_grad():\n",
        "      # Forward pass, calculate logit predictions\n",
        "      outputs = model(b_input_ids, token_type_ids=None, \n",
        "                      attention_mask=b_input_mask)\n",
        "\n",
        "  logits = outputs[0]\n",
        "\n",
        "  # Move logits and labels to CPU\n",
        "  logits = logits.detach().cpu().numpy()\n",
        "  label_ids = b_labels.to('cpu').numpy()\n",
        "  \n",
        "  # Store predictions and true labels\n",
        "  predictions.append(logits)\n",
        "  true_labels.append(label_ids)\n",
        "\n",
        "print('    DONE.')"
      ],
      "metadata": {
        "id": "NXBJv-xRhAWj",
        "colab": {
          "base_uri": "https://localhost:8080/"
        },
        "outputId": "31b23b2f-7a2f-466f-b60b-89e72e0bbf7d"
      },
      "execution_count": null,
      "outputs": [
        {
          "output_type": "stream",
          "name": "stdout",
          "text": [
            "Predicting labels for 3,908 test sentences...\n",
            "    DONE.\n"
          ]
        }
      ]
    },
    {
      "cell_type": "code",
      "source": [
        "# Combine the results across all batches. \n",
        "flat_predictions = np.concatenate(predictions, axis=0)\n",
        "\n",
        "# For each sample, pick the label (0 or 1) with the higher score.\n",
        "flat_predictions = np.argmax(flat_predictions, axis=1).flatten()\n",
        "\n",
        "# Combine the correct labels for each batch into a single list.\n",
        "flat_true_labels = np.concatenate(true_labels, axis=0)"
      ],
      "metadata": {
        "id": "i0YtU39v2egb"
      },
      "execution_count": null,
      "outputs": []
    },
    {
      "cell_type": "code",
      "source": [
        "from sklearn.metrics import accuracy_score, roc_curve, auc, f1_score, precision_score, recall_score\n",
        "from sklearn.metrics import confusion_matrix, classification_report\n",
        "import seaborn as sns\n",
        "\n",
        "accuracy = accuracy_score(flat_true_labels, flat_predictions)\n",
        "print(f'Accuracy: {accuracy*100:.2f}%')\n",
        "f1 = f1_score(flat_true_labels, flat_predictions)\n",
        "print(f'F1 score: {f1*100:.2f}%')\n",
        "precision = precision_score(flat_true_labels, flat_predictions)\n",
        "print(f'Precision: {precision*100:.2f}%')\n",
        "recall = recall_score(flat_true_labels, flat_predictions)\n",
        "print(f'Recall: {recall*100:.2f}%')\n",
        "\n",
        "c_matrix =confusion_matrix(flat_true_labels,flat_predictions)\n",
        "clr = classification_report(flat_true_labels,flat_predictions)\n",
        "accuracy = accuracy_score(flat_true_labels, flat_predictions)\n",
        "print(\"Accuracy\", round(accuracy,2) )\n",
        "plt.figure(figsize=(8,8))\n",
        "sns.heatmap(c_matrix,annot=True, fmt='g', vmin=0, cbar=False, cmap='Blues')\n",
        "plt.xlabel(\"Predicted Value\")\n",
        "plt.ylabel(\"Actual Value\")\n",
        "plt.title(\"Confusion matrix\")\n",
        "plt.show()\n",
        "print(clr)"
      ],
      "metadata": {
        "colab": {
          "base_uri": "https://localhost:8080/",
          "height": 756
        },
        "id": "UmA6xT-C8IY9",
        "outputId": "8adf11e0-aa5e-4f9c-edb3-c000ab7e69d6"
      },
      "execution_count": null,
      "outputs": [
        {
          "output_type": "stream",
          "name": "stdout",
          "text": [
            "Accuracy: 85.72%\n",
            "F1 score: 85.68%\n",
            "Precision: 85.95%\n",
            "Recall: 85.42%\n",
            "Accuracy 0.86\n"
          ]
        },
        {
          "output_type": "display_data",
          "data": {
            "text/plain": [
              "<Figure size 576x576 with 1 Axes>"
            ],
            "image/png": "[encoded data removed]"
          },
          "metadata": {
            "needs_background": "light"
          }
        },
        {
          "output_type": "stream",
          "name": "stdout",
          "text": [
            "              precision    recall  f1-score   support\n",
            "\n",
            "           0       0.85      0.86      0.86      1953\n",
            "           1       0.86      0.85      0.86      1955\n",
            "\n",
            "    accuracy                           0.86      3908\n",
            "   macro avg       0.86      0.86      0.86      3908\n",
            "weighted avg       0.86      0.86      0.86      3908\n",
            "\n"
          ]
        }
      ]
    },
    {
      "cell_type": "code",
      "source": [
        "fpr, tpr, threshold = roc_curve(flat_true_labels,flat_predictions)\n",
        "roc_auc = auc(fpr, tpr)\n",
        "print(f'AUC: {roc_auc:.4f}')\n",
        "\n",
        "\n",
        "# Plot ROC AUC\n",
        "plt.title('Receiver Operating Characteristic')\n",
        "plt.plot(fpr, tpr, 'b', label = 'AUC = %0.2f' % roc_auc)\n",
        "plt.legend(loc = 'lower right')\n",
        "plt.plot([0, 1], [0, 1],'r--')\n",
        "plt.xlim([0, 1])\n",
        "plt.ylim([0, 1])\n",
        "plt.ylabel('True Positive Rate')\n",
        "plt.xlabel('False Positive Rate')\n",
        "plt.show()"
      ],
      "metadata": {
        "colab": {
          "base_uri": "https://localhost:8080/",
          "height": 312
        },
        "id": "BmKphHKaHE7c",
        "outputId": "a41be95c-b367-4cef-811c-77fe767450ea"
      },
      "execution_count": null,
      "outputs": [
        {
          "output_type": "stream",
          "name": "stdout",
          "text": [
            "AUC: 0.8572\n"
          ]
        },
        {
          "output_type": "display_data",
          "data": {
            "text/plain": [
              "<Figure size 432x288 with 1 Axes>"
            ],
            "image/png": "[encoded data removed]"
          },
          "metadata": {
            "needs_background": "light"
          }
        }
      ]
    },
    {
      "cell_type": "code",
      "source": [
        "from sklearn.metrics import matthews_corrcoef\n",
        "\n",
        "matthews_set = []\n",
        "\n",
        "# Evaluate each test batch using Matthew's correlation coefficient\n",
        "print('Calculating Matthews Corr. Coef. for each batch...')\n",
        "\n",
        "# For each input batch...\n",
        "for i in range(len(true_labels)):\n",
        "  \n",
        "  # The predictions for this batch are a 2-column ndarray (one column for \"0\" \n",
        "  # and one column for \"1\"). Pick the label with the highest value and turn this\n",
        "  # in to a list of 0s and 1s.\n",
        "  pred_labels_i = np.argmax(predictions[i], axis=1).flatten()\n",
        "  \n",
        "  # Calculate and store the coef for this batch.  \n",
        "  matthews = matthews_corrcoef(true_labels[i], pred_labels_i)                \n",
        "  matthews_set.append(matthews)"
      ],
      "metadata": {
        "id": "RSTvGezv56k5",
        "colab": {
          "base_uri": "https://localhost:8080/"
        },
        "outputId": "f6620abf-7d85-45bb-9572-bae10466c70e"
      },
      "execution_count": null,
      "outputs": [
        {
          "output_type": "stream",
          "name": "stdout",
          "text": [
            "Calculating Matthews Corr. Coef. for each batch...\n"
          ]
        }
      ]
    },
    {
      "cell_type": "code",
      "source": [
        "# Calculate the MCC\n",
        "mcc = matthews_corrcoef(flat_true_labels, flat_predictions)\n",
        "\n",
        "print('Total MCC: %.3f' % mcc)"
      ],
      "metadata": {
        "id": "ktv4F6v856YM",
        "colab": {
          "base_uri": "https://localhost:8080/"
        },
        "outputId": "fe315caf-d611-4a70-aa22-19fd75cc9cb3"
      },
      "execution_count": null,
      "outputs": [
        {
          "output_type": "stream",
          "name": "stdout",
          "text": [
            "Total MCC: 0.714\n"
          ]
        }
      ]
    }
  ]
}