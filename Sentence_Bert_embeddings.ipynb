{
  "nbformat": 4,
  "nbformat_minor": 0,
  "metadata": {
    "colab": {
      "provenance": [],
      "collapsed_sections": [],
      "authorship_tag": "ABX9TyPPMUyZ4Fs6y5x+jeo0SCu4",
      "include_colab_link": true
    },
    "kernelspec": {
      "name": "python3",
      "display_name": "Python 3"
    },
    "language_info": {
      "name": "python"
    },
    "accelerator": "GPU",
    "gpuClass": "standard"
  },
  "cells": [
    {
      "cell_type": "markdown",
      "metadata": {
        "id": "view-in-github",
        "colab_type": "text"
      },
      "source": [
        "<a href=\"https://colab.research.google.com/github/Babitha23/Cyberbullying-detection/blob/main/Sentence_Bert_embeddings.ipynb\" target=\"_parent\"><img src=\"https://colab.research.google.com/assets/colab-badge.svg\" alt=\"Open In Colab\"/></a>"
      ]
    },
    {
      "cell_type": "markdown",
      "source": [
        "#Import Required Libraries"
      ],
      "metadata": {
        "id": "iI4CwYs2Ju6n"
      }
    },
    {
      "cell_type": "code",
      "source": [
        "import torch\n",
        "import pandas as pd\n",
        "import numpy as np"
      ],
      "metadata": {
        "id": "ZghK2HAScW6s"
      },
      "execution_count": null,
      "outputs": []
    },
    {
      "cell_type": "markdown",
      "source": [
        "# Setting up GPU"
      ],
      "metadata": {
        "id": "hPxDpfiEJ0vV"
      }
    },
    {
      "cell_type": "code",
      "execution_count": null,
      "metadata": {
        "colab": {
          "base_uri": "https://localhost:8080/"
        },
        "id": "C9eU4wPlbxhd",
        "outputId": "c77cddb5-ee05-4999-9d5c-1b39e212a73a"
      },
      "outputs": [
        {
          "output_type": "stream",
          "name": "stdout",
          "text": [
            "There are 1 GPU(s) available.\n",
            "Device name: Tesla T4\n"
          ]
        }
      ],
      "source": [
        "if torch.cuda.is_available():       \n",
        "    device = torch.device(\"cuda\")\n",
        "    print(f'There are {torch.cuda.device_count()} GPU(s) available.')\n",
        "    print('Device name:', torch.cuda.get_device_name(0))\n",
        "\n",
        "else:\n",
        "    print('No GPU available, using the CPU instead.')\n",
        "    device = torch.device(\"cpu\")"
      ]
    },
    {
      "cell_type": "markdown",
      "source": [
        "Install SBERT"
      ],
      "metadata": {
        "id": "mlSJoWvIJ4IB"
      }
    },
    {
      "cell_type": "code",
      "source": [
        "pip install -U sentence-transformers\n",
        "from sentence_transformers import SentenceTransformer"
      ],
      "metadata": {
        "id": "PXwWOEHBvOsH"
      },
      "execution_count": null,
      "outputs": []
    },
    {
      "cell_type": "code",
      "source": [
        "data = pd.read_csv(\"processeddata (1).csv\", index_col=0, encoding = \"ISO-8859-1\")"
      ],
      "metadata": {
        "id": "ePBZMOO2cTlI"
      },
      "execution_count": null,
      "outputs": []
    },
    {
      "cell_type": "markdown",
      "source": [
        "Split the data into sentences."
      ],
      "metadata": {
        "id": "EPEt0LLlJ9pK"
      }
    },
    {
      "cell_type": "code",
      "source": [
        "# for i in range(2218):\n",
        "#     data['sessiontext'] = data['sessiontext'].apply(lambda x: x.str.split('.'))\n",
        "\n",
        "# new data frame with split value columns\n",
        "data[\"sentences\"]= data[\"sessiontext\"].str.split(\".\", expand = False)\n",
        "data.sample(5)"
      ],
      "metadata": {
        "id": "3UKis0z4vhPN"
      },
      "execution_count": null,
      "outputs": []
    },
    {
      "cell_type": "markdown",
      "source": [
        "Encode the sentences and create embeddings"
      ],
      "metadata": {
        "id": "o9tP231YKJaL"
      }
    },
    {
      "cell_type": "code",
      "source": [
        "model = SentenceTransformer('all-MiniLM-L6-v2')\n",
        "embed = []\n",
        "for i in range(2218):\n",
        "  #Our sentences we like to encode\n",
        "  sentences = str(data.iloc[i,:]['sentences'])\n",
        "  #Sentences are encoded by calling model.encode()\n",
        "  embeddings = model.encode(sentences)\n",
        "  new = []\n",
        "  for sentence, embedding in zip(sentences, embeddings):\n",
        "    new.append(embedding)\n",
        "  embed.append(new)"
      ],
      "metadata": {
        "id": "LqM71Ap_9RFl"
      },
      "execution_count": null,
      "outputs": []
    },
    {
      "cell_type": "code",
      "source": [
        "len(embed)"
      ],
      "metadata": {
        "colab": {
          "base_uri": "https://localhost:8080/"
        },
        "id": "SpJqtyJJLMGF",
        "outputId": "13ef9ee9-6f17-47f9-99f8-490731707cd9"
      },
      "execution_count": 96,
      "outputs": [
        {
          "output_type": "execute_result",
          "data": {
            "text/plain": [
              "2218"
            ]
          },
          "metadata": {},
          "execution_count": 96
        }
      ]
    },
    {
      "cell_type": "markdown",
      "source": [
        "Update the generated embeddings into new column of the dataframe"
      ],
      "metadata": {
        "id": "2Zy2ze1tKSb_"
      }
    },
    {
      "cell_type": "code",
      "source": [
        "data['embeddings']=embed"
      ],
      "metadata": {
        "id": "piC5fMeVCT2l"
      },
      "execution_count": 91,
      "outputs": []
    },
    {
      "cell_type": "code",
      "source": [
        "data.sample(5)"
      ],
      "metadata": {
        "colab": {
          "base_uri": "https://localhost:8080/",
          "height": 386
        },
        "id": "_TzssYvQLIV_",
        "outputId": "6654ecba-2ee5-4326-a71a-8a70de4f49e6"
      },
      "execution_count": 97,
      "outputs": [
        {
          "output_type": "execute_result",
          "data": {
            "text/plain": [
              "                                                 sessiontext  likes  \\\n",
              "_unit_id                                                              \n",
              "679605053  Dion Jordan and his rookie haircut signing at ...   4664   \n",
              "652903383  Comment everything you know about me, wanna se...   1055   \n",
              "649719644  The sky is very dark tonight. Wow such nice ph...      8   \n",
              "679605003  Snow White \". can be like an admin of this pag...   6526   \n",
              "649719628  Public Information Officer Robert McCallum rea...   1204   \n",
              "\n",
              "           shared media  followed_by  follows      label1    label2  \\\n",
              "_unit_id                                                              \n",
              "679605053          1608       251943        3     noneAgg   noneBll   \n",
              "652903383           787        18902      233     noneAgg   noneBll   \n",
              "649719644            81          643      115  aggression  bullying   \n",
              "679605003           713       281332      188     noneAgg   noneBll   \n",
              "649719628          1147       397836      180  aggression  bullying   \n",
              "\n",
              "                                                   sentences  \\\n",
              "_unit_id                                                       \n",
              "679605053  [Dion Jordan and his rookie haircut signing at...   \n",
              "652903383  [Comment everything you know about me, wanna s...   \n",
              "649719644  [The sky is very dark tonight,  Wow such nice ...   \n",
              "679605003  [Snow White \",  can be like an admin of this p...   \n",
              "649719628  [Public Information Officer Robert McCallum re...   \n",
              "\n",
              "                                                  embeddings  \n",
              "_unit_id                                                      \n",
              "679605053  [-0.070093416, -0.013988449, 0.0009443288, -0....  \n",
              "652903383  [-0.02413463, -0.043641463, 0.012048041, 0.028...  \n",
              "649719644  [-0.027453182, -0.022187075, 0.063733906, -0.0...  \n",
              "679605003  [-0.09629545, -0.06690212, 0.107481346, -0.019...  \n",
              "649719628  [0.035963826, -0.020797973, -0.059378274, -0.0...  "
            ],
            "text/html": [
              "\n",
              "  <div id=\"df-5c09a00f-6c77-40aa-ae6c-f09c7a3cfd58\">\n",
              "    <div class=\"colab-df-container\">\n",
              "      <div>\n",
              "<style scoped>\n",
              "    .dataframe tbody tr th:only-of-type {\n",
              "        vertical-align: middle;\n",
              "    }\n",
              "\n",
              "    .dataframe tbody tr th {\n",
              "        vertical-align: top;\n",
              "    }\n",
              "\n",
              "    .dataframe thead th {\n",
              "        text-align: right;\n",
              "    }\n",
              "</style>\n",
              "<table border=\"1\" class=\"dataframe\">\n",
              "  <thead>\n",
              "    <tr style=\"text-align: right;\">\n",
              "      <th></th>\n",
              "      <th>sessiontext</th>\n",
              "      <th>likes</th>\n",
              "      <th>shared media</th>\n",
              "      <th>followed_by</th>\n",
              "      <th>follows</th>\n",
              "      <th>label1</th>\n",
              "      <th>label2</th>\n",
              "      <th>sentences</th>\n",
              "      <th>embeddings</th>\n",
              "    </tr>\n",
              "    <tr>\n",
              "      <th>_unit_id</th>\n",
              "      <th></th>\n",
              "      <th></th>\n",
              "      <th></th>\n",
              "      <th></th>\n",
              "      <th></th>\n",
              "      <th></th>\n",
              "      <th></th>\n",
              "      <th></th>\n",
              "      <th></th>\n",
              "    </tr>\n",
              "  </thead>\n",
              "  <tbody>\n",
              "    <tr>\n",
              "      <th>679605053</th>\n",
              "      <td>Dion Jordan and his rookie haircut signing at ...</td>\n",
              "      <td>4664</td>\n",
              "      <td>1608</td>\n",
              "      <td>251943</td>\n",
              "      <td>3</td>\n",
              "      <td>noneAgg</td>\n",
              "      <td>noneBll</td>\n",
              "      <td>[Dion Jordan and his rookie haircut signing at...</td>\n",
              "      <td>[-0.070093416, -0.013988449, 0.0009443288, -0....</td>\n",
              "    </tr>\n",
              "    <tr>\n",
              "      <th>652903383</th>\n",
              "      <td>Comment everything you know about me, wanna se...</td>\n",
              "      <td>1055</td>\n",
              "      <td>787</td>\n",
              "      <td>18902</td>\n",
              "      <td>233</td>\n",
              "      <td>noneAgg</td>\n",
              "      <td>noneBll</td>\n",
              "      <td>[Comment everything you know about me, wanna s...</td>\n",
              "      <td>[-0.02413463, -0.043641463, 0.012048041, 0.028...</td>\n",
              "    </tr>\n",
              "    <tr>\n",
              "      <th>649719644</th>\n",
              "      <td>The sky is very dark tonight. Wow such nice ph...</td>\n",
              "      <td>8</td>\n",
              "      <td>81</td>\n",
              "      <td>643</td>\n",
              "      <td>115</td>\n",
              "      <td>aggression</td>\n",
              "      <td>bullying</td>\n",
              "      <td>[The sky is very dark tonight,  Wow such nice ...</td>\n",
              "      <td>[-0.027453182, -0.022187075, 0.063733906, -0.0...</td>\n",
              "    </tr>\n",
              "    <tr>\n",
              "      <th>679605003</th>\n",
              "      <td>Snow White \". can be like an admin of this pag...</td>\n",
              "      <td>6526</td>\n",
              "      <td>713</td>\n",
              "      <td>281332</td>\n",
              "      <td>188</td>\n",
              "      <td>noneAgg</td>\n",
              "      <td>noneBll</td>\n",
              "      <td>[Snow White \",  can be like an admin of this p...</td>\n",
              "      <td>[-0.09629545, -0.06690212, 0.107481346, -0.019...</td>\n",
              "    </tr>\n",
              "    <tr>\n",
              "      <th>649719628</th>\n",
              "      <td>Public Information Officer Robert McCallum rea...</td>\n",
              "      <td>1204</td>\n",
              "      <td>1147</td>\n",
              "      <td>397836</td>\n",
              "      <td>180</td>\n",
              "      <td>aggression</td>\n",
              "      <td>bullying</td>\n",
              "      <td>[Public Information Officer Robert McCallum re...</td>\n",
              "      <td>[0.035963826, -0.020797973, -0.059378274, -0.0...</td>\n",
              "    </tr>\n",
              "  </tbody>\n",
              "</table>\n",
              "</div>\n",
              "      <button class=\"colab-df-convert\" onclick=\"convertToInteractive('df-5c09a00f-6c77-40aa-ae6c-f09c7a3cfd58')\"\n",
              "              title=\"Convert this dataframe to an interactive table.\"\n",
              "              style=\"display:none;\">\n",
              "        \n",
              "  <svg xmlns=\"http://www.w3.org/2000/svg\" height=\"24px\"viewBox=\"0 0 24 24\"\n",
              "       width=\"24px\">\n",
              "    <path d=\"M0 0h24v24H0V0z\" fill=\"none\"/>\n",
              "    <path d=\"M18.56 5.44l.94 2.06.94-2.06 2.06-.94-2.06-.94-.94-2.06-.94 2.06-2.06.94zm-11 1L8.5 8.5l.94-2.06 2.06-.94-2.06-.94L8.5 2.5l-.94 2.06-2.06.94zm10 10l.94 2.06.94-2.06 2.06-.94-2.06-.94-.94-2.06-.94 2.06-2.06.94z\"/><path d=\"M17.41 7.96l-1.37-1.37c-.4-.4-.92-.59-1.43-.59-.52 0-1.04.2-1.43.59L10.3 9.45l-7.72 7.72c-.78.78-.78 2.05 0 2.83L4 21.41c.39.39.9.59 1.41.59.51 0 1.02-.2 1.41-.59l7.78-7.78 2.81-2.81c.8-.78.8-2.07 0-2.86zM5.41 20L4 18.59l7.72-7.72 1.47 1.35L5.41 20z\"/>\n",
              "  </svg>\n",
              "      </button>\n",
              "      \n",
              "  <style>\n",
              "    .colab-df-container {\n",
              "      display:flex;\n",
              "      flex-wrap:wrap;\n",
              "      gap: 12px;\n",
              "    }\n",
              "\n",
              "    .colab-df-convert {\n",
              "      background-color: #E8F0FE;\n",
              "      border: none;\n",
              "      border-radius: 50%;\n",
              "      cursor: pointer;\n",
              "      display: none;\n",
              "      fill: #1967D2;\n",
              "      height: 32px;\n",
              "      padding: 0 0 0 0;\n",
              "      width: 32px;\n",
              "    }\n",
              "\n",
              "    .colab-df-convert:hover {\n",
              "      background-color: #E2EBFA;\n",
              "      box-shadow: 0px 1px 2px rgba(60, 64, 67, 0.3), 0px 1px 3px 1px rgba(60, 64, 67, 0.15);\n",
              "      fill: #174EA6;\n",
              "    }\n",
              "\n",
              "    [theme=dark] .colab-df-convert {\n",
              "      background-color: #3B4455;\n",
              "      fill: #D2E3FC;\n",
              "    }\n",
              "\n",
              "    [theme=dark] .colab-df-convert:hover {\n",
              "      background-color: #434B5C;\n",
              "      box-shadow: 0px 1px 3px 1px rgba(0, 0, 0, 0.15);\n",
              "      filter: drop-shadow(0px 1px 2px rgba(0, 0, 0, 0.3));\n",
              "      fill: #FFFFFF;\n",
              "    }\n",
              "  </style>\n",
              "\n",
              "      <script>\n",
              "        const buttonEl =\n",
              "          document.querySelector('#df-5c09a00f-6c77-40aa-ae6c-f09c7a3cfd58 button.colab-df-convert');\n",
              "        buttonEl.style.display =\n",
              "          google.colab.kernel.accessAllowed ? 'block' : 'none';\n",
              "\n",
              "        async function convertToInteractive(key) {\n",
              "          const element = document.querySelector('#df-5c09a00f-6c77-40aa-ae6c-f09c7a3cfd58');\n",
              "          const dataTable =\n",
              "            await google.colab.kernel.invokeFunction('convertToInteractive',\n",
              "                                                     [key], {});\n",
              "          if (!dataTable) return;\n",
              "\n",
              "          const docLinkHtml = 'Like what you see? Visit the ' +\n",
              "            '<a target=\"_blank\" href=https://colab.research.google.com/notebooks/data_table.ipynb>data table notebook</a>'\n",
              "            + ' to learn more about interactive tables.';\n",
              "          element.innerHTML = '';\n",
              "          dataTable['output_type'] = 'display_data';\n",
              "          await google.colab.output.renderOutput(dataTable, element);\n",
              "          const docLink = document.createElement('div');\n",
              "          docLink.innerHTML = docLinkHtml;\n",
              "          element.appendChild(docLink);\n",
              "        }\n",
              "      </script>\n",
              "    </div>\n",
              "  </div>\n",
              "  "
            ]
          },
          "metadata": {},
          "execution_count": 97
        }
      ]
    },
    {
      "cell_type": "code",
      "source": [
        "data.to_csv(\"encoded_data.csv\")"
      ],
      "metadata": {
        "id": "pTKwiY_eIZjp"
      },
      "execution_count": 95,
      "outputs": []
    },
    {
      "cell_type": "code",
      "source": [
        "# tokenized_text = tokenizer.tokenize(marked_text)\n",
        "# indexed_tokens = tokenizer.convert_tokens_to_ids(tokenized_text)\n",
        "# segments_ids = [0] * len(tokenized_text)\n",
        "# tokens_tensor = torch.tensor([indexed_tokens])\n",
        "# segments_tensors = torch.tensor([segments_ids])\n",
        "# with torch.no_grad():\n",
        "#   outputs = model(tokens_tensor, token_type_ids=segments_tensors)\n",
        "#   hidden_states = outputs[0]"
      ],
      "metadata": {
        "id": "9w7inYEBcVzl"
      },
      "execution_count": null,
      "outputs": []
    }
  ]
}