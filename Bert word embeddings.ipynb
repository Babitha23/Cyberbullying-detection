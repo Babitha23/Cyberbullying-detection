{
  "nbformat": 4,
  "nbformat_minor": 0,
  "metadata": {
    "colab": {
      "provenance": [],
      "include_colab_link": true
    },
    "kernelspec": {
      "name": "python3",
      "display_name": "Python 3"
    },
    "language_info": {
      "name": "python"
    },
    "accelerator": "GPU",
    "gpuClass": "standard",
    "widgets": {
      "application/vnd.jupyter.widget-state+json": {
        "d2b85a1b40ff4b43be2c62e0c54fdca7": {
          "model_module": "@jupyter-widgets/controls",
          "model_name": "HBoxModel",
          "model_module_version": "1.5.0",
          "state": {
            "_dom_classes": [],
            "_model_module": "@jupyter-widgets/controls",
            "_model_module_version": "1.5.0",
            "_model_name": "HBoxModel",
            "_view_count": null,
            "_view_module": "@jupyter-widgets/controls",
            "_view_module_version": "1.5.0",
            "_view_name": "HBoxView",
            "box_style": "",
            "children": [
              "IPY_MODEL_57636467752d4b49ad18238ba56bf2db",
              "IPY_MODEL_68e9613fbb49468e84566f3f96d74a75",
              "IPY_MODEL_334416ea23e34ccc8f0ba77bf3ad37d3"
            ],
            "layout": "IPY_MODEL_a3c2cf4681454b72a7e1dbedc2d06bff"
          }
        },
        "57636467752d4b49ad18238ba56bf2db": {
          "model_module": "@jupyter-widgets/controls",
          "model_name": "HTMLModel",
          "model_module_version": "1.5.0",
          "state": {
            "_dom_classes": [],
            "_model_module": "@jupyter-widgets/controls",
            "_model_module_version": "1.5.0",
            "_model_name": "HTMLModel",
            "_view_count": null,
            "_view_module": "@jupyter-widgets/controls",
            "_view_module_version": "1.5.0",
            "_view_name": "HTMLView",
            "description": "",
            "description_tooltip": null,
            "layout": "IPY_MODEL_9bb074ebf7d144a39b18227b0c25a60c",
            "placeholder": "​",
            "style": "IPY_MODEL_cc83b62dfa4147e589470776e7fbb77d",
            "value": "Downloading: 100%"
          }
        },
        "68e9613fbb49468e84566f3f96d74a75": {
          "model_module": "@jupyter-widgets/controls",
          "model_name": "FloatProgressModel",
          "model_module_version": "1.5.0",
          "state": {
            "_dom_classes": [],
            "_model_module": "@jupyter-widgets/controls",
            "_model_module_version": "1.5.0",
            "_model_name": "FloatProgressModel",
            "_view_count": null,
            "_view_module": "@jupyter-widgets/controls",
            "_view_module_version": "1.5.0",
            "_view_name": "ProgressView",
            "bar_style": "success",
            "description": "",
            "description_tooltip": null,
            "layout": "IPY_MODEL_f214cf49688b45e4bd63390b1e4f9060",
            "max": 231508,
            "min": 0,
            "orientation": "horizontal",
            "style": "IPY_MODEL_56314541f28846fe81f674a2cc0c0abf",
            "value": 231508
          }
        },
        "334416ea23e34ccc8f0ba77bf3ad37d3": {
          "model_module": "@jupyter-widgets/controls",
          "model_name": "HTMLModel",
          "model_module_version": "1.5.0",
          "state": {
            "_dom_classes": [],
            "_model_module": "@jupyter-widgets/controls",
            "_model_module_version": "1.5.0",
            "_model_name": "HTMLModel",
            "_view_count": null,
            "_view_module": "@jupyter-widgets/controls",
            "_view_module_version": "1.5.0",
            "_view_name": "HTMLView",
            "description": "",
            "description_tooltip": null,
            "layout": "IPY_MODEL_2c10a9ec8e2a4fe4af4dd35928dae6ee",
            "placeholder": "​",
            "style": "IPY_MODEL_69b0820853e549b49da5ab6e2490b9be",
            "value": " 232k/232k [00:00&lt;00:00, 383kB/s]"
          }
        },
        "a3c2cf4681454b72a7e1dbedc2d06bff": {
          "model_module": "@jupyter-widgets/base",
          "model_name": "LayoutModel",
          "model_module_version": "1.2.0",
          "state": {
            "_model_module": "@jupyter-widgets/base",
            "_model_module_version": "1.2.0",
            "_model_name": "LayoutModel",
            "_view_count": null,
            "_view_module": "@jupyter-widgets/base",
            "_view_module_version": "1.2.0",
            "_view_name": "LayoutView",
            "align_content": null,
            "align_items": null,
            "align_self": null,
            "border": null,
            "bottom": null,
            "display": null,
            "flex": null,
            "flex_flow": null,
            "grid_area": null,
            "grid_auto_columns": null,
            "grid_auto_flow": null,
            "grid_auto_rows": null,
            "grid_column": null,
            "grid_gap": null,
            "grid_row": null,
            "grid_template_areas": null,
            "grid_template_columns": null,
            "grid_template_rows": null,
            "height": null,
            "justify_content": null,
            "justify_items": null,
            "left": null,
            "margin": null,
            "max_height": null,
            "max_width": null,
            "min_height": null,
            "min_width": null,
            "object_fit": null,
            "object_position": null,
            "order": null,
            "overflow": null,
            "overflow_x": null,
            "overflow_y": null,
            "padding": null,
            "right": null,
            "top": null,
            "visibility": null,
            "width": null
          }
        },
        "9bb074ebf7d144a39b18227b0c25a60c": {
          "model_module": "@jupyter-widgets/base",
          "model_name": "LayoutModel",
          "model_module_version": "1.2.0",
          "state": {
            "_model_module": "@jupyter-widgets/base",
            "_model_module_version": "1.2.0",
            "_model_name": "LayoutModel",
            "_view_count": null,
            "_view_module": "@jupyter-widgets/base",
            "_view_module_version": "1.2.0",
            "_view_name": "LayoutView",
            "align_content": null,
            "align_items": null,
            "align_self": null,
            "border": null,
            "bottom": null,
            "display": null,
            "flex": null,
            "flex_flow": null,
            "grid_area": null,
            "grid_auto_columns": null,
            "grid_auto_flow": null,
            "grid_auto_rows": null,
            "grid_column": null,
            "grid_gap": null,
            "grid_row": null,
            "grid_template_areas": null,
            "grid_template_columns": null,
            "grid_template_rows": null,
            "height": null,
            "justify_content": null,
            "justify_items": null,
            "left": null,
            "margin": null,
            "max_height": null,
            "max_width": null,
            "min_height": null,
            "min_width": null,
            "object_fit": null,
            "object_position": null,
            "order": null,
            "overflow": null,
            "overflow_x": null,
            "overflow_y": null,
            "padding": null,
            "right": null,
            "top": null,
            "visibility": null,
            "width": null
          }
        },
        "cc83b62dfa4147e589470776e7fbb77d": {
          "model_module": "@jupyter-widgets/controls",
          "model_name": "DescriptionStyleModel",
          "model_module_version": "1.5.0",
          "state": {
            "_model_module": "@jupyter-widgets/controls",
            "_model_module_version": "1.5.0",
            "_model_name": "DescriptionStyleModel",
            "_view_count": null,
            "_view_module": "@jupyter-widgets/base",
            "_view_module_version": "1.2.0",
            "_view_name": "StyleView",
            "description_width": ""
          }
        },
        "f214cf49688b45e4bd63390b1e4f9060": {
          "model_module": "@jupyter-widgets/base",
          "model_name": "LayoutModel",
          "model_module_version": "1.2.0",
          "state": {
            "_model_module": "@jupyter-widgets/base",
            "_model_module_version": "1.2.0",
            "_model_name": "LayoutModel",
            "_view_count": null,
            "_view_module": "@jupyter-widgets/base",
            "_view_module_version": "1.2.0",
            "_view_name": "LayoutView",
            "align_content": null,
            "align_items": null,
            "align_self": null,
            "border": null,
            "bottom": null,
            "display": null,
            "flex": null,
            "flex_flow": null,
            "grid_area": null,
            "grid_auto_columns": null,
            "grid_auto_flow": null,
            "grid_auto_rows": null,
            "grid_column": null,
            "grid_gap": null,
            "grid_row": null,
            "grid_template_areas": null,
            "grid_template_columns": null,
            "grid_template_rows": null,
            "height": null,
            "justify_content": null,
            "justify_items": null,
            "left": null,
            "margin": null,
            "max_height": null,
            "max_width": null,
            "min_height": null,
            "min_width": null,
            "object_fit": null,
            "object_position": null,
            "order": null,
            "overflow": null,
            "overflow_x": null,
            "overflow_y": null,
            "padding": null,
            "right": null,
            "top": null,
            "visibility": null,
            "width": null
          }
        },
        "56314541f28846fe81f674a2cc0c0abf": {
          "model_module": "@jupyter-widgets/controls",
          "model_name": "ProgressStyleModel",
          "model_module_version": "1.5.0",
          "state": {
            "_model_module": "@jupyter-widgets/controls",
            "_model_module_version": "1.5.0",
            "_model_name": "ProgressStyleModel",
            "_view_count": null,
            "_view_module": "@jupyter-widgets/base",
            "_view_module_version": "1.2.0",
            "_view_name": "StyleView",
            "bar_color": null,
            "description_width": ""
          }
        },
        "2c10a9ec8e2a4fe4af4dd35928dae6ee": {
          "model_module": "@jupyter-widgets/base",
          "model_name": "LayoutModel",
          "model_module_version": "1.2.0",
          "state": {
            "_model_module": "@jupyter-widgets/base",
            "_model_module_version": "1.2.0",
            "_model_name": "LayoutModel",
            "_view_count": null,
            "_view_module": "@jupyter-widgets/base",
            "_view_module_version": "1.2.0",
            "_view_name": "LayoutView",
            "align_content": null,
            "align_items": null,
            "align_self": null,
            "border": null,
            "bottom": null,
            "display": null,
            "flex": null,
            "flex_flow": null,
            "grid_area": null,
            "grid_auto_columns": null,
            "grid_auto_flow": null,
            "grid_auto_rows": null,
            "grid_column": null,
            "grid_gap": null,
            "grid_row": null,
            "grid_template_areas": null,
            "grid_template_columns": null,
            "grid_template_rows": null,
            "height": null,
            "justify_content": null,
            "justify_items": null,
            "left": null,
            "margin": null,
            "max_height": null,
            "max_width": null,
            "min_height": null,
            "min_width": null,
            "object_fit": null,
            "object_position": null,
            "order": null,
            "overflow": null,
            "overflow_x": null,
            "overflow_y": null,
            "padding": null,
            "right": null,
            "top": null,
            "visibility": null,
            "width": null
          }
        },
        "69b0820853e549b49da5ab6e2490b9be": {
          "model_module": "@jupyter-widgets/controls",
          "model_name": "DescriptionStyleModel",
          "model_module_version": "1.5.0",
          "state": {
            "_model_module": "@jupyter-widgets/controls",
            "_model_module_version": "1.5.0",
            "_model_name": "DescriptionStyleModel",
            "_view_count": null,
            "_view_module": "@jupyter-widgets/base",
            "_view_module_version": "1.2.0",
            "_view_name": "StyleView",
            "description_width": ""
          }
        },
        "763927ba2bf74b5ba40b4fa1270c3696": {
          "model_module": "@jupyter-widgets/controls",
          "model_name": "HBoxModel",
          "model_module_version": "1.5.0",
          "state": {
            "_dom_classes": [],
            "_model_module": "@jupyter-widgets/controls",
            "_model_module_version": "1.5.0",
            "_model_name": "HBoxModel",
            "_view_count": null,
            "_view_module": "@jupyter-widgets/controls",
            "_view_module_version": "1.5.0",
            "_view_name": "HBoxView",
            "box_style": "",
            "children": [
              "IPY_MODEL_7abe9780a2e840128f2e3f8962aec0a7",
              "IPY_MODEL_7778d46143b14627bfcb5df96d98b977",
              "IPY_MODEL_e737783f2e1f4b0eb15923feedc8767c"
            ],
            "layout": "IPY_MODEL_e17681b6c8bb40f1b85df23d4529c129"
          }
        },
        "7abe9780a2e840128f2e3f8962aec0a7": {
          "model_module": "@jupyter-widgets/controls",
          "model_name": "HTMLModel",
          "model_module_version": "1.5.0",
          "state": {
            "_dom_classes": [],
            "_model_module": "@jupyter-widgets/controls",
            "_model_module_version": "1.5.0",
            "_model_name": "HTMLModel",
            "_view_count": null,
            "_view_module": "@jupyter-widgets/controls",
            "_view_module_version": "1.5.0",
            "_view_name": "HTMLView",
            "description": "",
            "description_tooltip": null,
            "layout": "IPY_MODEL_acc56addab91409f8a6e6b5eace27de0",
            "placeholder": "​",
            "style": "IPY_MODEL_6d5f6337f3a54479b445764a9f2a0e27",
            "value": "Downloading: 100%"
          }
        },
        "7778d46143b14627bfcb5df96d98b977": {
          "model_module": "@jupyter-widgets/controls",
          "model_name": "FloatProgressModel",
          "model_module_version": "1.5.0",
          "state": {
            "_dom_classes": [],
            "_model_module": "@jupyter-widgets/controls",
            "_model_module_version": "1.5.0",
            "_model_name": "FloatProgressModel",
            "_view_count": null,
            "_view_module": "@jupyter-widgets/controls",
            "_view_module_version": "1.5.0",
            "_view_name": "ProgressView",
            "bar_style": "success",
            "description": "",
            "description_tooltip": null,
            "layout": "IPY_MODEL_57ff6a0b35a34573868d321ff5d49279",
            "max": 28,
            "min": 0,
            "orientation": "horizontal",
            "style": "IPY_MODEL_6e762cad6a614f0dafb0a68f5cfb0d64",
            "value": 28
          }
        },
        "e737783f2e1f4b0eb15923feedc8767c": {
          "model_module": "@jupyter-widgets/controls",
          "model_name": "HTMLModel",
          "model_module_version": "1.5.0",
          "state": {
            "_dom_classes": [],
            "_model_module": "@jupyter-widgets/controls",
            "_model_module_version": "1.5.0",
            "_model_name": "HTMLModel",
            "_view_count": null,
            "_view_module": "@jupyter-widgets/controls",
            "_view_module_version": "1.5.0",
            "_view_name": "HTMLView",
            "description": "",
            "description_tooltip": null,
            "layout": "IPY_MODEL_7295d4cca36f4e809d4026ae672e9367",
            "placeholder": "​",
            "style": "IPY_MODEL_95793042430544bd8e204f369bc92b4b",
            "value": " 28.0/28.0 [00:00&lt;00:00, 299B/s]"
          }
        },
        "e17681b6c8bb40f1b85df23d4529c129": {
          "model_module": "@jupyter-widgets/base",
          "model_name": "LayoutModel",
          "model_module_version": "1.2.0",
          "state": {
            "_model_module": "@jupyter-widgets/base",
            "_model_module_version": "1.2.0",
            "_model_name": "LayoutModel",
            "_view_count": null,
            "_view_module": "@jupyter-widgets/base",
            "_view_module_version": "1.2.0",
            "_view_name": "LayoutView",
            "align_content": null,
            "align_items": null,
            "align_self": null,
            "border": null,
            "bottom": null,
            "display": null,
            "flex": null,
            "flex_flow": null,
            "grid_area": null,
            "grid_auto_columns": null,
            "grid_auto_flow": null,
            "grid_auto_rows": null,
            "grid_column": null,
            "grid_gap": null,
            "grid_row": null,
            "grid_template_areas": null,
            "grid_template_columns": null,
            "grid_template_rows": null,
            "height": null,
            "justify_content": null,
            "justify_items": null,
            "left": null,
            "margin": null,
            "max_height": null,
            "max_width": null,
            "min_height": null,
            "min_width": null,
            "object_fit": null,
            "object_position": null,
            "order": null,
            "overflow": null,
            "overflow_x": null,
            "overflow_y": null,
            "padding": null,
            "right": null,
            "top": null,
            "visibility": null,
            "width": null
          }
        },
        "acc56addab91409f8a6e6b5eace27de0": {
          "model_module": "@jupyter-widgets/base",
          "model_name": "LayoutModel",
          "model_module_version": "1.2.0",
          "state": {
            "_model_module": "@jupyter-widgets/base",
            "_model_module_version": "1.2.0",
            "_model_name": "LayoutModel",
            "_view_count": null,
            "_view_module": "@jupyter-widgets/base",
            "_view_module_version": "1.2.0",
            "_view_name": "LayoutView",
            "align_content": null,
            "align_items": null,
            "align_self": null,
            "border": null,
            "bottom": null,
            "display": null,
            "flex": null,
            "flex_flow": null,
            "grid_area": null,
            "grid_auto_columns": null,
            "grid_auto_flow": null,
            "grid_auto_rows": null,
            "grid_column": null,
            "grid_gap": null,
            "grid_row": null,
            "grid_template_areas": null,
            "grid_template_columns": null,
            "grid_template_rows": null,
            "height": null,
            "justify_content": null,
            "justify_items": null,
            "left": null,
            "margin": null,
            "max_height": null,
            "max_width": null,
            "min_height": null,
            "min_width": null,
            "object_fit": null,
            "object_position": null,
            "order": null,
            "overflow": null,
            "overflow_x": null,
            "overflow_y": null,
            "padding": null,
            "right": null,
            "top": null,
            "visibility": null,
            "width": null
          }
        },
        "6d5f6337f3a54479b445764a9f2a0e27": {
          "model_module": "@jupyter-widgets/controls",
          "model_name": "DescriptionStyleModel",
          "model_module_version": "1.5.0",
          "state": {
            "_model_module": "@jupyter-widgets/controls",
            "_model_module_version": "1.5.0",
            "_model_name": "DescriptionStyleModel",
            "_view_count": null,
            "_view_module": "@jupyter-widgets/base",
            "_view_module_version": "1.2.0",
            "_view_name": "StyleView",
            "description_width": ""
          }
        },
        "57ff6a0b35a34573868d321ff5d49279": {
          "model_module": "@jupyter-widgets/base",
          "model_name": "LayoutModel",
          "model_module_version": "1.2.0",
          "state": {
            "_model_module": "@jupyter-widgets/base",
            "_model_module_version": "1.2.0",
            "_model_name": "LayoutModel",
            "_view_count": null,
            "_view_module": "@jupyter-widgets/base",
            "_view_module_version": "1.2.0",
            "_view_name": "LayoutView",
            "align_content": null,
            "align_items": null,
            "align_self": null,
            "border": null,
            "bottom": null,
            "display": null,
            "flex": null,
            "flex_flow": null,
            "grid_area": null,
            "grid_auto_columns": null,
            "grid_auto_flow": null,
            "grid_auto_rows": null,
            "grid_column": null,
            "grid_gap": null,
            "grid_row": null,
            "grid_template_areas": null,
            "grid_template_columns": null,
            "grid_template_rows": null,
            "height": null,
            "justify_content": null,
            "justify_items": null,
            "left": null,
            "margin": null,
            "max_height": null,
            "max_width": null,
            "min_height": null,
            "min_width": null,
            "object_fit": null,
            "object_position": null,
            "order": null,
            "overflow": null,
            "overflow_x": null,
            "overflow_y": null,
            "padding": null,
            "right": null,
            "top": null,
            "visibility": null,
            "width": null
          }
        },
        "6e762cad6a614f0dafb0a68f5cfb0d64": {
          "model_module": "@jupyter-widgets/controls",
          "model_name": "ProgressStyleModel",
          "model_module_version": "1.5.0",
          "state": {
            "_model_module": "@jupyter-widgets/controls",
            "_model_module_version": "1.5.0",
            "_model_name": "ProgressStyleModel",
            "_view_count": null,
            "_view_module": "@jupyter-widgets/base",
            "_view_module_version": "1.2.0",
            "_view_name": "StyleView",
            "bar_color": null,
            "description_width": ""
          }
        },
        "7295d4cca36f4e809d4026ae672e9367": {
          "model_module": "@jupyter-widgets/base",
          "model_name": "LayoutModel",
          "model_module_version": "1.2.0",
          "state": {
            "_model_module": "@jupyter-widgets/base",
            "_model_module_version": "1.2.0",
            "_model_name": "LayoutModel",
            "_view_count": null,
            "_view_module": "@jupyter-widgets/base",
            "_view_module_version": "1.2.0",
            "_view_name": "LayoutView",
            "align_content": null,
            "align_items": null,
            "align_self": null,
            "border": null,
            "bottom": null,
            "display": null,
            "flex": null,
            "flex_flow": null,
            "grid_area": null,
            "grid_auto_columns": null,
            "grid_auto_flow": null,
            "grid_auto_rows": null,
            "grid_column": null,
            "grid_gap": null,
            "grid_row": null,
            "grid_template_areas": null,
            "grid_template_columns": null,
            "grid_template_rows": null,
            "height": null,
            "justify_content": null,
            "justify_items": null,
            "left": null,
            "margin": null,
            "max_height": null,
            "max_width": null,
            "min_height": null,
            "min_width": null,
            "object_fit": null,
            "object_position": null,
            "order": null,
            "overflow": null,
            "overflow_x": null,
            "overflow_y": null,
            "padding": null,
            "right": null,
            "top": null,
            "visibility": null,
            "width": null
          }
        },
        "95793042430544bd8e204f369bc92b4b": {
          "model_module": "@jupyter-widgets/controls",
          "model_name": "DescriptionStyleModel",
          "model_module_version": "1.5.0",
          "state": {
            "_model_module": "@jupyter-widgets/controls",
            "_model_module_version": "1.5.0",
            "_model_name": "DescriptionStyleModel",
            "_view_count": null,
            "_view_module": "@jupyter-widgets/base",
            "_view_module_version": "1.2.0",
            "_view_name": "StyleView",
            "description_width": ""
          }
        },
        "8db235ee9790453b9c9e81a2da9f67aa": {
          "model_module": "@jupyter-widgets/controls",
          "model_name": "HBoxModel",
          "model_module_version": "1.5.0",
          "state": {
            "_dom_classes": [],
            "_model_module": "@jupyter-widgets/controls",
            "_model_module_version": "1.5.0",
            "_model_name": "HBoxModel",
            "_view_count": null,
            "_view_module": "@jupyter-widgets/controls",
            "_view_module_version": "1.5.0",
            "_view_name": "HBoxView",
            "box_style": "",
            "children": [
              "IPY_MODEL_e3bbf2b54e314452a7dab352dd86cacb",
              "IPY_MODEL_8bda23d2cc30418891738f5f345f8fca",
              "IPY_MODEL_312e466608d94c6d9042df3efb6a444c"
            ],
            "layout": "IPY_MODEL_9974ed2ab7d84a35bd9e6347c7ddb3ae"
          }
        },
        "e3bbf2b54e314452a7dab352dd86cacb": {
          "model_module": "@jupyter-widgets/controls",
          "model_name": "HTMLModel",
          "model_module_version": "1.5.0",
          "state": {
            "_dom_classes": [],
            "_model_module": "@jupyter-widgets/controls",
            "_model_module_version": "1.5.0",
            "_model_name": "HTMLModel",
            "_view_count": null,
            "_view_module": "@jupyter-widgets/controls",
            "_view_module_version": "1.5.0",
            "_view_name": "HTMLView",
            "description": "",
            "description_tooltip": null,
            "layout": "IPY_MODEL_b4855a0200a44383881ccc06a938dd46",
            "placeholder": "​",
            "style": "IPY_MODEL_ec69e284aa924515845d62ac31ecae29",
            "value": "Downloading: 100%"
          }
        },
        "8bda23d2cc30418891738f5f345f8fca": {
          "model_module": "@jupyter-widgets/controls",
          "model_name": "FloatProgressModel",
          "model_module_version": "1.5.0",
          "state": {
            "_dom_classes": [],
            "_model_module": "@jupyter-widgets/controls",
            "_model_module_version": "1.5.0",
            "_model_name": "FloatProgressModel",
            "_view_count": null,
            "_view_module": "@jupyter-widgets/controls",
            "_view_module_version": "1.5.0",
            "_view_name": "ProgressView",
            "bar_style": "success",
            "description": "",
            "description_tooltip": null,
            "layout": "IPY_MODEL_057dd1858f714c39acbafb87abab0dab",
            "max": 570,
            "min": 0,
            "orientation": "horizontal",
            "style": "IPY_MODEL_1ebed89e6bbd4435ba35ef74e3397e65",
            "value": 570
          }
        },
        "312e466608d94c6d9042df3efb6a444c": {
          "model_module": "@jupyter-widgets/controls",
          "model_name": "HTMLModel",
          "model_module_version": "1.5.0",
          "state": {
            "_dom_classes": [],
            "_model_module": "@jupyter-widgets/controls",
            "_model_module_version": "1.5.0",
            "_model_name": "HTMLModel",
            "_view_count": null,
            "_view_module": "@jupyter-widgets/controls",
            "_view_module_version": "1.5.0",
            "_view_name": "HTMLView",
            "description": "",
            "description_tooltip": null,
            "layout": "IPY_MODEL_ce6b10982d7a462f813dc2e6d17814f7",
            "placeholder": "​",
            "style": "IPY_MODEL_1d2a50be6a68459a9822099984b89cfb",
            "value": " 570/570 [00:00&lt;00:00, 5.01kB/s]"
          }
        },
        "9974ed2ab7d84a35bd9e6347c7ddb3ae": {
          "model_module": "@jupyter-widgets/base",
          "model_name": "LayoutModel",
          "model_module_version": "1.2.0",
          "state": {
            "_model_module": "@jupyter-widgets/base",
            "_model_module_version": "1.2.0",
            "_model_name": "LayoutModel",
            "_view_count": null,
            "_view_module": "@jupyter-widgets/base",
            "_view_module_version": "1.2.0",
            "_view_name": "LayoutView",
            "align_content": null,
            "align_items": null,
            "align_self": null,
            "border": null,
            "bottom": null,
            "display": null,
            "flex": null,
            "flex_flow": null,
            "grid_area": null,
            "grid_auto_columns": null,
            "grid_auto_flow": null,
            "grid_auto_rows": null,
            "grid_column": null,
            "grid_gap": null,
            "grid_row": null,
            "grid_template_areas": null,
            "grid_template_columns": null,
            "grid_template_rows": null,
            "height": null,
            "justify_content": null,
            "justify_items": null,
            "left": null,
            "margin": null,
            "max_height": null,
            "max_width": null,
            "min_height": null,
            "min_width": null,
            "object_fit": null,
            "object_position": null,
            "order": null,
            "overflow": null,
            "overflow_x": null,
            "overflow_y": null,
            "padding": null,
            "right": null,
            "top": null,
            "visibility": null,
            "width": null
          }
        },
        "b4855a0200a44383881ccc06a938dd46": {
          "model_module": "@jupyter-widgets/base",
          "model_name": "LayoutModel",
          "model_module_version": "1.2.0",
          "state": {
            "_model_module": "@jupyter-widgets/base",
            "_model_module_version": "1.2.0",
            "_model_name": "LayoutModel",
            "_view_count": null,
            "_view_module": "@jupyter-widgets/base",
            "_view_module_version": "1.2.0",
            "_view_name": "LayoutView",
            "align_content": null,
            "align_items": null,
            "align_self": null,
            "border": null,
            "bottom": null,
            "display": null,
            "flex": null,
            "flex_flow": null,
            "grid_area": null,
            "grid_auto_columns": null,
            "grid_auto_flow": null,
            "grid_auto_rows": null,
            "grid_column": null,
            "grid_gap": null,
            "grid_row": null,
            "grid_template_areas": null,
            "grid_template_columns": null,
            "grid_template_rows": null,
            "height": null,
            "justify_content": null,
            "justify_items": null,
            "left": null,
            "margin": null,
            "max_height": null,
            "max_width": null,
            "min_height": null,
            "min_width": null,
            "object_fit": null,
            "object_position": null,
            "order": null,
            "overflow": null,
            "overflow_x": null,
            "overflow_y": null,
            "padding": null,
            "right": null,
            "top": null,
            "visibility": null,
            "width": null
          }
        },
        "ec69e284aa924515845d62ac31ecae29": {
          "model_module": "@jupyter-widgets/controls",
          "model_name": "DescriptionStyleModel",
          "model_module_version": "1.5.0",
          "state": {
            "_model_module": "@jupyter-widgets/controls",
            "_model_module_version": "1.5.0",
            "_model_name": "DescriptionStyleModel",
            "_view_count": null,
            "_view_module": "@jupyter-widgets/base",
            "_view_module_version": "1.2.0",
            "_view_name": "StyleView",
            "description_width": ""
          }
        },
        "057dd1858f714c39acbafb87abab0dab": {
          "model_module": "@jupyter-widgets/base",
          "model_name": "LayoutModel",
          "model_module_version": "1.2.0",
          "state": {
            "_model_module": "@jupyter-widgets/base",
            "_model_module_version": "1.2.0",
            "_model_name": "LayoutModel",
            "_view_count": null,
            "_view_module": "@jupyter-widgets/base",
            "_view_module_version": "1.2.0",
            "_view_name": "LayoutView",
            "align_content": null,
            "align_items": null,
            "align_self": null,
            "border": null,
            "bottom": null,
            "display": null,
            "flex": null,
            "flex_flow": null,
            "grid_area": null,
            "grid_auto_columns": null,
            "grid_auto_flow": null,
            "grid_auto_rows": null,
            "grid_column": null,
            "grid_gap": null,
            "grid_row": null,
            "grid_template_areas": null,
            "grid_template_columns": null,
            "grid_template_rows": null,
            "height": null,
            "justify_content": null,
            "justify_items": null,
            "left": null,
            "margin": null,
            "max_height": null,
            "max_width": null,
            "min_height": null,
            "min_width": null,
            "object_fit": null,
            "object_position": null,
            "order": null,
            "overflow": null,
            "overflow_x": null,
            "overflow_y": null,
            "padding": null,
            "right": null,
            "top": null,
            "visibility": null,
            "width": null
          }
        },
        "1ebed89e6bbd4435ba35ef74e3397e65": {
          "model_module": "@jupyter-widgets/controls",
          "model_name": "ProgressStyleModel",
          "model_module_version": "1.5.0",
          "state": {
            "_model_module": "@jupyter-widgets/controls",
            "_model_module_version": "1.5.0",
            "_model_name": "ProgressStyleModel",
            "_view_count": null,
            "_view_module": "@jupyter-widgets/base",
            "_view_module_version": "1.2.0",
            "_view_name": "StyleView",
            "bar_color": null,
            "description_width": ""
          }
        },
        "ce6b10982d7a462f813dc2e6d17814f7": {
          "model_module": "@jupyter-widgets/base",
          "model_name": "LayoutModel",
          "model_module_version": "1.2.0",
          "state": {
            "_model_module": "@jupyter-widgets/base",
            "_model_module_version": "1.2.0",
            "_model_name": "LayoutModel",
            "_view_count": null,
            "_view_module": "@jupyter-widgets/base",
            "_view_module_version": "1.2.0",
            "_view_name": "LayoutView",
            "align_content": null,
            "align_items": null,
            "align_self": null,
            "border": null,
            "bottom": null,
            "display": null,
            "flex": null,
            "flex_flow": null,
            "grid_area": null,
            "grid_auto_columns": null,
            "grid_auto_flow": null,
            "grid_auto_rows": null,
            "grid_column": null,
            "grid_gap": null,
            "grid_row": null,
            "grid_template_areas": null,
            "grid_template_columns": null,
            "grid_template_rows": null,
            "height": null,
            "justify_content": null,
            "justify_items": null,
            "left": null,
            "margin": null,
            "max_height": null,
            "max_width": null,
            "min_height": null,
            "min_width": null,
            "object_fit": null,
            "object_position": null,
            "order": null,
            "overflow": null,
            "overflow_x": null,
            "overflow_y": null,
            "padding": null,
            "right": null,
            "top": null,
            "visibility": null,
            "width": null
          }
        },
        "1d2a50be6a68459a9822099984b89cfb": {
          "model_module": "@jupyter-widgets/controls",
          "model_name": "DescriptionStyleModel",
          "model_module_version": "1.5.0",
          "state": {
            "_model_module": "@jupyter-widgets/controls",
            "_model_module_version": "1.5.0",
            "_model_name": "DescriptionStyleModel",
            "_view_count": null,
            "_view_module": "@jupyter-widgets/base",
            "_view_module_version": "1.2.0",
            "_view_name": "StyleView",
            "description_width": ""
          }
        }
      }
    }
  },
  "cells": [
    {
      "cell_type": "markdown",
      "metadata": {
        "id": "view-in-github",
        "colab_type": "text"
      },
      "source": [
        "<a href=\"https://colab.research.google.com/github/Babitha23/Cyberbullying-detection/blob/main/Bert%20word%20embeddings.ipynb\" target=\"_parent\"><img src=\"https://colab.research.google.com/assets/colab-badge.svg\" alt=\"Open In Colab\"/></a>"
      ]
    },
    {
      "cell_type": "code",
      "execution_count": 2,
      "metadata": {
        "colab": {
          "base_uri": "https://localhost:8080/"
        },
        "id": "9uOdy4kNzPig",
        "outputId": "0877a663-2085-40a1-edf3-35ca02be2197"
      },
      "outputs": [
        {
          "output_type": "stream",
          "name": "stdout",
          "text": [
            "No GPU available, using the CPU instead.\n"
          ]
        }
      ],
      "source": [
        "import torch\n",
        "if torch.cuda.is_available():       \n",
        "    device = torch.device(\"cuda\")\n",
        "    print(f'There are {torch.cuda.device_count()} GPU(s) available.')\n",
        "    print('Device name:', torch.cuda.get_device_name(0))\n",
        "\n",
        "else:\n",
        "    print('No GPU available, using the CPU instead.')\n",
        "    device = torch.device(\"cpu\")"
      ]
    },
    {
      "cell_type": "code",
      "source": [
        "!pip install wordcloud\n",
        "import os\n",
        "import re\n",
        "from tqdm import tqdm\n",
        "import numpy as np\n",
        "import pandas as pd\n",
        "import matplotlib.pyplot as plt\n",
        "from wordcloud import WordCloud\n",
        "from google.colab import drive\n",
        "%matplotlib inline\n",
        "import re\n",
        "from collections import Counter\n",
        "import nltk\n",
        "from nltk.corpus import wordnet\n",
        "from nltk.corpus import stopwords\n",
        "from nltk.stem import WordNetLemmatizer\n",
        "from nltk.stem.porter import PorterStemmer"
      ],
      "metadata": {
        "id": "bPeW6eOczbqt",
        "colab": {
          "base_uri": "https://localhost:8080/"
        },
        "outputId": "961e4f17-4a9f-45a0-c178-2cead7f5fbd4"
      },
      "execution_count": 3,
      "outputs": [
        {
          "output_type": "stream",
          "name": "stdout",
          "text": [
            "Looking in indexes: https://pypi.org/simple, https://us-python.pkg.dev/colab-wheels/public/simple/\n",
            "Requirement already satisfied: wordcloud in /usr/local/lib/python3.7/dist-packages (1.8.2.2)\n",
            "Requirement already satisfied: numpy>=1.6.1 in /usr/local/lib/python3.7/dist-packages (from wordcloud) (1.21.6)\n",
            "Requirement already satisfied: pillow in /usr/local/lib/python3.7/dist-packages (from wordcloud) (7.1.2)\n",
            "Requirement already satisfied: matplotlib in /usr/local/lib/python3.7/dist-packages (from wordcloud) (3.2.2)\n",
            "Requirement already satisfied: kiwisolver>=1.0.1 in /usr/local/lib/python3.7/dist-packages (from matplotlib->wordcloud) (1.4.4)\n",
            "Requirement already satisfied: pyparsing!=2.0.4,!=2.1.2,!=2.1.6,>=2.0.1 in /usr/local/lib/python3.7/dist-packages (from matplotlib->wordcloud) (3.0.9)\n",
            "Requirement already satisfied: cycler>=0.10 in /usr/local/lib/python3.7/dist-packages (from matplotlib->wordcloud) (0.11.0)\n",
            "Requirement already satisfied: python-dateutil>=2.1 in /usr/local/lib/python3.7/dist-packages (from matplotlib->wordcloud) (2.8.2)\n",
            "Requirement already satisfied: typing-extensions in /usr/local/lib/python3.7/dist-packages (from kiwisolver>=1.0.1->matplotlib->wordcloud) (4.1.1)\n",
            "Requirement already satisfied: six>=1.5 in /usr/local/lib/python3.7/dist-packages (from python-dateutil>=2.1->matplotlib->wordcloud) (1.15.0)\n"
          ]
        }
      ]
    },
    {
      "cell_type": "code",
      "source": [
        "from google.colab import drive\n",
        "# Connect to google drive\n",
        "drive.mount('/content/gdrive')\n",
        "\n",
        "# Load data and set labels\n",
        "data = pd.read_csv('gdrive/My Drive/Dissertation/final.csv', index_col='_unit_id')"
      ],
      "metadata": {
        "colab": {
          "base_uri": "https://localhost:8080/"
        },
        "id": "cIfZwpPjz2ay",
        "outputId": "77a40b57-0921-4093-93d1-bdfdcea54a0c"
      },
      "execution_count": 4,
      "outputs": [
        {
          "output_type": "stream",
          "name": "stdout",
          "text": [
            "Mounted at /content/gdrive\n"
          ]
        }
      ]
    },
    {
      "cell_type": "code",
      "source": [
        "sample = data.iloc[0:5,:]"
      ],
      "metadata": {
        "id": "riPxWO690CUT"
      },
      "execution_count": 5,
      "outputs": []
    },
    {
      "cell_type": "code",
      "source": [
        "def cleancomments(text):\n",
        "    tt = re.sub('\\(created.at:\\d\\d\\d\\d-\\d\\d-\\d\\d \\d\\d:\\d\\d:\\d\\d\\)', '', str(text)) #replacing comment time\n",
        "    tt1 = re.sub('<font color\\=\\\"\\#0066CC\\\"\\>.*?\\<\\/font>', '', str(tt)) # removing html tags with username\n",
        "    tt2 = re.sub('@[^\\s]+', '', str(tt1)) #removing user tag\n",
        "    #Remove unicode strings like \"\\u002c\" and \"x96\"\n",
        "    tmp = re.sub(r'(\\\\u[0-9A-Fa-f]+)',r'', tt2) \n",
        "    temp = re.sub(r'[^\\x00-\\x7f]',r'',tmp)\n",
        "    #removing url\n",
        "    temp1 = re.sub('((www\\.[^\\s]+)|(https?://[^\\s]+))','url',temp)\n",
        "    temp2 = re.sub(r'#([^\\s]+)', r'\\1', temp1) # removing hashtags\n",
        "    #removing emoticons\n",
        "    temp3 = re.sub(':\\)|;\\)|:-\\)|<3|\\(-:|:-D|=D|:P|xD|X-p|\\^\\^|:-*|\\^\\.\\^|\\^\\-\\^|\\^\\_\\^|\\,-\\)|\\)-:|:\\'\\(|:\\(|:-\\(|:\\S|T\\.T|\\.\\_\\.|:<|:-\\S|:-<|\\*\\-\\*|:O|=O|=\\-O|O\\.o|XO|O\\_O|:-\\@|=/|:/|X\\-\\(|>\\.<|>=\\(|D:', '', temp2)\n",
        "    temp4 = ''.join([i for i in temp3 if not i.isdigit()]) #removing numbers\n",
        "    temp5 = re.sub(r\"( ?\\.)\\1+\", '.', temp4) #replacing multiple . with single .\n",
        "    temp6 = re.sub(r\"( ?\\!)+\", '!', temp5) #replacing multiple ! with single !\n",
        "    temp7 = re.sub(r\"( ?\\?)+\", '?', temp6) #replacing multiple ? with single ?\n",
        "    #temp8 = re.sub(r\"(\\_)+\", '', temp7)\n",
        "    temp8 = ' '.join( [w for w in temp7.split() if len(w)>1]) #removing single characters\n",
        "    temp9 = re.sub(' +', ' ', temp8) #removing additional whitespaces\n",
        "    return temp9"
      ],
      "metadata": {
        "id": "OCmX0MVK-wc8"
      },
      "execution_count": 6,
      "outputs": []
    },
    {
      "cell_type": "code",
      "source": [
        "for i in range(len(sample)):\n",
        "  sample['owner_cmnt'] = data['owner_cmnt'].apply(lambda x: cleancomments(x))"
      ],
      "metadata": {
        "id": "oBQQQ27m-z4L",
        "colab": {
          "base_uri": "https://localhost:8080/"
        },
        "outputId": "9063c7ad-2e1b-4495-ffbb-0c5c2570ecab"
      },
      "execution_count": 7,
      "outputs": [
        {
          "output_type": "stream",
          "name": "stderr",
          "text": [
            "/usr/local/lib/python3.7/dist-packages/ipykernel_launcher.py:2: SettingWithCopyWarning: \n",
            "A value is trying to be set on a copy of a slice from a DataFrame.\n",
            "Try using .loc[row_indexer,col_indexer] = value instead\n",
            "\n",
            "See the caveats in the documentation: https://pandas.pydata.org/pandas-docs/stable/user_guide/indexing.html#returning-a-view-versus-a-copy\n",
            "  \n"
          ]
        }
      ]
    },
    {
      "cell_type": "code",
      "source": [
        "sample.columns"
      ],
      "metadata": {
        "colab": {
          "base_uri": "https://localhost:8080/"
        },
        "id": "wDYxmn4O0gdA",
        "outputId": "6d01da4b-7022-4580-b435-63d725458250"
      },
      "execution_count": 8,
      "outputs": [
        {
          "output_type": "execute_result",
          "data": {
            "text/plain": [
              "Index(['question1', 'question2', 'clmn1', 'clmn10', 'clmn100', 'clmn101',\n",
              "       'clmn102', 'clmn103', 'clmn104', 'clmn105',\n",
              "       ...\n",
              "       'clmn95', 'clmn96', 'clmn97', 'clmn98', 'clmn99', 'likes', 'owner_cmnt',\n",
              "       'shared media', 'followed_by', 'follows'],\n",
              "      dtype='object', length=202)"
            ]
          },
          "metadata": {},
          "execution_count": 8
        }
      ]
    },
    {
      "cell_type": "code",
      "source": [
        "sample = sample.drop(['likes','shared media', 'followed_by', 'follows'], axis=1)"
      ],
      "metadata": {
        "id": "F3XGNL_T0kSc"
      },
      "execution_count": 9,
      "outputs": []
    },
    {
      "cell_type": "code",
      "source": [
        "def replaceElongated(word):\n",
        "    \"\"\" Replaces an elongated word with its basic form, unless the word exists in the lexicon \"\"\"\n",
        "\n",
        "    repeat_regexp = re.compile(r'(\\w*)(\\w)\\2(\\w*)')\n",
        "    repl = r'\\1\\2\\3'\n",
        "    if wordnet.synsets(str(word)):\n",
        "        return word\n",
        "    repl_word = repeat_regexp.sub(repl, word)\n",
        "    if repl_word != word:      \n",
        "        return replaceElongated(repl_word)\n",
        "    else:       \n",
        "        return repl_word"
      ],
      "metadata": {
        "id": "BPItflU909Hi"
      },
      "execution_count": 10,
      "outputs": []
    },
    {
      "cell_type": "code",
      "source": [
        "import string\n",
        "def removepunct(txt):\n",
        "  remove = string.punctuation\n",
        "  remove = remove.replace(\".\", \"\") # don't remove dot\n",
        "  remove = remove.replace(\"!\", \"\") # don't remove !\n",
        "  remove = remove.replace(\"?\", \"\") # don't remove ?\n",
        "  pattern = r\"[{}]\".format(remove) # create the pattern\n",
        "  text = re.sub(pattern, \"\", txt)\n",
        "  return text"
      ],
      "metadata": {
        "id": "ld1xKIxoj0XF"
      },
      "execution_count": 11,
      "outputs": []
    },
    {
      "cell_type": "code",
      "source": [
        "for col in sample.columns[2:]:\n",
        "  for i in range(len(sample)):\n",
        "    sample[col] = sample[col].apply(lambda x: removepunct(str(x)))"
      ],
      "metadata": {
        "id": "O1SLr2xYj7iY"
      },
      "execution_count": 12,
      "outputs": []
    },
    {
      "cell_type": "code",
      "source": [
        "# for col in sample.columns[2:]:\n",
        "#   for i in range(len(sample)):\n",
        "#     sample[col] = sample[col].apply(lambda x: replaceElongated(str.split(x)))"
      ],
      "metadata": {
        "id": "F9oVH1gvkm2d"
      },
      "execution_count": 13,
      "outputs": []
    },
    {
      "cell_type": "code",
      "source": [
        "sample.loc[702714442,'clmn94']"
      ],
      "metadata": {
        "colab": {
          "base_uri": "https://localhost:8080/",
          "height": 36
        },
        "id": "Jg3-CDxv9_F6",
        "outputId": "856e4803-354d-4abd-88a8-e3c0a1da7cc7"
      },
      "execution_count": 14,
      "outputs": [
        {
          "output_type": "execute_result",
          "data": {
            "text/plain": [
              "'Gemma sua lindaaaaa'"
            ],
            "application/vnd.google.colaboratory.intrinsic+json": {
              "type": "string"
            }
          },
          "metadata": {},
          "execution_count": 14
        }
      ]
    },
    {
      "cell_type": "code",
      "source": [
        "import nltk\n",
        "nltk.download('wordnet')\n",
        "nltk.download('omw-1.4')"
      ],
      "metadata": {
        "colab": {
          "base_uri": "https://localhost:8080/"
        },
        "id": "gahTfgXIBodA",
        "outputId": "cc38f776-c197-4332-fd06-ed484b58d967"
      },
      "execution_count": 15,
      "outputs": [
        {
          "output_type": "stream",
          "name": "stderr",
          "text": [
            "[nltk_data] Downloading package wordnet to /root/nltk_data...\n",
            "[nltk_data] Downloading package omw-1.4 to /root/nltk_data...\n"
          ]
        },
        {
          "output_type": "execute_result",
          "data": {
            "text/plain": [
              "True"
            ]
          },
          "metadata": {},
          "execution_count": 15
        }
      ]
    },
    {
      "cell_type": "code",
      "source": [
        "# for col in range(2,197):\n",
        "#   for i in range(5):\n",
        "#     if sample.iloc[i,col] is not np.NaN:\n",
        "#       sent_l = sample.iloc[i,col].split()\n",
        "#       for word in sent_l:\n",
        "#         sample_df = sample.apply(lambda x: x.replace(regex=word, value=replaceElongated(word)))"
      ],
      "metadata": {
        "id": "KufjfIge1LkI"
      },
      "execution_count": 16,
      "outputs": []
    },
    {
      "cell_type": "code",
      "source": [
        "!pip install transformers"
      ],
      "metadata": {
        "id": "tPrWYXQwC9hV",
        "colab": {
          "base_uri": "https://localhost:8080/"
        },
        "outputId": "1ba081a2-6802-4f85-838a-08416f063009"
      },
      "execution_count": 17,
      "outputs": [
        {
          "output_type": "stream",
          "name": "stdout",
          "text": [
            "Looking in indexes: https://pypi.org/simple, https://us-python.pkg.dev/colab-wheels/public/simple/\n",
            "Collecting transformers\n",
            "  Downloading transformers-4.24.0-py3-none-any.whl (5.5 MB)\n",
            "\u001b[K     |████████████████████████████████| 5.5 MB 4.2 MB/s \n",
            "\u001b[?25hRequirement already satisfied: requests in /usr/local/lib/python3.7/dist-packages (from transformers) (2.23.0)\n",
            "Requirement already satisfied: importlib-metadata in /usr/local/lib/python3.7/dist-packages (from transformers) (4.13.0)\n",
            "Requirement already satisfied: packaging>=20.0 in /usr/local/lib/python3.7/dist-packages (from transformers) (21.3)\n",
            "Collecting tokenizers!=0.11.3,<0.14,>=0.11.1\n",
            "  Downloading tokenizers-0.13.2-cp37-cp37m-manylinux_2_17_x86_64.manylinux2014_x86_64.whl (7.6 MB)\n",
            "\u001b[K     |████████████████████████████████| 7.6 MB 39.1 MB/s \n",
            "\u001b[?25hRequirement already satisfied: pyyaml>=5.1 in /usr/local/lib/python3.7/dist-packages (from transformers) (6.0)\n",
            "Requirement already satisfied: numpy>=1.17 in /usr/local/lib/python3.7/dist-packages (from transformers) (1.21.6)\n",
            "Requirement already satisfied: regex!=2019.12.17 in /usr/local/lib/python3.7/dist-packages (from transformers) (2022.6.2)\n",
            "Requirement already satisfied: filelock in /usr/local/lib/python3.7/dist-packages (from transformers) (3.8.0)\n",
            "Collecting huggingface-hub<1.0,>=0.10.0\n",
            "  Downloading huggingface_hub-0.11.0-py3-none-any.whl (182 kB)\n",
            "\u001b[K     |████████████████████████████████| 182 kB 49.5 MB/s \n",
            "\u001b[?25hRequirement already satisfied: tqdm>=4.27 in /usr/local/lib/python3.7/dist-packages (from transformers) (4.64.1)\n",
            "Requirement already satisfied: typing-extensions>=3.7.4.3 in /usr/local/lib/python3.7/dist-packages (from huggingface-hub<1.0,>=0.10.0->transformers) (4.1.1)\n",
            "Requirement already satisfied: pyparsing!=3.0.5,>=2.0.2 in /usr/local/lib/python3.7/dist-packages (from packaging>=20.0->transformers) (3.0.9)\n",
            "Requirement already satisfied: zipp>=0.5 in /usr/local/lib/python3.7/dist-packages (from importlib-metadata->transformers) (3.10.0)\n",
            "Requirement already satisfied: idna<3,>=2.5 in /usr/local/lib/python3.7/dist-packages (from requests->transformers) (2.10)\n",
            "Requirement already satisfied: chardet<4,>=3.0.2 in /usr/local/lib/python3.7/dist-packages (from requests->transformers) (3.0.4)\n",
            "Requirement already satisfied: urllib3!=1.25.0,!=1.25.1,<1.26,>=1.21.1 in /usr/local/lib/python3.7/dist-packages (from requests->transformers) (1.24.3)\n",
            "Requirement already satisfied: certifi>=2017.4.17 in /usr/local/lib/python3.7/dist-packages (from requests->transformers) (2022.9.24)\n",
            "Installing collected packages: tokenizers, huggingface-hub, transformers\n",
            "Successfully installed huggingface-hub-0.11.0 tokenizers-0.13.2 transformers-4.24.0\n"
          ]
        }
      ]
    },
    {
      "cell_type": "code",
      "source": [
        "import torch\n",
        "from transformers import BertTokenizer, BertModel\n",
        "\n",
        "import logging\n",
        "logging.basicConfig(level=logging.INFO)\n",
        "\n",
        "import matplotlib.pyplot as plt\n",
        "%matplotlib inline"
      ],
      "metadata": {
        "id": "U8arfWT7DHgm"
      },
      "execution_count": 18,
      "outputs": []
    },
    {
      "cell_type": "code",
      "source": [
        "# Load pre-trained model tokenizer (vocabulary)\n",
        "print('Loading BERT tokenizer...')\n",
        "tokenizer = BertTokenizer.from_pretrained('bert-base-uncased', do_lower_case=True)"
      ],
      "metadata": {
        "colab": {
          "base_uri": "https://localhost:8080/",
          "height": 130,
          "referenced_widgets": [
            "d2b85a1b40ff4b43be2c62e0c54fdca7",
            "57636467752d4b49ad18238ba56bf2db",
            "68e9613fbb49468e84566f3f96d74a75",
            "334416ea23e34ccc8f0ba77bf3ad37d3",
            "a3c2cf4681454b72a7e1dbedc2d06bff",
            "9bb074ebf7d144a39b18227b0c25a60c",
            "cc83b62dfa4147e589470776e7fbb77d",
            "f214cf49688b45e4bd63390b1e4f9060",
            "56314541f28846fe81f674a2cc0c0abf",
            "2c10a9ec8e2a4fe4af4dd35928dae6ee",
            "69b0820853e549b49da5ab6e2490b9be",
            "763927ba2bf74b5ba40b4fa1270c3696",
            "7abe9780a2e840128f2e3f8962aec0a7",
            "7778d46143b14627bfcb5df96d98b977",
            "e737783f2e1f4b0eb15923feedc8767c",
            "e17681b6c8bb40f1b85df23d4529c129",
            "acc56addab91409f8a6e6b5eace27de0",
            "6d5f6337f3a54479b445764a9f2a0e27",
            "57ff6a0b35a34573868d321ff5d49279",
            "6e762cad6a614f0dafb0a68f5cfb0d64",
            "7295d4cca36f4e809d4026ae672e9367",
            "95793042430544bd8e204f369bc92b4b",
            "8db235ee9790453b9c9e81a2da9f67aa",
            "e3bbf2b54e314452a7dab352dd86cacb",
            "8bda23d2cc30418891738f5f345f8fca",
            "312e466608d94c6d9042df3efb6a444c",
            "9974ed2ab7d84a35bd9e6347c7ddb3ae",
            "b4855a0200a44383881ccc06a938dd46",
            "ec69e284aa924515845d62ac31ecae29",
            "057dd1858f714c39acbafb87abab0dab",
            "1ebed89e6bbd4435ba35ef74e3397e65",
            "ce6b10982d7a462f813dc2e6d17814f7",
            "1d2a50be6a68459a9822099984b89cfb"
          ]
        },
        "id": "a7oqBgT1DLI9",
        "outputId": "224bae52-c163-4602-b500-e677b55a3b2f"
      },
      "execution_count": 19,
      "outputs": [
        {
          "output_type": "stream",
          "name": "stdout",
          "text": [
            "Loading BERT tokenizer...\n"
          ]
        },
        {
          "output_type": "display_data",
          "data": {
            "text/plain": [
              "Downloading:   0%|          | 0.00/232k [00:00<?, ?B/s]"
            ],
            "application/vnd.jupyter.widget-view+json": {
              "version_major": 2,
              "version_minor": 0,
              "model_id": "d2b85a1b40ff4b43be2c62e0c54fdca7"
            }
          },
          "metadata": {}
        },
        {
          "output_type": "display_data",
          "data": {
            "text/plain": [
              "Downloading:   0%|          | 0.00/28.0 [00:00<?, ?B/s]"
            ],
            "application/vnd.jupyter.widget-view+json": {
              "version_major": 2,
              "version_minor": 0,
              "model_id": "763927ba2bf74b5ba40b4fa1270c3696"
            }
          },
          "metadata": {}
        },
        {
          "output_type": "display_data",
          "data": {
            "text/plain": [
              "Downloading:   0%|          | 0.00/570 [00:00<?, ?B/s]"
            ],
            "application/vnd.jupyter.widget-view+json": {
              "version_major": 2,
              "version_minor": 0,
              "model_id": "8db235ee9790453b9c9e81a2da9f67aa"
            }
          },
          "metadata": {}
        }
      ]
    },
    {
      "cell_type": "code",
      "source": [
        "model = BertModel.from_pretrained('bert-base-uncased',output_hidden_states = True) # Whether the model returns all hidden-states.\n",
        "# Put the model in \"evaluation\" mode,meaning feed-forward operation.\n",
        "model.eval()"
      ],
      "metadata": {
        "id": "GzO5WWtgDOI_"
      },
      "execution_count": null,
      "outputs": []
    },
    {
      "cell_type": "code",
      "source": [
        "def tokenize(sentence, seg_id):\n",
        "  # Add the special tokens.\n",
        "  marked_text = \"[CLS] \" + sentence + \" [SEP]\"\n",
        "  # Split the sentence into tokens.\n",
        "  tokenized_text = tokenizer.tokenize(marked_text)\n",
        "  # Map the token strings to their vocabulary indices.\n",
        "  indexed_tokens = tokenizer.convert_tokens_to_ids(tokenized_text)\n",
        "  # Mark each of the tokens as belonging to sentence \"seg_id\".\n",
        "  segments_ids = [seg_id] * len(tokenized_text)\n",
        "  # Convert inputs to PyTorch tensors\n",
        "  tokens_tensor = torch.tensor([indexed_tokens])\n",
        "  segments_tensors = torch.tensor([segments_ids])\n",
        "  return {'tokens_tensor':tokens_tensor, 'segments_tensors': segments_tensors}"
      ],
      "metadata": {
        "id": "_qulQlaPDg1H"
      },
      "execution_count": 21,
      "outputs": []
    },
    {
      "cell_type": "code",
      "source": [
        "#copying only the structure of sample dataframe\n",
        "sample_c = pd.DataFrame().reindex_like(sample)"
      ],
      "metadata": {
        "id": "wAKzraXYh_gx"
      },
      "execution_count": 22,
      "outputs": []
    },
    {
      "cell_type": "code",
      "source": [
        "s = sample.replace('nan', 'a')\n",
        "sentences = s.drop(['question1','question2'], axis=1).to_numpy()\n",
        "sentences[0][1]"
      ],
      "metadata": {
        "id": "zQREsQVm5qWh",
        "colab": {
          "base_uri": "https://localhost:8080/",
          "height": 36
        },
        "outputId": "377423cb-44f3-4c85-9fc2-03a73342d3d0"
      },
      "execution_count": 23,
      "outputs": [
        {
          "output_type": "execute_result",
          "data": {
            "text/plain": [
              "'larry'"
            ],
            "application/vnd.google.colaboratory.intrinsic+json": {
              "type": "string"
            }
          },
          "metadata": {},
          "execution_count": 23
        }
      ]
    },
    {
      "cell_type": "code",
      "source": [
        "def embed(sentence):\n",
        "  a=0\n",
        "  tempdict = tokenize(sentence, a)\n",
        "  with torch.no_grad():\n",
        "    outputs = model(tempdict['tokens_tensor'], tempdict['segments_tensors'])\n",
        "    # Evaluating the model will return a different number of objects based on \n",
        "    # how it's  configured in the `from_pretrained` call earlier. In this case, \n",
        "    # becase we set `output_hidden_states = True`, the third item will be the \n",
        "    # hidden states from all layers. See the documentation for more details:\n",
        "    # https://huggingface.co/transformers/model_doc/bert.html#bertmodel\n",
        "    hidden_states = outputs[2]\n",
        "    token_embeddings = torch.stack(hidden_states, dim=0)\n",
        "    token_embeddings = torch.squeeze(token_embeddings, dim=1)\n",
        "    token_embeddings = token_embeddings.permute(1,0,2)\n",
        "  a+=1\n",
        "  return token_embeddings"
      ],
      "metadata": {
        "id": "P-qbGEJ-F3X0"
      },
      "execution_count": 24,
      "outputs": []
    },
    {
      "cell_type": "code",
      "source": [
        "sample.columns[3:]"
      ],
      "metadata": {
        "colab": {
          "base_uri": "https://localhost:8080/"
        },
        "id": "hIFy_w6wCgkS",
        "outputId": "e233003c-a623-4352-956f-82f292f2fd55"
      },
      "execution_count": 25,
      "outputs": [
        {
          "output_type": "execute_result",
          "data": {
            "text/plain": [
              "Index(['clmn10', 'clmn100', 'clmn101', 'clmn102', 'clmn103', 'clmn104',\n",
              "       'clmn105', 'clmn106', 'clmn107', 'clmn108',\n",
              "       ...\n",
              "       'clmn91', 'clmn92', 'clmn93', 'clmn94', 'clmn95', 'clmn96', 'clmn97',\n",
              "       'clmn98', 'clmn99', 'owner_cmnt'],\n",
              "      dtype='object', length=195)"
            ]
          },
          "metadata": {},
          "execution_count": 25
        }
      ]
    },
    {
      "cell_type": "code",
      "source": [
        "# embedding = {}\n",
        "# for i in range(len(sentences)):\n",
        "#   for j in range(len(sentences[i])):\n",
        "#     embedding[sentences[i][j]] = embed(sentences[i][j])\n",
        "\n",
        "for col in sample.columns[2:]:\n",
        "  sample[col] = sample[col].apply(lambda x: embed(x))"
      ],
      "metadata": {
        "id": "9b7n7a1zA_s1"
      },
      "execution_count": 26,
      "outputs": []
    },
    {
      "cell_type": "code",
      "source": [
        "sample.iloc[0,2].size() #[number of tokens, 13 layers, 768 features]"
      ],
      "metadata": {
        "colab": {
          "base_uri": "https://localhost:8080/"
        },
        "id": "p1aPOczcB8hv",
        "outputId": "a3db6d25-a64c-409b-f341-b0f8328008fa"
      },
      "execution_count": 27,
      "outputs": [
        {
          "output_type": "execute_result",
          "data": {
            "text/plain": [
              "torch.Size([6, 13, 768])"
            ]
          },
          "metadata": {},
          "execution_count": 27
        }
      ]
    },
    {
      "cell_type": "code",
      "source": [
        "sample.sample(2)"
      ],
      "metadata": {
        "colab": {
          "base_uri": "https://localhost:8080/",
          "height": 306
        },
        "id": "v1LEiD55DIq7",
        "outputId": "b63694b0-2f77-4e6d-db92-3a1a57aef6f4"
      },
      "execution_count": 28,
      "outputs": [
        {
          "output_type": "execute_result",
          "data": {
            "text/plain": [
              "            question1 question2  \\\n",
              "_unit_id                          \n",
              "702714442     noneAgg   noneBll   \n",
              "702714443  aggression  bullying   \n",
              "\n",
              "                                                       clmn1  \\\n",
              "_unit_id                                                       \n",
              "702714442  [[[tensor(0.1686), tensor(-0.2858), tensor(-0....   \n",
              "702714443  [[[tensor(0.1686), tensor(-0.2858), tensor(-0....   \n",
              "\n",
              "                                                      clmn10  \\\n",
              "_unit_id                                                       \n",
              "702714442  [[[tensor(0.1686), tensor(-0.2858), tensor(-0....   \n",
              "702714443  [[[tensor(0.1686), tensor(-0.2858), tensor(-0....   \n",
              "\n",
              "                                                     clmn100  \\\n",
              "_unit_id                                                       \n",
              "702714442  [[[tensor(0.1686), tensor(-0.2858), tensor(-0....   \n",
              "702714443  [[[tensor(0.1686), tensor(-0.2858), tensor(-0....   \n",
              "\n",
              "                                                     clmn101  \\\n",
              "_unit_id                                                       \n",
              "702714442  [[[tensor(0.1686), tensor(-0.2858), tensor(-0....   \n",
              "702714443  [[[tensor(0.1686), tensor(-0.2858), tensor(-0....   \n",
              "\n",
              "                                                     clmn102  \\\n",
              "_unit_id                                                       \n",
              "702714442  [[[tensor(0.1686), tensor(-0.2858), tensor(-0....   \n",
              "702714443  [[[tensor(0.1686), tensor(-0.2858), tensor(-0....   \n",
              "\n",
              "                                                     clmn103  \\\n",
              "_unit_id                                                       \n",
              "702714442  [[[tensor(0.1686), tensor(-0.2858), tensor(-0....   \n",
              "702714443  [[[tensor(0.1686), tensor(-0.2858), tensor(-0....   \n",
              "\n",
              "                                                     clmn104  \\\n",
              "_unit_id                                                       \n",
              "702714442  [[[tensor(0.1686), tensor(-0.2858), tensor(-0....   \n",
              "702714443  [[[tensor(0.1686), tensor(-0.2858), tensor(-0....   \n",
              "\n",
              "                                                     clmn105  ...  \\\n",
              "_unit_id                                                      ...   \n",
              "702714442  [[[tensor(0.1686), tensor(-0.2858), tensor(-0....  ...   \n",
              "702714443  [[[tensor(0.1686), tensor(-0.2858), tensor(-0....  ...   \n",
              "\n",
              "                                                      clmn91  \\\n",
              "_unit_id                                                       \n",
              "702714442  [[[tensor(0.1686), tensor(-0.2858), tensor(-0....   \n",
              "702714443  [[[tensor(0.1686), tensor(-0.2858), tensor(-0....   \n",
              "\n",
              "                                                      clmn92  \\\n",
              "_unit_id                                                       \n",
              "702714442  [[[tensor(0.1686), tensor(-0.2858), tensor(-0....   \n",
              "702714443  [[[tensor(0.1686), tensor(-0.2858), tensor(-0....   \n",
              "\n",
              "                                                      clmn93  \\\n",
              "_unit_id                                                       \n",
              "702714442  [[[tensor(0.1686), tensor(-0.2858), tensor(-0....   \n",
              "702714443  [[[tensor(0.1686), tensor(-0.2858), tensor(-0....   \n",
              "\n",
              "                                                      clmn94  \\\n",
              "_unit_id                                                       \n",
              "702714442  [[[tensor(0.1686), tensor(-0.2858), tensor(-0....   \n",
              "702714443  [[[tensor(0.1686), tensor(-0.2858), tensor(-0....   \n",
              "\n",
              "                                                      clmn95  \\\n",
              "_unit_id                                                       \n",
              "702714442  [[[tensor(0.1686), tensor(-0.2858), tensor(-0....   \n",
              "702714443  [[[tensor(0.1686), tensor(-0.2858), tensor(-0....   \n",
              "\n",
              "                                                      clmn96  \\\n",
              "_unit_id                                                       \n",
              "702714442  [[[tensor(0.1686), tensor(-0.2858), tensor(-0....   \n",
              "702714443  [[[tensor(0.1686), tensor(-0.2858), tensor(-0....   \n",
              "\n",
              "                                                      clmn97  \\\n",
              "_unit_id                                                       \n",
              "702714442  [[[tensor(0.1686), tensor(-0.2858), tensor(-0....   \n",
              "702714443  [[[tensor(0.1686), tensor(-0.2858), tensor(-0....   \n",
              "\n",
              "                                                      clmn98  \\\n",
              "_unit_id                                                       \n",
              "702714442  [[[tensor(0.1686), tensor(-0.2858), tensor(-0....   \n",
              "702714443  [[[tensor(0.1686), tensor(-0.2858), tensor(-0....   \n",
              "\n",
              "                                                      clmn99  \\\n",
              "_unit_id                                                       \n",
              "702714442  [[[tensor(0.1686), tensor(-0.2858), tensor(-0....   \n",
              "702714443  [[[tensor(0.1686), tensor(-0.2858), tensor(-0....   \n",
              "\n",
              "                                                  owner_cmnt  \n",
              "_unit_id                                                      \n",
              "702714442  [[[tensor(0.1686), tensor(-0.2858), tensor(-0....  \n",
              "702714443  [[[tensor(0.1686), tensor(-0.2858), tensor(-0....  \n",
              "\n",
              "[2 rows x 198 columns]"
            ],
            "text/html": [
              "\n",
              "  <div id=\"df-ac863489-853b-4700-8041-dd09fbc16747\">\n",
              "    <div class=\"colab-df-container\">\n",
              "      <div>\n",
              "<style scoped>\n",
              "    .dataframe tbody tr th:only-of-type {\n",
              "        vertical-align: middle;\n",
              "    }\n",
              "\n",
              "    .dataframe tbody tr th {\n",
              "        vertical-align: top;\n",
              "    }\n",
              "\n",
              "    .dataframe thead th {\n",
              "        text-align: right;\n",
              "    }\n",
              "</style>\n",
              "<table border=\"1\" class=\"dataframe\">\n",
              "  <thead>\n",
              "    <tr style=\"text-align: right;\">\n",
              "      <th></th>\n",
              "      <th>question1</th>\n",
              "      <th>question2</th>\n",
              "      <th>clmn1</th>\n",
              "      <th>clmn10</th>\n",
              "      <th>clmn100</th>\n",
              "      <th>clmn101</th>\n",
              "      <th>clmn102</th>\n",
              "      <th>clmn103</th>\n",
              "      <th>clmn104</th>\n",
              "      <th>clmn105</th>\n",
              "      <th>...</th>\n",
              "      <th>clmn91</th>\n",
              "      <th>clmn92</th>\n",
              "      <th>clmn93</th>\n",
              "      <th>clmn94</th>\n",
              "      <th>clmn95</th>\n",
              "      <th>clmn96</th>\n",
              "      <th>clmn97</th>\n",
              "      <th>clmn98</th>\n",
              "      <th>clmn99</th>\n",
              "      <th>owner_cmnt</th>\n",
              "    </tr>\n",
              "    <tr>\n",
              "      <th>_unit_id</th>\n",
              "      <th></th>\n",
              "      <th></th>\n",
              "      <th></th>\n",
              "      <th></th>\n",
              "      <th></th>\n",
              "      <th></th>\n",
              "      <th></th>\n",
              "      <th></th>\n",
              "      <th></th>\n",
              "      <th></th>\n",
              "      <th></th>\n",
              "      <th></th>\n",
              "      <th></th>\n",
              "      <th></th>\n",
              "      <th></th>\n",
              "      <th></th>\n",
              "      <th></th>\n",
              "      <th></th>\n",
              "      <th></th>\n",
              "      <th></th>\n",
              "      <th></th>\n",
              "    </tr>\n",
              "  </thead>\n",
              "  <tbody>\n",
              "    <tr>\n",
              "      <th>702714442</th>\n",
              "      <td>noneAgg</td>\n",
              "      <td>noneBll</td>\n",
              "      <td>[[[tensor(0.1686), tensor(-0.2858), tensor(-0....</td>\n",
              "      <td>[[[tensor(0.1686), tensor(-0.2858), tensor(-0....</td>\n",
              "      <td>[[[tensor(0.1686), tensor(-0.2858), tensor(-0....</td>\n",
              "      <td>[[[tensor(0.1686), tensor(-0.2858), tensor(-0....</td>\n",
              "      <td>[[[tensor(0.1686), tensor(-0.2858), tensor(-0....</td>\n",
              "      <td>[[[tensor(0.1686), tensor(-0.2858), tensor(-0....</td>\n",
              "      <td>[[[tensor(0.1686), tensor(-0.2858), tensor(-0....</td>\n",
              "      <td>[[[tensor(0.1686), tensor(-0.2858), tensor(-0....</td>\n",
              "      <td>...</td>\n",
              "      <td>[[[tensor(0.1686), tensor(-0.2858), tensor(-0....</td>\n",
              "      <td>[[[tensor(0.1686), tensor(-0.2858), tensor(-0....</td>\n",
              "      <td>[[[tensor(0.1686), tensor(-0.2858), tensor(-0....</td>\n",
              "      <td>[[[tensor(0.1686), tensor(-0.2858), tensor(-0....</td>\n",
              "      <td>[[[tensor(0.1686), tensor(-0.2858), tensor(-0....</td>\n",
              "      <td>[[[tensor(0.1686), tensor(-0.2858), tensor(-0....</td>\n",
              "      <td>[[[tensor(0.1686), tensor(-0.2858), tensor(-0....</td>\n",
              "      <td>[[[tensor(0.1686), tensor(-0.2858), tensor(-0....</td>\n",
              "      <td>[[[tensor(0.1686), tensor(-0.2858), tensor(-0....</td>\n",
              "      <td>[[[tensor(0.1686), tensor(-0.2858), tensor(-0....</td>\n",
              "    </tr>\n",
              "    <tr>\n",
              "      <th>702714443</th>\n",
              "      <td>aggression</td>\n",
              "      <td>bullying</td>\n",
              "      <td>[[[tensor(0.1686), tensor(-0.2858), tensor(-0....</td>\n",
              "      <td>[[[tensor(0.1686), tensor(-0.2858), tensor(-0....</td>\n",
              "      <td>[[[tensor(0.1686), tensor(-0.2858), tensor(-0....</td>\n",
              "      <td>[[[tensor(0.1686), tensor(-0.2858), tensor(-0....</td>\n",
              "      <td>[[[tensor(0.1686), tensor(-0.2858), tensor(-0....</td>\n",
              "      <td>[[[tensor(0.1686), tensor(-0.2858), tensor(-0....</td>\n",
              "      <td>[[[tensor(0.1686), tensor(-0.2858), tensor(-0....</td>\n",
              "      <td>[[[tensor(0.1686), tensor(-0.2858), tensor(-0....</td>\n",
              "      <td>...</td>\n",
              "      <td>[[[tensor(0.1686), tensor(-0.2858), tensor(-0....</td>\n",
              "      <td>[[[tensor(0.1686), tensor(-0.2858), tensor(-0....</td>\n",
              "      <td>[[[tensor(0.1686), tensor(-0.2858), tensor(-0....</td>\n",
              "      <td>[[[tensor(0.1686), tensor(-0.2858), tensor(-0....</td>\n",
              "      <td>[[[tensor(0.1686), tensor(-0.2858), tensor(-0....</td>\n",
              "      <td>[[[tensor(0.1686), tensor(-0.2858), tensor(-0....</td>\n",
              "      <td>[[[tensor(0.1686), tensor(-0.2858), tensor(-0....</td>\n",
              "      <td>[[[tensor(0.1686), tensor(-0.2858), tensor(-0....</td>\n",
              "      <td>[[[tensor(0.1686), tensor(-0.2858), tensor(-0....</td>\n",
              "      <td>[[[tensor(0.1686), tensor(-0.2858), tensor(-0....</td>\n",
              "    </tr>\n",
              "  </tbody>\n",
              "</table>\n",
              "<p>2 rows × 198 columns</p>\n",
              "</div>\n",
              "      <button class=\"colab-df-convert\" onclick=\"convertToInteractive('df-ac863489-853b-4700-8041-dd09fbc16747')\"\n",
              "              title=\"Convert this dataframe to an interactive table.\"\n",
              "              style=\"display:none;\">\n",
              "        \n",
              "  <svg xmlns=\"http://www.w3.org/2000/svg\" height=\"24px\"viewBox=\"0 0 24 24\"\n",
              "       width=\"24px\">\n",
              "    <path d=\"M0 0h24v24H0V0z\" fill=\"none\"/>\n",
              "    <path d=\"M18.56 5.44l.94 2.06.94-2.06 2.06-.94-2.06-.94-.94-2.06-.94 2.06-2.06.94zm-11 1L8.5 8.5l.94-2.06 2.06-.94-2.06-.94L8.5 2.5l-.94 2.06-2.06.94zm10 10l.94 2.06.94-2.06 2.06-.94-2.06-.94-.94-2.06-.94 2.06-2.06.94z\"/><path d=\"M17.41 7.96l-1.37-1.37c-.4-.4-.92-.59-1.43-.59-.52 0-1.04.2-1.43.59L10.3 9.45l-7.72 7.72c-.78.78-.78 2.05 0 2.83L4 21.41c.39.39.9.59 1.41.59.51 0 1.02-.2 1.41-.59l7.78-7.78 2.81-2.81c.8-.78.8-2.07 0-2.86zM5.41 20L4 18.59l7.72-7.72 1.47 1.35L5.41 20z\"/>\n",
              "  </svg>\n",
              "      </button>\n",
              "      \n",
              "  <style>\n",
              "    .colab-df-container {\n",
              "      display:flex;\n",
              "      flex-wrap:wrap;\n",
              "      gap: 12px;\n",
              "    }\n",
              "\n",
              "    .colab-df-convert {\n",
              "      background-color: #E8F0FE;\n",
              "      border: none;\n",
              "      border-radius: 50%;\n",
              "      cursor: pointer;\n",
              "      display: none;\n",
              "      fill: #1967D2;\n",
              "      height: 32px;\n",
              "      padding: 0 0 0 0;\n",
              "      width: 32px;\n",
              "    }\n",
              "\n",
              "    .colab-df-convert:hover {\n",
              "      background-color: #E2EBFA;\n",
              "      box-shadow: 0px 1px 2px rgba(60, 64, 67, 0.3), 0px 1px 3px 1px rgba(60, 64, 67, 0.15);\n",
              "      fill: #174EA6;\n",
              "    }\n",
              "\n",
              "    [theme=dark] .colab-df-convert {\n",
              "      background-color: #3B4455;\n",
              "      fill: #D2E3FC;\n",
              "    }\n",
              "\n",
              "    [theme=dark] .colab-df-convert:hover {\n",
              "      background-color: #434B5C;\n",
              "      box-shadow: 0px 1px 3px 1px rgba(0, 0, 0, 0.15);\n",
              "      filter: drop-shadow(0px 1px 2px rgba(0, 0, 0, 0.3));\n",
              "      fill: #FFFFFF;\n",
              "    }\n",
              "  </style>\n",
              "\n",
              "      <script>\n",
              "        const buttonEl =\n",
              "          document.querySelector('#df-ac863489-853b-4700-8041-dd09fbc16747 button.colab-df-convert');\n",
              "        buttonEl.style.display =\n",
              "          google.colab.kernel.accessAllowed ? 'block' : 'none';\n",
              "\n",
              "        async function convertToInteractive(key) {\n",
              "          const element = document.querySelector('#df-ac863489-853b-4700-8041-dd09fbc16747');\n",
              "          const dataTable =\n",
              "            await google.colab.kernel.invokeFunction('convertToInteractive',\n",
              "                                                     [key], {});\n",
              "          if (!dataTable) return;\n",
              "\n",
              "          const docLinkHtml = 'Like what you see? Visit the ' +\n",
              "            '<a target=\"_blank\" href=https://colab.research.google.com/notebooks/data_table.ipynb>data table notebook</a>'\n",
              "            + ' to learn more about interactive tables.';\n",
              "          element.innerHTML = '';\n",
              "          dataTable['output_type'] = 'display_data';\n",
              "          await google.colab.output.renderOutput(dataTable, element);\n",
              "          const docLink = document.createElement('div');\n",
              "          docLink.innerHTML = docLinkHtml;\n",
              "          element.appendChild(docLink);\n",
              "        }\n",
              "      </script>\n",
              "    </div>\n",
              "  </div>\n",
              "  "
            ]
          },
          "metadata": {},
          "execution_count": 28
        }
      ]
    },
    {
      "cell_type": "code",
      "source": [
        "# Stores the token vectors, with shape [<num of tokens> x 768]\n",
        "#token_vecs_sum = []\n",
        "# each `embedding.values` is a [<num of tokens> x 12 x 768] tensor.\n",
        "# For each token in the sentence...\n",
        "\n",
        "def vec(embedd):\n",
        "  token_vecs_sum = []\n",
        "  for token in embedd:\n",
        "    # `token` is a [12 x 768] tensor\n",
        "    # Sum the vectors from the last four layers.\n",
        "    sum_vec = torch.sum(token[-4:], dim=0)\n",
        "    # Use `sum_vec` to represent `token`.\n",
        "    token_vecs_sum.append(sum_vec)\n",
        "  return token_vecs_sum\n",
        "\n",
        "for col in sample.columns[2:]:\n",
        "  sample[col] = sample[col].apply(lambda x: vec(x))"
      ],
      "metadata": {
        "id": "v6ZmiqlCEymM"
      },
      "execution_count": 29,
      "outputs": []
    },
    {
      "cell_type": "code",
      "source": [
        "print(\"Number of tokens:\", len(sample.iloc[0,2]))\n",
        "print(\"Number of features:\", sample.iloc[0,2][0].size())"
      ],
      "metadata": {
        "colab": {
          "base_uri": "https://localhost:8080/"
        },
        "id": "lN3gdq3VnSUU",
        "outputId": "6b531c59-d609-422e-8d46-6d7e285340e7"
      },
      "execution_count": 30,
      "outputs": [
        {
          "output_type": "stream",
          "name": "stdout",
          "text": [
            "Number of tokens: 6\n",
            "Number of features: torch.Size([768])\n"
          ]
        }
      ]
    },
    {
      "cell_type": "code",
      "source": [
        "sample.sample(2)"
      ],
      "metadata": {
        "colab": {
          "base_uri": "https://localhost:8080/",
          "height": 306
        },
        "id": "LziR0BwSJnJ4",
        "outputId": "9cf46dc6-6a26-4e9e-c6c8-6e8b866c12b8"
      },
      "execution_count": 31,
      "outputs": [
        {
          "output_type": "execute_result",
          "data": {
            "text/plain": [
              "          question1 question2  \\\n",
              "_unit_id                        \n",
              "702714440   noneAgg   noneBll   \n",
              "702714442   noneAgg   noneBll   \n",
              "\n",
              "                                                       clmn1  \\\n",
              "_unit_id                                                       \n",
              "702714440  [[tensor(0.1172), tensor(1.3275), tensor(2.317...   \n",
              "702714442  [[tensor(1.3486), tensor(1.8491), tensor(-0.89...   \n",
              "\n",
              "                                                      clmn10  \\\n",
              "_unit_id                                                       \n",
              "702714440  [[tensor(-1.8747), tensor(-0.4204), tensor(0.1...   \n",
              "702714442  [[tensor(-2.6285), tensor(1.1504), tensor(2.48...   \n",
              "\n",
              "                                                     clmn100  \\\n",
              "_unit_id                                                       \n",
              "702714440  [[tensor(-2.7789), tensor(-0.0074), tensor(-0....   \n",
              "702714442  [[tensor(1.1686), tensor(2.4881), tensor(1.809...   \n",
              "\n",
              "                                                     clmn101  \\\n",
              "_unit_id                                                       \n",
              "702714440  [[tensor(-2.7789), tensor(-0.0074), tensor(-0....   \n",
              "702714442  [[tensor(-2.7789), tensor(-0.0074), tensor(-0....   \n",
              "\n",
              "                                                     clmn102  \\\n",
              "_unit_id                                                       \n",
              "702714440  [[tensor(-2.7789), tensor(-0.0074), tensor(-0....   \n",
              "702714442  [[tensor(1.8391), tensor(1.1013), tensor(1.194...   \n",
              "\n",
              "                                                     clmn103  \\\n",
              "_unit_id                                                       \n",
              "702714440  [[tensor(-2.7789), tensor(-0.0074), tensor(-0....   \n",
              "702714442  [[tensor(1.2043), tensor(0.7256), tensor(2.042...   \n",
              "\n",
              "                                                     clmn104  \\\n",
              "_unit_id                                                       \n",
              "702714440  [[tensor(-2.7789), tensor(-0.0074), tensor(-0....   \n",
              "702714442  [[tensor(2.1311), tensor(0.1135), tensor(2.434...   \n",
              "\n",
              "                                                     clmn105  ...  \\\n",
              "_unit_id                                                      ...   \n",
              "702714440  [[tensor(-2.7789), tensor(-0.0074), tensor(-0....  ...   \n",
              "702714442  [[tensor(0.4349), tensor(2.3690), tensor(0.427...  ...   \n",
              "\n",
              "                                                      clmn91  \\\n",
              "_unit_id                                                       \n",
              "702714440  [[tensor(-2.7789), tensor(-0.0074), tensor(-0....   \n",
              "702714442  [[tensor(0.1797), tensor(3.1708), tensor(1.065...   \n",
              "\n",
              "                                                      clmn92  \\\n",
              "_unit_id                                                       \n",
              "702714440  [[tensor(-2.7789), tensor(-0.0074), tensor(-0....   \n",
              "702714442  [[tensor(2.3005), tensor(3.4559), tensor(0.643...   \n",
              "\n",
              "                                                      clmn93  \\\n",
              "_unit_id                                                       \n",
              "702714440  [[tensor(-2.7789), tensor(-0.0074), tensor(-0....   \n",
              "702714442  [[tensor(-0.5102), tensor(3.7601), tensor(2.00...   \n",
              "\n",
              "                                                      clmn94  \\\n",
              "_unit_id                                                       \n",
              "702714440  [[tensor(-2.7789), tensor(-0.0074), tensor(-0....   \n",
              "702714442  [[tensor(0.3700), tensor(1.6582), tensor(0.809...   \n",
              "\n",
              "                                                      clmn95  \\\n",
              "_unit_id                                                       \n",
              "702714440  [[tensor(-2.7789), tensor(-0.0074), tensor(-0....   \n",
              "702714442  [[tensor(0.6715), tensor(0.7315), tensor(0.534...   \n",
              "\n",
              "                                                      clmn96  \\\n",
              "_unit_id                                                       \n",
              "702714440  [[tensor(-2.7789), tensor(-0.0074), tensor(-0....   \n",
              "702714442  [[tensor(1.0799), tensor(1.3855), tensor(1.149...   \n",
              "\n",
              "                                                      clmn97  \\\n",
              "_unit_id                                                       \n",
              "702714440  [[tensor(-2.7789), tensor(-0.0074), tensor(-0....   \n",
              "702714442  [[tensor(-0.8237), tensor(2.4991), tensor(0.80...   \n",
              "\n",
              "                                                      clmn98  \\\n",
              "_unit_id                                                       \n",
              "702714440  [[tensor(-2.7789), tensor(-0.0074), tensor(-0....   \n",
              "702714442  [[tensor(-0.7659), tensor(-1.9407), tensor(0.2...   \n",
              "\n",
              "                                                      clmn99  \\\n",
              "_unit_id                                                       \n",
              "702714440  [[tensor(-2.7789), tensor(-0.0074), tensor(-0....   \n",
              "702714442  [[tensor(0.0387), tensor(-0.5235), tensor(1.44...   \n",
              "\n",
              "                                                  owner_cmnt  \n",
              "_unit_id                                                      \n",
              "702714440  [[tensor(1.6468), tensor(3.6387), tensor(-0.11...  \n",
              "702714442  [[tensor(0.9526), tensor(2.1736), tensor(1.042...  \n",
              "\n",
              "[2 rows x 198 columns]"
            ],
            "text/html": [
              "\n",
              "  <div id=\"df-3827c6f6-e441-4b88-b1a4-cfd4f3efac66\">\n",
              "    <div class=\"colab-df-container\">\n",
              "      <div>\n",
              "<style scoped>\n",
              "    .dataframe tbody tr th:only-of-type {\n",
              "        vertical-align: middle;\n",
              "    }\n",
              "\n",
              "    .dataframe tbody tr th {\n",
              "        vertical-align: top;\n",
              "    }\n",
              "\n",
              "    .dataframe thead th {\n",
              "        text-align: right;\n",
              "    }\n",
              "</style>\n",
              "<table border=\"1\" class=\"dataframe\">\n",
              "  <thead>\n",
              "    <tr style=\"text-align: right;\">\n",
              "      <th></th>\n",
              "      <th>question1</th>\n",
              "      <th>question2</th>\n",
              "      <th>clmn1</th>\n",
              "      <th>clmn10</th>\n",
              "      <th>clmn100</th>\n",
              "      <th>clmn101</th>\n",
              "      <th>clmn102</th>\n",
              "      <th>clmn103</th>\n",
              "      <th>clmn104</th>\n",
              "      <th>clmn105</th>\n",
              "      <th>...</th>\n",
              "      <th>clmn91</th>\n",
              "      <th>clmn92</th>\n",
              "      <th>clmn93</th>\n",
              "      <th>clmn94</th>\n",
              "      <th>clmn95</th>\n",
              "      <th>clmn96</th>\n",
              "      <th>clmn97</th>\n",
              "      <th>clmn98</th>\n",
              "      <th>clmn99</th>\n",
              "      <th>owner_cmnt</th>\n",
              "    </tr>\n",
              "    <tr>\n",
              "      <th>_unit_id</th>\n",
              "      <th></th>\n",
              "      <th></th>\n",
              "      <th></th>\n",
              "      <th></th>\n",
              "      <th></th>\n",
              "      <th></th>\n",
              "      <th></th>\n",
              "      <th></th>\n",
              "      <th></th>\n",
              "      <th></th>\n",
              "      <th></th>\n",
              "      <th></th>\n",
              "      <th></th>\n",
              "      <th></th>\n",
              "      <th></th>\n",
              "      <th></th>\n",
              "      <th></th>\n",
              "      <th></th>\n",
              "      <th></th>\n",
              "      <th></th>\n",
              "      <th></th>\n",
              "    </tr>\n",
              "  </thead>\n",
              "  <tbody>\n",
              "    <tr>\n",
              "      <th>702714440</th>\n",
              "      <td>noneAgg</td>\n",
              "      <td>noneBll</td>\n",
              "      <td>[[tensor(0.1172), tensor(1.3275), tensor(2.317...</td>\n",
              "      <td>[[tensor(-1.8747), tensor(-0.4204), tensor(0.1...</td>\n",
              "      <td>[[tensor(-2.7789), tensor(-0.0074), tensor(-0....</td>\n",
              "      <td>[[tensor(-2.7789), tensor(-0.0074), tensor(-0....</td>\n",
              "      <td>[[tensor(-2.7789), tensor(-0.0074), tensor(-0....</td>\n",
              "      <td>[[tensor(-2.7789), tensor(-0.0074), tensor(-0....</td>\n",
              "      <td>[[tensor(-2.7789), tensor(-0.0074), tensor(-0....</td>\n",
              "      <td>[[tensor(-2.7789), tensor(-0.0074), tensor(-0....</td>\n",
              "      <td>...</td>\n",
              "      <td>[[tensor(-2.7789), tensor(-0.0074), tensor(-0....</td>\n",
              "      <td>[[tensor(-2.7789), tensor(-0.0074), tensor(-0....</td>\n",
              "      <td>[[tensor(-2.7789), tensor(-0.0074), tensor(-0....</td>\n",
              "      <td>[[tensor(-2.7789), tensor(-0.0074), tensor(-0....</td>\n",
              "      <td>[[tensor(-2.7789), tensor(-0.0074), tensor(-0....</td>\n",
              "      <td>[[tensor(-2.7789), tensor(-0.0074), tensor(-0....</td>\n",
              "      <td>[[tensor(-2.7789), tensor(-0.0074), tensor(-0....</td>\n",
              "      <td>[[tensor(-2.7789), tensor(-0.0074), tensor(-0....</td>\n",
              "      <td>[[tensor(-2.7789), tensor(-0.0074), tensor(-0....</td>\n",
              "      <td>[[tensor(1.6468), tensor(3.6387), tensor(-0.11...</td>\n",
              "    </tr>\n",
              "    <tr>\n",
              "      <th>702714442</th>\n",
              "      <td>noneAgg</td>\n",
              "      <td>noneBll</td>\n",
              "      <td>[[tensor(1.3486), tensor(1.8491), tensor(-0.89...</td>\n",
              "      <td>[[tensor(-2.6285), tensor(1.1504), tensor(2.48...</td>\n",
              "      <td>[[tensor(1.1686), tensor(2.4881), tensor(1.809...</td>\n",
              "      <td>[[tensor(-2.7789), tensor(-0.0074), tensor(-0....</td>\n",
              "      <td>[[tensor(1.8391), tensor(1.1013), tensor(1.194...</td>\n",
              "      <td>[[tensor(1.2043), tensor(0.7256), tensor(2.042...</td>\n",
              "      <td>[[tensor(2.1311), tensor(0.1135), tensor(2.434...</td>\n",
              "      <td>[[tensor(0.4349), tensor(2.3690), tensor(0.427...</td>\n",
              "      <td>...</td>\n",
              "      <td>[[tensor(0.1797), tensor(3.1708), tensor(1.065...</td>\n",
              "      <td>[[tensor(2.3005), tensor(3.4559), tensor(0.643...</td>\n",
              "      <td>[[tensor(-0.5102), tensor(3.7601), tensor(2.00...</td>\n",
              "      <td>[[tensor(0.3700), tensor(1.6582), tensor(0.809...</td>\n",
              "      <td>[[tensor(0.6715), tensor(0.7315), tensor(0.534...</td>\n",
              "      <td>[[tensor(1.0799), tensor(1.3855), tensor(1.149...</td>\n",
              "      <td>[[tensor(-0.8237), tensor(2.4991), tensor(0.80...</td>\n",
              "      <td>[[tensor(-0.7659), tensor(-1.9407), tensor(0.2...</td>\n",
              "      <td>[[tensor(0.0387), tensor(-0.5235), tensor(1.44...</td>\n",
              "      <td>[[tensor(0.9526), tensor(2.1736), tensor(1.042...</td>\n",
              "    </tr>\n",
              "  </tbody>\n",
              "</table>\n",
              "<p>2 rows × 198 columns</p>\n",
              "</div>\n",
              "      <button class=\"colab-df-convert\" onclick=\"convertToInteractive('df-3827c6f6-e441-4b88-b1a4-cfd4f3efac66')\"\n",
              "              title=\"Convert this dataframe to an interactive table.\"\n",
              "              style=\"display:none;\">\n",
              "        \n",
              "  <svg xmlns=\"http://www.w3.org/2000/svg\" height=\"24px\"viewBox=\"0 0 24 24\"\n",
              "       width=\"24px\">\n",
              "    <path d=\"M0 0h24v24H0V0z\" fill=\"none\"/>\n",
              "    <path d=\"M18.56 5.44l.94 2.06.94-2.06 2.06-.94-2.06-.94-.94-2.06-.94 2.06-2.06.94zm-11 1L8.5 8.5l.94-2.06 2.06-.94-2.06-.94L8.5 2.5l-.94 2.06-2.06.94zm10 10l.94 2.06.94-2.06 2.06-.94-2.06-.94-.94-2.06-.94 2.06-2.06.94z\"/><path d=\"M17.41 7.96l-1.37-1.37c-.4-.4-.92-.59-1.43-.59-.52 0-1.04.2-1.43.59L10.3 9.45l-7.72 7.72c-.78.78-.78 2.05 0 2.83L4 21.41c.39.39.9.59 1.41.59.51 0 1.02-.2 1.41-.59l7.78-7.78 2.81-2.81c.8-.78.8-2.07 0-2.86zM5.41 20L4 18.59l7.72-7.72 1.47 1.35L5.41 20z\"/>\n",
              "  </svg>\n",
              "      </button>\n",
              "      \n",
              "  <style>\n",
              "    .colab-df-container {\n",
              "      display:flex;\n",
              "      flex-wrap:wrap;\n",
              "      gap: 12px;\n",
              "    }\n",
              "\n",
              "    .colab-df-convert {\n",
              "      background-color: #E8F0FE;\n",
              "      border: none;\n",
              "      border-radius: 50%;\n",
              "      cursor: pointer;\n",
              "      display: none;\n",
              "      fill: #1967D2;\n",
              "      height: 32px;\n",
              "      padding: 0 0 0 0;\n",
              "      width: 32px;\n",
              "    }\n",
              "\n",
              "    .colab-df-convert:hover {\n",
              "      background-color: #E2EBFA;\n",
              "      box-shadow: 0px 1px 2px rgba(60, 64, 67, 0.3), 0px 1px 3px 1px rgba(60, 64, 67, 0.15);\n",
              "      fill: #174EA6;\n",
              "    }\n",
              "\n",
              "    [theme=dark] .colab-df-convert {\n",
              "      background-color: #3B4455;\n",
              "      fill: #D2E3FC;\n",
              "    }\n",
              "\n",
              "    [theme=dark] .colab-df-convert:hover {\n",
              "      background-color: #434B5C;\n",
              "      box-shadow: 0px 1px 3px 1px rgba(0, 0, 0, 0.15);\n",
              "      filter: drop-shadow(0px 1px 2px rgba(0, 0, 0, 0.3));\n",
              "      fill: #FFFFFF;\n",
              "    }\n",
              "  </style>\n",
              "\n",
              "      <script>\n",
              "        const buttonEl =\n",
              "          document.querySelector('#df-3827c6f6-e441-4b88-b1a4-cfd4f3efac66 button.colab-df-convert');\n",
              "        buttonEl.style.display =\n",
              "          google.colab.kernel.accessAllowed ? 'block' : 'none';\n",
              "\n",
              "        async function convertToInteractive(key) {\n",
              "          const element = document.querySelector('#df-3827c6f6-e441-4b88-b1a4-cfd4f3efac66');\n",
              "          const dataTable =\n",
              "            await google.colab.kernel.invokeFunction('convertToInteractive',\n",
              "                                                     [key], {});\n",
              "          if (!dataTable) return;\n",
              "\n",
              "          const docLinkHtml = 'Like what you see? Visit the ' +\n",
              "            '<a target=\"_blank\" href=https://colab.research.google.com/notebooks/data_table.ipynb>data table notebook</a>'\n",
              "            + ' to learn more about interactive tables.';\n",
              "          element.innerHTML = '';\n",
              "          dataTable['output_type'] = 'display_data';\n",
              "          await google.colab.output.renderOutput(dataTable, element);\n",
              "          const docLink = document.createElement('div');\n",
              "          docLink.innerHTML = docLinkHtml;\n",
              "          element.appendChild(docLink);\n",
              "        }\n",
              "      </script>\n",
              "    </div>\n",
              "  </div>\n",
              "  "
            ]
          },
          "metadata": {},
          "execution_count": 31
        }
      ]
    },
    {
      "cell_type": "code",
      "source": [
        "print(\"Number of tokens:\", len(sample.iloc[0,2]))\n",
        "print(\"Number of features:\", sample.iloc[0,2][0].size())\n",
        "print(\"Shape: {}*{}\".format(len(sample.iloc[0,2]),len(sample.iloc[0,2][0])))"
      ],
      "metadata": {
        "colab": {
          "base_uri": "https://localhost:8080/"
        },
        "id": "8J0bGvkLOUA7",
        "outputId": "ff6b5f55-45bc-4847-8854-e66af29f7d89"
      },
      "execution_count": 35,
      "outputs": [
        {
          "output_type": "stream",
          "name": "stdout",
          "text": [
            "Number of tokens: 6\n",
            "Number of features: torch.Size([768])\n",
            "Shape: 6*768\n"
          ]
        }
      ]
    },
    {
      "cell_type": "code",
      "source": [
        "count = 0\n",
        "for i in range(5):\n",
        "  count = count + len(sentences[i])\n",
        "\n",
        "print(\"total number of sentences including NA:\", count) #196 columns * 5 rows = 980"
      ],
      "metadata": {
        "colab": {
          "base_uri": "https://localhost:8080/"
        },
        "id": "mgk_2GpLnbWz",
        "outputId": "9a040ca2-558f-4d3d-a71c-1049c0d17cb5"
      },
      "execution_count": null,
      "outputs": [
        {
          "output_type": "stream",
          "name": "stdout",
          "text": [
            "total number of sentences including NA: 980\n"
          ]
        }
      ]
    },
    {
      "cell_type": "code",
      "source": [
        "# count1 = 0\n",
        "# for i in range(5):\n",
        "#   #count1 += np.count_nonzero(sentences[i] == 'a')\n",
        "#   count1 = count1 + (sentences[i] != 'a').sum()\n",
        "# print(\"Senternces without NA:\", count1)"
      ],
      "metadata": {
        "id": "SBvbZbkin_T-"
      },
      "execution_count": null,
      "outputs": []
    },
    {
      "cell_type": "code",
      "source": [
        "# conditions = [\n",
        "#     df['gender'].eq('male') & df['pet1'].eq(df['pet2']),\n",
        "#     df['gender'].eq('female') & df['pet1'].isin(['cat', 'dog'])\n",
        "# ]\n",
        "\n",
        "# choices = [5,5]\n",
        "\n",
        "# df['points'] = np.select(conditions, choices, default=0)"
      ],
      "metadata": {
        "id": "ycTj88JrvLvW"
      },
      "execution_count": null,
      "outputs": []
    },
    {
      "cell_type": "code",
      "source": [
        "# s = sample.replace(np.NaN, '')\n",
        "# n = s.drop(['question1','question2'], axis=1).to_numpy()\n",
        "# n"
      ],
      "metadata": {
        "id": "CqQOn7A1ihMA"
      },
      "execution_count": null,
      "outputs": []
    },
    {
      "cell_type": "code",
      "source": [
        "## create label and sentence list\n",
        "# sentences = n"
      ],
      "metadata": {
        "id": "p0UPraPezkrN"
      },
      "execution_count": null,
      "outputs": []
    },
    {
      "cell_type": "code",
      "source": [
        "# ## Import BERT tokenizer, that is used to convert our text into tokens that corresponds to BERT library\n",
        "# tokenizer = BertTokenizer.from_pretrained('bert-base-uncased',do_lower_case=True)\n",
        "# input_ids = [tokenizer.encode(sent, add_special_tokens=True,padding==True) for sent in sentences]\n",
        "# labels = s.question1.values\n",
        "\n",
        "# print(\"Actual sentence before tokenization: \",sentences[2])\n",
        "# print(\"Encoded Input from dataset: \",input_ids[2])\n",
        "\n",
        "# ## Create attention mask\n",
        "# attention_masks = []\n",
        "# ## Create a mask of 1 for all input tokens and 0 for all padding tokens\n",
        "# attention_masks = [[float(i>0) for i in seq] for seq in input_ids]\n",
        "# print(attention_masks[2])"
      ],
      "metadata": {
        "id": "8SHbW0gL0FrY"
      },
      "execution_count": null,
      "outputs": []
    },
    {
      "cell_type": "code",
      "source": [
        "# newsent = np.array([])\n",
        "# for i in range(5):\n",
        "#   newsent[i] = np.delete(sentences[i], np.where(sentences[i] == 'a'))"
      ],
      "metadata": {
        "id": "RZigsFFb30MH"
      },
      "execution_count": null,
      "outputs": []
    },
    {
      "cell_type": "code",
      "source": [
        "# token_vec = {}\n",
        "# for text, embedd in embedding.items():\n",
        "#   token_vecs_sum = []\n",
        "#   for token in embedd:\n",
        "#     # `token` is a [12 x 768] tensor\n",
        "#     # Sum the vectors from the last four layers.\n",
        "#     sum_vec = torch.sum(token[-4:], dim=0)\n",
        "#     # Use `sum_vec` to represent `token`.\n",
        "#     token_vecs_sum.append(sum_vec)\n",
        "#     token_vec[text] = token_vecs_sum\n",
        "\n",
        "#print ('Shape is: %d x %d' % (len(token_vecs_sum), len(token_vecs_sum[0])))"
      ],
      "metadata": {
        "id": "s0YsclKjHThK"
      },
      "execution_count": null,
      "outputs": []
    }
  ]
}