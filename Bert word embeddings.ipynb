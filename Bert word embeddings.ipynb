{
  "nbformat": 4,
  "nbformat_minor": 0,
  "metadata": {
    "colab": {
      "provenance": [],
      "include_colab_link": true
    },
    "kernelspec": {
      "name": "python3",
      "display_name": "Python 3"
    },
    "language_info": {
      "name": "python"
    },
    "accelerator": "GPU",
    "gpuClass": "standard",
    "widgets": {
      "application/vnd.jupyter.widget-state+json": {
        "13bf622c08f743b59b085b749af188b4": {
          "model_module": "@jupyter-widgets/controls",
          "model_name": "HBoxModel",
          "model_module_version": "1.5.0",
          "state": {
            "_dom_classes": [],
            "_model_module": "@jupyter-widgets/controls",
            "_model_module_version": "1.5.0",
            "_model_name": "HBoxModel",
            "_view_count": null,
            "_view_module": "@jupyter-widgets/controls",
            "_view_module_version": "1.5.0",
            "_view_name": "HBoxView",
            "box_style": "",
            "children": [
              "IPY_MODEL_f24582e9c72f451a9095ce2ed1bec4ca",
              "IPY_MODEL_82343c51b8464f7784def2717b6da742",
              "IPY_MODEL_94a0987328e04f549421ddd5c6530535"
            ],
            "layout": "IPY_MODEL_d42304fe9b154a5b863162ec712571bd"
          }
        },
        "f24582e9c72f451a9095ce2ed1bec4ca": {
          "model_module": "@jupyter-widgets/controls",
          "model_name": "HTMLModel",
          "model_module_version": "1.5.0",
          "state": {
            "_dom_classes": [],
            "_model_module": "@jupyter-widgets/controls",
            "_model_module_version": "1.5.0",
            "_model_name": "HTMLModel",
            "_view_count": null,
            "_view_module": "@jupyter-widgets/controls",
            "_view_module_version": "1.5.0",
            "_view_name": "HTMLView",
            "description": "",
            "description_tooltip": null,
            "layout": "IPY_MODEL_4a2f30aa86984d5b96f8ac91f8bebe65",
            "placeholder": "​",
            "style": "IPY_MODEL_2cd7bbf6993f4a53bd59d85285fee4c8",
            "value": "Downloading: 100%"
          }
        },
        "82343c51b8464f7784def2717b6da742": {
          "model_module": "@jupyter-widgets/controls",
          "model_name": "FloatProgressModel",
          "model_module_version": "1.5.0",
          "state": {
            "_dom_classes": [],
            "_model_module": "@jupyter-widgets/controls",
            "_model_module_version": "1.5.0",
            "_model_name": "FloatProgressModel",
            "_view_count": null,
            "_view_module": "@jupyter-widgets/controls",
            "_view_module_version": "1.5.0",
            "_view_name": "ProgressView",
            "bar_style": "success",
            "description": "",
            "description_tooltip": null,
            "layout": "IPY_MODEL_57f629b6c9e5434684a24260727a869c",
            "max": 231508,
            "min": 0,
            "orientation": "horizontal",
            "style": "IPY_MODEL_2f43a71a4a09411b8d579b105131b60e",
            "value": 231508
          }
        },
        "94a0987328e04f549421ddd5c6530535": {
          "model_module": "@jupyter-widgets/controls",
          "model_name": "HTMLModel",
          "model_module_version": "1.5.0",
          "state": {
            "_dom_classes": [],
            "_model_module": "@jupyter-widgets/controls",
            "_model_module_version": "1.5.0",
            "_model_name": "HTMLModel",
            "_view_count": null,
            "_view_module": "@jupyter-widgets/controls",
            "_view_module_version": "1.5.0",
            "_view_name": "HTMLView",
            "description": "",
            "description_tooltip": null,
            "layout": "IPY_MODEL_12ddc434c5034d54ad8e5e41790e82e4",
            "placeholder": "​",
            "style": "IPY_MODEL_6c25ea46693c424c8c7330d7e61f85cc",
            "value": " 232k/232k [00:00&lt;00:00, 573kB/s]"
          }
        },
        "d42304fe9b154a5b863162ec712571bd": {
          "model_module": "@jupyter-widgets/base",
          "model_name": "LayoutModel",
          "model_module_version": "1.2.0",
          "state": {
            "_model_module": "@jupyter-widgets/base",
            "_model_module_version": "1.2.0",
            "_model_name": "LayoutModel",
            "_view_count": null,
            "_view_module": "@jupyter-widgets/base",
            "_view_module_version": "1.2.0",
            "_view_name": "LayoutView",
            "align_content": null,
            "align_items": null,
            "align_self": null,
            "border": null,
            "bottom": null,
            "display": null,
            "flex": null,
            "flex_flow": null,
            "grid_area": null,
            "grid_auto_columns": null,
            "grid_auto_flow": null,
            "grid_auto_rows": null,
            "grid_column": null,
            "grid_gap": null,
            "grid_row": null,
            "grid_template_areas": null,
            "grid_template_columns": null,
            "grid_template_rows": null,
            "height": null,
            "justify_content": null,
            "justify_items": null,
            "left": null,
            "margin": null,
            "max_height": null,
            "max_width": null,
            "min_height": null,
            "min_width": null,
            "object_fit": null,
            "object_position": null,
            "order": null,
            "overflow": null,
            "overflow_x": null,
            "overflow_y": null,
            "padding": null,
            "right": null,
            "top": null,
            "visibility": null,
            "width": null
          }
        },
        "4a2f30aa86984d5b96f8ac91f8bebe65": {
          "model_module": "@jupyter-widgets/base",
          "model_name": "LayoutModel",
          "model_module_version": "1.2.0",
          "state": {
            "_model_module": "@jupyter-widgets/base",
            "_model_module_version": "1.2.0",
            "_model_name": "LayoutModel",
            "_view_count": null,
            "_view_module": "@jupyter-widgets/base",
            "_view_module_version": "1.2.0",
            "_view_name": "LayoutView",
            "align_content": null,
            "align_items": null,
            "align_self": null,
            "border": null,
            "bottom": null,
            "display": null,
            "flex": null,
            "flex_flow": null,
            "grid_area": null,
            "grid_auto_columns": null,
            "grid_auto_flow": null,
            "grid_auto_rows": null,
            "grid_column": null,
            "grid_gap": null,
            "grid_row": null,
            "grid_template_areas": null,
            "grid_template_columns": null,
            "grid_template_rows": null,
            "height": null,
            "justify_content": null,
            "justify_items": null,
            "left": null,
            "margin": null,
            "max_height": null,
            "max_width": null,
            "min_height": null,
            "min_width": null,
            "object_fit": null,
            "object_position": null,
            "order": null,
            "overflow": null,
            "overflow_x": null,
            "overflow_y": null,
            "padding": null,
            "right": null,
            "top": null,
            "visibility": null,
            "width": null
          }
        },
        "2cd7bbf6993f4a53bd59d85285fee4c8": {
          "model_module": "@jupyter-widgets/controls",
          "model_name": "DescriptionStyleModel",
          "model_module_version": "1.5.0",
          "state": {
            "_model_module": "@jupyter-widgets/controls",
            "_model_module_version": "1.5.0",
            "_model_name": "DescriptionStyleModel",
            "_view_count": null,
            "_view_module": "@jupyter-widgets/base",
            "_view_module_version": "1.2.0",
            "_view_name": "StyleView",
            "description_width": ""
          }
        },
        "57f629b6c9e5434684a24260727a869c": {
          "model_module": "@jupyter-widgets/base",
          "model_name": "LayoutModel",
          "model_module_version": "1.2.0",
          "state": {
            "_model_module": "@jupyter-widgets/base",
            "_model_module_version": "1.2.0",
            "_model_name": "LayoutModel",
            "_view_count": null,
            "_view_module": "@jupyter-widgets/base",
            "_view_module_version": "1.2.0",
            "_view_name": "LayoutView",
            "align_content": null,
            "align_items": null,
            "align_self": null,
            "border": null,
            "bottom": null,
            "display": null,
            "flex": null,
            "flex_flow": null,
            "grid_area": null,
            "grid_auto_columns": null,
            "grid_auto_flow": null,
            "grid_auto_rows": null,
            "grid_column": null,
            "grid_gap": null,
            "grid_row": null,
            "grid_template_areas": null,
            "grid_template_columns": null,
            "grid_template_rows": null,
            "height": null,
            "justify_content": null,
            "justify_items": null,
            "left": null,
            "margin": null,
            "max_height": null,
            "max_width": null,
            "min_height": null,
            "min_width": null,
            "object_fit": null,
            "object_position": null,
            "order": null,
            "overflow": null,
            "overflow_x": null,
            "overflow_y": null,
            "padding": null,
            "right": null,
            "top": null,
            "visibility": null,
            "width": null
          }
        },
        "2f43a71a4a09411b8d579b105131b60e": {
          "model_module": "@jupyter-widgets/controls",
          "model_name": "ProgressStyleModel",
          "model_module_version": "1.5.0",
          "state": {
            "_model_module": "@jupyter-widgets/controls",
            "_model_module_version": "1.5.0",
            "_model_name": "ProgressStyleModel",
            "_view_count": null,
            "_view_module": "@jupyter-widgets/base",
            "_view_module_version": "1.2.0",
            "_view_name": "StyleView",
            "bar_color": null,
            "description_width": ""
          }
        },
        "12ddc434c5034d54ad8e5e41790e82e4": {
          "model_module": "@jupyter-widgets/base",
          "model_name": "LayoutModel",
          "model_module_version": "1.2.0",
          "state": {
            "_model_module": "@jupyter-widgets/base",
            "_model_module_version": "1.2.0",
            "_model_name": "LayoutModel",
            "_view_count": null,
            "_view_module": "@jupyter-widgets/base",
            "_view_module_version": "1.2.0",
            "_view_name": "LayoutView",
            "align_content": null,
            "align_items": null,
            "align_self": null,
            "border": null,
            "bottom": null,
            "display": null,
            "flex": null,
            "flex_flow": null,
            "grid_area": null,
            "grid_auto_columns": null,
            "grid_auto_flow": null,
            "grid_auto_rows": null,
            "grid_column": null,
            "grid_gap": null,
            "grid_row": null,
            "grid_template_areas": null,
            "grid_template_columns": null,
            "grid_template_rows": null,
            "height": null,
            "justify_content": null,
            "justify_items": null,
            "left": null,
            "margin": null,
            "max_height": null,
            "max_width": null,
            "min_height": null,
            "min_width": null,
            "object_fit": null,
            "object_position": null,
            "order": null,
            "overflow": null,
            "overflow_x": null,
            "overflow_y": null,
            "padding": null,
            "right": null,
            "top": null,
            "visibility": null,
            "width": null
          }
        },
        "6c25ea46693c424c8c7330d7e61f85cc": {
          "model_module": "@jupyter-widgets/controls",
          "model_name": "DescriptionStyleModel",
          "model_module_version": "1.5.0",
          "state": {
            "_model_module": "@jupyter-widgets/controls",
            "_model_module_version": "1.5.0",
            "_model_name": "DescriptionStyleModel",
            "_view_count": null,
            "_view_module": "@jupyter-widgets/base",
            "_view_module_version": "1.2.0",
            "_view_name": "StyleView",
            "description_width": ""
          }
        },
        "cce683d4b73a4614a373ba587c10aef9": {
          "model_module": "@jupyter-widgets/controls",
          "model_name": "HBoxModel",
          "model_module_version": "1.5.0",
          "state": {
            "_dom_classes": [],
            "_model_module": "@jupyter-widgets/controls",
            "_model_module_version": "1.5.0",
            "_model_name": "HBoxModel",
            "_view_count": null,
            "_view_module": "@jupyter-widgets/controls",
            "_view_module_version": "1.5.0",
            "_view_name": "HBoxView",
            "box_style": "",
            "children": [
              "IPY_MODEL_8f598fe46d3a4cb198398148f899e094",
              "IPY_MODEL_43f42e41b7554af5add6ec90ab4f9971",
              "IPY_MODEL_5a4ef1327ea84f06a98046a923472301"
            ],
            "layout": "IPY_MODEL_5a81a99db7bc42d1bc63fa075b48c879"
          }
        },
        "8f598fe46d3a4cb198398148f899e094": {
          "model_module": "@jupyter-widgets/controls",
          "model_name": "HTMLModel",
          "model_module_version": "1.5.0",
          "state": {
            "_dom_classes": [],
            "_model_module": "@jupyter-widgets/controls",
            "_model_module_version": "1.5.0",
            "_model_name": "HTMLModel",
            "_view_count": null,
            "_view_module": "@jupyter-widgets/controls",
            "_view_module_version": "1.5.0",
            "_view_name": "HTMLView",
            "description": "",
            "description_tooltip": null,
            "layout": "IPY_MODEL_83bd2bc7e73b449da60d77f63cd325d0",
            "placeholder": "​",
            "style": "IPY_MODEL_4cbc24c6f1a2464e86227a946cbf65d3",
            "value": "Downloading: 100%"
          }
        },
        "43f42e41b7554af5add6ec90ab4f9971": {
          "model_module": "@jupyter-widgets/controls",
          "model_name": "FloatProgressModel",
          "model_module_version": "1.5.0",
          "state": {
            "_dom_classes": [],
            "_model_module": "@jupyter-widgets/controls",
            "_model_module_version": "1.5.0",
            "_model_name": "FloatProgressModel",
            "_view_count": null,
            "_view_module": "@jupyter-widgets/controls",
            "_view_module_version": "1.5.0",
            "_view_name": "ProgressView",
            "bar_style": "success",
            "description": "",
            "description_tooltip": null,
            "layout": "IPY_MODEL_63c2d272d3d24592b2b13f2f077f1da8",
            "max": 28,
            "min": 0,
            "orientation": "horizontal",
            "style": "IPY_MODEL_72ab4660b702412096ced60689a08636",
            "value": 28
          }
        },
        "5a4ef1327ea84f06a98046a923472301": {
          "model_module": "@jupyter-widgets/controls",
          "model_name": "HTMLModel",
          "model_module_version": "1.5.0",
          "state": {
            "_dom_classes": [],
            "_model_module": "@jupyter-widgets/controls",
            "_model_module_version": "1.5.0",
            "_model_name": "HTMLModel",
            "_view_count": null,
            "_view_module": "@jupyter-widgets/controls",
            "_view_module_version": "1.5.0",
            "_view_name": "HTMLView",
            "description": "",
            "description_tooltip": null,
            "layout": "IPY_MODEL_bf13ea9785ad43ad8d02e9302919910a",
            "placeholder": "​",
            "style": "IPY_MODEL_9d97cfc1f02f4428924b8881e9231135",
            "value": " 28.0/28.0 [00:00&lt;00:00, 372B/s]"
          }
        },
        "5a81a99db7bc42d1bc63fa075b48c879": {
          "model_module": "@jupyter-widgets/base",
          "model_name": "LayoutModel",
          "model_module_version": "1.2.0",
          "state": {
            "_model_module": "@jupyter-widgets/base",
            "_model_module_version": "1.2.0",
            "_model_name": "LayoutModel",
            "_view_count": null,
            "_view_module": "@jupyter-widgets/base",
            "_view_module_version": "1.2.0",
            "_view_name": "LayoutView",
            "align_content": null,
            "align_items": null,
            "align_self": null,
            "border": null,
            "bottom": null,
            "display": null,
            "flex": null,
            "flex_flow": null,
            "grid_area": null,
            "grid_auto_columns": null,
            "grid_auto_flow": null,
            "grid_auto_rows": null,
            "grid_column": null,
            "grid_gap": null,
            "grid_row": null,
            "grid_template_areas": null,
            "grid_template_columns": null,
            "grid_template_rows": null,
            "height": null,
            "justify_content": null,
            "justify_items": null,
            "left": null,
            "margin": null,
            "max_height": null,
            "max_width": null,
            "min_height": null,
            "min_width": null,
            "object_fit": null,
            "object_position": null,
            "order": null,
            "overflow": null,
            "overflow_x": null,
            "overflow_y": null,
            "padding": null,
            "right": null,
            "top": null,
            "visibility": null,
            "width": null
          }
        },
        "83bd2bc7e73b449da60d77f63cd325d0": {
          "model_module": "@jupyter-widgets/base",
          "model_name": "LayoutModel",
          "model_module_version": "1.2.0",
          "state": {
            "_model_module": "@jupyter-widgets/base",
            "_model_module_version": "1.2.0",
            "_model_name": "LayoutModel",
            "_view_count": null,
            "_view_module": "@jupyter-widgets/base",
            "_view_module_version": "1.2.0",
            "_view_name": "LayoutView",
            "align_content": null,
            "align_items": null,
            "align_self": null,
            "border": null,
            "bottom": null,
            "display": null,
            "flex": null,
            "flex_flow": null,
            "grid_area": null,
            "grid_auto_columns": null,
            "grid_auto_flow": null,
            "grid_auto_rows": null,
            "grid_column": null,
            "grid_gap": null,
            "grid_row": null,
            "grid_template_areas": null,
            "grid_template_columns": null,
            "grid_template_rows": null,
            "height": null,
            "justify_content": null,
            "justify_items": null,
            "left": null,
            "margin": null,
            "max_height": null,
            "max_width": null,
            "min_height": null,
            "min_width": null,
            "object_fit": null,
            "object_position": null,
            "order": null,
            "overflow": null,
            "overflow_x": null,
            "overflow_y": null,
            "padding": null,
            "right": null,
            "top": null,
            "visibility": null,
            "width": null
          }
        },
        "4cbc24c6f1a2464e86227a946cbf65d3": {
          "model_module": "@jupyter-widgets/controls",
          "model_name": "DescriptionStyleModel",
          "model_module_version": "1.5.0",
          "state": {
            "_model_module": "@jupyter-widgets/controls",
            "_model_module_version": "1.5.0",
            "_model_name": "DescriptionStyleModel",
            "_view_count": null,
            "_view_module": "@jupyter-widgets/base",
            "_view_module_version": "1.2.0",
            "_view_name": "StyleView",
            "description_width": ""
          }
        },
        "63c2d272d3d24592b2b13f2f077f1da8": {
          "model_module": "@jupyter-widgets/base",
          "model_name": "LayoutModel",
          "model_module_version": "1.2.0",
          "state": {
            "_model_module": "@jupyter-widgets/base",
            "_model_module_version": "1.2.0",
            "_model_name": "LayoutModel",
            "_view_count": null,
            "_view_module": "@jupyter-widgets/base",
            "_view_module_version": "1.2.0",
            "_view_name": "LayoutView",
            "align_content": null,
            "align_items": null,
            "align_self": null,
            "border": null,
            "bottom": null,
            "display": null,
            "flex": null,
            "flex_flow": null,
            "grid_area": null,
            "grid_auto_columns": null,
            "grid_auto_flow": null,
            "grid_auto_rows": null,
            "grid_column": null,
            "grid_gap": null,
            "grid_row": null,
            "grid_template_areas": null,
            "grid_template_columns": null,
            "grid_template_rows": null,
            "height": null,
            "justify_content": null,
            "justify_items": null,
            "left": null,
            "margin": null,
            "max_height": null,
            "max_width": null,
            "min_height": null,
            "min_width": null,
            "object_fit": null,
            "object_position": null,
            "order": null,
            "overflow": null,
            "overflow_x": null,
            "overflow_y": null,
            "padding": null,
            "right": null,
            "top": null,
            "visibility": null,
            "width": null
          }
        },
        "72ab4660b702412096ced60689a08636": {
          "model_module": "@jupyter-widgets/controls",
          "model_name": "ProgressStyleModel",
          "model_module_version": "1.5.0",
          "state": {
            "_model_module": "@jupyter-widgets/controls",
            "_model_module_version": "1.5.0",
            "_model_name": "ProgressStyleModel",
            "_view_count": null,
            "_view_module": "@jupyter-widgets/base",
            "_view_module_version": "1.2.0",
            "_view_name": "StyleView",
            "bar_color": null,
            "description_width": ""
          }
        },
        "bf13ea9785ad43ad8d02e9302919910a": {
          "model_module": "@jupyter-widgets/base",
          "model_name": "LayoutModel",
          "model_module_version": "1.2.0",
          "state": {
            "_model_module": "@jupyter-widgets/base",
            "_model_module_version": "1.2.0",
            "_model_name": "LayoutModel",
            "_view_count": null,
            "_view_module": "@jupyter-widgets/base",
            "_view_module_version": "1.2.0",
            "_view_name": "LayoutView",
            "align_content": null,
            "align_items": null,
            "align_self": null,
            "border": null,
            "bottom": null,
            "display": null,
            "flex": null,
            "flex_flow": null,
            "grid_area": null,
            "grid_auto_columns": null,
            "grid_auto_flow": null,
            "grid_auto_rows": null,
            "grid_column": null,
            "grid_gap": null,
            "grid_row": null,
            "grid_template_areas": null,
            "grid_template_columns": null,
            "grid_template_rows": null,
            "height": null,
            "justify_content": null,
            "justify_items": null,
            "left": null,
            "margin": null,
            "max_height": null,
            "max_width": null,
            "min_height": null,
            "min_width": null,
            "object_fit": null,
            "object_position": null,
            "order": null,
            "overflow": null,
            "overflow_x": null,
            "overflow_y": null,
            "padding": null,
            "right": null,
            "top": null,
            "visibility": null,
            "width": null
          }
        },
        "9d97cfc1f02f4428924b8881e9231135": {
          "model_module": "@jupyter-widgets/controls",
          "model_name": "DescriptionStyleModel",
          "model_module_version": "1.5.0",
          "state": {
            "_model_module": "@jupyter-widgets/controls",
            "_model_module_version": "1.5.0",
            "_model_name": "DescriptionStyleModel",
            "_view_count": null,
            "_view_module": "@jupyter-widgets/base",
            "_view_module_version": "1.2.0",
            "_view_name": "StyleView",
            "description_width": ""
          }
        },
        "d912666d8b344ca88a9e3af9f2625a0b": {
          "model_module": "@jupyter-widgets/controls",
          "model_name": "HBoxModel",
          "model_module_version": "1.5.0",
          "state": {
            "_dom_classes": [],
            "_model_module": "@jupyter-widgets/controls",
            "_model_module_version": "1.5.0",
            "_model_name": "HBoxModel",
            "_view_count": null,
            "_view_module": "@jupyter-widgets/controls",
            "_view_module_version": "1.5.0",
            "_view_name": "HBoxView",
            "box_style": "",
            "children": [
              "IPY_MODEL_b0e06b1062ae4875ba692e86c61dd092",
              "IPY_MODEL_1bd910f15ee147cbbd41fca3446f5fed",
              "IPY_MODEL_bb6bb8031b2443ac845846e6ae969b6d"
            ],
            "layout": "IPY_MODEL_f14478b4c8c14d988965525db64bf72d"
          }
        },
        "b0e06b1062ae4875ba692e86c61dd092": {
          "model_module": "@jupyter-widgets/controls",
          "model_name": "HTMLModel",
          "model_module_version": "1.5.0",
          "state": {
            "_dom_classes": [],
            "_model_module": "@jupyter-widgets/controls",
            "_model_module_version": "1.5.0",
            "_model_name": "HTMLModel",
            "_view_count": null,
            "_view_module": "@jupyter-widgets/controls",
            "_view_module_version": "1.5.0",
            "_view_name": "HTMLView",
            "description": "",
            "description_tooltip": null,
            "layout": "IPY_MODEL_2e324300ffd34f7fb2716484e056b6d3",
            "placeholder": "​",
            "style": "IPY_MODEL_a3c8ad0824a5404d98963d4a3ae10019",
            "value": "Downloading: 100%"
          }
        },
        "1bd910f15ee147cbbd41fca3446f5fed": {
          "model_module": "@jupyter-widgets/controls",
          "model_name": "FloatProgressModel",
          "model_module_version": "1.5.0",
          "state": {
            "_dom_classes": [],
            "_model_module": "@jupyter-widgets/controls",
            "_model_module_version": "1.5.0",
            "_model_name": "FloatProgressModel",
            "_view_count": null,
            "_view_module": "@jupyter-widgets/controls",
            "_view_module_version": "1.5.0",
            "_view_name": "ProgressView",
            "bar_style": "success",
            "description": "",
            "description_tooltip": null,
            "layout": "IPY_MODEL_524b5be8d07e4aa5bdd183a268fb2215",
            "max": 570,
            "min": 0,
            "orientation": "horizontal",
            "style": "IPY_MODEL_b74a2056820041d8bf9f1fe1e0a646c1",
            "value": 570
          }
        },
        "bb6bb8031b2443ac845846e6ae969b6d": {
          "model_module": "@jupyter-widgets/controls",
          "model_name": "HTMLModel",
          "model_module_version": "1.5.0",
          "state": {
            "_dom_classes": [],
            "_model_module": "@jupyter-widgets/controls",
            "_model_module_version": "1.5.0",
            "_model_name": "HTMLModel",
            "_view_count": null,
            "_view_module": "@jupyter-widgets/controls",
            "_view_module_version": "1.5.0",
            "_view_name": "HTMLView",
            "description": "",
            "description_tooltip": null,
            "layout": "IPY_MODEL_566d493ad740458aae73a84018e071fa",
            "placeholder": "​",
            "style": "IPY_MODEL_396221029317469499ea6e2f48072e4f",
            "value": " 570/570 [00:00&lt;00:00, 13.7kB/s]"
          }
        },
        "f14478b4c8c14d988965525db64bf72d": {
          "model_module": "@jupyter-widgets/base",
          "model_name": "LayoutModel",
          "model_module_version": "1.2.0",
          "state": {
            "_model_module": "@jupyter-widgets/base",
            "_model_module_version": "1.2.0",
            "_model_name": "LayoutModel",
            "_view_count": null,
            "_view_module": "@jupyter-widgets/base",
            "_view_module_version": "1.2.0",
            "_view_name": "LayoutView",
            "align_content": null,
            "align_items": null,
            "align_self": null,
            "border": null,
            "bottom": null,
            "display": null,
            "flex": null,
            "flex_flow": null,
            "grid_area": null,
            "grid_auto_columns": null,
            "grid_auto_flow": null,
            "grid_auto_rows": null,
            "grid_column": null,
            "grid_gap": null,
            "grid_row": null,
            "grid_template_areas": null,
            "grid_template_columns": null,
            "grid_template_rows": null,
            "height": null,
            "justify_content": null,
            "justify_items": null,
            "left": null,
            "margin": null,
            "max_height": null,
            "max_width": null,
            "min_height": null,
            "min_width": null,
            "object_fit": null,
            "object_position": null,
            "order": null,
            "overflow": null,
            "overflow_x": null,
            "overflow_y": null,
            "padding": null,
            "right": null,
            "top": null,
            "visibility": null,
            "width": null
          }
        },
        "2e324300ffd34f7fb2716484e056b6d3": {
          "model_module": "@jupyter-widgets/base",
          "model_name": "LayoutModel",
          "model_module_version": "1.2.0",
          "state": {
            "_model_module": "@jupyter-widgets/base",
            "_model_module_version": "1.2.0",
            "_model_name": "LayoutModel",
            "_view_count": null,
            "_view_module": "@jupyter-widgets/base",
            "_view_module_version": "1.2.0",
            "_view_name": "LayoutView",
            "align_content": null,
            "align_items": null,
            "align_self": null,
            "border": null,
            "bottom": null,
            "display": null,
            "flex": null,
            "flex_flow": null,
            "grid_area": null,
            "grid_auto_columns": null,
            "grid_auto_flow": null,
            "grid_auto_rows": null,
            "grid_column": null,
            "grid_gap": null,
            "grid_row": null,
            "grid_template_areas": null,
            "grid_template_columns": null,
            "grid_template_rows": null,
            "height": null,
            "justify_content": null,
            "justify_items": null,
            "left": null,
            "margin": null,
            "max_height": null,
            "max_width": null,
            "min_height": null,
            "min_width": null,
            "object_fit": null,
            "object_position": null,
            "order": null,
            "overflow": null,
            "overflow_x": null,
            "overflow_y": null,
            "padding": null,
            "right": null,
            "top": null,
            "visibility": null,
            "width": null
          }
        },
        "a3c8ad0824a5404d98963d4a3ae10019": {
          "model_module": "@jupyter-widgets/controls",
          "model_name": "DescriptionStyleModel",
          "model_module_version": "1.5.0",
          "state": {
            "_model_module": "@jupyter-widgets/controls",
            "_model_module_version": "1.5.0",
            "_model_name": "DescriptionStyleModel",
            "_view_count": null,
            "_view_module": "@jupyter-widgets/base",
            "_view_module_version": "1.2.0",
            "_view_name": "StyleView",
            "description_width": ""
          }
        },
        "524b5be8d07e4aa5bdd183a268fb2215": {
          "model_module": "@jupyter-widgets/base",
          "model_name": "LayoutModel",
          "model_module_version": "1.2.0",
          "state": {
            "_model_module": "@jupyter-widgets/base",
            "_model_module_version": "1.2.0",
            "_model_name": "LayoutModel",
            "_view_count": null,
            "_view_module": "@jupyter-widgets/base",
            "_view_module_version": "1.2.0",
            "_view_name": "LayoutView",
            "align_content": null,
            "align_items": null,
            "align_self": null,
            "border": null,
            "bottom": null,
            "display": null,
            "flex": null,
            "flex_flow": null,
            "grid_area": null,
            "grid_auto_columns": null,
            "grid_auto_flow": null,
            "grid_auto_rows": null,
            "grid_column": null,
            "grid_gap": null,
            "grid_row": null,
            "grid_template_areas": null,
            "grid_template_columns": null,
            "grid_template_rows": null,
            "height": null,
            "justify_content": null,
            "justify_items": null,
            "left": null,
            "margin": null,
            "max_height": null,
            "max_width": null,
            "min_height": null,
            "min_width": null,
            "object_fit": null,
            "object_position": null,
            "order": null,
            "overflow": null,
            "overflow_x": null,
            "overflow_y": null,
            "padding": null,
            "right": null,
            "top": null,
            "visibility": null,
            "width": null
          }
        },
        "b74a2056820041d8bf9f1fe1e0a646c1": {
          "model_module": "@jupyter-widgets/controls",
          "model_name": "ProgressStyleModel",
          "model_module_version": "1.5.0",
          "state": {
            "_model_module": "@jupyter-widgets/controls",
            "_model_module_version": "1.5.0",
            "_model_name": "ProgressStyleModel",
            "_view_count": null,
            "_view_module": "@jupyter-widgets/base",
            "_view_module_version": "1.2.0",
            "_view_name": "StyleView",
            "bar_color": null,
            "description_width": ""
          }
        },
        "566d493ad740458aae73a84018e071fa": {
          "model_module": "@jupyter-widgets/base",
          "model_name": "LayoutModel",
          "model_module_version": "1.2.0",
          "state": {
            "_model_module": "@jupyter-widgets/base",
            "_model_module_version": "1.2.0",
            "_model_name": "LayoutModel",
            "_view_count": null,
            "_view_module": "@jupyter-widgets/base",
            "_view_module_version": "1.2.0",
            "_view_name": "LayoutView",
            "align_content": null,
            "align_items": null,
            "align_self": null,
            "border": null,
            "bottom": null,
            "display": null,
            "flex": null,
            "flex_flow": null,
            "grid_area": null,
            "grid_auto_columns": null,
            "grid_auto_flow": null,
            "grid_auto_rows": null,
            "grid_column": null,
            "grid_gap": null,
            "grid_row": null,
            "grid_template_areas": null,
            "grid_template_columns": null,
            "grid_template_rows": null,
            "height": null,
            "justify_content": null,
            "justify_items": null,
            "left": null,
            "margin": null,
            "max_height": null,
            "max_width": null,
            "min_height": null,
            "min_width": null,
            "object_fit": null,
            "object_position": null,
            "order": null,
            "overflow": null,
            "overflow_x": null,
            "overflow_y": null,
            "padding": null,
            "right": null,
            "top": null,
            "visibility": null,
            "width": null
          }
        },
        "396221029317469499ea6e2f48072e4f": {
          "model_module": "@jupyter-widgets/controls",
          "model_name": "DescriptionStyleModel",
          "model_module_version": "1.5.0",
          "state": {
            "_model_module": "@jupyter-widgets/controls",
            "_model_module_version": "1.5.0",
            "_model_name": "DescriptionStyleModel",
            "_view_count": null,
            "_view_module": "@jupyter-widgets/base",
            "_view_module_version": "1.2.0",
            "_view_name": "StyleView",
            "description_width": ""
          }
        }
      }
    }
  },
  "cells": [
    {
      "cell_type": "markdown",
      "metadata": {
        "id": "view-in-github",
        "colab_type": "text"
      },
      "source": [
        "<a href=\"https://colab.research.google.com/github/Babitha23/Cyberbullying-detection/blob/main/Bert%20word%20embeddings.ipynb\" target=\"_parent\"><img src=\"https://colab.research.google.com/assets/colab-badge.svg\" alt=\"Open In Colab\"/></a>"
      ]
    },
    {
      "cell_type": "code",
      "execution_count": null,
      "metadata": {
        "colab": {
          "base_uri": "https://localhost:8080/"
        },
        "id": "9uOdy4kNzPig",
        "outputId": "55102940-47c1-4fc0-9527-2a571649cd07"
      },
      "outputs": [
        {
          "output_type": "stream",
          "name": "stdout",
          "text": [
            "There are 1 GPU(s) available.\n",
            "Device name: Tesla T4\n"
          ]
        }
      ],
      "source": [
        "import torch\n",
        "if torch.cuda.is_available():       \n",
        "    device = torch.device(\"cuda\")\n",
        "    print(f'There are {torch.cuda.device_count()} GPU(s) available.')\n",
        "    print('Device name:', torch.cuda.get_device_name(0))\n",
        "\n",
        "else:\n",
        "    print('No GPU available, using the CPU instead.')\n",
        "    device = torch.device(\"cpu\")"
      ]
    },
    {
      "cell_type": "code",
      "source": [
        "!pip install wordcloud\n",
        "import os\n",
        "import re\n",
        "from tqdm import tqdm\n",
        "import numpy as np\n",
        "import pandas as pd\n",
        "import matplotlib.pyplot as plt\n",
        "from wordcloud import WordCloud\n",
        "from google.colab import drive\n",
        "%matplotlib inline\n",
        "import re\n",
        "from collections import Counter\n",
        "import nltk\n",
        "from nltk.corpus import wordnet\n",
        "from nltk.corpus import stopwords\n",
        "from nltk.stem import WordNetLemmatizer\n",
        "from nltk.stem.porter import PorterStemmer"
      ],
      "metadata": {
        "id": "bPeW6eOczbqt"
      },
      "execution_count": null,
      "outputs": []
    },
    {
      "cell_type": "code",
      "source": [
        "from google.colab import drive\n",
        "# Connect to google drive\n",
        "drive.mount('/content/gdrive')\n",
        "\n",
        "# Load data and set labels\n",
        "data = pd.read_csv('gdrive/My Drive/Dissertation/final.csv', index_col='_unit_id')"
      ],
      "metadata": {
        "colab": {
          "base_uri": "https://localhost:8080/"
        },
        "id": "cIfZwpPjz2ay",
        "outputId": "9e4948bd-7cb4-4318-867c-d05a68683b62"
      },
      "execution_count": null,
      "outputs": [
        {
          "output_type": "stream",
          "name": "stdout",
          "text": [
            "Mounted at /content/gdrive\n"
          ]
        }
      ]
    },
    {
      "cell_type": "code",
      "source": [
        "sample = data.iloc[0:5,:]"
      ],
      "metadata": {
        "id": "riPxWO690CUT"
      },
      "execution_count": null,
      "outputs": []
    },
    {
      "cell_type": "code",
      "source": [
        "def cleancomments(text):\n",
        "    tt = re.sub('\\(created.at:\\d\\d\\d\\d-\\d\\d-\\d\\d \\d\\d:\\d\\d:\\d\\d\\)', '', str(text)) #replacing comment time\n",
        "    tt1 = re.sub('<font color\\=\\\"\\#0066CC\\\"\\>.*?\\<\\/font>', '', str(tt)) # removing html tags with username\n",
        "    tt2 = re.sub('@[^\\s]+', '', str(tt1)) #removing user tag\n",
        "    #Remove unicode strings like \"\\u002c\" and \"x96\"\n",
        "    tmp = re.sub(r'(\\\\u[0-9A-Fa-f]+)',r'', tt2) \n",
        "    temp = re.sub(r'[^\\x00-\\x7f]',r'',tmp)\n",
        "    #removing url\n",
        "    temp1 = re.sub('((www\\.[^\\s]+)|(https?://[^\\s]+))','url',temp)\n",
        "    temp2 = re.sub(r'#([^\\s]+)', r'\\1', temp1) # removing hashtags\n",
        "    #removing emoticons\n",
        "    temp3 = re.sub(':\\)|;\\)|:-\\)|<3|\\(-:|:-D|=D|:P|xD|X-p|\\^\\^|:-*|\\^\\.\\^|\\^\\-\\^|\\^\\_\\^|\\,-\\)|\\)-:|:\\'\\(|:\\(|:-\\(|:\\S|T\\.T|\\.\\_\\.|:<|:-\\S|:-<|\\*\\-\\*|:O|=O|=\\-O|O\\.o|XO|O\\_O|:-\\@|=/|:/|X\\-\\(|>\\.<|>=\\(|D:', '', temp2)\n",
        "    temp4 = ''.join([i for i in temp3 if not i.isdigit()]) #removing numbers\n",
        "    temp5 = re.sub(r\"( ?\\.)\\1+\", '.', temp4) #replacing multiple . with single .\n",
        "    temp6 = re.sub(r\"( ?\\!)+\", '!', temp5) #replacing multiple ! with single !\n",
        "    temp7 = re.sub(r\"( ?\\?)+\", '?', temp6) #replacing multiple ? with single ?\n",
        "    #temp8 = re.sub(r\"(\\_)+\", '', temp7)\n",
        "    temp8 = ' '.join( [w for w in temp7.split() if len(w)>1]) #removing single characters\n",
        "    temp9 = re.sub(' +', ' ', temp8) #removing additional whitespaces\n",
        "    return temp9"
      ],
      "metadata": {
        "id": "OCmX0MVK-wc8"
      },
      "execution_count": null,
      "outputs": []
    },
    {
      "cell_type": "code",
      "source": [
        "for i in range(len(sample)):\n",
        "  sample['owner_cmnt'] = data['owner_cmnt'].apply(lambda x: cleancomments(x))"
      ],
      "metadata": {
        "id": "oBQQQ27m-z4L",
        "colab": {
          "base_uri": "https://localhost:8080/"
        },
        "outputId": "af0bdc99-8b90-41c0-ddc2-b162a04f6ccf"
      },
      "execution_count": null,
      "outputs": [
        {
          "output_type": "stream",
          "name": "stderr",
          "text": [
            "/usr/local/lib/python3.7/dist-packages/ipykernel_launcher.py:2: SettingWithCopyWarning: \n",
            "A value is trying to be set on a copy of a slice from a DataFrame.\n",
            "Try using .loc[row_indexer,col_indexer] = value instead\n",
            "\n",
            "See the caveats in the documentation: https://pandas.pydata.org/pandas-docs/stable/user_guide/indexing.html#returning-a-view-versus-a-copy\n",
            "  \n"
          ]
        }
      ]
    },
    {
      "cell_type": "code",
      "source": [
        "sample.columns"
      ],
      "metadata": {
        "colab": {
          "base_uri": "https://localhost:8080/"
        },
        "id": "wDYxmn4O0gdA",
        "outputId": "d5584f4a-2dc5-466a-9949-bb1014fdaa81"
      },
      "execution_count": null,
      "outputs": [
        {
          "output_type": "execute_result",
          "data": {
            "text/plain": [
              "Index(['question1', 'question2', 'clmn1', 'clmn10', 'clmn100', 'clmn101',\n",
              "       'clmn102', 'clmn103', 'clmn104', 'clmn105',\n",
              "       ...\n",
              "       'clmn95', 'clmn96', 'clmn97', 'clmn98', 'clmn99', 'likes', 'owner_cmnt',\n",
              "       'shared media', 'followed_by', 'follows'],\n",
              "      dtype='object', length=202)"
            ]
          },
          "metadata": {},
          "execution_count": 7
        }
      ]
    },
    {
      "cell_type": "code",
      "source": [
        "sample = sample.drop(['likes','shared media', 'followed_by', 'follows'], axis=1)"
      ],
      "metadata": {
        "id": "F3XGNL_T0kSc"
      },
      "execution_count": null,
      "outputs": []
    },
    {
      "cell_type": "code",
      "source": [
        "def replaceElongated(word):\n",
        "    \"\"\" Replaces an elongated word with its basic form, unless the word exists in the lexicon \"\"\"\n",
        "\n",
        "    repeat_regexp = re.compile(r'(\\w*)(\\w)\\2(\\w*)')\n",
        "    repl = r'\\1\\2\\3'\n",
        "    if wordnet.synsets(str(word)):\n",
        "        return word\n",
        "    repl_word = repeat_regexp.sub(repl, word)\n",
        "    if repl_word != word:      \n",
        "        return replaceElongated(repl_word)\n",
        "    else:       \n",
        "        return repl_word"
      ],
      "metadata": {
        "id": "BPItflU909Hi"
      },
      "execution_count": null,
      "outputs": []
    },
    {
      "cell_type": "code",
      "source": [
        "import string\n",
        "def removepunct(txt):\n",
        "  remove = string.punctuation\n",
        "  remove = remove.replace(\".\", \"\") # don't remove dot\n",
        "  remove = remove.replace(\"!\", \"\") # don't remove !\n",
        "  remove = remove.replace(\"?\", \"\") # don't remove ?\n",
        "  pattern = r\"[{}]\".format(remove) # create the pattern\n",
        "  text = re.sub(pattern, \"\", txt)\n",
        "  return text"
      ],
      "metadata": {
        "id": "ld1xKIxoj0XF"
      },
      "execution_count": null,
      "outputs": []
    },
    {
      "cell_type": "code",
      "source": [
        "for col in sample.columns[2:]:\n",
        "  for i in range(len(sample)):\n",
        "    sample[col] = sample[col].apply(lambda x: removepunct(str(x)))"
      ],
      "metadata": {
        "id": "O1SLr2xYj7iY"
      },
      "execution_count": null,
      "outputs": []
    },
    {
      "cell_type": "code",
      "source": [
        "# for col in sample.columns[2:]:\n",
        "#   for i in range(len(sample)):\n",
        "#     sample[col] = sample[col].apply(lambda x: replaceElongated(str.split(x)))"
      ],
      "metadata": {
        "id": "F9oVH1gvkm2d"
      },
      "execution_count": null,
      "outputs": []
    },
    {
      "cell_type": "code",
      "source": [
        "sample.loc[702714442,'clmn94']"
      ],
      "metadata": {
        "colab": {
          "base_uri": "https://localhost:8080/",
          "height": 36
        },
        "id": "Jg3-CDxv9_F6",
        "outputId": "8f211842-0837-48c8-ff7b-facc48c6d4aa"
      },
      "execution_count": null,
      "outputs": [
        {
          "output_type": "execute_result",
          "data": {
            "text/plain": [
              "'Gemma sua lindaaaaa'"
            ],
            "application/vnd.google.colaboratory.intrinsic+json": {
              "type": "string"
            }
          },
          "metadata": {},
          "execution_count": 14
        }
      ]
    },
    {
      "cell_type": "code",
      "source": [
        "import nltk\n",
        "nltk.download('wordnet')\n",
        "nltk.download('omw-1.4')"
      ],
      "metadata": {
        "colab": {
          "base_uri": "https://localhost:8080/"
        },
        "id": "gahTfgXIBodA",
        "outputId": "83db674e-75e7-41f9-9542-274356c96235"
      },
      "execution_count": null,
      "outputs": [
        {
          "output_type": "stream",
          "name": "stderr",
          "text": [
            "[nltk_data] Downloading package wordnet to /root/nltk_data...\n",
            "[nltk_data] Downloading package omw-1.4 to /root/nltk_data...\n"
          ]
        },
        {
          "output_type": "execute_result",
          "data": {
            "text/plain": [
              "True"
            ]
          },
          "metadata": {},
          "execution_count": 15
        }
      ]
    },
    {
      "cell_type": "code",
      "source": [
        "# for col in range(2,197):\n",
        "#   for i in range(5):\n",
        "#     if sample.iloc[i,col] is not np.NaN:\n",
        "#       sent_l = sample.iloc[i,col].split()\n",
        "#       for word in sent_l:\n",
        "#         sample_df = sample.apply(lambda x: x.replace(regex=word, value=replaceElongated(word)))"
      ],
      "metadata": {
        "id": "KufjfIge1LkI"
      },
      "execution_count": null,
      "outputs": []
    },
    {
      "cell_type": "code",
      "source": [
        "!pip install transformers"
      ],
      "metadata": {
        "id": "tPrWYXQwC9hV"
      },
      "execution_count": null,
      "outputs": []
    },
    {
      "cell_type": "code",
      "source": [
        "import torch\n",
        "from transformers import BertTokenizer, BertModel\n",
        "\n",
        "import logging\n",
        "logging.basicConfig(level=logging.INFO)\n",
        "\n",
        "import matplotlib.pyplot as plt\n",
        "%matplotlib inline"
      ],
      "metadata": {
        "id": "U8arfWT7DHgm"
      },
      "execution_count": null,
      "outputs": []
    },
    {
      "cell_type": "code",
      "source": [
        "# Load pre-trained model tokenizer (vocabulary)\n",
        "print('Loading BERT tokenizer...')\n",
        "tokenizer = BertTokenizer.from_pretrained('bert-base-uncased', do_lower_case=True)"
      ],
      "metadata": {
        "colab": {
          "base_uri": "https://localhost:8080/",
          "height": 130,
          "referenced_widgets": [
            "13bf622c08f743b59b085b749af188b4",
            "f24582e9c72f451a9095ce2ed1bec4ca",
            "82343c51b8464f7784def2717b6da742",
            "94a0987328e04f549421ddd5c6530535",
            "d42304fe9b154a5b863162ec712571bd",
            "4a2f30aa86984d5b96f8ac91f8bebe65",
            "2cd7bbf6993f4a53bd59d85285fee4c8",
            "57f629b6c9e5434684a24260727a869c",
            "2f43a71a4a09411b8d579b105131b60e",
            "12ddc434c5034d54ad8e5e41790e82e4",
            "6c25ea46693c424c8c7330d7e61f85cc",
            "cce683d4b73a4614a373ba587c10aef9",
            "8f598fe46d3a4cb198398148f899e094",
            "43f42e41b7554af5add6ec90ab4f9971",
            "5a4ef1327ea84f06a98046a923472301",
            "5a81a99db7bc42d1bc63fa075b48c879",
            "83bd2bc7e73b449da60d77f63cd325d0",
            "4cbc24c6f1a2464e86227a946cbf65d3",
            "63c2d272d3d24592b2b13f2f077f1da8",
            "72ab4660b702412096ced60689a08636",
            "bf13ea9785ad43ad8d02e9302919910a",
            "9d97cfc1f02f4428924b8881e9231135",
            "d912666d8b344ca88a9e3af9f2625a0b",
            "b0e06b1062ae4875ba692e86c61dd092",
            "1bd910f15ee147cbbd41fca3446f5fed",
            "bb6bb8031b2443ac845846e6ae969b6d",
            "f14478b4c8c14d988965525db64bf72d",
            "2e324300ffd34f7fb2716484e056b6d3",
            "a3c8ad0824a5404d98963d4a3ae10019",
            "524b5be8d07e4aa5bdd183a268fb2215",
            "b74a2056820041d8bf9f1fe1e0a646c1",
            "566d493ad740458aae73a84018e071fa",
            "396221029317469499ea6e2f48072e4f"
          ]
        },
        "id": "a7oqBgT1DLI9",
        "outputId": "d0da5e37-5f11-46c3-a607-06083547e482"
      },
      "execution_count": null,
      "outputs": [
        {
          "output_type": "stream",
          "name": "stdout",
          "text": [
            "Loading BERT tokenizer...\n"
          ]
        },
        {
          "output_type": "display_data",
          "data": {
            "text/plain": [
              "Downloading:   0%|          | 0.00/232k [00:00<?, ?B/s]"
            ],
            "application/vnd.jupyter.widget-view+json": {
              "version_major": 2,
              "version_minor": 0,
              "model_id": "13bf622c08f743b59b085b749af188b4"
            }
          },
          "metadata": {}
        },
        {
          "output_type": "display_data",
          "data": {
            "text/plain": [
              "Downloading:   0%|          | 0.00/28.0 [00:00<?, ?B/s]"
            ],
            "application/vnd.jupyter.widget-view+json": {
              "version_major": 2,
              "version_minor": 0,
              "model_id": "cce683d4b73a4614a373ba587c10aef9"
            }
          },
          "metadata": {}
        },
        {
          "output_type": "display_data",
          "data": {
            "text/plain": [
              "Downloading:   0%|          | 0.00/570 [00:00<?, ?B/s]"
            ],
            "application/vnd.jupyter.widget-view+json": {
              "version_major": 2,
              "version_minor": 0,
              "model_id": "d912666d8b344ca88a9e3af9f2625a0b"
            }
          },
          "metadata": {}
        }
      ]
    },
    {
      "cell_type": "code",
      "source": [
        "model = BertModel.from_pretrained('bert-base-uncased',output_hidden_states = True) # Whether the model returns all hidden-states.\n",
        "# Put the model in \"evaluation\" mode,meaning feed-forward operation.\n",
        "model.eval()"
      ],
      "metadata": {
        "id": "GzO5WWtgDOI_"
      },
      "execution_count": null,
      "outputs": []
    },
    {
      "cell_type": "code",
      "source": [
        "def tokenize(sentence, seg_id):\n",
        "  # Add the special tokens.\n",
        "  marked_text = \"[CLS] \" + sentence + \" [SEP]\"\n",
        "  # Split the sentence into tokens.\n",
        "  tokenized_text = tokenizer.tokenize(marked_text)\n",
        "  # Map the token strings to their vocabulary indices.\n",
        "  indexed_tokens = tokenizer.convert_tokens_to_ids(tokenized_text)\n",
        "  # Mark each of the tokens as belonging to sentence \"seg_id\".\n",
        "  segments_ids = [seg_id] * len(tokenized_text)\n",
        "  # Convert inputs to PyTorch tensors\n",
        "  tokens_tensor = torch.tensor([indexed_tokens])\n",
        "  segments_tensors = torch.tensor([segments_ids])\n",
        "  return {'tokens_tensor':tokens_tensor, 'segments_tensors': segments_tensors}"
      ],
      "metadata": {
        "id": "_qulQlaPDg1H"
      },
      "execution_count": null,
      "outputs": []
    },
    {
      "cell_type": "code",
      "source": [
        "#copying only the structure of sample dataframe\n",
        "sample_c = pd.DataFrame().reindex_like(sample)"
      ],
      "metadata": {
        "id": "wAKzraXYh_gx"
      },
      "execution_count": null,
      "outputs": []
    },
    {
      "cell_type": "code",
      "source": [
        "s = sample.replace('nan', 'a')\n",
        "sentences = s.drop(['question1','question2'], axis=1).to_numpy()\n",
        "sentences[0][1]"
      ],
      "metadata": {
        "id": "zQREsQVm5qWh",
        "colab": {
          "base_uri": "https://localhost:8080/",
          "height": 36
        },
        "outputId": "fa6173cd-3c56-46dc-a160-ad9b8c10ee62"
      },
      "execution_count": 99,
      "outputs": [
        {
          "output_type": "execute_result",
          "data": {
            "text/plain": [
              "'larry'"
            ],
            "application/vnd.google.colaboratory.intrinsic+json": {
              "type": "string"
            }
          },
          "metadata": {},
          "execution_count": 99
        }
      ]
    },
    {
      "cell_type": "code",
      "source": [
        "def embed(sentence):\n",
        "  a=0\n",
        "  tempdict = tokenize(sentence, a)\n",
        "  with torch.no_grad():\n",
        "    outputs = model(tempdict['tokens_tensor'], tempdict['segments_tensors'])\n",
        "    # Evaluating the model will return a different number of objects based on \n",
        "    # how it's  configured in the `from_pretrained` call earlier. In this case, \n",
        "    # becase we set `output_hidden_states = True`, the third item will be the \n",
        "    # hidden states from all layers. See the documentation for more details:\n",
        "    # https://huggingface.co/transformers/model_doc/bert.html#bertmodel\n",
        "    hidden_states = outputs[2]\n",
        "    token_embeddings = torch.stack(hidden_states, dim=0)\n",
        "    token_embeddings = torch.squeeze(token_embeddings, dim=1)\n",
        "    token_embeddings = token_embeddings.permute(1,0,2)\n",
        "  a+=1\n",
        "  return token_embeddings"
      ],
      "metadata": {
        "id": "P-qbGEJ-F3X0"
      },
      "execution_count": null,
      "outputs": []
    },
    {
      "cell_type": "code",
      "source": [
        "sample.columns[3:]"
      ],
      "metadata": {
        "colab": {
          "base_uri": "https://localhost:8080/"
        },
        "id": "hIFy_w6wCgkS",
        "outputId": "0cf087b9-2c81-45c5-fb32-ca50c7a3a8ee"
      },
      "execution_count": 112,
      "outputs": [
        {
          "output_type": "execute_result",
          "data": {
            "text/plain": [
              "Index(['clmn1', 'clmn10', 'clmn100', 'clmn101', 'clmn102', 'clmn103',\n",
              "       'clmn104', 'clmn105', 'clmn106', 'clmn107',\n",
              "       ...\n",
              "       'clmn91', 'clmn92', 'clmn93', 'clmn94', 'clmn95', 'clmn96', 'clmn97',\n",
              "       'clmn98', 'clmn99', 'owner_cmnt'],\n",
              "      dtype='object', length=196)"
            ]
          },
          "metadata": {},
          "execution_count": 112
        }
      ]
    },
    {
      "cell_type": "code",
      "source": [
        "# embedding = {}\n",
        "# for i in range(len(sentences)):\n",
        "#   for j in range(len(sentences[i])):\n",
        "#     embedding[sentences[i][j]] = embed(sentences[i][j])\n",
        "\n",
        "for col in sample.columns[2:]:\n",
        "  sample[col] = sample[col].apply(lambda x: embed(x))"
      ],
      "metadata": {
        "id": "9b7n7a1zA_s1"
      },
      "execution_count": 113,
      "outputs": []
    },
    {
      "cell_type": "code",
      "source": [
        "sample.iloc[0,2].size() #[number of tokens, 13 layers, 768 features]"
      ],
      "metadata": {
        "colab": {
          "base_uri": "https://localhost:8080/"
        },
        "id": "p1aPOczcB8hv",
        "outputId": "f7309a81-d719-4834-971e-bd340fe52b7a"
      },
      "execution_count": 115,
      "outputs": [
        {
          "output_type": "execute_result",
          "data": {
            "text/plain": [
              "torch.Size([6, 13, 768])"
            ]
          },
          "metadata": {},
          "execution_count": 115
        }
      ]
    },
    {
      "cell_type": "code",
      "source": [
        "sample.sample(2)"
      ],
      "metadata": {
        "colab": {
          "base_uri": "https://localhost:8080/",
          "height": 306
        },
        "id": "v1LEiD55DIq7",
        "outputId": "4ddf8ff5-3b29-4fd8-c880-16faeff0782f"
      },
      "execution_count": 123,
      "outputs": [
        {
          "output_type": "execute_result",
          "data": {
            "text/plain": [
              "          question1 question2  \\\n",
              "_unit_id                        \n",
              "702714444   noneAgg   noneBll   \n",
              "702714442   noneAgg   noneBll   \n",
              "\n",
              "                                                       clmn1  \\\n",
              "_unit_id                                                       \n",
              "702714444  [[[tensor(0.1686), tensor(-0.2858), tensor(-0....   \n",
              "702714442  [[[tensor(0.1686), tensor(-0.2858), tensor(-0....   \n",
              "\n",
              "                                                      clmn10  \\\n",
              "_unit_id                                                       \n",
              "702714444  [[[tensor(0.1686), tensor(-0.2858), tensor(-0....   \n",
              "702714442  [[[tensor(0.1686), tensor(-0.2858), tensor(-0....   \n",
              "\n",
              "                                                     clmn100  \\\n",
              "_unit_id                                                       \n",
              "702714444  [[[tensor(0.1686), tensor(-0.2858), tensor(-0....   \n",
              "702714442  [[[tensor(0.1686), tensor(-0.2858), tensor(-0....   \n",
              "\n",
              "                                                     clmn101  \\\n",
              "_unit_id                                                       \n",
              "702714444  [[[tensor(0.1686), tensor(-0.2858), tensor(-0....   \n",
              "702714442  [[[tensor(0.1686), tensor(-0.2858), tensor(-0....   \n",
              "\n",
              "                                                     clmn102  \\\n",
              "_unit_id                                                       \n",
              "702714444  [[[tensor(0.1686), tensor(-0.2858), tensor(-0....   \n",
              "702714442  [[[tensor(0.1686), tensor(-0.2858), tensor(-0....   \n",
              "\n",
              "                                                     clmn103  \\\n",
              "_unit_id                                                       \n",
              "702714444  [[[tensor(0.1686), tensor(-0.2858), tensor(-0....   \n",
              "702714442  [[[tensor(0.1686), tensor(-0.2858), tensor(-0....   \n",
              "\n",
              "                                                     clmn104  \\\n",
              "_unit_id                                                       \n",
              "702714444  [[[tensor(0.1686), tensor(-0.2858), tensor(-0....   \n",
              "702714442  [[[tensor(0.1686), tensor(-0.2858), tensor(-0....   \n",
              "\n",
              "                                                     clmn105  ...  \\\n",
              "_unit_id                                                      ...   \n",
              "702714444  [[[tensor(0.1686), tensor(-0.2858), tensor(-0....  ...   \n",
              "702714442  [[[tensor(0.1686), tensor(-0.2858), tensor(-0....  ...   \n",
              "\n",
              "                                                      clmn91  \\\n",
              "_unit_id                                                       \n",
              "702714444  [[[tensor(0.1686), tensor(-0.2858), tensor(-0....   \n",
              "702714442  [[[tensor(0.1686), tensor(-0.2858), tensor(-0....   \n",
              "\n",
              "                                                      clmn92  \\\n",
              "_unit_id                                                       \n",
              "702714444  [[[tensor(0.1686), tensor(-0.2858), tensor(-0....   \n",
              "702714442  [[[tensor(0.1686), tensor(-0.2858), tensor(-0....   \n",
              "\n",
              "                                                      clmn93  \\\n",
              "_unit_id                                                       \n",
              "702714444  [[[tensor(0.1686), tensor(-0.2858), tensor(-0....   \n",
              "702714442  [[[tensor(0.1686), tensor(-0.2858), tensor(-0....   \n",
              "\n",
              "                                                      clmn94  \\\n",
              "_unit_id                                                       \n",
              "702714444  [[[tensor(0.1686), tensor(-0.2858), tensor(-0....   \n",
              "702714442  [[[tensor(0.1686), tensor(-0.2858), tensor(-0....   \n",
              "\n",
              "                                                      clmn95  \\\n",
              "_unit_id                                                       \n",
              "702714444  [[[tensor(0.1686), tensor(-0.2858), tensor(-0....   \n",
              "702714442  [[[tensor(0.1686), tensor(-0.2858), tensor(-0....   \n",
              "\n",
              "                                                      clmn96  \\\n",
              "_unit_id                                                       \n",
              "702714444  [[[tensor(0.1686), tensor(-0.2858), tensor(-0....   \n",
              "702714442  [[[tensor(0.1686), tensor(-0.2858), tensor(-0....   \n",
              "\n",
              "                                                      clmn97  \\\n",
              "_unit_id                                                       \n",
              "702714444  [[[tensor(0.1686), tensor(-0.2858), tensor(-0....   \n",
              "702714442  [[[tensor(0.1686), tensor(-0.2858), tensor(-0....   \n",
              "\n",
              "                                                      clmn98  \\\n",
              "_unit_id                                                       \n",
              "702714444  [[[tensor(0.1686), tensor(-0.2858), tensor(-0....   \n",
              "702714442  [[[tensor(0.1686), tensor(-0.2858), tensor(-0....   \n",
              "\n",
              "                                                      clmn99  \\\n",
              "_unit_id                                                       \n",
              "702714444  [[[tensor(0.1686), tensor(-0.2858), tensor(-0....   \n",
              "702714442  [[[tensor(0.1686), tensor(-0.2858), tensor(-0....   \n",
              "\n",
              "                                                  owner_cmnt  \n",
              "_unit_id                                                      \n",
              "702714444  [[[tensor(0.1686), tensor(-0.2858), tensor(-0....  \n",
              "702714442  [[[tensor(0.1686), tensor(-0.2858), tensor(-0....  \n",
              "\n",
              "[2 rows x 198 columns]"
            ],
            "text/html": [
              "\n",
              "  <div id=\"df-0c9c4a45-5a82-4b26-8364-460b779d5bd3\">\n",
              "    <div class=\"colab-df-container\">\n",
              "      <div>\n",
              "<style scoped>\n",
              "    .dataframe tbody tr th:only-of-type {\n",
              "        vertical-align: middle;\n",
              "    }\n",
              "\n",
              "    .dataframe tbody tr th {\n",
              "        vertical-align: top;\n",
              "    }\n",
              "\n",
              "    .dataframe thead th {\n",
              "        text-align: right;\n",
              "    }\n",
              "</style>\n",
              "<table border=\"1\" class=\"dataframe\">\n",
              "  <thead>\n",
              "    <tr style=\"text-align: right;\">\n",
              "      <th></th>\n",
              "      <th>question1</th>\n",
              "      <th>question2</th>\n",
              "      <th>clmn1</th>\n",
              "      <th>clmn10</th>\n",
              "      <th>clmn100</th>\n",
              "      <th>clmn101</th>\n",
              "      <th>clmn102</th>\n",
              "      <th>clmn103</th>\n",
              "      <th>clmn104</th>\n",
              "      <th>clmn105</th>\n",
              "      <th>...</th>\n",
              "      <th>clmn91</th>\n",
              "      <th>clmn92</th>\n",
              "      <th>clmn93</th>\n",
              "      <th>clmn94</th>\n",
              "      <th>clmn95</th>\n",
              "      <th>clmn96</th>\n",
              "      <th>clmn97</th>\n",
              "      <th>clmn98</th>\n",
              "      <th>clmn99</th>\n",
              "      <th>owner_cmnt</th>\n",
              "    </tr>\n",
              "    <tr>\n",
              "      <th>_unit_id</th>\n",
              "      <th></th>\n",
              "      <th></th>\n",
              "      <th></th>\n",
              "      <th></th>\n",
              "      <th></th>\n",
              "      <th></th>\n",
              "      <th></th>\n",
              "      <th></th>\n",
              "      <th></th>\n",
              "      <th></th>\n",
              "      <th></th>\n",
              "      <th></th>\n",
              "      <th></th>\n",
              "      <th></th>\n",
              "      <th></th>\n",
              "      <th></th>\n",
              "      <th></th>\n",
              "      <th></th>\n",
              "      <th></th>\n",
              "      <th></th>\n",
              "      <th></th>\n",
              "    </tr>\n",
              "  </thead>\n",
              "  <tbody>\n",
              "    <tr>\n",
              "      <th>702714444</th>\n",
              "      <td>noneAgg</td>\n",
              "      <td>noneBll</td>\n",
              "      <td>[[[tensor(0.1686), tensor(-0.2858), tensor(-0....</td>\n",
              "      <td>[[[tensor(0.1686), tensor(-0.2858), tensor(-0....</td>\n",
              "      <td>[[[tensor(0.1686), tensor(-0.2858), tensor(-0....</td>\n",
              "      <td>[[[tensor(0.1686), tensor(-0.2858), tensor(-0....</td>\n",
              "      <td>[[[tensor(0.1686), tensor(-0.2858), tensor(-0....</td>\n",
              "      <td>[[[tensor(0.1686), tensor(-0.2858), tensor(-0....</td>\n",
              "      <td>[[[tensor(0.1686), tensor(-0.2858), tensor(-0....</td>\n",
              "      <td>[[[tensor(0.1686), tensor(-0.2858), tensor(-0....</td>\n",
              "      <td>...</td>\n",
              "      <td>[[[tensor(0.1686), tensor(-0.2858), tensor(-0....</td>\n",
              "      <td>[[[tensor(0.1686), tensor(-0.2858), tensor(-0....</td>\n",
              "      <td>[[[tensor(0.1686), tensor(-0.2858), tensor(-0....</td>\n",
              "      <td>[[[tensor(0.1686), tensor(-0.2858), tensor(-0....</td>\n",
              "      <td>[[[tensor(0.1686), tensor(-0.2858), tensor(-0....</td>\n",
              "      <td>[[[tensor(0.1686), tensor(-0.2858), tensor(-0....</td>\n",
              "      <td>[[[tensor(0.1686), tensor(-0.2858), tensor(-0....</td>\n",
              "      <td>[[[tensor(0.1686), tensor(-0.2858), tensor(-0....</td>\n",
              "      <td>[[[tensor(0.1686), tensor(-0.2858), tensor(-0....</td>\n",
              "      <td>[[[tensor(0.1686), tensor(-0.2858), tensor(-0....</td>\n",
              "    </tr>\n",
              "    <tr>\n",
              "      <th>702714442</th>\n",
              "      <td>noneAgg</td>\n",
              "      <td>noneBll</td>\n",
              "      <td>[[[tensor(0.1686), tensor(-0.2858), tensor(-0....</td>\n",
              "      <td>[[[tensor(0.1686), tensor(-0.2858), tensor(-0....</td>\n",
              "      <td>[[[tensor(0.1686), tensor(-0.2858), tensor(-0....</td>\n",
              "      <td>[[[tensor(0.1686), tensor(-0.2858), tensor(-0....</td>\n",
              "      <td>[[[tensor(0.1686), tensor(-0.2858), tensor(-0....</td>\n",
              "      <td>[[[tensor(0.1686), tensor(-0.2858), tensor(-0....</td>\n",
              "      <td>[[[tensor(0.1686), tensor(-0.2858), tensor(-0....</td>\n",
              "      <td>[[[tensor(0.1686), tensor(-0.2858), tensor(-0....</td>\n",
              "      <td>...</td>\n",
              "      <td>[[[tensor(0.1686), tensor(-0.2858), tensor(-0....</td>\n",
              "      <td>[[[tensor(0.1686), tensor(-0.2858), tensor(-0....</td>\n",
              "      <td>[[[tensor(0.1686), tensor(-0.2858), tensor(-0....</td>\n",
              "      <td>[[[tensor(0.1686), tensor(-0.2858), tensor(-0....</td>\n",
              "      <td>[[[tensor(0.1686), tensor(-0.2858), tensor(-0....</td>\n",
              "      <td>[[[tensor(0.1686), tensor(-0.2858), tensor(-0....</td>\n",
              "      <td>[[[tensor(0.1686), tensor(-0.2858), tensor(-0....</td>\n",
              "      <td>[[[tensor(0.1686), tensor(-0.2858), tensor(-0....</td>\n",
              "      <td>[[[tensor(0.1686), tensor(-0.2858), tensor(-0....</td>\n",
              "      <td>[[[tensor(0.1686), tensor(-0.2858), tensor(-0....</td>\n",
              "    </tr>\n",
              "  </tbody>\n",
              "</table>\n",
              "<p>2 rows × 198 columns</p>\n",
              "</div>\n",
              "      <button class=\"colab-df-convert\" onclick=\"convertToInteractive('df-0c9c4a45-5a82-4b26-8364-460b779d5bd3')\"\n",
              "              title=\"Convert this dataframe to an interactive table.\"\n",
              "              style=\"display:none;\">\n",
              "        \n",
              "  <svg xmlns=\"http://www.w3.org/2000/svg\" height=\"24px\"viewBox=\"0 0 24 24\"\n",
              "       width=\"24px\">\n",
              "    <path d=\"M0 0h24v24H0V0z\" fill=\"none\"/>\n",
              "    <path d=\"M18.56 5.44l.94 2.06.94-2.06 2.06-.94-2.06-.94-.94-2.06-.94 2.06-2.06.94zm-11 1L8.5 8.5l.94-2.06 2.06-.94-2.06-.94L8.5 2.5l-.94 2.06-2.06.94zm10 10l.94 2.06.94-2.06 2.06-.94-2.06-.94-.94-2.06-.94 2.06-2.06.94z\"/><path d=\"M17.41 7.96l-1.37-1.37c-.4-.4-.92-.59-1.43-.59-.52 0-1.04.2-1.43.59L10.3 9.45l-7.72 7.72c-.78.78-.78 2.05 0 2.83L4 21.41c.39.39.9.59 1.41.59.51 0 1.02-.2 1.41-.59l7.78-7.78 2.81-2.81c.8-.78.8-2.07 0-2.86zM5.41 20L4 18.59l7.72-7.72 1.47 1.35L5.41 20z\"/>\n",
              "  </svg>\n",
              "      </button>\n",
              "      \n",
              "  <style>\n",
              "    .colab-df-container {\n",
              "      display:flex;\n",
              "      flex-wrap:wrap;\n",
              "      gap: 12px;\n",
              "    }\n",
              "\n",
              "    .colab-df-convert {\n",
              "      background-color: #E8F0FE;\n",
              "      border: none;\n",
              "      border-radius: 50%;\n",
              "      cursor: pointer;\n",
              "      display: none;\n",
              "      fill: #1967D2;\n",
              "      height: 32px;\n",
              "      padding: 0 0 0 0;\n",
              "      width: 32px;\n",
              "    }\n",
              "\n",
              "    .colab-df-convert:hover {\n",
              "      background-color: #E2EBFA;\n",
              "      box-shadow: 0px 1px 2px rgba(60, 64, 67, 0.3), 0px 1px 3px 1px rgba(60, 64, 67, 0.15);\n",
              "      fill: #174EA6;\n",
              "    }\n",
              "\n",
              "    [theme=dark] .colab-df-convert {\n",
              "      background-color: #3B4455;\n",
              "      fill: #D2E3FC;\n",
              "    }\n",
              "\n",
              "    [theme=dark] .colab-df-convert:hover {\n",
              "      background-color: #434B5C;\n",
              "      box-shadow: 0px 1px 3px 1px rgba(0, 0, 0, 0.15);\n",
              "      filter: drop-shadow(0px 1px 2px rgba(0, 0, 0, 0.3));\n",
              "      fill: #FFFFFF;\n",
              "    }\n",
              "  </style>\n",
              "\n",
              "      <script>\n",
              "        const buttonEl =\n",
              "          document.querySelector('#df-0c9c4a45-5a82-4b26-8364-460b779d5bd3 button.colab-df-convert');\n",
              "        buttonEl.style.display =\n",
              "          google.colab.kernel.accessAllowed ? 'block' : 'none';\n",
              "\n",
              "        async function convertToInteractive(key) {\n",
              "          const element = document.querySelector('#df-0c9c4a45-5a82-4b26-8364-460b779d5bd3');\n",
              "          const dataTable =\n",
              "            await google.colab.kernel.invokeFunction('convertToInteractive',\n",
              "                                                     [key], {});\n",
              "          if (!dataTable) return;\n",
              "\n",
              "          const docLinkHtml = 'Like what you see? Visit the ' +\n",
              "            '<a target=\"_blank\" href=https://colab.research.google.com/notebooks/data_table.ipynb>data table notebook</a>'\n",
              "            + ' to learn more about interactive tables.';\n",
              "          element.innerHTML = '';\n",
              "          dataTable['output_type'] = 'display_data';\n",
              "          await google.colab.output.renderOutput(dataTable, element);\n",
              "          const docLink = document.createElement('div');\n",
              "          docLink.innerHTML = docLinkHtml;\n",
              "          element.appendChild(docLink);\n",
              "        }\n",
              "      </script>\n",
              "    </div>\n",
              "  </div>\n",
              "  "
            ]
          },
          "metadata": {},
          "execution_count": 123
        }
      ]
    },
    {
      "cell_type": "code",
      "source": [],
      "metadata": {
        "id": "UxQ7kYitMXiz"
      },
      "execution_count": null,
      "outputs": []
    },
    {
      "cell_type": "code",
      "source": [
        "# Stores the token vectors, with shape [<num of tokens> x 768]\n",
        "#token_vecs_sum = []\n",
        "\n",
        "# each `embedding.values` is a [<num of tokens> x 12 x 768] tensor.\n",
        "\n",
        "# For each token in the sentence...\n",
        "\n",
        "def vec(embedd):\n",
        "  token_vecs_sum = []\n",
        "  for token in embedd:\n",
        "    # `token` is a [12 x 768] tensor\n",
        "    # Sum the vectors from the last four layers.\n",
        "    sum_vec = torch.sum(token[-4:], dim=0)\n",
        "    # Use `sum_vec` to represent `token`.\n",
        "    token_vecs_sum.append(sum_vec)\n",
        "  return token_vecs_sum\n",
        "\n",
        "for col in sample.columns[2:]:\n",
        "  sample[col] = sample[col].apply(lambda x: vec(x))"
      ],
      "metadata": {
        "id": "v6ZmiqlCEymM"
      },
      "execution_count": 124,
      "outputs": []
    },
    {
      "cell_type": "code",
      "source": [
        "print(\"Number of tokens:\", len(sample.iloc[0,2]))\n",
        "print(\"Number of features:\", sample.iloc[0,2][0].size())"
      ],
      "metadata": {
        "colab": {
          "base_uri": "https://localhost:8080/"
        },
        "id": "lN3gdq3VnSUU",
        "outputId": "5371018b-7abb-42a5-9eb4-862909a62302"
      },
      "execution_count": 130,
      "outputs": [
        {
          "output_type": "stream",
          "name": "stdout",
          "text": [
            "Number of tokens: 6\n",
            "Number of features: torch.Size([768])\n"
          ]
        }
      ]
    },
    {
      "cell_type": "code",
      "source": [
        "max()"
      ],
      "metadata": {
        "id": "LziR0BwSJnJ4"
      },
      "execution_count": null,
      "outputs": []
    },
    {
      "cell_type": "code",
      "source": [
        "count = 0\n",
        "for i in range(5):\n",
        "  count = count + len(sentences[i])\n",
        "\n",
        "print(\"total number of sentences including NA:\", count) #196 columns * 5 rows = 980"
      ],
      "metadata": {
        "colab": {
          "base_uri": "https://localhost:8080/"
        },
        "id": "mgk_2GpLnbWz",
        "outputId": "9a040ca2-558f-4d3d-a71c-1049c0d17cb5"
      },
      "execution_count": null,
      "outputs": [
        {
          "output_type": "stream",
          "name": "stdout",
          "text": [
            "total number of sentences including NA: 980\n"
          ]
        }
      ]
    },
    {
      "cell_type": "code",
      "source": [
        "sample_c = sample.copy(deep=True)"
      ],
      "metadata": {
        "id": "xPEamWbP2a4w"
      },
      "execution_count": 68,
      "outputs": []
    },
    {
      "cell_type": "code",
      "source": [
        "token_vec[sample.iloc[0,3]][0].size()"
      ],
      "metadata": {
        "colab": {
          "base_uri": "https://localhost:8080/"
        },
        "id": "msqH0AIS2vSG",
        "outputId": "1839e6e4-9ecf-4af1-a51d-3d7cd6e3d6a2"
      },
      "execution_count": 95,
      "outputs": [
        {
          "output_type": "execute_result",
          "data": {
            "text/plain": [
              "torch.Size([768])"
            ]
          },
          "metadata": {},
          "execution_count": 95
        }
      ]
    },
    {
      "cell_type": "code",
      "source": [
        "type(sample.iloc[0,4])"
      ],
      "metadata": {
        "colab": {
          "base_uri": "https://localhost:8080/"
        },
        "id": "zm2m3_Zv2xwO",
        "outputId": "54a5c336-b6cd-49e1-b6c5-ca651484c13d"
      },
      "execution_count": 82,
      "outputs": [
        {
          "output_type": "execute_result",
          "data": {
            "text/plain": [
              "str"
            ]
          },
          "metadata": {},
          "execution_count": 82
        }
      ]
    },
    {
      "cell_type": "code",
      "source": [],
      "metadata": {
        "colab": {
          "base_uri": "https://localhost:8080/",
          "height": 165
        },
        "id": "TPTsUNnS68Yi",
        "outputId": "615c6d36-9dbd-42ec-dc03-fd237877faca"
      },
      "execution_count": 90,
      "outputs": [
        {
          "output_type": "error",
          "ename": "AttributeError",
          "evalue": "ignored",
          "traceback": [
            "\u001b[0;31m---------------------------------------------------------------------------\u001b[0m",
            "\u001b[0;31mAttributeError\u001b[0m                            Traceback (most recent call last)",
            "\u001b[0;32m<ipython-input-90-dcf485329bd9>\u001b[0m in \u001b[0;36m<module>\u001b[0;34m\u001b[0m\n\u001b[0;32m----> 1\u001b[0;31m \u001b[0mtoken_vec\u001b[0m\u001b[0;34m[\u001b[0m\u001b[0;34m'a'\u001b[0m\u001b[0;34m]\u001b[0m\u001b[0;34m.\u001b[0m\u001b[0msize\u001b[0m\u001b[0;34m(\u001b[0m\u001b[0;34m)\u001b[0m\u001b[0;34m\u001b[0m\u001b[0;34m\u001b[0m\u001b[0m\n\u001b[0m",
            "\u001b[0;31mAttributeError\u001b[0m: 'list' object has no attribute 'size'"
          ]
        }
      ]
    },
    {
      "cell_type": "code",
      "source": [
        "# count1 = 0\n",
        "# for i in range(5):\n",
        "#   #count1 += np.count_nonzero(sentences[i] == 'a')\n",
        "#   count1 = count1 + (sentences[i] != 'a').sum()\n",
        "# print(\"Senternces without NA:\", count1)"
      ],
      "metadata": {
        "id": "SBvbZbkin_T-"
      },
      "execution_count": null,
      "outputs": []
    },
    {
      "cell_type": "code",
      "source": [
        "len(token_vec) #number of sentences that are not na\n",
        "\n",
        "#repeated sentences occur once"
      ],
      "metadata": {
        "id": "yvtLZFW4HMpL"
      },
      "execution_count": null,
      "outputs": []
    },
    {
      "cell_type": "code",
      "source": [
        "model = Sequential()\n",
        "model.add(Bidirectional(LSTM(num_channels, \n",
        "        implementation = 2, recurrent_activation = 'sigmoid'),\n",
        "        input_shape=(input_length, input_dim)))"
      ],
      "metadata": {
        "id": "k3BOfff4pgbV"
      },
      "execution_count": null,
      "outputs": []
    },
    {
      "cell_type": "code",
      "source": [
        "# conditions = [\n",
        "#     df['gender'].eq('male') & df['pet1'].eq(df['pet2']),\n",
        "#     df['gender'].eq('female') & df['pet1'].isin(['cat', 'dog'])\n",
        "# ]\n",
        "\n",
        "# choices = [5,5]\n",
        "\n",
        "# df['points'] = np.select(conditions, choices, default=0)"
      ],
      "metadata": {
        "id": "ycTj88JrvLvW"
      },
      "execution_count": null,
      "outputs": []
    },
    {
      "cell_type": "code",
      "source": [
        "# s = sample.replace(np.NaN, '')\n",
        "# n = s.drop(['question1','question2'], axis=1).to_numpy()\n",
        "# n"
      ],
      "metadata": {
        "id": "CqQOn7A1ihMA"
      },
      "execution_count": null,
      "outputs": []
    },
    {
      "cell_type": "code",
      "source": [
        "## create label and sentence list\n",
        "# sentences = n"
      ],
      "metadata": {
        "id": "p0UPraPezkrN"
      },
      "execution_count": null,
      "outputs": []
    },
    {
      "cell_type": "code",
      "source": [
        "# ## Import BERT tokenizer, that is used to convert our text into tokens that corresponds to BERT library\n",
        "# tokenizer = BertTokenizer.from_pretrained('bert-base-uncased',do_lower_case=True)\n",
        "# input_ids = [tokenizer.encode(sent, add_special_tokens=True,padding==True) for sent in sentences]\n",
        "# labels = s.question1.values\n",
        "\n",
        "# print(\"Actual sentence before tokenization: \",sentences[2])\n",
        "# print(\"Encoded Input from dataset: \",input_ids[2])\n",
        "\n",
        "# ## Create attention mask\n",
        "# attention_masks = []\n",
        "# ## Create a mask of 1 for all input tokens and 0 for all padding tokens\n",
        "# attention_masks = [[float(i>0) for i in seq] for seq in input_ids]\n",
        "# print(attention_masks[2])"
      ],
      "metadata": {
        "id": "8SHbW0gL0FrY"
      },
      "execution_count": null,
      "outputs": []
    },
    {
      "cell_type": "code",
      "source": [
        "# newsent = np.array([])\n",
        "# for i in range(5):\n",
        "#   newsent[i] = np.delete(sentences[i], np.where(sentences[i] == 'a'))"
      ],
      "metadata": {
        "id": "RZigsFFb30MH"
      },
      "execution_count": null,
      "outputs": []
    },
    {
      "cell_type": "code",
      "source": [
        "# token_vec = {}\n",
        "# for text, embedd in embedding.items():\n",
        "#   token_vecs_sum = []\n",
        "#   for token in embedd:\n",
        "#     # `token` is a [12 x 768] tensor\n",
        "#     # Sum the vectors from the last four layers.\n",
        "#     sum_vec = torch.sum(token[-4:], dim=0)\n",
        "#     # Use `sum_vec` to represent `token`.\n",
        "#     token_vecs_sum.append(sum_vec)\n",
        "#     token_vec[text] = token_vecs_sum\n",
        "\n",
        "#print ('Shape is: %d x %d' % (len(token_vecs_sum), len(token_vecs_sum[0])))"
      ],
      "metadata": {
        "id": "s0YsclKjHThK"
      },
      "execution_count": null,
      "outputs": []
    }
  ]
}