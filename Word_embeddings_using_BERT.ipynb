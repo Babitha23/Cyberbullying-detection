{
  "nbformat": 4,
  "nbformat_minor": 0,
  "metadata": {
    "colab": {
      "provenance": [],
      "collapsed_sections": [],
      "authorship_tag": "ABX9TyMz3c3laPQXiBYUm/ANiHMZ",
      "include_colab_link": true
    },
    "kernelspec": {
      "name": "python3",
      "display_name": "Python 3"
    },
    "language_info": {
      "name": "python"
    },
    "accelerator": "GPU",
    "gpuClass": "standard",
    "widgets": {
      "application/vnd.jupyter.widget-state+json": {
        "b34f734a54df4c6a95be5115312eb3d2": {
          "model_module": "@jupyter-widgets/controls",
          "model_name": "HBoxModel",
          "model_module_version": "1.5.0",
          "state": {
            "_dom_classes": [],
            "_model_module": "@jupyter-widgets/controls",
            "_model_module_version": "1.5.0",
            "_model_name": "HBoxModel",
            "_view_count": null,
            "_view_module": "@jupyter-widgets/controls",
            "_view_module_version": "1.5.0",
            "_view_name": "HBoxView",
            "box_style": "",
            "children": [
              "IPY_MODEL_46187cda719c481cbcdf1ac86510b283",
              "IPY_MODEL_95c4124f718747d69913297dcbfaa770",
              "IPY_MODEL_21c4dcc3b15443fea2e2ff1eb2678a86"
            ],
            "layout": "IPY_MODEL_6695b8168ed249f9b72a02a589d72036"
          }
        },
        "46187cda719c481cbcdf1ac86510b283": {
          "model_module": "@jupyter-widgets/controls",
          "model_name": "HTMLModel",
          "model_module_version": "1.5.0",
          "state": {
            "_dom_classes": [],
            "_model_module": "@jupyter-widgets/controls",
            "_model_module_version": "1.5.0",
            "_model_name": "HTMLModel",
            "_view_count": null,
            "_view_module": "@jupyter-widgets/controls",
            "_view_module_version": "1.5.0",
            "_view_name": "HTMLView",
            "description": "",
            "description_tooltip": null,
            "layout": "IPY_MODEL_54df21450e6544ca86d7e03c2f3f8d41",
            "placeholder": "​",
            "style": "IPY_MODEL_3faafd39b41947c3aab028529a272a7c",
            "value": "Downloading: 100%"
          }
        },
        "95c4124f718747d69913297dcbfaa770": {
          "model_module": "@jupyter-widgets/controls",
          "model_name": "FloatProgressModel",
          "model_module_version": "1.5.0",
          "state": {
            "_dom_classes": [],
            "_model_module": "@jupyter-widgets/controls",
            "_model_module_version": "1.5.0",
            "_model_name": "FloatProgressModel",
            "_view_count": null,
            "_view_module": "@jupyter-widgets/controls",
            "_view_module_version": "1.5.0",
            "_view_name": "ProgressView",
            "bar_style": "success",
            "description": "",
            "description_tooltip": null,
            "layout": "IPY_MODEL_a57213e008024d5e8dee3dc16a675669",
            "max": 231508,
            "min": 0,
            "orientation": "horizontal",
            "style": "IPY_MODEL_8a88d07509dc4ee7af500ca74e866661",
            "value": 231508
          }
        },
        "21c4dcc3b15443fea2e2ff1eb2678a86": {
          "model_module": "@jupyter-widgets/controls",
          "model_name": "HTMLModel",
          "model_module_version": "1.5.0",
          "state": {
            "_dom_classes": [],
            "_model_module": "@jupyter-widgets/controls",
            "_model_module_version": "1.5.0",
            "_model_name": "HTMLModel",
            "_view_count": null,
            "_view_module": "@jupyter-widgets/controls",
            "_view_module_version": "1.5.0",
            "_view_name": "HTMLView",
            "description": "",
            "description_tooltip": null,
            "layout": "IPY_MODEL_eeea7d02eb564150afa2587f8df62a70",
            "placeholder": "​",
            "style": "IPY_MODEL_feca0484084145c0848dd46086d08f5f",
            "value": " 232k/232k [00:00&lt;00:00, 4.70MB/s]"
          }
        },
        "6695b8168ed249f9b72a02a589d72036": {
          "model_module": "@jupyter-widgets/base",
          "model_name": "LayoutModel",
          "model_module_version": "1.2.0",
          "state": {
            "_model_module": "@jupyter-widgets/base",
            "_model_module_version": "1.2.0",
            "_model_name": "LayoutModel",
            "_view_count": null,
            "_view_module": "@jupyter-widgets/base",
            "_view_module_version": "1.2.0",
            "_view_name": "LayoutView",
            "align_content": null,
            "align_items": null,
            "align_self": null,
            "border": null,
            "bottom": null,
            "display": null,
            "flex": null,
            "flex_flow": null,
            "grid_area": null,
            "grid_auto_columns": null,
            "grid_auto_flow": null,
            "grid_auto_rows": null,
            "grid_column": null,
            "grid_gap": null,
            "grid_row": null,
            "grid_template_areas": null,
            "grid_template_columns": null,
            "grid_template_rows": null,
            "height": null,
            "justify_content": null,
            "justify_items": null,
            "left": null,
            "margin": null,
            "max_height": null,
            "max_width": null,
            "min_height": null,
            "min_width": null,
            "object_fit": null,
            "object_position": null,
            "order": null,
            "overflow": null,
            "overflow_x": null,
            "overflow_y": null,
            "padding": null,
            "right": null,
            "top": null,
            "visibility": null,
            "width": null
          }
        },
        "54df21450e6544ca86d7e03c2f3f8d41": {
          "model_module": "@jupyter-widgets/base",
          "model_name": "LayoutModel",
          "model_module_version": "1.2.0",
          "state": {
            "_model_module": "@jupyter-widgets/base",
            "_model_module_version": "1.2.0",
            "_model_name": "LayoutModel",
            "_view_count": null,
            "_view_module": "@jupyter-widgets/base",
            "_view_module_version": "1.2.0",
            "_view_name": "LayoutView",
            "align_content": null,
            "align_items": null,
            "align_self": null,
            "border": null,
            "bottom": null,
            "display": null,
            "flex": null,
            "flex_flow": null,
            "grid_area": null,
            "grid_auto_columns": null,
            "grid_auto_flow": null,
            "grid_auto_rows": null,
            "grid_column": null,
            "grid_gap": null,
            "grid_row": null,
            "grid_template_areas": null,
            "grid_template_columns": null,
            "grid_template_rows": null,
            "height": null,
            "justify_content": null,
            "justify_items": null,
            "left": null,
            "margin": null,
            "max_height": null,
            "max_width": null,
            "min_height": null,
            "min_width": null,
            "object_fit": null,
            "object_position": null,
            "order": null,
            "overflow": null,
            "overflow_x": null,
            "overflow_y": null,
            "padding": null,
            "right": null,
            "top": null,
            "visibility": null,
            "width": null
          }
        },
        "3faafd39b41947c3aab028529a272a7c": {
          "model_module": "@jupyter-widgets/controls",
          "model_name": "DescriptionStyleModel",
          "model_module_version": "1.5.0",
          "state": {
            "_model_module": "@jupyter-widgets/controls",
            "_model_module_version": "1.5.0",
            "_model_name": "DescriptionStyleModel",
            "_view_count": null,
            "_view_module": "@jupyter-widgets/base",
            "_view_module_version": "1.2.0",
            "_view_name": "StyleView",
            "description_width": ""
          }
        },
        "a57213e008024d5e8dee3dc16a675669": {
          "model_module": "@jupyter-widgets/base",
          "model_name": "LayoutModel",
          "model_module_version": "1.2.0",
          "state": {
            "_model_module": "@jupyter-widgets/base",
            "_model_module_version": "1.2.0",
            "_model_name": "LayoutModel",
            "_view_count": null,
            "_view_module": "@jupyter-widgets/base",
            "_view_module_version": "1.2.0",
            "_view_name": "LayoutView",
            "align_content": null,
            "align_items": null,
            "align_self": null,
            "border": null,
            "bottom": null,
            "display": null,
            "flex": null,
            "flex_flow": null,
            "grid_area": null,
            "grid_auto_columns": null,
            "grid_auto_flow": null,
            "grid_auto_rows": null,
            "grid_column": null,
            "grid_gap": null,
            "grid_row": null,
            "grid_template_areas": null,
            "grid_template_columns": null,
            "grid_template_rows": null,
            "height": null,
            "justify_content": null,
            "justify_items": null,
            "left": null,
            "margin": null,
            "max_height": null,
            "max_width": null,
            "min_height": null,
            "min_width": null,
            "object_fit": null,
            "object_position": null,
            "order": null,
            "overflow": null,
            "overflow_x": null,
            "overflow_y": null,
            "padding": null,
            "right": null,
            "top": null,
            "visibility": null,
            "width": null
          }
        },
        "8a88d07509dc4ee7af500ca74e866661": {
          "model_module": "@jupyter-widgets/controls",
          "model_name": "ProgressStyleModel",
          "model_module_version": "1.5.0",
          "state": {
            "_model_module": "@jupyter-widgets/controls",
            "_model_module_version": "1.5.0",
            "_model_name": "ProgressStyleModel",
            "_view_count": null,
            "_view_module": "@jupyter-widgets/base",
            "_view_module_version": "1.2.0",
            "_view_name": "StyleView",
            "bar_color": null,
            "description_width": ""
          }
        },
        "eeea7d02eb564150afa2587f8df62a70": {
          "model_module": "@jupyter-widgets/base",
          "model_name": "LayoutModel",
          "model_module_version": "1.2.0",
          "state": {
            "_model_module": "@jupyter-widgets/base",
            "_model_module_version": "1.2.0",
            "_model_name": "LayoutModel",
            "_view_count": null,
            "_view_module": "@jupyter-widgets/base",
            "_view_module_version": "1.2.0",
            "_view_name": "LayoutView",
            "align_content": null,
            "align_items": null,
            "align_self": null,
            "border": null,
            "bottom": null,
            "display": null,
            "flex": null,
            "flex_flow": null,
            "grid_area": null,
            "grid_auto_columns": null,
            "grid_auto_flow": null,
            "grid_auto_rows": null,
            "grid_column": null,
            "grid_gap": null,
            "grid_row": null,
            "grid_template_areas": null,
            "grid_template_columns": null,
            "grid_template_rows": null,
            "height": null,
            "justify_content": null,
            "justify_items": null,
            "left": null,
            "margin": null,
            "max_height": null,
            "max_width": null,
            "min_height": null,
            "min_width": null,
            "object_fit": null,
            "object_position": null,
            "order": null,
            "overflow": null,
            "overflow_x": null,
            "overflow_y": null,
            "padding": null,
            "right": null,
            "top": null,
            "visibility": null,
            "width": null
          }
        },
        "feca0484084145c0848dd46086d08f5f": {
          "model_module": "@jupyter-widgets/controls",
          "model_name": "DescriptionStyleModel",
          "model_module_version": "1.5.0",
          "state": {
            "_model_module": "@jupyter-widgets/controls",
            "_model_module_version": "1.5.0",
            "_model_name": "DescriptionStyleModel",
            "_view_count": null,
            "_view_module": "@jupyter-widgets/base",
            "_view_module_version": "1.2.0",
            "_view_name": "StyleView",
            "description_width": ""
          }
        },
        "a52854f116a54dea9ca5d4a946052f87": {
          "model_module": "@jupyter-widgets/controls",
          "model_name": "HBoxModel",
          "model_module_version": "1.5.0",
          "state": {
            "_dom_classes": [],
            "_model_module": "@jupyter-widgets/controls",
            "_model_module_version": "1.5.0",
            "_model_name": "HBoxModel",
            "_view_count": null,
            "_view_module": "@jupyter-widgets/controls",
            "_view_module_version": "1.5.0",
            "_view_name": "HBoxView",
            "box_style": "",
            "children": [
              "IPY_MODEL_e0e22085b77840d8810405eb5a52aaaf",
              "IPY_MODEL_37514076967e4203814e5280fc293473",
              "IPY_MODEL_c9b75879fd5d473fa793d6a7ba82eff1"
            ],
            "layout": "IPY_MODEL_a926ecc4f07242cea9b5cf9d282cc1b9"
          }
        },
        "e0e22085b77840d8810405eb5a52aaaf": {
          "model_module": "@jupyter-widgets/controls",
          "model_name": "HTMLModel",
          "model_module_version": "1.5.0",
          "state": {
            "_dom_classes": [],
            "_model_module": "@jupyter-widgets/controls",
            "_model_module_version": "1.5.0",
            "_model_name": "HTMLModel",
            "_view_count": null,
            "_view_module": "@jupyter-widgets/controls",
            "_view_module_version": "1.5.0",
            "_view_name": "HTMLView",
            "description": "",
            "description_tooltip": null,
            "layout": "IPY_MODEL_06e2304ae11b4d5c8fcaa817d242d053",
            "placeholder": "​",
            "style": "IPY_MODEL_1476d3f319214597a3da1d3d9665f51e",
            "value": "Downloading: 100%"
          }
        },
        "37514076967e4203814e5280fc293473": {
          "model_module": "@jupyter-widgets/controls",
          "model_name": "FloatProgressModel",
          "model_module_version": "1.5.0",
          "state": {
            "_dom_classes": [],
            "_model_module": "@jupyter-widgets/controls",
            "_model_module_version": "1.5.0",
            "_model_name": "FloatProgressModel",
            "_view_count": null,
            "_view_module": "@jupyter-widgets/controls",
            "_view_module_version": "1.5.0",
            "_view_name": "ProgressView",
            "bar_style": "success",
            "description": "",
            "description_tooltip": null,
            "layout": "IPY_MODEL_c186aa3452bd46218268972f41a5aebe",
            "max": 28,
            "min": 0,
            "orientation": "horizontal",
            "style": "IPY_MODEL_8172198a1f234d358f362eb61ab67dc5",
            "value": 28
          }
        },
        "c9b75879fd5d473fa793d6a7ba82eff1": {
          "model_module": "@jupyter-widgets/controls",
          "model_name": "HTMLModel",
          "model_module_version": "1.5.0",
          "state": {
            "_dom_classes": [],
            "_model_module": "@jupyter-widgets/controls",
            "_model_module_version": "1.5.0",
            "_model_name": "HTMLModel",
            "_view_count": null,
            "_view_module": "@jupyter-widgets/controls",
            "_view_module_version": "1.5.0",
            "_view_name": "HTMLView",
            "description": "",
            "description_tooltip": null,
            "layout": "IPY_MODEL_715adaeaa2db467896b7f80f67c2bb23",
            "placeholder": "​",
            "style": "IPY_MODEL_d20c08ba8f214be0a8add2ebe8358a2c",
            "value": " 28.0/28.0 [00:00&lt;00:00, 841B/s]"
          }
        },
        "a926ecc4f07242cea9b5cf9d282cc1b9": {
          "model_module": "@jupyter-widgets/base",
          "model_name": "LayoutModel",
          "model_module_version": "1.2.0",
          "state": {
            "_model_module": "@jupyter-widgets/base",
            "_model_module_version": "1.2.0",
            "_model_name": "LayoutModel",
            "_view_count": null,
            "_view_module": "@jupyter-widgets/base",
            "_view_module_version": "1.2.0",
            "_view_name": "LayoutView",
            "align_content": null,
            "align_items": null,
            "align_self": null,
            "border": null,
            "bottom": null,
            "display": null,
            "flex": null,
            "flex_flow": null,
            "grid_area": null,
            "grid_auto_columns": null,
            "grid_auto_flow": null,
            "grid_auto_rows": null,
            "grid_column": null,
            "grid_gap": null,
            "grid_row": null,
            "grid_template_areas": null,
            "grid_template_columns": null,
            "grid_template_rows": null,
            "height": null,
            "justify_content": null,
            "justify_items": null,
            "left": null,
            "margin": null,
            "max_height": null,
            "max_width": null,
            "min_height": null,
            "min_width": null,
            "object_fit": null,
            "object_position": null,
            "order": null,
            "overflow": null,
            "overflow_x": null,
            "overflow_y": null,
            "padding": null,
            "right": null,
            "top": null,
            "visibility": null,
            "width": null
          }
        },
        "06e2304ae11b4d5c8fcaa817d242d053": {
          "model_module": "@jupyter-widgets/base",
          "model_name": "LayoutModel",
          "model_module_version": "1.2.0",
          "state": {
            "_model_module": "@jupyter-widgets/base",
            "_model_module_version": "1.2.0",
            "_model_name": "LayoutModel",
            "_view_count": null,
            "_view_module": "@jupyter-widgets/base",
            "_view_module_version": "1.2.0",
            "_view_name": "LayoutView",
            "align_content": null,
            "align_items": null,
            "align_self": null,
            "border": null,
            "bottom": null,
            "display": null,
            "flex": null,
            "flex_flow": null,
            "grid_area": null,
            "grid_auto_columns": null,
            "grid_auto_flow": null,
            "grid_auto_rows": null,
            "grid_column": null,
            "grid_gap": null,
            "grid_row": null,
            "grid_template_areas": null,
            "grid_template_columns": null,
            "grid_template_rows": null,
            "height": null,
            "justify_content": null,
            "justify_items": null,
            "left": null,
            "margin": null,
            "max_height": null,
            "max_width": null,
            "min_height": null,
            "min_width": null,
            "object_fit": null,
            "object_position": null,
            "order": null,
            "overflow": null,
            "overflow_x": null,
            "overflow_y": null,
            "padding": null,
            "right": null,
            "top": null,
            "visibility": null,
            "width": null
          }
        },
        "1476d3f319214597a3da1d3d9665f51e": {
          "model_module": "@jupyter-widgets/controls",
          "model_name": "DescriptionStyleModel",
          "model_module_version": "1.5.0",
          "state": {
            "_model_module": "@jupyter-widgets/controls",
            "_model_module_version": "1.5.0",
            "_model_name": "DescriptionStyleModel",
            "_view_count": null,
            "_view_module": "@jupyter-widgets/base",
            "_view_module_version": "1.2.0",
            "_view_name": "StyleView",
            "description_width": ""
          }
        },
        "c186aa3452bd46218268972f41a5aebe": {
          "model_module": "@jupyter-widgets/base",
          "model_name": "LayoutModel",
          "model_module_version": "1.2.0",
          "state": {
            "_model_module": "@jupyter-widgets/base",
            "_model_module_version": "1.2.0",
            "_model_name": "LayoutModel",
            "_view_count": null,
            "_view_module": "@jupyter-widgets/base",
            "_view_module_version": "1.2.0",
            "_view_name": "LayoutView",
            "align_content": null,
            "align_items": null,
            "align_self": null,
            "border": null,
            "bottom": null,
            "display": null,
            "flex": null,
            "flex_flow": null,
            "grid_area": null,
            "grid_auto_columns": null,
            "grid_auto_flow": null,
            "grid_auto_rows": null,
            "grid_column": null,
            "grid_gap": null,
            "grid_row": null,
            "grid_template_areas": null,
            "grid_template_columns": null,
            "grid_template_rows": null,
            "height": null,
            "justify_content": null,
            "justify_items": null,
            "left": null,
            "margin": null,
            "max_height": null,
            "max_width": null,
            "min_height": null,
            "min_width": null,
            "object_fit": null,
            "object_position": null,
            "order": null,
            "overflow": null,
            "overflow_x": null,
            "overflow_y": null,
            "padding": null,
            "right": null,
            "top": null,
            "visibility": null,
            "width": null
          }
        },
        "8172198a1f234d358f362eb61ab67dc5": {
          "model_module": "@jupyter-widgets/controls",
          "model_name": "ProgressStyleModel",
          "model_module_version": "1.5.0",
          "state": {
            "_model_module": "@jupyter-widgets/controls",
            "_model_module_version": "1.5.0",
            "_model_name": "ProgressStyleModel",
            "_view_count": null,
            "_view_module": "@jupyter-widgets/base",
            "_view_module_version": "1.2.0",
            "_view_name": "StyleView",
            "bar_color": null,
            "description_width": ""
          }
        },
        "715adaeaa2db467896b7f80f67c2bb23": {
          "model_module": "@jupyter-widgets/base",
          "model_name": "LayoutModel",
          "model_module_version": "1.2.0",
          "state": {
            "_model_module": "@jupyter-widgets/base",
            "_model_module_version": "1.2.0",
            "_model_name": "LayoutModel",
            "_view_count": null,
            "_view_module": "@jupyter-widgets/base",
            "_view_module_version": "1.2.0",
            "_view_name": "LayoutView",
            "align_content": null,
            "align_items": null,
            "align_self": null,
            "border": null,
            "bottom": null,
            "display": null,
            "flex": null,
            "flex_flow": null,
            "grid_area": null,
            "grid_auto_columns": null,
            "grid_auto_flow": null,
            "grid_auto_rows": null,
            "grid_column": null,
            "grid_gap": null,
            "grid_row": null,
            "grid_template_areas": null,
            "grid_template_columns": null,
            "grid_template_rows": null,
            "height": null,
            "justify_content": null,
            "justify_items": null,
            "left": null,
            "margin": null,
            "max_height": null,
            "max_width": null,
            "min_height": null,
            "min_width": null,
            "object_fit": null,
            "object_position": null,
            "order": null,
            "overflow": null,
            "overflow_x": null,
            "overflow_y": null,
            "padding": null,
            "right": null,
            "top": null,
            "visibility": null,
            "width": null
          }
        },
        "d20c08ba8f214be0a8add2ebe8358a2c": {
          "model_module": "@jupyter-widgets/controls",
          "model_name": "DescriptionStyleModel",
          "model_module_version": "1.5.0",
          "state": {
            "_model_module": "@jupyter-widgets/controls",
            "_model_module_version": "1.5.0",
            "_model_name": "DescriptionStyleModel",
            "_view_count": null,
            "_view_module": "@jupyter-widgets/base",
            "_view_module_version": "1.2.0",
            "_view_name": "StyleView",
            "description_width": ""
          }
        },
        "7b5e2027b4414aee817389cb7efff1ba": {
          "model_module": "@jupyter-widgets/controls",
          "model_name": "HBoxModel",
          "model_module_version": "1.5.0",
          "state": {
            "_dom_classes": [],
            "_model_module": "@jupyter-widgets/controls",
            "_model_module_version": "1.5.0",
            "_model_name": "HBoxModel",
            "_view_count": null,
            "_view_module": "@jupyter-widgets/controls",
            "_view_module_version": "1.5.0",
            "_view_name": "HBoxView",
            "box_style": "",
            "children": [
              "IPY_MODEL_04e6b48584f941cf99948e4dfe046a5d",
              "IPY_MODEL_85e49bc9153b428b93800985555512b8",
              "IPY_MODEL_c0ef3e0495ee4e15aa47f0027f57513c"
            ],
            "layout": "IPY_MODEL_5dca1563a62844cfa7a0456dceb49c8d"
          }
        },
        "04e6b48584f941cf99948e4dfe046a5d": {
          "model_module": "@jupyter-widgets/controls",
          "model_name": "HTMLModel",
          "model_module_version": "1.5.0",
          "state": {
            "_dom_classes": [],
            "_model_module": "@jupyter-widgets/controls",
            "_model_module_version": "1.5.0",
            "_model_name": "HTMLModel",
            "_view_count": null,
            "_view_module": "@jupyter-widgets/controls",
            "_view_module_version": "1.5.0",
            "_view_name": "HTMLView",
            "description": "",
            "description_tooltip": null,
            "layout": "IPY_MODEL_aeff5048053040afb7dbcfcf918f8d59",
            "placeholder": "​",
            "style": "IPY_MODEL_bb14c8e366e24153b9fceea6368c2a6b",
            "value": "Downloading: 100%"
          }
        },
        "85e49bc9153b428b93800985555512b8": {
          "model_module": "@jupyter-widgets/controls",
          "model_name": "FloatProgressModel",
          "model_module_version": "1.5.0",
          "state": {
            "_dom_classes": [],
            "_model_module": "@jupyter-widgets/controls",
            "_model_module_version": "1.5.0",
            "_model_name": "FloatProgressModel",
            "_view_count": null,
            "_view_module": "@jupyter-widgets/controls",
            "_view_module_version": "1.5.0",
            "_view_name": "ProgressView",
            "bar_style": "success",
            "description": "",
            "description_tooltip": null,
            "layout": "IPY_MODEL_b9cb58b9add847b4b4bc341ba0febfb4",
            "max": 570,
            "min": 0,
            "orientation": "horizontal",
            "style": "IPY_MODEL_a75aa55432b840e394a071385cf21ce3",
            "value": 570
          }
        },
        "c0ef3e0495ee4e15aa47f0027f57513c": {
          "model_module": "@jupyter-widgets/controls",
          "model_name": "HTMLModel",
          "model_module_version": "1.5.0",
          "state": {
            "_dom_classes": [],
            "_model_module": "@jupyter-widgets/controls",
            "_model_module_version": "1.5.0",
            "_model_name": "HTMLModel",
            "_view_count": null,
            "_view_module": "@jupyter-widgets/controls",
            "_view_module_version": "1.5.0",
            "_view_name": "HTMLView",
            "description": "",
            "description_tooltip": null,
            "layout": "IPY_MODEL_35716bfc7f92462487eb6eada99fea2d",
            "placeholder": "​",
            "style": "IPY_MODEL_a3d989e225944df9abc5888d706340a5",
            "value": " 570/570 [00:00&lt;00:00, 15.8kB/s]"
          }
        },
        "5dca1563a62844cfa7a0456dceb49c8d": {
          "model_module": "@jupyter-widgets/base",
          "model_name": "LayoutModel",
          "model_module_version": "1.2.0",
          "state": {
            "_model_module": "@jupyter-widgets/base",
            "_model_module_version": "1.2.0",
            "_model_name": "LayoutModel",
            "_view_count": null,
            "_view_module": "@jupyter-widgets/base",
            "_view_module_version": "1.2.0",
            "_view_name": "LayoutView",
            "align_content": null,
            "align_items": null,
            "align_self": null,
            "border": null,
            "bottom": null,
            "display": null,
            "flex": null,
            "flex_flow": null,
            "grid_area": null,
            "grid_auto_columns": null,
            "grid_auto_flow": null,
            "grid_auto_rows": null,
            "grid_column": null,
            "grid_gap": null,
            "grid_row": null,
            "grid_template_areas": null,
            "grid_template_columns": null,
            "grid_template_rows": null,
            "height": null,
            "justify_content": null,
            "justify_items": null,
            "left": null,
            "margin": null,
            "max_height": null,
            "max_width": null,
            "min_height": null,
            "min_width": null,
            "object_fit": null,
            "object_position": null,
            "order": null,
            "overflow": null,
            "overflow_x": null,
            "overflow_y": null,
            "padding": null,
            "right": null,
            "top": null,
            "visibility": null,
            "width": null
          }
        },
        "aeff5048053040afb7dbcfcf918f8d59": {
          "model_module": "@jupyter-widgets/base",
          "model_name": "LayoutModel",
          "model_module_version": "1.2.0",
          "state": {
            "_model_module": "@jupyter-widgets/base",
            "_model_module_version": "1.2.0",
            "_model_name": "LayoutModel",
            "_view_count": null,
            "_view_module": "@jupyter-widgets/base",
            "_view_module_version": "1.2.0",
            "_view_name": "LayoutView",
            "align_content": null,
            "align_items": null,
            "align_self": null,
            "border": null,
            "bottom": null,
            "display": null,
            "flex": null,
            "flex_flow": null,
            "grid_area": null,
            "grid_auto_columns": null,
            "grid_auto_flow": null,
            "grid_auto_rows": null,
            "grid_column": null,
            "grid_gap": null,
            "grid_row": null,
            "grid_template_areas": null,
            "grid_template_columns": null,
            "grid_template_rows": null,
            "height": null,
            "justify_content": null,
            "justify_items": null,
            "left": null,
            "margin": null,
            "max_height": null,
            "max_width": null,
            "min_height": null,
            "min_width": null,
            "object_fit": null,
            "object_position": null,
            "order": null,
            "overflow": null,
            "overflow_x": null,
            "overflow_y": null,
            "padding": null,
            "right": null,
            "top": null,
            "visibility": null,
            "width": null
          }
        },
        "bb14c8e366e24153b9fceea6368c2a6b": {
          "model_module": "@jupyter-widgets/controls",
          "model_name": "DescriptionStyleModel",
          "model_module_version": "1.5.0",
          "state": {
            "_model_module": "@jupyter-widgets/controls",
            "_model_module_version": "1.5.0",
            "_model_name": "DescriptionStyleModel",
            "_view_count": null,
            "_view_module": "@jupyter-widgets/base",
            "_view_module_version": "1.2.0",
            "_view_name": "StyleView",
            "description_width": ""
          }
        },
        "b9cb58b9add847b4b4bc341ba0febfb4": {
          "model_module": "@jupyter-widgets/base",
          "model_name": "LayoutModel",
          "model_module_version": "1.2.0",
          "state": {
            "_model_module": "@jupyter-widgets/base",
            "_model_module_version": "1.2.0",
            "_model_name": "LayoutModel",
            "_view_count": null,
            "_view_module": "@jupyter-widgets/base",
            "_view_module_version": "1.2.0",
            "_view_name": "LayoutView",
            "align_content": null,
            "align_items": null,
            "align_self": null,
            "border": null,
            "bottom": null,
            "display": null,
            "flex": null,
            "flex_flow": null,
            "grid_area": null,
            "grid_auto_columns": null,
            "grid_auto_flow": null,
            "grid_auto_rows": null,
            "grid_column": null,
            "grid_gap": null,
            "grid_row": null,
            "grid_template_areas": null,
            "grid_template_columns": null,
            "grid_template_rows": null,
            "height": null,
            "justify_content": null,
            "justify_items": null,
            "left": null,
            "margin": null,
            "max_height": null,
            "max_width": null,
            "min_height": null,
            "min_width": null,
            "object_fit": null,
            "object_position": null,
            "order": null,
            "overflow": null,
            "overflow_x": null,
            "overflow_y": null,
            "padding": null,
            "right": null,
            "top": null,
            "visibility": null,
            "width": null
          }
        },
        "a75aa55432b840e394a071385cf21ce3": {
          "model_module": "@jupyter-widgets/controls",
          "model_name": "ProgressStyleModel",
          "model_module_version": "1.5.0",
          "state": {
            "_model_module": "@jupyter-widgets/controls",
            "_model_module_version": "1.5.0",
            "_model_name": "ProgressStyleModel",
            "_view_count": null,
            "_view_module": "@jupyter-widgets/base",
            "_view_module_version": "1.2.0",
            "_view_name": "StyleView",
            "bar_color": null,
            "description_width": ""
          }
        },
        "35716bfc7f92462487eb6eada99fea2d": {
          "model_module": "@jupyter-widgets/base",
          "model_name": "LayoutModel",
          "model_module_version": "1.2.0",
          "state": {
            "_model_module": "@jupyter-widgets/base",
            "_model_module_version": "1.2.0",
            "_model_name": "LayoutModel",
            "_view_count": null,
            "_view_module": "@jupyter-widgets/base",
            "_view_module_version": "1.2.0",
            "_view_name": "LayoutView",
            "align_content": null,
            "align_items": null,
            "align_self": null,
            "border": null,
            "bottom": null,
            "display": null,
            "flex": null,
            "flex_flow": null,
            "grid_area": null,
            "grid_auto_columns": null,
            "grid_auto_flow": null,
            "grid_auto_rows": null,
            "grid_column": null,
            "grid_gap": null,
            "grid_row": null,
            "grid_template_areas": null,
            "grid_template_columns": null,
            "grid_template_rows": null,
            "height": null,
            "justify_content": null,
            "justify_items": null,
            "left": null,
            "margin": null,
            "max_height": null,
            "max_width": null,
            "min_height": null,
            "min_width": null,
            "object_fit": null,
            "object_position": null,
            "order": null,
            "overflow": null,
            "overflow_x": null,
            "overflow_y": null,
            "padding": null,
            "right": null,
            "top": null,
            "visibility": null,
            "width": null
          }
        },
        "a3d989e225944df9abc5888d706340a5": {
          "model_module": "@jupyter-widgets/controls",
          "model_name": "DescriptionStyleModel",
          "model_module_version": "1.5.0",
          "state": {
            "_model_module": "@jupyter-widgets/controls",
            "_model_module_version": "1.5.0",
            "_model_name": "DescriptionStyleModel",
            "_view_count": null,
            "_view_module": "@jupyter-widgets/base",
            "_view_module_version": "1.2.0",
            "_view_name": "StyleView",
            "description_width": ""
          }
        }
      }
    }
  },
  "cells": [
    {
      "cell_type": "markdown",
      "metadata": {
        "id": "view-in-github",
        "colab_type": "text"
      },
      "source": [
        "<a href=\"https://colab.research.google.com/github/Babitha23/Cyberbullying-detection/blob/main/Word_embeddings_using_BERT.ipynb\" target=\"_parent\"><img src=\"https://colab.research.google.com/assets/colab-badge.svg\" alt=\"Open In Colab\"/></a>"
      ]
    },
    {
      "cell_type": "markdown",
      "source": [
        "# Pretrained Language model 'BERT' for generating word embeddings"
      ],
      "metadata": {
        "id": "CSSVRklEztYC"
      }
    },
    {
      "cell_type": "markdown",
      "source": [
        "Import required libraries"
      ],
      "metadata": {
        "id": "sfiFoRDi0E30"
      }
    },
    {
      "cell_type": "code",
      "source": [
        "!pip install transformers"
      ],
      "metadata": {
        "colab": {
          "base_uri": "https://localhost:8080/"
        },
        "id": "SKHv7v5FDyX7",
        "outputId": "b82f3b57-9039-4729-a72b-a37828142731"
      },
      "execution_count": 1,
      "outputs": [
        {
          "output_type": "stream",
          "name": "stdout",
          "text": [
            "Looking in indexes: https://pypi.org/simple, https://us-python.pkg.dev/colab-wheels/public/simple/\n",
            "Collecting transformers\n",
            "  Downloading transformers-4.24.0-py3-none-any.whl (5.5 MB)\n",
            "\u001b[K     |████████████████████████████████| 5.5 MB 18.8 MB/s \n",
            "\u001b[?25hRequirement already satisfied: tqdm>=4.27 in /usr/local/lib/python3.7/dist-packages (from transformers) (4.64.1)\n",
            "Requirement already satisfied: regex!=2019.12.17 in /usr/local/lib/python3.7/dist-packages (from transformers) (2022.6.2)\n",
            "Requirement already satisfied: packaging>=20.0 in /usr/local/lib/python3.7/dist-packages (from transformers) (21.3)\n",
            "Requirement already satisfied: requests in /usr/local/lib/python3.7/dist-packages (from transformers) (2.23.0)\n",
            "Collecting huggingface-hub<1.0,>=0.10.0\n",
            "  Downloading huggingface_hub-0.10.1-py3-none-any.whl (163 kB)\n",
            "\u001b[K     |████████████████████████████████| 163 kB 74.4 MB/s \n",
            "\u001b[?25hRequirement already satisfied: filelock in /usr/local/lib/python3.7/dist-packages (from transformers) (3.8.0)\n",
            "Requirement already satisfied: numpy>=1.17 in /usr/local/lib/python3.7/dist-packages (from transformers) (1.21.6)\n",
            "Collecting tokenizers!=0.11.3,<0.14,>=0.11.1\n",
            "  Downloading tokenizers-0.13.2-cp37-cp37m-manylinux_2_17_x86_64.manylinux2014_x86_64.whl (7.6 MB)\n",
            "\u001b[K     |████████████████████████████████| 7.6 MB 57.3 MB/s \n",
            "\u001b[?25hRequirement already satisfied: importlib-metadata in /usr/local/lib/python3.7/dist-packages (from transformers) (4.13.0)\n",
            "Requirement already satisfied: pyyaml>=5.1 in /usr/local/lib/python3.7/dist-packages (from transformers) (6.0)\n",
            "Requirement already satisfied: typing-extensions>=3.7.4.3 in /usr/local/lib/python3.7/dist-packages (from huggingface-hub<1.0,>=0.10.0->transformers) (4.1.1)\n",
            "Requirement already satisfied: pyparsing!=3.0.5,>=2.0.2 in /usr/local/lib/python3.7/dist-packages (from packaging>=20.0->transformers) (3.0.9)\n",
            "Requirement already satisfied: zipp>=0.5 in /usr/local/lib/python3.7/dist-packages (from importlib-metadata->transformers) (3.10.0)\n",
            "Requirement already satisfied: certifi>=2017.4.17 in /usr/local/lib/python3.7/dist-packages (from requests->transformers) (2022.9.24)\n",
            "Requirement already satisfied: urllib3!=1.25.0,!=1.25.1,<1.26,>=1.21.1 in /usr/local/lib/python3.7/dist-packages (from requests->transformers) (1.24.3)\n",
            "Requirement already satisfied: chardet<4,>=3.0.2 in /usr/local/lib/python3.7/dist-packages (from requests->transformers) (3.0.4)\n",
            "Requirement already satisfied: idna<3,>=2.5 in /usr/local/lib/python3.7/dist-packages (from requests->transformers) (2.10)\n",
            "Installing collected packages: tokenizers, huggingface-hub, transformers\n",
            "Successfully installed huggingface-hub-0.10.1 tokenizers-0.13.2 transformers-4.24.0\n"
          ]
        }
      ]
    },
    {
      "cell_type": "code",
      "source": [
        "import numpy as np\n",
        "import pandas as pd\n",
        "import matplotlib.pyplot as plt\n",
        "\n",
        "%matplotlib inline"
      ],
      "metadata": {
        "id": "N6FDoqpOCCLX"
      },
      "execution_count": 6,
      "outputs": []
    },
    {
      "cell_type": "markdown",
      "source": [
        "Loading dataset"
      ],
      "metadata": {
        "id": "H-iNuq6v0QvH"
      }
    },
    {
      "cell_type": "code",
      "source": [
        "data = pd.read_csv(\"processeddata.csv\", index_col=0, encoding = \"ISO-8859-1\")"
      ],
      "metadata": {
        "id": "Y02TbMo7CKho"
      },
      "execution_count": 3,
      "outputs": []
    },
    {
      "cell_type": "code",
      "source": [
        "data.sample(5)"
      ],
      "metadata": {
        "colab": {
          "base_uri": "https://localhost:8080/",
          "height": 237
        },
        "id": "ZCJ2XS7MCeKZ",
        "outputId": "a9fd84a0-6e40-4a2f-d5f7-fab16d25297c"
      },
      "execution_count": 4,
      "outputs": [
        {
          "output_type": "execute_result",
          "data": {
            "text/plain": [
              "                                                 sessiontext  likes  \\\n",
              "_unit_id                                                              \n",
              "652910814  Tabletop Thursday First one Since my knee surg...    798   \n",
              "679604326  Plastic sheets laid down to protect the grass ...   2726   \n",
              "652903459  Repost. sorry but are we going to discuss whic...    219   \n",
              "652903392  is turnin up the heat just in time for winter....   3915   \n",
              "652903391  favorite pic. Nice. tight. Oh want that soooo ...   2048   \n",
              "\n",
              "           shared media  followed_by  follows   label1   label2  \n",
              "_unit_id                                                         \n",
              "652910814           310          374    35069  noneAgg  noneBll  \n",
              "679604326          1149       398260      180  noneAgg  noneBll  \n",
              "652903459           802        44036      545  noneAgg  noneBll  \n",
              "652903392          1539       205242      489  noneAgg  noneBll  \n",
              "652903391          1341        61385      193  noneAgg  noneBll  "
            ],
            "text/html": [
              "\n",
              "  <div id=\"df-5673f3af-d08d-484d-b81e-07a35ae61906\">\n",
              "    <div class=\"colab-df-container\">\n",
              "      <div>\n",
              "<style scoped>\n",
              "    .dataframe tbody tr th:only-of-type {\n",
              "        vertical-align: middle;\n",
              "    }\n",
              "\n",
              "    .dataframe tbody tr th {\n",
              "        vertical-align: top;\n",
              "    }\n",
              "\n",
              "    .dataframe thead th {\n",
              "        text-align: right;\n",
              "    }\n",
              "</style>\n",
              "<table border=\"1\" class=\"dataframe\">\n",
              "  <thead>\n",
              "    <tr style=\"text-align: right;\">\n",
              "      <th></th>\n",
              "      <th>sessiontext</th>\n",
              "      <th>likes</th>\n",
              "      <th>shared media</th>\n",
              "      <th>followed_by</th>\n",
              "      <th>follows</th>\n",
              "      <th>label1</th>\n",
              "      <th>label2</th>\n",
              "    </tr>\n",
              "    <tr>\n",
              "      <th>_unit_id</th>\n",
              "      <th></th>\n",
              "      <th></th>\n",
              "      <th></th>\n",
              "      <th></th>\n",
              "      <th></th>\n",
              "      <th></th>\n",
              "      <th></th>\n",
              "    </tr>\n",
              "  </thead>\n",
              "  <tbody>\n",
              "    <tr>\n",
              "      <th>652910814</th>\n",
              "      <td>Tabletop Thursday First one Since my knee surg...</td>\n",
              "      <td>798</td>\n",
              "      <td>310</td>\n",
              "      <td>374</td>\n",
              "      <td>35069</td>\n",
              "      <td>noneAgg</td>\n",
              "      <td>noneBll</td>\n",
              "    </tr>\n",
              "    <tr>\n",
              "      <th>679604326</th>\n",
              "      <td>Plastic sheets laid down to protect the grass ...</td>\n",
              "      <td>2726</td>\n",
              "      <td>1149</td>\n",
              "      <td>398260</td>\n",
              "      <td>180</td>\n",
              "      <td>noneAgg</td>\n",
              "      <td>noneBll</td>\n",
              "    </tr>\n",
              "    <tr>\n",
              "      <th>652903459</th>\n",
              "      <td>Repost. sorry but are we going to discuss whic...</td>\n",
              "      <td>219</td>\n",
              "      <td>802</td>\n",
              "      <td>44036</td>\n",
              "      <td>545</td>\n",
              "      <td>noneAgg</td>\n",
              "      <td>noneBll</td>\n",
              "    </tr>\n",
              "    <tr>\n",
              "      <th>652903392</th>\n",
              "      <td>is turnin up the heat just in time for winter....</td>\n",
              "      <td>3915</td>\n",
              "      <td>1539</td>\n",
              "      <td>205242</td>\n",
              "      <td>489</td>\n",
              "      <td>noneAgg</td>\n",
              "      <td>noneBll</td>\n",
              "    </tr>\n",
              "    <tr>\n",
              "      <th>652903391</th>\n",
              "      <td>favorite pic. Nice. tight. Oh want that soooo ...</td>\n",
              "      <td>2048</td>\n",
              "      <td>1341</td>\n",
              "      <td>61385</td>\n",
              "      <td>193</td>\n",
              "      <td>noneAgg</td>\n",
              "      <td>noneBll</td>\n",
              "    </tr>\n",
              "  </tbody>\n",
              "</table>\n",
              "</div>\n",
              "      <button class=\"colab-df-convert\" onclick=\"convertToInteractive('df-5673f3af-d08d-484d-b81e-07a35ae61906')\"\n",
              "              title=\"Convert this dataframe to an interactive table.\"\n",
              "              style=\"display:none;\">\n",
              "        \n",
              "  <svg xmlns=\"http://www.w3.org/2000/svg\" height=\"24px\"viewBox=\"0 0 24 24\"\n",
              "       width=\"24px\">\n",
              "    <path d=\"M0 0h24v24H0V0z\" fill=\"none\"/>\n",
              "    <path d=\"M18.56 5.44l.94 2.06.94-2.06 2.06-.94-2.06-.94-.94-2.06-.94 2.06-2.06.94zm-11 1L8.5 8.5l.94-2.06 2.06-.94-2.06-.94L8.5 2.5l-.94 2.06-2.06.94zm10 10l.94 2.06.94-2.06 2.06-.94-2.06-.94-.94-2.06-.94 2.06-2.06.94z\"/><path d=\"M17.41 7.96l-1.37-1.37c-.4-.4-.92-.59-1.43-.59-.52 0-1.04.2-1.43.59L10.3 9.45l-7.72 7.72c-.78.78-.78 2.05 0 2.83L4 21.41c.39.39.9.59 1.41.59.51 0 1.02-.2 1.41-.59l7.78-7.78 2.81-2.81c.8-.78.8-2.07 0-2.86zM5.41 20L4 18.59l7.72-7.72 1.47 1.35L5.41 20z\"/>\n",
              "  </svg>\n",
              "      </button>\n",
              "      \n",
              "  <style>\n",
              "    .colab-df-container {\n",
              "      display:flex;\n",
              "      flex-wrap:wrap;\n",
              "      gap: 12px;\n",
              "    }\n",
              "\n",
              "    .colab-df-convert {\n",
              "      background-color: #E8F0FE;\n",
              "      border: none;\n",
              "      border-radius: 50%;\n",
              "      cursor: pointer;\n",
              "      display: none;\n",
              "      fill: #1967D2;\n",
              "      height: 32px;\n",
              "      padding: 0 0 0 0;\n",
              "      width: 32px;\n",
              "    }\n",
              "\n",
              "    .colab-df-convert:hover {\n",
              "      background-color: #E2EBFA;\n",
              "      box-shadow: 0px 1px 2px rgba(60, 64, 67, 0.3), 0px 1px 3px 1px rgba(60, 64, 67, 0.15);\n",
              "      fill: #174EA6;\n",
              "    }\n",
              "\n",
              "    [theme=dark] .colab-df-convert {\n",
              "      background-color: #3B4455;\n",
              "      fill: #D2E3FC;\n",
              "    }\n",
              "\n",
              "    [theme=dark] .colab-df-convert:hover {\n",
              "      background-color: #434B5C;\n",
              "      box-shadow: 0px 1px 3px 1px rgba(0, 0, 0, 0.15);\n",
              "      filter: drop-shadow(0px 1px 2px rgba(0, 0, 0, 0.3));\n",
              "      fill: #FFFFFF;\n",
              "    }\n",
              "  </style>\n",
              "\n",
              "      <script>\n",
              "        const buttonEl =\n",
              "          document.querySelector('#df-5673f3af-d08d-484d-b81e-07a35ae61906 button.colab-df-convert');\n",
              "        buttonEl.style.display =\n",
              "          google.colab.kernel.accessAllowed ? 'block' : 'none';\n",
              "\n",
              "        async function convertToInteractive(key) {\n",
              "          const element = document.querySelector('#df-5673f3af-d08d-484d-b81e-07a35ae61906');\n",
              "          const dataTable =\n",
              "            await google.colab.kernel.invokeFunction('convertToInteractive',\n",
              "                                                     [key], {});\n",
              "          if (!dataTable) return;\n",
              "\n",
              "          const docLinkHtml = 'Like what you see? Visit the ' +\n",
              "            '<a target=\"_blank\" href=https://colab.research.google.com/notebooks/data_table.ipynb>data table notebook</a>'\n",
              "            + ' to learn more about interactive tables.';\n",
              "          element.innerHTML = '';\n",
              "          dataTable['output_type'] = 'display_data';\n",
              "          await google.colab.output.renderOutput(dataTable, element);\n",
              "          const docLink = document.createElement('div');\n",
              "          docLink.innerHTML = docLinkHtml;\n",
              "          element.appendChild(docLink);\n",
              "        }\n",
              "      </script>\n",
              "    </div>\n",
              "  </div>\n",
              "  "
            ]
          },
          "metadata": {},
          "execution_count": 4
        }
      ]
    },
    {
      "cell_type": "markdown",
      "source": [
        "#Loading Pretrained BERT"
      ],
      "metadata": {
        "id": "odE-rjs60nce"
      }
    },
    {
      "cell_type": "markdown",
      "source": [
        "Now let’s import pytorch, the pretrained BERT model, and a BERT tokenizer."
      ],
      "metadata": {
        "id": "qza7L4A489BP"
      }
    },
    {
      "cell_type": "code",
      "source": [
        "import torch\n",
        "from transformers import BertTokenizer, BertModel\n",
        "\n",
        "import logging\n",
        "logging.basicConfig(level=logging.INFO)\n",
        "\n",
        "import matplotlib.pyplot as plt\n",
        "%matplotlib inline"
      ],
      "metadata": {
        "id": "qs29qS6TiRsS"
      },
      "execution_count": 8,
      "outputs": []
    },
    {
      "cell_type": "markdown",
      "source": [
        "Setup GPU for training"
      ],
      "metadata": {
        "id": "0Rrp2Cpm0UHW"
      }
    },
    {
      "cell_type": "code",
      "source": [
        "if torch.cuda.is_available():       \n",
        "    device = torch.device(\"cuda\")\n",
        "    print(f'There are {torch.cuda.device_count()} GPU(s) available.')\n",
        "    print('Device name:', torch.cuda.get_device_name(0))\n",
        "\n",
        "else:\n",
        "    print('No GPU available, using the CPU instead.')\n",
        "    device = torch.device(\"cpu\")"
      ],
      "metadata": {
        "colab": {
          "base_uri": "https://localhost:8080/"
        },
        "id": "n0u22UL70iQp",
        "outputId": "0e10e660-9681-4a73-b257-babfd2c97fb1"
      },
      "execution_count": 5,
      "outputs": [
        {
          "output_type": "stream",
          "name": "stdout",
          "text": [
            "There are 1 GPU(s) available.\n",
            "Device name: Tesla T4\n"
          ]
        }
      ]
    },
    {
      "cell_type": "code",
      "source": [
        "# Load pre-trained model tokenizer (vocabulary)\n",
        "print('Loading BERT tokenizer...')\n",
        "tokenizer = BertTokenizer.from_pretrained('bert-base-uncased', do_lower_case=True)"
      ],
      "metadata": {
        "colab": {
          "base_uri": "https://localhost:8080/",
          "height": 130,
          "referenced_widgets": [
            "b34f734a54df4c6a95be5115312eb3d2",
            "46187cda719c481cbcdf1ac86510b283",
            "95c4124f718747d69913297dcbfaa770",
            "21c4dcc3b15443fea2e2ff1eb2678a86",
            "6695b8168ed249f9b72a02a589d72036",
            "54df21450e6544ca86d7e03c2f3f8d41",
            "3faafd39b41947c3aab028529a272a7c",
            "a57213e008024d5e8dee3dc16a675669",
            "8a88d07509dc4ee7af500ca74e866661",
            "eeea7d02eb564150afa2587f8df62a70",
            "feca0484084145c0848dd46086d08f5f",
            "a52854f116a54dea9ca5d4a946052f87",
            "e0e22085b77840d8810405eb5a52aaaf",
            "37514076967e4203814e5280fc293473",
            "c9b75879fd5d473fa793d6a7ba82eff1",
            "a926ecc4f07242cea9b5cf9d282cc1b9",
            "06e2304ae11b4d5c8fcaa817d242d053",
            "1476d3f319214597a3da1d3d9665f51e",
            "c186aa3452bd46218268972f41a5aebe",
            "8172198a1f234d358f362eb61ab67dc5",
            "715adaeaa2db467896b7f80f67c2bb23",
            "d20c08ba8f214be0a8add2ebe8358a2c",
            "7b5e2027b4414aee817389cb7efff1ba",
            "04e6b48584f941cf99948e4dfe046a5d",
            "85e49bc9153b428b93800985555512b8",
            "c0ef3e0495ee4e15aa47f0027f57513c",
            "5dca1563a62844cfa7a0456dceb49c8d",
            "aeff5048053040afb7dbcfcf918f8d59",
            "bb14c8e366e24153b9fceea6368c2a6b",
            "b9cb58b9add847b4b4bc341ba0febfb4",
            "a75aa55432b840e394a071385cf21ce3",
            "35716bfc7f92462487eb6eada99fea2d",
            "a3d989e225944df9abc5888d706340a5"
          ]
        },
        "id": "9v6x9pVB9wlu",
        "outputId": "93bbc2a4-c62e-48cf-eda4-902952ca9c71"
      },
      "execution_count": 9,
      "outputs": [
        {
          "output_type": "stream",
          "name": "stdout",
          "text": [
            "Loading BERT tokenizer...\n"
          ]
        },
        {
          "output_type": "display_data",
          "data": {
            "text/plain": [
              "Downloading:   0%|          | 0.00/232k [00:00<?, ?B/s]"
            ],
            "application/vnd.jupyter.widget-view+json": {
              "version_major": 2,
              "version_minor": 0,
              "model_id": "b34f734a54df4c6a95be5115312eb3d2"
            }
          },
          "metadata": {}
        },
        {
          "output_type": "display_data",
          "data": {
            "text/plain": [
              "Downloading:   0%|          | 0.00/28.0 [00:00<?, ?B/s]"
            ],
            "application/vnd.jupyter.widget-view+json": {
              "version_major": 2,
              "version_minor": 0,
              "model_id": "a52854f116a54dea9ca5d4a946052f87"
            }
          },
          "metadata": {}
        },
        {
          "output_type": "display_data",
          "data": {
            "text/plain": [
              "Downloading:   0%|          | 0.00/570 [00:00<?, ?B/s]"
            ],
            "application/vnd.jupyter.widget-view+json": {
              "version_major": 2,
              "version_minor": 0,
              "model_id": "7b5e2027b4414aee817389cb7efff1ba"
            }
          },
          "metadata": {}
        }
      ]
    },
    {
      "cell_type": "markdown",
      "source": [
        "Converting sentences and labels into as numpy ndarrays."
      ],
      "metadata": {
        "id": "BuuvpEYKERuU"
      }
    },
    {
      "cell_type": "code",
      "source": [
        "# Get the lists of sentences and their labels.\n",
        "sentences = data.sessiontext.values\n",
        "agglabels = data.label1.values\n",
        "bullylabels = data.label2.values"
      ],
      "metadata": {
        "id": "bTb6SNE0Ehkf"
      },
      "execution_count": 10,
      "outputs": []
    },
    {
      "cell_type": "code",
      "source": [
        "print(agglabels)\n",
        "print(bullylabels)"
      ],
      "metadata": {
        "colab": {
          "base_uri": "https://localhost:8080/"
        },
        "id": "IpZpONknE10k",
        "outputId": "4cb88085-fd94-4c03-d604-b1471be02a29"
      },
      "execution_count": 13,
      "outputs": [
        {
          "output_type": "stream",
          "name": "stdout",
          "text": [
            "['noneAgg' 'noneAgg' 'noneAgg' ... 'aggression' 'aggression' 'aggression']\n",
            "['noneBll' 'noneBll' 'noneBll' ... 'noneBll' 'noneBll' 'bullying']\n"
          ]
        }
      ]
    },
    {
      "cell_type": "markdown",
      "source": [
        "Let’s apply the tokenizer to one sentence just to see the output."
      ],
      "metadata": {
        "id": "SkoSMPkz-h0V"
      }
    },
    {
      "cell_type": "code",
      "source": [
        "# Print the original sentence.\n",
        "print('Original: ', sentences[0])\n",
        "\n",
        "# Print the sentence split into tokens.\n",
        "print('Tokenized: ', tokenizer.tokenize(sentences[0]))\n",
        "\n",
        "# Print the sentence mapped to token ids.\n",
        "print('Token IDs: ', tokenizer.convert_tokens_to_ids(tokenizer.tokenize(sentences[0])))\n"
      ],
      "metadata": {
        "colab": {
          "base_uri": "https://localhost:8080/"
        },
        "id": "atZiwPlJl5qF",
        "outputId": "c2e789ae-b1b8-4893-f243-c6008037c359"
      },
      "execution_count": 14,
      "outputs": [
        {
          "output_type": "stream",
          "name": "stdout",
          "text": [
            "Original:  gosh we love these five idiots so much for me, they have seriously turned my life around and am so thankful for that ~Zhanna\". Zaaaayn. larry emoji. just was looking at lary. Larry. Larry having their little moment there emoji. are of you actually fans of one direction or larry hard to tell tbh. lmao just because ur an elounor shipper doesn't mean you have to be bitch lol shut up. not really. I'm not bitch just saying that people only seem to care about larry nowadays. Larry. emoji. YALL matherfuckers Need Jesus. LOVE ME SOME 1D (ALL THE BOYS) the same. was staring at Niall the whole time lol. We got the Larry in this yay. Craic daddy craic daddy craic daddy. Ya same feel like they have changed so many peoples life's including mine emoji. Larry, zayn being too cool to dance, Liam being the big child he is, and then well. Niall being Niall Niall. Yesss. Omg it does hahahaha. se harry og louis, stt cemoji. LARRY ON THE SIDE IM SCREAMIG. Jaaaaaa Cemoji. LARRY Niall though. ily. Larry being CUTEEE, Niall being Niall (lol), Liam aw aw, and Zayn being sexy. How do get gif? cant aave them to my phone. YESYESYESYES. Loolll niall. Lol. Lol. Liammmm. OMG hahahahahah. Niallllll. Wut is NIALL doing. niall. Larry, Zayn being sexy, and Niall and Liam doing something stupid in the back. Omg yesmultiexclamation Hahahah yes. haha yes so true. look at Niall. There is our boys!. Bahaha look at Niall!. no. know! And then we have bit of Larry on the side!. Haha!. LARRY. CAN'T EVEN YOU GUYS HAVE TO TAKE LOADS OF PICS AND TEXT ME AND EVERYTHING CAUSE AHAHSHAODMISJSALQOPADNSN SO HAPPY FOR YOU OMG. Everyone is dancing, while Larry, well, is being Larry. Pretty much. Pretty much. niall. LARRYmultiexclamation Ahhhhhmultiexclamation. ship larry so hard, this does pretty much sum It up by the way in love with ur pagemultiexclamation. LARRYY. my foot is numb. it's literally one direction perfectly summed up. Larry, zayn, crazy Liam and. Niall oh niall we worry about him. LARRRRRRRYYYYYYYYY!. Hahahah but Larry isn't happening much anymore cuz people kept bothering them about it. which sucks cuz they deserve to live their lives. pretty much. Wow no arguement there. haha emoji. Niall and Liam and zayn is all random,and Larry moments. Oh niall. yes. We will be directioner buddies at school. Hell. To. The. Yes. Niall. to the men.\n",
            "Tokenized:  ['go', '##sh', 'we', 'love', 'these', 'five', 'idiots', 'so', 'much', 'for', 'me', ',', 'they', 'have', 'seriously', 'turned', 'my', 'life', 'around', 'and', 'am', 'so', 'thankful', 'for', 'that', '~', 'z', '##han', '##na', '\"', '.', 'za', '##aa', '##ay', '##n', '.', 'larry', 'em', '##oj', '##i', '.', 'just', 'was', 'looking', 'at', 'la', '##ry', '.', 'larry', '.', 'larry', 'having', 'their', 'little', 'moment', 'there', 'em', '##oj', '##i', '.', 'are', 'of', 'you', 'actually', 'fans', 'of', 'one', 'direction', 'or', 'larry', 'hard', 'to', 'tell', 'tb', '##h', '.', 'l', '##ma', '##o', 'just', 'because', 'ur', 'an', 'el', '##oun', '##or', 'ship', '##per', 'doesn', \"'\", 't', 'mean', 'you', 'have', 'to', 'be', 'bitch', 'lo', '##l', 'shut', 'up', '.', 'not', 'really', '.', 'i', \"'\", 'm', 'not', 'bitch', 'just', 'saying', 'that', 'people', 'only', 'seem', 'to', 'care', 'about', 'larry', 'nowadays', '.', 'larry', '.', 'em', '##oj', '##i', '.', 'ya', '##ll', 'math', '##er', '##fu', '##cker', '##s', 'need', 'jesus', '.', 'love', 'me', 'some', '1', '##d', '(', 'all', 'the', 'boys', ')', 'the', 'same', '.', 'was', 'staring', 'at', 'niall', 'the', 'whole', 'time', 'lo', '##l', '.', 'we', 'got', 'the', 'larry', 'in', 'this', 'ya', '##y', '.', 'cr', '##ai', '##c', 'daddy', 'cr', '##ai', '##c', 'daddy', 'cr', '##ai', '##c', 'daddy', '.', 'ya', 'same', 'feel', 'like', 'they', 'have', 'changed', 'so', 'many', 'peoples', 'life', \"'\", 's', 'including', 'mine', 'em', '##oj', '##i', '.', 'larry', ',', 'za', '##yn', 'being', 'too', 'cool', 'to', 'dance', ',', 'liam', 'being', 'the', 'big', 'child', 'he', 'is', ',', 'and', 'then', 'well', '.', 'niall', 'being', 'niall', 'niall', '.', 'yes', '##ss', '.', 'om', '##g', 'it', 'does', 'ha', '##ha', '##ha', '##ha', '.', 'se', 'harry', 'og', 'louis', ',', 'st', '##t', 'ce', '##mo', '##ji', '.', 'larry', 'on', 'the', 'side', 'im', 'scream', '##ig', '.', 'ja', '##aa', '##aa', '##a', 'ce', '##mo', '##ji', '.', 'larry', 'niall', 'though', '.', 'il', '##y', '.', 'larry', 'being', 'cute', '##ee', ',', 'niall', 'being', 'niall', '(', 'lo', '##l', ')', ',', 'liam', 'aw', 'aw', ',', 'and', 'za', '##yn', 'being', 'sexy', '.', 'how', 'do', 'get', 'gi', '##f', '?', 'can', '##t', 'aa', '##ve', 'them', 'to', 'my', 'phone', '.', 'yes', '##yes', '##yes', '##yes', '.', 'lo', '##oll', '##l', 'niall', '.', 'lo', '##l', '.', 'lo', '##l', '.', 'liam', '##mm', '##m', '.', 'om', '##g', 'ha', '##ha', '##ha', '##ha', '##ha', '##h', '.', 'niall', '##ll', '##ll', '.', 'wu', '##t', 'is', 'niall', 'doing', '.', 'niall', '.', 'larry', ',', 'za', '##yn', 'being', 'sexy', ',', 'and', 'niall', 'and', 'liam', 'doing', 'something', 'stupid', 'in', 'the', 'back', '.', 'om', '##g', 'yes', '##mu', '##lt', '##ie', '##x', '##cl', '##ama', '##tion', 'ha', '##ha', '##ha', '##h', 'yes', '.', 'ha', '##ha', 'yes', 'so', 'true', '.', 'look', 'at', 'niall', '.', 'there', 'is', 'our', 'boys', '!', '.', 'baha', '##ha', 'look', 'at', 'niall', '!', '.', 'no', '.', 'know', '!', 'and', 'then', 'we', 'have', 'bit', 'of', 'larry', 'on', 'the', 'side', '!', '.', 'ha', '##ha', '!', '.', 'larry', '.', 'can', \"'\", 't', 'even', 'you', 'guys', 'have', 'to', 'take', 'loads', 'of', 'pic', '##s', 'and', 'text', 'me', 'and', 'everything', 'cause', 'ah', '##ah', '##sha', '##od', '##mis', '##js', '##al', '##q', '##opa', '##d', '##ns', '##n', 'so', 'happy', 'for', 'you', 'om', '##g', '.', 'everyone', 'is', 'dancing', ',', 'while', 'larry', ',', 'well', ',', 'is', 'being', 'larry', '.', 'pretty', 'much', '.', 'pretty', 'much', '.', 'niall', '.', 'larry', '##mu', '##lt', '##ie', '##x', '##cl', '##ama', '##tion', 'ah', '##hh', '##hh', '##mu', '##lt', '##ie', '##x', '##cl', '##ama', '##tion', '.', 'ship', 'larry', 'so', 'hard', ',', 'this', 'does', 'pretty', 'much', 'sum', 'it', 'up', 'by', 'the', 'way', 'in', 'love', 'with', 'ur', 'page', '##mu', '##lt', '##ie', '##x', '##cl', '##ama', '##tion', '.', 'larry', '##y', '.', 'my', 'foot', 'is', 'numb', '.', 'it', \"'\", 's', 'literally', 'one', 'direction', 'perfectly', 'sum', '##med', 'up', '.', 'larry', ',', 'za', '##yn', ',', 'crazy', 'liam', 'and', '.', 'niall', 'oh', 'niall', 'we', 'worry', 'about', 'him', '.', 'la', '##rr', '##rr', '##rr', '##ry', '##y', '##y', '##y', '##y', '##y', '##y', '##y', '##y', '!', '.', 'ha', '##ha', '##ha', '##h', 'but', 'larry', 'isn', \"'\", 't', 'happening', 'much', 'anymore', 'cu', '##z', 'people', 'kept', 'bothering', 'them', 'about', 'it', '.', 'which', 'sucks', 'cu', '##z', 'they', 'deserve', 'to', 'live', 'their', 'lives', '.', 'pretty', 'much', '.', 'wow', 'no', 'argue', '##ment', 'there', '.', 'ha', '##ha', 'em', '##oj', '##i', '.', 'niall', 'and', 'liam', 'and', 'za', '##yn', 'is', 'all', 'random', ',', 'and', 'larry', 'moments', '.', 'oh', 'niall', '.', 'yes', '.', 'we', 'will', 'be', 'direction', '##er', 'buddies', 'at', 'school', '.', 'hell', '.', 'to', '.', 'the', '.', 'yes', '.', 'niall', '.', 'to', 'the', 'men', '.']\n",
            "Token IDs:  [2175, 4095, 2057, 2293, 2122, 2274, 28781, 2061, 2172, 2005, 2033, 1010, 2027, 2031, 5667, 2357, 2026, 2166, 2105, 1998, 2572, 2061, 18836, 2005, 2008, 1066, 1062, 4819, 2532, 1000, 1012, 23564, 11057, 4710, 2078, 1012, 6554, 7861, 29147, 2072, 1012, 2074, 2001, 2559, 2012, 2474, 2854, 1012, 6554, 1012, 6554, 2383, 2037, 2210, 2617, 2045, 7861, 29147, 2072, 1012, 2024, 1997, 2017, 2941, 4599, 1997, 2028, 3257, 2030, 6554, 2524, 2000, 2425, 26419, 2232, 1012, 1048, 2863, 2080, 2074, 2138, 24471, 2019, 3449, 23709, 2953, 2911, 4842, 2987, 1005, 1056, 2812, 2017, 2031, 2000, 2022, 7743, 8840, 2140, 3844, 2039, 1012, 2025, 2428, 1012, 1045, 1005, 1049, 2025, 7743, 2074, 3038, 2008, 2111, 2069, 4025, 2000, 2729, 2055, 6554, 13367, 1012, 6554, 1012, 7861, 29147, 2072, 1012, 8038, 3363, 8785, 2121, 11263, 9102, 2015, 2342, 4441, 1012, 2293, 2033, 2070, 1015, 2094, 1006, 2035, 1996, 3337, 1007, 1996, 2168, 1012, 2001, 4582, 2012, 21889, 1996, 2878, 2051, 8840, 2140, 1012, 2057, 2288, 1996, 6554, 1999, 2023, 8038, 2100, 1012, 13675, 4886, 2278, 8600, 13675, 4886, 2278, 8600, 13675, 4886, 2278, 8600, 1012, 8038, 2168, 2514, 2066, 2027, 2031, 2904, 2061, 2116, 7243, 2166, 1005, 1055, 2164, 3067, 7861, 29147, 2072, 1012, 6554, 1010, 23564, 6038, 2108, 2205, 4658, 2000, 3153, 1010, 8230, 2108, 1996, 2502, 2775, 2002, 2003, 1010, 1998, 2059, 2092, 1012, 21889, 2108, 21889, 21889, 1012, 2748, 4757, 1012, 18168, 2290, 2009, 2515, 5292, 3270, 3270, 3270, 1012, 7367, 4302, 13958, 3434, 1010, 2358, 2102, 8292, 5302, 4478, 1012, 6554, 2006, 1996, 2217, 10047, 6978, 8004, 1012, 14855, 11057, 11057, 2050, 8292, 5302, 4478, 1012, 6554, 21889, 2295, 1012, 6335, 2100, 1012, 6554, 2108, 10140, 4402, 1010, 21889, 2108, 21889, 1006, 8840, 2140, 1007, 1010, 8230, 22091, 22091, 1010, 1998, 23564, 6038, 2108, 7916, 1012, 2129, 2079, 2131, 21025, 2546, 1029, 2064, 2102, 9779, 3726, 2068, 2000, 2026, 3042, 1012, 2748, 23147, 23147, 23147, 1012, 8840, 14511, 2140, 21889, 1012, 8840, 2140, 1012, 8840, 2140, 1012, 8230, 7382, 2213, 1012, 18168, 2290, 5292, 3270, 3270, 3270, 3270, 2232, 1012, 21889, 3363, 3363, 1012, 8814, 2102, 2003, 21889, 2725, 1012, 21889, 1012, 6554, 1010, 23564, 6038, 2108, 7916, 1010, 1998, 21889, 1998, 8230, 2725, 2242, 5236, 1999, 1996, 2067, 1012, 18168, 2290, 2748, 12274, 7096, 2666, 2595, 20464, 8067, 3508, 5292, 3270, 3270, 2232, 2748, 1012, 5292, 3270, 2748, 2061, 2995, 1012, 2298, 2012, 21889, 1012, 2045, 2003, 2256, 3337, 999, 1012, 13253, 3270, 2298, 2012, 21889, 999, 1012, 2053, 1012, 2113, 999, 1998, 2059, 2057, 2031, 2978, 1997, 6554, 2006, 1996, 2217, 999, 1012, 5292, 3270, 999, 1012, 6554, 1012, 2064, 1005, 1056, 2130, 2017, 4364, 2031, 2000, 2202, 15665, 1997, 27263, 2015, 1998, 3793, 2033, 1998, 2673, 3426, 6289, 4430, 7377, 7716, 15630, 22578, 2389, 4160, 29477, 2094, 3619, 2078, 2061, 3407, 2005, 2017, 18168, 2290, 1012, 3071, 2003, 5613, 1010, 2096, 6554, 1010, 2092, 1010, 2003, 2108, 6554, 1012, 3492, 2172, 1012, 3492, 2172, 1012, 21889, 1012, 6554, 12274, 7096, 2666, 2595, 20464, 8067, 3508, 6289, 23644, 23644, 12274, 7096, 2666, 2595, 20464, 8067, 3508, 1012, 2911, 6554, 2061, 2524, 1010, 2023, 2515, 3492, 2172, 7680, 2009, 2039, 2011, 1996, 2126, 1999, 2293, 2007, 24471, 3931, 12274, 7096, 2666, 2595, 20464, 8067, 3508, 1012, 6554, 2100, 1012, 2026, 3329, 2003, 15903, 1012, 2009, 1005, 1055, 6719, 2028, 3257, 6669, 7680, 7583, 2039, 1012, 6554, 1010, 23564, 6038, 1010, 4689, 8230, 1998, 1012, 21889, 2821, 21889, 2057, 4737, 2055, 2032, 1012, 2474, 12171, 12171, 12171, 2854, 2100, 2100, 2100, 2100, 2100, 2100, 2100, 2100, 999, 1012, 5292, 3270, 3270, 2232, 2021, 6554, 3475, 1005, 1056, 6230, 2172, 4902, 12731, 2480, 2111, 2921, 17067, 2068, 2055, 2009, 1012, 2029, 19237, 12731, 2480, 2027, 10107, 2000, 2444, 2037, 3268, 1012, 3492, 2172, 1012, 10166, 2053, 7475, 3672, 2045, 1012, 5292, 3270, 7861, 29147, 2072, 1012, 21889, 1998, 8230, 1998, 23564, 6038, 2003, 2035, 6721, 1010, 1998, 6554, 5312, 1012, 2821, 21889, 1012, 2748, 1012, 2057, 2097, 2022, 3257, 2121, 24115, 2012, 2082, 1012, 3109, 1012, 2000, 1012, 1996, 1012, 2748, 1012, 21889, 1012, 2000, 1996, 2273, 1012]\n"
          ]
        }
      ]
    },
    {
      "cell_type": "code",
      "source": [
        "#tokenizer.encode_plus"
      ],
      "metadata": {
        "id": "t3vAgnGZFRR_"
      },
      "execution_count": null,
      "outputs": []
    },
    {
      "cell_type": "code",
      "source": [
        "## bert model\n",
        "nlp = transformers.TFBertModel.from_pretrained('bert-base-uncased')\n",
        "## return hidden layer with embeddings\n",
        "input_ids = np.array(tokenizer.encode(txt))[None,:]  \n",
        "embedding = nlp(input_ids)\n",
        "embedding[0][0]"
      ],
      "metadata": {
        "id": "hNHeZIp_nO7A"
      },
      "execution_count": null,
      "outputs": []
    }
  ]
}