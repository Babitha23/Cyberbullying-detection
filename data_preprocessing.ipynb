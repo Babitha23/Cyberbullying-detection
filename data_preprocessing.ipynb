{
  "cells": [
    {
      "cell_type": "markdown",
      "metadata": {
        "id": "view-in-github",
        "colab_type": "text"
      },
      "source": [
        "<a href=\"https://colab.research.google.com/github/Babitha23/Cyberbullying-detection/blob/main/data_preprocessing.ipynb\" target=\"_parent\"><img src=\"https://colab.research.google.com/assets/colab-badge.svg\" alt=\"Open In Colab\"/></a>"
      ]
    },
    {
      "cell_type": "markdown",
      "metadata": {
        "id": "36LUevFuZ4XG"
      },
      "source": [
        "# New Section"
      ]
    },
    {
      "cell_type": "code",
      "execution_count": null,
      "metadata": {
        "id": "RAe4oy_kZ2zY"
      },
      "outputs": [],
      "source": [
        "import pandas as pd\n",
        "import numpy as np\n",
        "import re\n",
        "#load data from csv file and concat\n",
        "data1 = pd.read_csv(\"sessions_0plus_to_10_metadata.csv\", index_col=0, encoding = \"ISO-8859-1\")\n",
        "data2 = pd.read_csv(\"sessions_10plus_to_40_metadata.csv\", index_col=0, encoding = \"ISO-8859-1\")\n",
        "data3 = pd.read_csv(\"sessions_40plus_metadata.csv\", index_col=0, encoding = \"ISO-8859-1\")\n",
        "data = pd.concat([data1,data2,data3], axis=0)"
      ]
    },
    {
      "cell_type": "code",
      "execution_count": null,
      "metadata": {
        "id": "jxCiSn1W3ygi"
      },
      "outputs": [],
      "source": [
        "import pandas as pd\n",
        "import numpy as np\n",
        "import re"
      ]
    },
    {
      "cell_type": "code",
      "execution_count": null,
      "metadata": {
        "colab": {
          "base_uri": "https://localhost:8080/"
        },
        "id": "vjs3j7Wkayye",
        "outputId": "2db1186b-687c-4a41-d7ff-849473ed11cb"
      },
      "outputs": [
        {
          "name": "stdout",
          "output_type": "stream",
          "text": [
            "(278, 214)\n",
            "(1018, 214)\n",
            "(922, 214)\n",
            "(2218, 214)\n"
          ]
        }
      ],
      "source": [
        "#check shape of the dataframes\n",
        "print(data1.shape)\n",
        "print(data2.shape)\n",
        "print(data3.shape)\n",
        "print(data.shape)"
      ]
    },
    {
      "cell_type": "code",
      "execution_count": null,
      "metadata": {
        "colab": {
          "base_uri": "https://localhost:8080/",
          "height": 237
        },
        "id": "vDVixRTHa18o",
        "outputId": "06087f91-0ad7-4360-f291-7f1fa3cd192e"
      },
      "outputs": [
        {
          "data": {
            "text/html": [
              "\n",
              "  <div id=\"df-14572555-1bb4-44f0-9ea4-5f2c2291a9be\">\n",
              "    <div class=\"colab-df-container\">\n",
              "      <div>\n",
              "<style scoped>\n",
              "    .dataframe tbody tr th:only-of-type {\n",
              "        vertical-align: middle;\n",
              "    }\n",
              "\n",
              "    .dataframe tbody tr th {\n",
              "        vertical-align: top;\n",
              "    }\n",
              "\n",
              "    .dataframe thead th {\n",
              "        text-align: right;\n",
              "    }\n",
              "</style>\n",
              "<table border=\"1\" class=\"dataframe\">\n",
              "  <thead>\n",
              "    <tr style=\"text-align: right;\">\n",
              "      <th></th>\n",
              "      <th>question1</th>\n",
              "      <th>question2</th>\n",
              "      <th>likes</th>\n",
              "      <th>shared media</th>\n",
              "      <th>followed_by</th>\n",
              "      <th>follows</th>\n",
              "      <th>sessiontext</th>\n",
              "    </tr>\n",
              "    <tr>\n",
              "      <th>_unit_id</th>\n",
              "      <th></th>\n",
              "      <th></th>\n",
              "      <th></th>\n",
              "      <th></th>\n",
              "      <th></th>\n",
              "      <th></th>\n",
              "      <th></th>\n",
              "    </tr>\n",
              "  </thead>\n",
              "  <tbody>\n",
              "    <tr>\n",
              "      <th>702714440</th>\n",
              "      <td>noneAgg</td>\n",
              "      <td>noneBll</td>\n",
              "      <td>4313\\r\\r likes</td>\n",
              "      <td>1477</td>\n",
              "      <td>53913</td>\n",
              "      <td>268</td>\n",
              "      <td>gosh we love these five idiots so much __ for...</td>\n",
              "    </tr>\n",
              "    <tr>\n",
              "      <th>702714441</th>\n",
              "      <td>noneAgg</td>\n",
              "      <td>noneBll</td>\n",
              "      <td>2102\\r\\r likes</td>\n",
              "      <td>761</td>\n",
              "      <td>426533</td>\n",
              "      <td>379</td>\n",
              "      <td>Anyone see the Pepsi halftime show commercial ...</td>\n",
              "    </tr>\n",
              "    <tr>\n",
              "      <th>702714442</th>\n",
              "      <td>noneAgg</td>\n",
              "      <td>noneBll</td>\n",
              "      <td>108939\\r\\r likes</td>\n",
              "      <td>698</td>\n",
              "      <td>1974089</td>\n",
              "      <td>389</td>\n",
              "      <td>Today I ate cr_pes and bought a drawing of ch...</td>\n",
              "    </tr>\n",
              "    <tr>\n",
              "      <th>702714443</th>\n",
              "      <td>aggression</td>\n",
              "      <td>bullying</td>\n",
              "      <td>6441\\r\\r likes</td>\n",
              "      <td>1257</td>\n",
              "      <td>349594</td>\n",
              "      <td>656</td>\n",
              "      <td>New works in progress for an upcoming show at ...</td>\n",
              "    </tr>\n",
              "    <tr>\n",
              "      <th>702714444</th>\n",
              "      <td>noneAgg</td>\n",
              "      <td>noneBll</td>\n",
              "      <td>1153\\r\\r likes</td>\n",
              "      <td>2052</td>\n",
              "      <td>60772</td>\n",
              "      <td>388</td>\n",
              "      <td>Due to overwhelming response, we have went ahe...</td>\n",
              "    </tr>\n",
              "  </tbody>\n",
              "</table>\n",
              "</div>\n",
              "      <button class=\"colab-df-convert\" onclick=\"convertToInteractive('df-14572555-1bb4-44f0-9ea4-5f2c2291a9be')\"\n",
              "              title=\"Convert this dataframe to an interactive table.\"\n",
              "              style=\"display:none;\">\n",
              "        \n",
              "  <svg xmlns=\"http://www.w3.org/2000/svg\" height=\"24px\"viewBox=\"0 0 24 24\"\n",
              "       width=\"24px\">\n",
              "    <path d=\"M0 0h24v24H0V0z\" fill=\"none\"/>\n",
              "    <path d=\"M18.56 5.44l.94 2.06.94-2.06 2.06-.94-2.06-.94-.94-2.06-.94 2.06-2.06.94zm-11 1L8.5 8.5l.94-2.06 2.06-.94-2.06-.94L8.5 2.5l-.94 2.06-2.06.94zm10 10l.94 2.06.94-2.06 2.06-.94-2.06-.94-.94-2.06-.94 2.06-2.06.94z\"/><path d=\"M17.41 7.96l-1.37-1.37c-.4-.4-.92-.59-1.43-.59-.52 0-1.04.2-1.43.59L10.3 9.45l-7.72 7.72c-.78.78-.78 2.05 0 2.83L4 21.41c.39.39.9.59 1.41.59.51 0 1.02-.2 1.41-.59l7.78-7.78 2.81-2.81c.8-.78.8-2.07 0-2.86zM5.41 20L4 18.59l7.72-7.72 1.47 1.35L5.41 20z\"/>\n",
              "  </svg>\n",
              "      </button>\n",
              "      \n",
              "  <style>\n",
              "    .colab-df-container {\n",
              "      display:flex;\n",
              "      flex-wrap:wrap;\n",
              "      gap: 12px;\n",
              "    }\n",
              "\n",
              "    .colab-df-convert {\n",
              "      background-color: #E8F0FE;\n",
              "      border: none;\n",
              "      border-radius: 50%;\n",
              "      cursor: pointer;\n",
              "      display: none;\n",
              "      fill: #1967D2;\n",
              "      height: 32px;\n",
              "      padding: 0 0 0 0;\n",
              "      width: 32px;\n",
              "    }\n",
              "\n",
              "    .colab-df-convert:hover {\n",
              "      background-color: #E2EBFA;\n",
              "      box-shadow: 0px 1px 2px rgba(60, 64, 67, 0.3), 0px 1px 3px 1px rgba(60, 64, 67, 0.15);\n",
              "      fill: #174EA6;\n",
              "    }\n",
              "\n",
              "    [theme=dark] .colab-df-convert {\n",
              "      background-color: #3B4455;\n",
              "      fill: #D2E3FC;\n",
              "    }\n",
              "\n",
              "    [theme=dark] .colab-df-convert:hover {\n",
              "      background-color: #434B5C;\n",
              "      box-shadow: 0px 1px 3px 1px rgba(0, 0, 0, 0.15);\n",
              "      filter: drop-shadow(0px 1px 2px rgba(0, 0, 0, 0.3));\n",
              "      fill: #FFFFFF;\n",
              "    }\n",
              "  </style>\n",
              "\n",
              "      <script>\n",
              "        const buttonEl =\n",
              "          document.querySelector('#df-14572555-1bb4-44f0-9ea4-5f2c2291a9be button.colab-df-convert');\n",
              "        buttonEl.style.display =\n",
              "          google.colab.kernel.accessAllowed ? 'block' : 'none';\n",
              "\n",
              "        async function convertToInteractive(key) {\n",
              "          const element = document.querySelector('#df-14572555-1bb4-44f0-9ea4-5f2c2291a9be');\n",
              "          const dataTable =\n",
              "            await google.colab.kernel.invokeFunction('convertToInteractive',\n",
              "                                                     [key], {});\n",
              "          if (!dataTable) return;\n",
              "\n",
              "          const docLinkHtml = 'Like what you see? Visit the ' +\n",
              "            '<a target=\"_blank\" href=https://colab.research.google.com/notebooks/data_table.ipynb>data table notebook</a>'\n",
              "            + ' to learn more about interactive tables.';\n",
              "          element.innerHTML = '';\n",
              "          dataTable['output_type'] = 'display_data';\n",
              "          await google.colab.output.renderOutput(dataTable, element);\n",
              "          const docLink = document.createElement('div');\n",
              "          docLink.innerHTML = docLinkHtml;\n",
              "          element.appendChild(docLink);\n",
              "        }\n",
              "      </script>\n",
              "    </div>\n",
              "  </div>\n",
              "  "
            ],
            "text/plain": [
              "            question1 question2             likes  shared media  followed_by  \\\n",
              "_unit_id                                                                       \n",
              "702714440     noneAgg   noneBll    4313\\r\\r likes          1477        53913   \n",
              "702714441     noneAgg   noneBll    2102\\r\\r likes           761       426533   \n",
              "702714442     noneAgg   noneBll  108939\\r\\r likes           698      1974089   \n",
              "702714443  aggression  bullying    6441\\r\\r likes          1257       349594   \n",
              "702714444     noneAgg   noneBll    1153\\r\\r likes          2052        60772   \n",
              "\n",
              "           follows                                        sessiontext  \n",
              "_unit_id                                                               \n",
              "702714440      268  gosh we love these five idiots so much __ for...  \n",
              "702714441      379  Anyone see the Pepsi halftime show commercial ...  \n",
              "702714442      389  Today I ate cr_pes and bought a drawing of ch...  \n",
              "702714443      656  New works in progress for an upcoming show at ...  \n",
              "702714444      388  Due to overwhelming response, we have went ahe...  "
            ]
          },
          "execution_count": 18,
          "metadata": {},
          "output_type": "execute_result"
        }
      ],
      "source": [
        "#Drop unwanted columns\n",
        "data = data.drop(['_golden', '_unit_state', '_trusted_judgments', '_last_judgment_at', 'question1:confidence', 'question2:confidence', 'cptn_time', 'img_url', 'id', 'owner_id', 'cyberaggression', 'cyberbullying'], axis=1)\n",
        "\n",
        "#Replace empty comments  with null value\n",
        "data = data.replace('empety', np.NaN)\n",
        "data = data.replace('empty', np.NaN)\n",
        "\n",
        "#Create new column with concat of all the comments excluding null values\n",
        "data['comments'] = data.iloc[:, 2:197].fillna('').agg('.'.join, axis=1)\n",
        "\n",
        "#Remove individual comments columns\n",
        "data = data.drop(data.iloc[:, 2:197], axis=1)\n",
        "\n",
        "#concat owner's post along with comments\n",
        "data['sessiontext'] = data['owner_cmnt'] + '.' + data['comments']\n",
        "\n",
        "#Dropping owner_cmnt and comments columns\n",
        "data = data.drop(['owner_cmnt', 'comments'], axis=1)\n",
        "\n",
        "data.head()"
      ]
    },
    {
      "cell_type": "code",
      "execution_count": null,
      "metadata": {
        "id": "koB22NwGbWfz"
      },
      "outputs": [],
      "source": [
        "def cleancomments(text):\n",
        "    pattern1 = re.compile('\\(created.at:\\d\\d\\d\\d-\\d\\d-\\d\\d \\d\\d:\\d\\d:\\d\\d\\)')\n",
        "    pattern2 = re.compile('<font color\\=\\\"\\#0066CC\\\"\\>.*?\\<\\/font>')\n",
        "    pattern3 = re.compile('@[^\\s]+')\n",
        "    temp = re.sub(pattern1, '', str(text))\n",
        "    temp1 = re.sub(pattern2, '', str(temp))\n",
        "    temp2 = re.sub(pattern3, '', str(temp1))\n",
        "    return temp2\n",
        "\n",
        "def cleanlike(text):\n",
        "    pattern = re.compile('[0-9]+')\n",
        "    num = re.findall(pattern, text)\n",
        "    return num[0]\n",
        "\n",
        "def checkcomments():\n",
        "    count = 0\n",
        "    count1 = 0\n",
        "    count2 = 0\n",
        "    for i in range(2218):\n",
        "        count = count + len(re.findall('\\(created.at:\\d\\d\\d\\d-\\d\\d-\\d\\d \\d\\d:\\d\\d:\\d\\d\\)', str(data.iloc[i, :]['sessiontext'])))\n",
        "        count1 = count1 + len(re.findall('<font color\\=\\\"\\#0066CC\\\"\\>.*?\\<\\/font>', str(data.iloc[i, :]['sessiontext'])))\n",
        "        count2 = count2 + len(re.findall('@[^\\s]+', str(data.iloc[i, :]['sessiontext'])))\n",
        "    print(\"time pattern appears\", count, \"times\")\n",
        "    print(\"html pattern appears\", count1, \"times\")\n",
        "    print(\"User tagging in owner's comment appear\", count2, \"times\")\n",
        "\n",
        "def cleaning(text):\n",
        "    \"\"\" Removes unicode strings like \"\\u002c\" and \"x96\" \"\"\"\n",
        "    tmp = re.sub(r'(\\\\u[0-9A-Fa-f]+)',r'', text)       \n",
        "    temp = re.sub(r'[^\\x00-\\x7f]',r'',tmp)\n",
        "    #removing url\n",
        "    temp1 = re.sub('((www\\.[^\\s]+)|(https?://[^\\s]+))','url',temp)\n",
        "    temp2 = re.sub(r'#([^\\s]+)', r'\\1', temp1)\n",
        "    temp3 = re.sub(r'#([^\\s]+)', r'\\1', temp2)\n",
        "    #removing emoticons\n",
        "    temp4 = re.sub(':\\)|;\\)|:-\\)|<3|\\(-:|:-D|=D|:P|xD|X-p|\\^\\^|:-*|\\^\\.\\^|\\^\\-\\^|\\^\\_\\^|\\,-\\)|\\)-:|:\\'\\(|:\\(|:-\\(|:\\S|T\\.T|\\.\\_\\.|:<|:-\\S|:-<|\\*\\-\\*|:O|=O|=\\-O|O\\.o|XO|O\\_O|:-\\@|=/|:/|X\\-\\(|>\\.<|>=\\(|D:', '', temp3)\n",
        "    temp5 = re.sub(' +', ' ', temp4) #removing additional whitespaces\n",
        "    temp6 = re.sub(r\"(\\.)\\1+\", '.', temp5)\n",
        "    temp7 = re.sub(r\"(\\!)\\1+\", '!', temp6)\n",
        "    return temp7"
      ]
    },
    {
      "cell_type": "code",
      "execution_count": null,
      "metadata": {
        "colab": {
          "base_uri": "https://localhost:8080/"
        },
        "id": "mBAT7uGhcMh9",
        "outputId": "aed9bd74-c0e6-4008-82a5-dd77c9b0134d"
      },
      "outputs": [
        {
          "name": "stdout",
          "output_type": "stream",
          "text": [
            "time pattern appears 156357 times\n",
            "html pattern appears 235463 times\n",
            "User tagging in owner's comment appear 70493 times\n"
          ]
        }
      ],
      "source": [
        "checkcomments()"
      ]
    },
    {
      "cell_type": "code",
      "execution_count": null,
      "metadata": {
        "colab": {
          "base_uri": "https://localhost:8080/"
        },
        "id": "F6T2tZHfcNB_",
        "outputId": "5f3a8b78-6928-43b2-d96a-8bc259750ee2"
      },
      "outputs": [
        {
          "name": "stdout",
          "output_type": "stream",
          "text": [
            "After cleaning:\n",
            "---------------\n",
            "time pattern appears 0 times\n",
            "html pattern appears 0 times\n",
            "User tagging in owner's comment appear 0 times\n"
          ]
        }
      ],
      "source": [
        "#Removing html tags, usernames, comment time and cleaning 'likes' by calling the functions\n",
        "for i in range(2218):\n",
        "    data['sessiontext'] = data['sessiontext'].apply(lambda x: cleancomments(x))\n",
        "    data['likes'] = data['likes'].apply(lambda y: cleanlike(y))\n",
        "    \n",
        "print(\"After cleaning:\")\n",
        "print(\"---------------\")\n",
        "checkcomments()"
      ]
    },
    {
      "cell_type": "code",
      "execution_count": null,
      "metadata": {
        "colab": {
          "background_save": true
        },
        "id": "DExfxHjGcQF1"
      },
      "outputs": [],
      "source": [
        "for i in range(2218):\n",
        "    data['sessiontext'] = data['sessiontext'].apply(lambda x: cleaning(x))"
      ]
    },
    {
      "cell_type": "code",
      "execution_count": null,
      "metadata": {
        "colab": {
          "background_save": true
        },
        "id": "UBqd3intjY0N"
      },
      "outputs": [],
      "source": [
        "#data.to_csv('cleandata.csv')"
      ]
    },
    {
      "cell_type": "code",
      "execution_count": null,
      "metadata": {
        "colab": {
          "background_save": true
        },
        "id": "OuKi_QmV3kiT"
      },
      "outputs": [],
      "source": [
        "#data = pd.read_csv(\"/cleandata.csv\", index_col=0, encoding = \"ISO-8859-1\")\n",
        "#data.iloc[2211, :]['sessiontext']"
      ]
    }
  ],
  "metadata": {
    "accelerator": "GPU",
    "colab": {
      "provenance": [],
      "authorship_tag": "ABX9TyNfH8AlIt8AqLWt9U9lbnW9",
      "include_colab_link": true
    },
    "gpuClass": "standard",
    "kernelspec": {
      "display_name": "Python 3",
      "name": "python3"
    },
    "language_info": {
      "name": "python"
    }
  },
  "nbformat": 4,
  "nbformat_minor": 0
}