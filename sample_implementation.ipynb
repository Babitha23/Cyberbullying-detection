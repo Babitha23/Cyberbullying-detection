{
  "nbformat": 4,
  "nbformat_minor": 0,
  "metadata": {
    "colab": {
      "provenance": [],
      "include_colab_link": true
    },
    "kernelspec": {
      "name": "python3",
      "display_name": "Python 3"
    },
    "language_info": {
      "name": "python"
    },
    "accelerator": "GPU",
    "gpuClass": "standard"
  },
  "cells": [
    {
      "cell_type": "markdown",
      "metadata": {
        "id": "view-in-github",
        "colab_type": "text"
      },
      "source": [
        "<a href=\"https://colab.research.google.com/github/Babitha23/Cyberbullying-detection/blob/main/sample_implementation.ipynb\" target=\"_parent\"><img src=\"https://colab.research.google.com/assets/colab-badge.svg\" alt=\"Open In Colab\"/></a>"
      ]
    },
    {
      "cell_type": "markdown",
      "source": [
        "# Import Libraries"
      ],
      "metadata": {
        "id": "9IHhccSq5Vb5"
      }
    },
    {
      "cell_type": "code",
      "execution_count": 1,
      "metadata": {
        "id": "q5ouPucUG4H2",
        "colab": {
          "base_uri": "https://localhost:8080/"
        },
        "outputId": "20ba6011-92e8-4e24-cc41-de07a2928c02"
      },
      "outputs": [
        {
          "output_type": "stream",
          "name": "stderr",
          "text": [
            "[nltk_data] Downloading package stopwords to /root/nltk_data...\n",
            "[nltk_data]   Unzipping corpora/stopwords.zip.\n",
            "[nltk_data] Downloading package wordnet to /root/nltk_data...\n",
            "[nltk_data] Downloading package omw-1.4 to /root/nltk_data...\n"
          ]
        },
        {
          "output_type": "execute_result",
          "data": {
            "text/plain": [
              "True"
            ]
          },
          "metadata": {},
          "execution_count": 1
        }
      ],
      "source": [
        "from google.colab import drive\n",
        "import pandas as pd\n",
        "import numpy as np\n",
        "import matplotlib.pyplot as plt\n",
        "%matplotlib inline\n",
        "import seaborn as sns\n",
        "import torch\n",
        "import nltk\n",
        "import string\n",
        "import re\n",
        "nltk.download('stopwords')\n",
        "nltk.download('wordnet')\n",
        "nltk.download('omw-1.4')"
      ]
    },
    {
      "cell_type": "code",
      "source": [
        "if torch.cuda.is_available():       \n",
        "    device = torch.device(\"cuda\")\n",
        "    print(f'There are {torch.cuda.device_count()} GPU(s) available.')\n",
        "    print('Device name:', torch.cuda.get_device_name(0))\n",
        "\n",
        "else:\n",
        "    print('No GPU available, using the CPU instead.')\n",
        "    device = torch.device(\"cpu\")"
      ],
      "metadata": {
        "colab": {
          "base_uri": "https://localhost:8080/"
        },
        "id": "LznWZnNnI8y1",
        "outputId": "b24ca5ba-a9f6-4b38-d724-f9e765e471b9"
      },
      "execution_count": 2,
      "outputs": [
        {
          "output_type": "stream",
          "name": "stdout",
          "text": [
            "No GPU available, using the CPU instead.\n"
          ]
        }
      ]
    },
    {
      "cell_type": "markdown",
      "source": [
        "# Acquire Data"
      ],
      "metadata": {
        "id": "n1Hp3wimwnar"
      }
    },
    {
      "cell_type": "code",
      "source": [
        "# Connect to google drive\n",
        "drive.mount('/content/gdrive')\n",
        "\n",
        "# Load data and set labels\n",
        "data = pd.read_csv('gdrive/My Drive/Dissertation/final.csv', index_col='_unit_id')"
      ],
      "metadata": {
        "colab": {
          "base_uri": "https://localhost:8080/"
        },
        "id": "41kBdwxtJDwi",
        "outputId": "2ffdcab8-5ff7-4750-a19c-2bdbbaf0fd09"
      },
      "execution_count": 3,
      "outputs": [
        {
          "output_type": "stream",
          "name": "stdout",
          "text": [
            "Mounted at /content/gdrive\n"
          ]
        }
      ]
    },
    {
      "cell_type": "code",
      "source": [
        "def cleancomments(text):\n",
        "    tt = re.sub('\\(created.at:\\d\\d\\d\\d-\\d\\d-\\d\\d \\d\\d:\\d\\d:\\d\\d\\)', '', str(text)) #replacing comment time\n",
        "    tt1 = re.sub('<font color\\=\\\"\\#0066CC\\\"\\>.*?\\<\\/font>', '', str(tt)) # removing html tags with username\n",
        "    tt2 = re.sub('@[^\\s]+', '', str(tt1)) #removing user tag\n",
        "    #Remove unicode strings like \"\\u002c\" and \"x96\"\n",
        "    tmp = re.sub(r'(\\\\u[0-9A-Fa-f]+)',r'', tt2) \n",
        "    temp = re.sub(r'[^\\x00-\\x7f]',r'',tmp)\n",
        "    #removing url\n",
        "    temp1 = re.sub('((www\\.[^\\s]+)|(https?://[^\\s]+))','url',temp)\n",
        "    temp2 = re.sub(r'#([^\\s]+)', r'\\1', temp1) # removing hashtags\n",
        "    #removing emoticons\n",
        "    temp3 = re.sub(':\\)|;\\)|:-\\)|<3|\\(-:|:-D|=D|:P|xD|X-p|\\^\\^|:-*|\\^\\.\\^|\\^\\-\\^|\\^\\_\\^|\\,-\\)|\\)-:|:\\'\\(|:\\(|:-\\(|:\\S|T\\.T|\\.\\_\\.|:<|:-\\S|:-<|\\*\\-\\*|:O|=O|=\\-O|O\\.o|XO|O\\_O|:-\\@|=/|:/|X\\-\\(|>\\.<|>=\\(|D:', '', temp2)\n",
        "    temp4 = ''.join([i for i in temp3 if not i.isdigit()]) #removing numbers\n",
        "    temp5 = re.sub(r\"( ?\\.)\\1+\", '.', temp4) #replacing multiple . with single .\n",
        "    temp6 = re.sub(r\"( ?\\!)+\", '!', temp5) #replacing multiple ! with single !\n",
        "    temp7 = re.sub(r\"( ?\\?)+\", '?', temp6) #replacing multiple ? with single ?\n",
        "    #temp8 = re.sub(r\"(\\_)+\", '', temp7)\n",
        "    temp8 = ' '.join( [w for w in temp7.split() if len(w)>1]) #removing single characters\n",
        "    temp9 = re.sub(' +', ' ', temp8) #removing additional whitespaces\n",
        "    return temp9"
      ],
      "metadata": {
        "id": "OQueQFk8Am5X"
      },
      "execution_count": 4,
      "outputs": []
    },
    {
      "cell_type": "code",
      "source": [
        "data.columns"
      ],
      "metadata": {
        "colab": {
          "base_uri": "https://localhost:8080/"
        },
        "id": "5Uq4vcqfBPmF",
        "outputId": "c5b91322-ce45-41bc-a91a-ac558ff5b1f6"
      },
      "execution_count": 5,
      "outputs": [
        {
          "output_type": "execute_result",
          "data": {
            "text/plain": [
              "Index(['question1', 'question2', 'clmn1', 'clmn10', 'clmn100', 'clmn101',\n",
              "       'clmn102', 'clmn103', 'clmn104', 'clmn105',\n",
              "       ...\n",
              "       'clmn95', 'clmn96', 'clmn97', 'clmn98', 'clmn99', 'likes', 'owner_cmnt',\n",
              "       'shared media', 'followed_by', 'follows'],\n",
              "      dtype='object', length=202)"
            ]
          },
          "metadata": {},
          "execution_count": 5
        }
      ]
    },
    {
      "cell_type": "code",
      "source": [
        "df = data.drop(['likes','shared media','followed_by','follows'], axis=1)"
      ],
      "metadata": {
        "id": "Od2VK-J5JnjB"
      },
      "execution_count": 6,
      "outputs": []
    },
    {
      "cell_type": "markdown",
      "source": [
        "Taking a sample of 10 datapoints with 50-50 positive-negatives"
      ],
      "metadata": {
        "id": "GosYrqJPwqtx"
      }
    },
    {
      "cell_type": "code",
      "source": [
        "#taking samples with 50-50 split\n",
        "aggdf_s = pd.concat([df.loc[df['question1'] == 'aggression'].tail(5), df.loc[df['question1'] == 'noneAgg'].tail(5)], axis=0).drop('question2', axis=1)\n",
        "cybdf_s = pd.concat([df.loc[df['question2'] == 'bullying'].tail(5), df.loc[df['question2'] == 'noneBll'].tail(5)], axis=0).drop('question1', axis=1)"
      ],
      "metadata": {
        "id": "RApvGv4muGnB"
      },
      "execution_count": 7,
      "outputs": []
    },
    {
      "cell_type": "code",
      "source": [
        "aggdf_s.isna().any().sum()"
      ],
      "metadata": {
        "colab": {
          "base_uri": "https://localhost:8080/"
        },
        "id": "oY5WcpIXOuNZ",
        "outputId": "b66f6e98-2412-44a5-bf31-cde0b210039e"
      },
      "execution_count": 8,
      "outputs": [
        {
          "output_type": "execute_result",
          "data": {
            "text/plain": [
              "185"
            ]
          },
          "metadata": {},
          "execution_count": 8
        }
      ]
    },
    {
      "cell_type": "code",
      "source": [
        "# aggdf_s = aggdf_s.replace('nan', np.NaN)\n",
        "# cybdf_s = cybdf_s.replace('nan', np.NaN)\n",
        "\n",
        "#Create new column with concat of all the comments excluding null values\n",
        "aggdf_s['comments'] = aggdf_s.iloc[:, 1:-1].fillna('').agg('. '.join, axis=1)\n",
        "cybdf_s['comments'] = cybdf_s.iloc[:, 1:-1].fillna('').agg('. '.join, axis=1)\n",
        "\n",
        "#Remove individual comments columns\n",
        "#data = data.drop(data.iloc[:, 2:197], axis=1)\n",
        "\n",
        "# #concat owner's post along with comments\n",
        "aggdf_s['sessiontext'] = aggdf_s['owner_cmnt'] + '. ' + aggdf_s['comments']\n",
        "cybdf_s['sessiontext'] = cybdf_s['owner_cmnt'] + '. ' + cybdf_s['comments']\n",
        "\n",
        "#Dropping owner_cmnt and comments columns\n",
        "#data = data.drop(['owner_cmnt', 'comments'], axis=1)\n",
        "\n",
        "aggdf_s = aggdf_s[['sessiontext', 'question1']]\n",
        "cybdf_s = cybdf_s[['sessiontext', 'question2']]"
      ],
      "metadata": {
        "id": "WJH2cMi9jSvz"
      },
      "execution_count": 9,
      "outputs": []
    },
    {
      "cell_type": "code",
      "source": [
        "cybdf_s"
      ],
      "metadata": {
        "colab": {
          "base_uri": "https://localhost:8080/",
          "height": 394
        },
        "id": "fXGfAKlvjoBd",
        "outputId": "ae13e7ee-874e-45fa-b0b2-8c85c1c65066"
      },
      "execution_count": 10,
      "outputs": [
        {
          "output_type": "execute_result",
          "data": {
            "text/plain": [
              "                                                 sessiontext question2\n",
              "_unit_id                                                              \n",
              "652910868   Eric Fisher gets ready for his headshot | <fo...  bullying\n",
              "652910869   Shit cray !!!!. Rather your watch was real or...  bullying\n",
              "652910870   Camp life.. <font color=\"#0066CC\">#MikeVickWe...  bullying\n",
              "652910871   Signed over 300 pics at today's signing ! Fou...  bullying\n",
              "652910876   Next Stop: Knockout Round! <font color=\"#0066...  bullying\n",
              "652910867   Is the root of the problem the gun? Or the fi...   noneBll\n",
              "652910872   Skills! <font color=\"#0066CC\">#sundayfunday</...   noneBll\n",
              "652910873   Lol <font color=\"#0066CC\">#tupacamarushakur#t...   noneBll\n",
              "652910874   Who cares right? There both just books? ___...   noneBll\n",
              "652910875  Media posted at 014-06-21 20:57:44. dont like ...   noneBll"
            ],
            "text/html": [
              "\n",
              "  <div id=\"df-7c6fa75b-77e6-4305-9b3f-34610c430969\">\n",
              "    <div class=\"colab-df-container\">\n",
              "      <div>\n",
              "<style scoped>\n",
              "    .dataframe tbody tr th:only-of-type {\n",
              "        vertical-align: middle;\n",
              "    }\n",
              "\n",
              "    .dataframe tbody tr th {\n",
              "        vertical-align: top;\n",
              "    }\n",
              "\n",
              "    .dataframe thead th {\n",
              "        text-align: right;\n",
              "    }\n",
              "</style>\n",
              "<table border=\"1\" class=\"dataframe\">\n",
              "  <thead>\n",
              "    <tr style=\"text-align: right;\">\n",
              "      <th></th>\n",
              "      <th>sessiontext</th>\n",
              "      <th>question2</th>\n",
              "    </tr>\n",
              "    <tr>\n",
              "      <th>_unit_id</th>\n",
              "      <th></th>\n",
              "      <th></th>\n",
              "    </tr>\n",
              "  </thead>\n",
              "  <tbody>\n",
              "    <tr>\n",
              "      <th>652910868</th>\n",
              "      <td>Eric Fisher gets ready for his headshot | &lt;fo...</td>\n",
              "      <td>bullying</td>\n",
              "    </tr>\n",
              "    <tr>\n",
              "      <th>652910869</th>\n",
              "      <td>Shit cray !!!!. Rather your watch was real or...</td>\n",
              "      <td>bullying</td>\n",
              "    </tr>\n",
              "    <tr>\n",
              "      <th>652910870</th>\n",
              "      <td>Camp life.. &lt;font color=\"#0066CC\"&gt;#MikeVickWe...</td>\n",
              "      <td>bullying</td>\n",
              "    </tr>\n",
              "    <tr>\n",
              "      <th>652910871</th>\n",
              "      <td>Signed over 300 pics at today's signing ! Fou...</td>\n",
              "      <td>bullying</td>\n",
              "    </tr>\n",
              "    <tr>\n",
              "      <th>652910876</th>\n",
              "      <td>Next Stop: Knockout Round! &lt;font color=\"#0066...</td>\n",
              "      <td>bullying</td>\n",
              "    </tr>\n",
              "    <tr>\n",
              "      <th>652910867</th>\n",
              "      <td>Is the root of the problem the gun? Or the fi...</td>\n",
              "      <td>noneBll</td>\n",
              "    </tr>\n",
              "    <tr>\n",
              "      <th>652910872</th>\n",
              "      <td>Skills! &lt;font color=\"#0066CC\"&gt;#sundayfunday&lt;/...</td>\n",
              "      <td>noneBll</td>\n",
              "    </tr>\n",
              "    <tr>\n",
              "      <th>652910873</th>\n",
              "      <td>Lol &lt;font color=\"#0066CC\"&gt;#tupacamarushakur#t...</td>\n",
              "      <td>noneBll</td>\n",
              "    </tr>\n",
              "    <tr>\n",
              "      <th>652910874</th>\n",
              "      <td>Who cares right? There both just books? ___...</td>\n",
              "      <td>noneBll</td>\n",
              "    </tr>\n",
              "    <tr>\n",
              "      <th>652910875</th>\n",
              "      <td>Media posted at 014-06-21 20:57:44. dont like ...</td>\n",
              "      <td>noneBll</td>\n",
              "    </tr>\n",
              "  </tbody>\n",
              "</table>\n",
              "</div>\n",
              "      <button class=\"colab-df-convert\" onclick=\"convertToInteractive('df-7c6fa75b-77e6-4305-9b3f-34610c430969')\"\n",
              "              title=\"Convert this dataframe to an interactive table.\"\n",
              "              style=\"display:none;\">\n",
              "        \n",
              "  <svg xmlns=\"http://www.w3.org/2000/svg\" height=\"24px\"viewBox=\"0 0 24 24\"\n",
              "       width=\"24px\">\n",
              "    <path d=\"M0 0h24v24H0V0z\" fill=\"none\"/>\n",
              "    <path d=\"M18.56 5.44l.94 2.06.94-2.06 2.06-.94-2.06-.94-.94-2.06-.94 2.06-2.06.94zm-11 1L8.5 8.5l.94-2.06 2.06-.94-2.06-.94L8.5 2.5l-.94 2.06-2.06.94zm10 10l.94 2.06.94-2.06 2.06-.94-2.06-.94-.94-2.06-.94 2.06-2.06.94z\"/><path d=\"M17.41 7.96l-1.37-1.37c-.4-.4-.92-.59-1.43-.59-.52 0-1.04.2-1.43.59L10.3 9.45l-7.72 7.72c-.78.78-.78 2.05 0 2.83L4 21.41c.39.39.9.59 1.41.59.51 0 1.02-.2 1.41-.59l7.78-7.78 2.81-2.81c.8-.78.8-2.07 0-2.86zM5.41 20L4 18.59l7.72-7.72 1.47 1.35L5.41 20z\"/>\n",
              "  </svg>\n",
              "      </button>\n",
              "      \n",
              "  <style>\n",
              "    .colab-df-container {\n",
              "      display:flex;\n",
              "      flex-wrap:wrap;\n",
              "      gap: 12px;\n",
              "    }\n",
              "\n",
              "    .colab-df-convert {\n",
              "      background-color: #E8F0FE;\n",
              "      border: none;\n",
              "      border-radius: 50%;\n",
              "      cursor: pointer;\n",
              "      display: none;\n",
              "      fill: #1967D2;\n",
              "      height: 32px;\n",
              "      padding: 0 0 0 0;\n",
              "      width: 32px;\n",
              "    }\n",
              "\n",
              "    .colab-df-convert:hover {\n",
              "      background-color: #E2EBFA;\n",
              "      box-shadow: 0px 1px 2px rgba(60, 64, 67, 0.3), 0px 1px 3px 1px rgba(60, 64, 67, 0.15);\n",
              "      fill: #174EA6;\n",
              "    }\n",
              "\n",
              "    [theme=dark] .colab-df-convert {\n",
              "      background-color: #3B4455;\n",
              "      fill: #D2E3FC;\n",
              "    }\n",
              "\n",
              "    [theme=dark] .colab-df-convert:hover {\n",
              "      background-color: #434B5C;\n",
              "      box-shadow: 0px 1px 3px 1px rgba(0, 0, 0, 0.15);\n",
              "      filter: drop-shadow(0px 1px 2px rgba(0, 0, 0, 0.3));\n",
              "      fill: #FFFFFF;\n",
              "    }\n",
              "  </style>\n",
              "\n",
              "      <script>\n",
              "        const buttonEl =\n",
              "          document.querySelector('#df-7c6fa75b-77e6-4305-9b3f-34610c430969 button.colab-df-convert');\n",
              "        buttonEl.style.display =\n",
              "          google.colab.kernel.accessAllowed ? 'block' : 'none';\n",
              "\n",
              "        async function convertToInteractive(key) {\n",
              "          const element = document.querySelector('#df-7c6fa75b-77e6-4305-9b3f-34610c430969');\n",
              "          const dataTable =\n",
              "            await google.colab.kernel.invokeFunction('convertToInteractive',\n",
              "                                                     [key], {});\n",
              "          if (!dataTable) return;\n",
              "\n",
              "          const docLinkHtml = 'Like what you see? Visit the ' +\n",
              "            '<a target=\"_blank\" href=https://colab.research.google.com/notebooks/data_table.ipynb>data table notebook</a>'\n",
              "            + ' to learn more about interactive tables.';\n",
              "          element.innerHTML = '';\n",
              "          dataTable['output_type'] = 'display_data';\n",
              "          await google.colab.output.renderOutput(dataTable, element);\n",
              "          const docLink = document.createElement('div');\n",
              "          docLink.innerHTML = docLinkHtml;\n",
              "          element.appendChild(docLink);\n",
              "        }\n",
              "      </script>\n",
              "    </div>\n",
              "  </div>\n",
              "  "
            ]
          },
          "metadata": {},
          "execution_count": 10
        }
      ]
    },
    {
      "cell_type": "code",
      "source": [
        "#clean owner comments\n",
        "for i in range(len(data)):\n",
        "    aggdf_s['sessiontext'] = aggdf_s['sessiontext'].apply(lambda x: cleancomments(x))\n",
        "    cybdf_s['sessiontext'] = cybdf_s['sessiontext'].apply(lambda x: cleancomments(x))"
      ],
      "metadata": {
        "colab": {
          "base_uri": "https://localhost:8080/"
        },
        "id": "R8Xp3o0YAvED",
        "outputId": "e0a11a56-5c74-4c11-f9b9-3e1a53023bdb"
      },
      "execution_count": 11,
      "outputs": [
        {
          "output_type": "stream",
          "name": "stderr",
          "text": [
            "/usr/local/lib/python3.7/dist-packages/ipykernel_launcher.py:3: SettingWithCopyWarning: \n",
            "A value is trying to be set on a copy of a slice from a DataFrame.\n",
            "Try using .loc[row_indexer,col_indexer] = value instead\n",
            "\n",
            "See the caveats in the documentation: https://pandas.pydata.org/pandas-docs/stable/user_guide/indexing.html#returning-a-view-versus-a-copy\n",
            "  This is separate from the ipykernel package so we can avoid doing imports until\n",
            "/usr/local/lib/python3.7/dist-packages/ipykernel_launcher.py:4: SettingWithCopyWarning: \n",
            "A value is trying to be set on a copy of a slice from a DataFrame.\n",
            "Try using .loc[row_indexer,col_indexer] = value instead\n",
            "\n",
            "See the caveats in the documentation: https://pandas.pydata.org/pandas-docs/stable/user_guide/indexing.html#returning-a-view-versus-a-copy\n",
            "  after removing the cwd from sys.path.\n"
          ]
        }
      ]
    },
    {
      "cell_type": "code",
      "source": [
        "aggdf_s"
      ],
      "metadata": {
        "colab": {
          "base_uri": "https://localhost:8080/",
          "height": 394
        },
        "id": "Wh1jiwOfIG4n",
        "outputId": "5438ff14-08dd-4ae1-ecd2-823b275d1131"
      },
      "execution_count": 12,
      "outputs": [
        {
          "output_type": "execute_result",
          "data": {
            "text/plain": [
              "                                                 sessiontext   question1\n",
              "_unit_id                                                                \n",
              "652910871  Signed over pics at today's signing! Found thi...  aggression\n",
              "652910872  Skills! you don't want these problems!. Stick ...  aggression\n",
              "652910874  Who cares right? There both just books? ______...  aggression\n",
              "652910875  Media posted at -- dont like Ur mom e.e. And c...  aggression\n",
              "652910876  Next Stop Knockout Round! defeated Croatia and...  aggression\n",
              "652910861  Sorry but just had to do this. I'd cry and the...     noneAgg\n",
              "652910862  It's time for LIKE THIS POST! Leave comment wi...     noneAgg\n",
              "652910864  The Collar-Bomb Murder of Ana Elvia in Colombi...     noneAgg\n",
              "652910867  Is the root of the problem the gun? Or the fin...     noneAgg\n",
              "652910873  Lol ________________. Die hard. Cause we repre...     noneAgg"
            ],
            "text/html": [
              "\n",
              "  <div id=\"df-e1681dde-cf97-4736-850c-0f1acbb8f5cc\">\n",
              "    <div class=\"colab-df-container\">\n",
              "      <div>\n",
              "<style scoped>\n",
              "    .dataframe tbody tr th:only-of-type {\n",
              "        vertical-align: middle;\n",
              "    }\n",
              "\n",
              "    .dataframe tbody tr th {\n",
              "        vertical-align: top;\n",
              "    }\n",
              "\n",
              "    .dataframe thead th {\n",
              "        text-align: right;\n",
              "    }\n",
              "</style>\n",
              "<table border=\"1\" class=\"dataframe\">\n",
              "  <thead>\n",
              "    <tr style=\"text-align: right;\">\n",
              "      <th></th>\n",
              "      <th>sessiontext</th>\n",
              "      <th>question1</th>\n",
              "    </tr>\n",
              "    <tr>\n",
              "      <th>_unit_id</th>\n",
              "      <th></th>\n",
              "      <th></th>\n",
              "    </tr>\n",
              "  </thead>\n",
              "  <tbody>\n",
              "    <tr>\n",
              "      <th>652910871</th>\n",
              "      <td>Signed over pics at today's signing! Found thi...</td>\n",
              "      <td>aggression</td>\n",
              "    </tr>\n",
              "    <tr>\n",
              "      <th>652910872</th>\n",
              "      <td>Skills! you don't want these problems!. Stick ...</td>\n",
              "      <td>aggression</td>\n",
              "    </tr>\n",
              "    <tr>\n",
              "      <th>652910874</th>\n",
              "      <td>Who cares right? There both just books? ______...</td>\n",
              "      <td>aggression</td>\n",
              "    </tr>\n",
              "    <tr>\n",
              "      <th>652910875</th>\n",
              "      <td>Media posted at -- dont like Ur mom e.e. And c...</td>\n",
              "      <td>aggression</td>\n",
              "    </tr>\n",
              "    <tr>\n",
              "      <th>652910876</th>\n",
              "      <td>Next Stop Knockout Round! defeated Croatia and...</td>\n",
              "      <td>aggression</td>\n",
              "    </tr>\n",
              "    <tr>\n",
              "      <th>652910861</th>\n",
              "      <td>Sorry but just had to do this. I'd cry and the...</td>\n",
              "      <td>noneAgg</td>\n",
              "    </tr>\n",
              "    <tr>\n",
              "      <th>652910862</th>\n",
              "      <td>It's time for LIKE THIS POST! Leave comment wi...</td>\n",
              "      <td>noneAgg</td>\n",
              "    </tr>\n",
              "    <tr>\n",
              "      <th>652910864</th>\n",
              "      <td>The Collar-Bomb Murder of Ana Elvia in Colombi...</td>\n",
              "      <td>noneAgg</td>\n",
              "    </tr>\n",
              "    <tr>\n",
              "      <th>652910867</th>\n",
              "      <td>Is the root of the problem the gun? Or the fin...</td>\n",
              "      <td>noneAgg</td>\n",
              "    </tr>\n",
              "    <tr>\n",
              "      <th>652910873</th>\n",
              "      <td>Lol ________________. Die hard. Cause we repre...</td>\n",
              "      <td>noneAgg</td>\n",
              "    </tr>\n",
              "  </tbody>\n",
              "</table>\n",
              "</div>\n",
              "      <button class=\"colab-df-convert\" onclick=\"convertToInteractive('df-e1681dde-cf97-4736-850c-0f1acbb8f5cc')\"\n",
              "              title=\"Convert this dataframe to an interactive table.\"\n",
              "              style=\"display:none;\">\n",
              "        \n",
              "  <svg xmlns=\"http://www.w3.org/2000/svg\" height=\"24px\"viewBox=\"0 0 24 24\"\n",
              "       width=\"24px\">\n",
              "    <path d=\"M0 0h24v24H0V0z\" fill=\"none\"/>\n",
              "    <path d=\"M18.56 5.44l.94 2.06.94-2.06 2.06-.94-2.06-.94-.94-2.06-.94 2.06-2.06.94zm-11 1L8.5 8.5l.94-2.06 2.06-.94-2.06-.94L8.5 2.5l-.94 2.06-2.06.94zm10 10l.94 2.06.94-2.06 2.06-.94-2.06-.94-.94-2.06-.94 2.06-2.06.94z\"/><path d=\"M17.41 7.96l-1.37-1.37c-.4-.4-.92-.59-1.43-.59-.52 0-1.04.2-1.43.59L10.3 9.45l-7.72 7.72c-.78.78-.78 2.05 0 2.83L4 21.41c.39.39.9.59 1.41.59.51 0 1.02-.2 1.41-.59l7.78-7.78 2.81-2.81c.8-.78.8-2.07 0-2.86zM5.41 20L4 18.59l7.72-7.72 1.47 1.35L5.41 20z\"/>\n",
              "  </svg>\n",
              "      </button>\n",
              "      \n",
              "  <style>\n",
              "    .colab-df-container {\n",
              "      display:flex;\n",
              "      flex-wrap:wrap;\n",
              "      gap: 12px;\n",
              "    }\n",
              "\n",
              "    .colab-df-convert {\n",
              "      background-color: #E8F0FE;\n",
              "      border: none;\n",
              "      border-radius: 50%;\n",
              "      cursor: pointer;\n",
              "      display: none;\n",
              "      fill: #1967D2;\n",
              "      height: 32px;\n",
              "      padding: 0 0 0 0;\n",
              "      width: 32px;\n",
              "    }\n",
              "\n",
              "    .colab-df-convert:hover {\n",
              "      background-color: #E2EBFA;\n",
              "      box-shadow: 0px 1px 2px rgba(60, 64, 67, 0.3), 0px 1px 3px 1px rgba(60, 64, 67, 0.15);\n",
              "      fill: #174EA6;\n",
              "    }\n",
              "\n",
              "    [theme=dark] .colab-df-convert {\n",
              "      background-color: #3B4455;\n",
              "      fill: #D2E3FC;\n",
              "    }\n",
              "\n",
              "    [theme=dark] .colab-df-convert:hover {\n",
              "      background-color: #434B5C;\n",
              "      box-shadow: 0px 1px 3px 1px rgba(0, 0, 0, 0.15);\n",
              "      filter: drop-shadow(0px 1px 2px rgba(0, 0, 0, 0.3));\n",
              "      fill: #FFFFFF;\n",
              "    }\n",
              "  </style>\n",
              "\n",
              "      <script>\n",
              "        const buttonEl =\n",
              "          document.querySelector('#df-e1681dde-cf97-4736-850c-0f1acbb8f5cc button.colab-df-convert');\n",
              "        buttonEl.style.display =\n",
              "          google.colab.kernel.accessAllowed ? 'block' : 'none';\n",
              "\n",
              "        async function convertToInteractive(key) {\n",
              "          const element = document.querySelector('#df-e1681dde-cf97-4736-850c-0f1acbb8f5cc');\n",
              "          const dataTable =\n",
              "            await google.colab.kernel.invokeFunction('convertToInteractive',\n",
              "                                                     [key], {});\n",
              "          if (!dataTable) return;\n",
              "\n",
              "          const docLinkHtml = 'Like what you see? Visit the ' +\n",
              "            '<a target=\"_blank\" href=https://colab.research.google.com/notebooks/data_table.ipynb>data table notebook</a>'\n",
              "            + ' to learn more about interactive tables.';\n",
              "          element.innerHTML = '';\n",
              "          dataTable['output_type'] = 'display_data';\n",
              "          await google.colab.output.renderOutput(dataTable, element);\n",
              "          const docLink = document.createElement('div');\n",
              "          docLink.innerHTML = docLinkHtml;\n",
              "          element.appendChild(docLink);\n",
              "        }\n",
              "      </script>\n",
              "    </div>\n",
              "  </div>\n",
              "  "
            ]
          },
          "metadata": {},
          "execution_count": 12
        }
      ]
    },
    {
      "cell_type": "markdown",
      "source": [
        "# Remove Punctuations"
      ],
      "metadata": {
        "id": "cdUReXfswQtY"
      }
    },
    {
      "cell_type": "code",
      "source": [
        "def removepunct(txt):\n",
        "  remove = string.punctuation\n",
        "  remove = remove.replace(\".\", \"\") # don't remove dot\n",
        "  pattern = r\"[{}]\".format(remove) # create the pattern\n",
        "  text = re.sub(pattern, \"\", txt)\n",
        "  text = re.sub(' +', ' ', text) #remove additional whitespaces\n",
        "  return text"
      ],
      "metadata": {
        "id": "-qwCzJ9xIZKD"
      },
      "execution_count": 13,
      "outputs": []
    },
    {
      "cell_type": "code",
      "source": [
        "for i in range(len(aggdf_s)):\n",
        "  aggdf_s['sessiontext'] = aggdf_s['sessiontext'].apply(lambda x: removepunct(str(x)))"
      ],
      "metadata": {
        "id": "cNsW4hkxIuW2"
      },
      "execution_count": 14,
      "outputs": []
    },
    {
      "cell_type": "code",
      "source": [
        "for i in range(len(cybdf_s)):\n",
        "  cybdf_s['sessiontext'] = cybdf_s['sessiontext'].apply(lambda x: removepunct(str(x)))"
      ],
      "metadata": {
        "id": "e9s47vYbIvO3"
      },
      "execution_count": 15,
      "outputs": []
    },
    {
      "cell_type": "code",
      "source": [
        "aggdf_s"
      ],
      "metadata": {
        "colab": {
          "base_uri": "https://localhost:8080/",
          "height": 394
        },
        "id": "MkwVHDczTTNP",
        "outputId": "90952722-8007-4330-971f-a94df7e43785"
      },
      "execution_count": 16,
      "outputs": [
        {
          "output_type": "execute_result",
          "data": {
            "text/plain": [
              "                                                 sessiontext   question1\n",
              "_unit_id                                                                \n",
              "652910871  Signed over pics at todays signing Found this ...  aggression\n",
              "652910872  Skills you dont want these problems Stick to d...  aggression\n",
              "652910874  Who cares right There both just books cant sta...  aggression\n",
              "652910875  Media posted at dont like Ur mom ee And cant f...  aggression\n",
              "652910876  Next Stop Knockout Round defeated Croatia and ...  aggression\n",
              "652910861  Sorry but just had to do this Id cry and then ...     noneAgg\n",
              "652910862  Its time for LIKE THIS POST Leave comment with...     noneAgg\n",
              "652910864  The CollarBomb Murder of Ana Elvia in Colombia...     noneAgg\n",
              "652910867  Is the root of the problem the gun Or the fing...     noneAgg\n",
              "652910873  Lol Die hard Cause we represent The Don Die HA...     noneAgg"
            ],
            "text/html": [
              "\n",
              "  <div id=\"df-98764456-0e5e-4c68-aae8-c5cec2aefa06\">\n",
              "    <div class=\"colab-df-container\">\n",
              "      <div>\n",
              "<style scoped>\n",
              "    .dataframe tbody tr th:only-of-type {\n",
              "        vertical-align: middle;\n",
              "    }\n",
              "\n",
              "    .dataframe tbody tr th {\n",
              "        vertical-align: top;\n",
              "    }\n",
              "\n",
              "    .dataframe thead th {\n",
              "        text-align: right;\n",
              "    }\n",
              "</style>\n",
              "<table border=\"1\" class=\"dataframe\">\n",
              "  <thead>\n",
              "    <tr style=\"text-align: right;\">\n",
              "      <th></th>\n",
              "      <th>sessiontext</th>\n",
              "      <th>question1</th>\n",
              "    </tr>\n",
              "    <tr>\n",
              "      <th>_unit_id</th>\n",
              "      <th></th>\n",
              "      <th></th>\n",
              "    </tr>\n",
              "  </thead>\n",
              "  <tbody>\n",
              "    <tr>\n",
              "      <th>652910871</th>\n",
              "      <td>Signed over pics at todays signing Found this ...</td>\n",
              "      <td>aggression</td>\n",
              "    </tr>\n",
              "    <tr>\n",
              "      <th>652910872</th>\n",
              "      <td>Skills you dont want these problems Stick to d...</td>\n",
              "      <td>aggression</td>\n",
              "    </tr>\n",
              "    <tr>\n",
              "      <th>652910874</th>\n",
              "      <td>Who cares right There both just books cant sta...</td>\n",
              "      <td>aggression</td>\n",
              "    </tr>\n",
              "    <tr>\n",
              "      <th>652910875</th>\n",
              "      <td>Media posted at dont like Ur mom ee And cant f...</td>\n",
              "      <td>aggression</td>\n",
              "    </tr>\n",
              "    <tr>\n",
              "      <th>652910876</th>\n",
              "      <td>Next Stop Knockout Round defeated Croatia and ...</td>\n",
              "      <td>aggression</td>\n",
              "    </tr>\n",
              "    <tr>\n",
              "      <th>652910861</th>\n",
              "      <td>Sorry but just had to do this Id cry and then ...</td>\n",
              "      <td>noneAgg</td>\n",
              "    </tr>\n",
              "    <tr>\n",
              "      <th>652910862</th>\n",
              "      <td>Its time for LIKE THIS POST Leave comment with...</td>\n",
              "      <td>noneAgg</td>\n",
              "    </tr>\n",
              "    <tr>\n",
              "      <th>652910864</th>\n",
              "      <td>The CollarBomb Murder of Ana Elvia in Colombia...</td>\n",
              "      <td>noneAgg</td>\n",
              "    </tr>\n",
              "    <tr>\n",
              "      <th>652910867</th>\n",
              "      <td>Is the root of the problem the gun Or the fing...</td>\n",
              "      <td>noneAgg</td>\n",
              "    </tr>\n",
              "    <tr>\n",
              "      <th>652910873</th>\n",
              "      <td>Lol Die hard Cause we represent The Don Die HA...</td>\n",
              "      <td>noneAgg</td>\n",
              "    </tr>\n",
              "  </tbody>\n",
              "</table>\n",
              "</div>\n",
              "      <button class=\"colab-df-convert\" onclick=\"convertToInteractive('df-98764456-0e5e-4c68-aae8-c5cec2aefa06')\"\n",
              "              title=\"Convert this dataframe to an interactive table.\"\n",
              "              style=\"display:none;\">\n",
              "        \n",
              "  <svg xmlns=\"http://www.w3.org/2000/svg\" height=\"24px\"viewBox=\"0 0 24 24\"\n",
              "       width=\"24px\">\n",
              "    <path d=\"M0 0h24v24H0V0z\" fill=\"none\"/>\n",
              "    <path d=\"M18.56 5.44l.94 2.06.94-2.06 2.06-.94-2.06-.94-.94-2.06-.94 2.06-2.06.94zm-11 1L8.5 8.5l.94-2.06 2.06-.94-2.06-.94L8.5 2.5l-.94 2.06-2.06.94zm10 10l.94 2.06.94-2.06 2.06-.94-2.06-.94-.94-2.06-.94 2.06-2.06.94z\"/><path d=\"M17.41 7.96l-1.37-1.37c-.4-.4-.92-.59-1.43-.59-.52 0-1.04.2-1.43.59L10.3 9.45l-7.72 7.72c-.78.78-.78 2.05 0 2.83L4 21.41c.39.39.9.59 1.41.59.51 0 1.02-.2 1.41-.59l7.78-7.78 2.81-2.81c.8-.78.8-2.07 0-2.86zM5.41 20L4 18.59l7.72-7.72 1.47 1.35L5.41 20z\"/>\n",
              "  </svg>\n",
              "      </button>\n",
              "      \n",
              "  <style>\n",
              "    .colab-df-container {\n",
              "      display:flex;\n",
              "      flex-wrap:wrap;\n",
              "      gap: 12px;\n",
              "    }\n",
              "\n",
              "    .colab-df-convert {\n",
              "      background-color: #E8F0FE;\n",
              "      border: none;\n",
              "      border-radius: 50%;\n",
              "      cursor: pointer;\n",
              "      display: none;\n",
              "      fill: #1967D2;\n",
              "      height: 32px;\n",
              "      padding: 0 0 0 0;\n",
              "      width: 32px;\n",
              "    }\n",
              "\n",
              "    .colab-df-convert:hover {\n",
              "      background-color: #E2EBFA;\n",
              "      box-shadow: 0px 1px 2px rgba(60, 64, 67, 0.3), 0px 1px 3px 1px rgba(60, 64, 67, 0.15);\n",
              "      fill: #174EA6;\n",
              "    }\n",
              "\n",
              "    [theme=dark] .colab-df-convert {\n",
              "      background-color: #3B4455;\n",
              "      fill: #D2E3FC;\n",
              "    }\n",
              "\n",
              "    [theme=dark] .colab-df-convert:hover {\n",
              "      background-color: #434B5C;\n",
              "      box-shadow: 0px 1px 3px 1px rgba(0, 0, 0, 0.15);\n",
              "      filter: drop-shadow(0px 1px 2px rgba(0, 0, 0, 0.3));\n",
              "      fill: #FFFFFF;\n",
              "    }\n",
              "  </style>\n",
              "\n",
              "      <script>\n",
              "        const buttonEl =\n",
              "          document.querySelector('#df-98764456-0e5e-4c68-aae8-c5cec2aefa06 button.colab-df-convert');\n",
              "        buttonEl.style.display =\n",
              "          google.colab.kernel.accessAllowed ? 'block' : 'none';\n",
              "\n",
              "        async function convertToInteractive(key) {\n",
              "          const element = document.querySelector('#df-98764456-0e5e-4c68-aae8-c5cec2aefa06');\n",
              "          const dataTable =\n",
              "            await google.colab.kernel.invokeFunction('convertToInteractive',\n",
              "                                                     [key], {});\n",
              "          if (!dataTable) return;\n",
              "\n",
              "          const docLinkHtml = 'Like what you see? Visit the ' +\n",
              "            '<a target=\"_blank\" href=https://colab.research.google.com/notebooks/data_table.ipynb>data table notebook</a>'\n",
              "            + ' to learn more about interactive tables.';\n",
              "          element.innerHTML = '';\n",
              "          dataTable['output_type'] = 'display_data';\n",
              "          await google.colab.output.renderOutput(dataTable, element);\n",
              "          const docLink = document.createElement('div');\n",
              "          docLink.innerHTML = docLinkHtml;\n",
              "          element.appendChild(docLink);\n",
              "        }\n",
              "      </script>\n",
              "    </div>\n",
              "  </div>\n",
              "  "
            ]
          },
          "metadata": {},
          "execution_count": 16
        }
      ]
    },
    {
      "cell_type": "markdown",
      "source": [
        "# Stopword Removal"
      ],
      "metadata": {
        "id": "x3FWAAUQSGTu"
      }
    },
    {
      "cell_type": "code",
      "source": [
        "stopword = nltk.corpus.stopwords.words('english')\n",
        "for i in range(10):\n",
        "  aggdf_s['sessiontext'] = aggdf_s['sessiontext'].apply(lambda x: \" \".join(x for x in x.split() if x not in stopword))\n",
        "  cybdf_s['sessiontext'] = cybdf_s['sessiontext'].apply(lambda x: \" \".join(x for x in x.split() if x not in stopword))"
      ],
      "metadata": {
        "id": "6W8jPrwjPPIu"
      },
      "execution_count": 17,
      "outputs": []
    },
    {
      "cell_type": "code",
      "source": [
        "aggdf_s"
      ],
      "metadata": {
        "colab": {
          "base_uri": "https://localhost:8080/",
          "height": 394
        },
        "id": "xiltmsYeTgN4",
        "outputId": "af4d76ad-a291-4273-c6e8-a9f33749ec12"
      },
      "execution_count": 18,
      "outputs": [
        {
          "output_type": "execute_result",
          "data": {
            "text/plain": [
              "                                                 sessiontext   question1\n",
              "_unit_id                                                                \n",
              "652910871  Signed pics todays signing Found Playboy throw...  aggression\n",
              "652910872  Skills dont want problems Stick drinking hoe F...  aggression\n",
              "652910874  Who cares right There books cant stand SHEEP I...  aggression\n",
              "652910875  Media posted dont like Ur mom ee And cant forg...  aggression\n",
              "652910876  Next Stop Knockout Round defeated Croatia adva...  aggression\n",
              "652910861  Sorry Id cry Id curl ball die Cry Idk freak \\\\...     noneAgg\n",
              "652910862  Its time LIKE THIS POST Leave comment figurewh...     noneAgg\n",
              "652910864  The CollarBomb Murder Ana Elvia Colombia When ...     noneAgg\n",
              "652910867  Is root problem gun Or finger behind Or possib...     noneAgg\n",
              "652910873  Lol Die hard Cause represent The Don Die HARD ...     noneAgg"
            ],
            "text/html": [
              "\n",
              "  <div id=\"df-2c221139-16c5-4dfb-8a36-640854ed3254\">\n",
              "    <div class=\"colab-df-container\">\n",
              "      <div>\n",
              "<style scoped>\n",
              "    .dataframe tbody tr th:only-of-type {\n",
              "        vertical-align: middle;\n",
              "    }\n",
              "\n",
              "    .dataframe tbody tr th {\n",
              "        vertical-align: top;\n",
              "    }\n",
              "\n",
              "    .dataframe thead th {\n",
              "        text-align: right;\n",
              "    }\n",
              "</style>\n",
              "<table border=\"1\" class=\"dataframe\">\n",
              "  <thead>\n",
              "    <tr style=\"text-align: right;\">\n",
              "      <th></th>\n",
              "      <th>sessiontext</th>\n",
              "      <th>question1</th>\n",
              "    </tr>\n",
              "    <tr>\n",
              "      <th>_unit_id</th>\n",
              "      <th></th>\n",
              "      <th></th>\n",
              "    </tr>\n",
              "  </thead>\n",
              "  <tbody>\n",
              "    <tr>\n",
              "      <th>652910871</th>\n",
              "      <td>Signed pics todays signing Found Playboy throw...</td>\n",
              "      <td>aggression</td>\n",
              "    </tr>\n",
              "    <tr>\n",
              "      <th>652910872</th>\n",
              "      <td>Skills dont want problems Stick drinking hoe F...</td>\n",
              "      <td>aggression</td>\n",
              "    </tr>\n",
              "    <tr>\n",
              "      <th>652910874</th>\n",
              "      <td>Who cares right There books cant stand SHEEP I...</td>\n",
              "      <td>aggression</td>\n",
              "    </tr>\n",
              "    <tr>\n",
              "      <th>652910875</th>\n",
              "      <td>Media posted dont like Ur mom ee And cant forg...</td>\n",
              "      <td>aggression</td>\n",
              "    </tr>\n",
              "    <tr>\n",
              "      <th>652910876</th>\n",
              "      <td>Next Stop Knockout Round defeated Croatia adva...</td>\n",
              "      <td>aggression</td>\n",
              "    </tr>\n",
              "    <tr>\n",
              "      <th>652910861</th>\n",
              "      <td>Sorry Id cry Id curl ball die Cry Idk freak \\\\...</td>\n",
              "      <td>noneAgg</td>\n",
              "    </tr>\n",
              "    <tr>\n",
              "      <th>652910862</th>\n",
              "      <td>Its time LIKE THIS POST Leave comment figurewh...</td>\n",
              "      <td>noneAgg</td>\n",
              "    </tr>\n",
              "    <tr>\n",
              "      <th>652910864</th>\n",
              "      <td>The CollarBomb Murder Ana Elvia Colombia When ...</td>\n",
              "      <td>noneAgg</td>\n",
              "    </tr>\n",
              "    <tr>\n",
              "      <th>652910867</th>\n",
              "      <td>Is root problem gun Or finger behind Or possib...</td>\n",
              "      <td>noneAgg</td>\n",
              "    </tr>\n",
              "    <tr>\n",
              "      <th>652910873</th>\n",
              "      <td>Lol Die hard Cause represent The Don Die HARD ...</td>\n",
              "      <td>noneAgg</td>\n",
              "    </tr>\n",
              "  </tbody>\n",
              "</table>\n",
              "</div>\n",
              "      <button class=\"colab-df-convert\" onclick=\"convertToInteractive('df-2c221139-16c5-4dfb-8a36-640854ed3254')\"\n",
              "              title=\"Convert this dataframe to an interactive table.\"\n",
              "              style=\"display:none;\">\n",
              "        \n",
              "  <svg xmlns=\"http://www.w3.org/2000/svg\" height=\"24px\"viewBox=\"0 0 24 24\"\n",
              "       width=\"24px\">\n",
              "    <path d=\"M0 0h24v24H0V0z\" fill=\"none\"/>\n",
              "    <path d=\"M18.56 5.44l.94 2.06.94-2.06 2.06-.94-2.06-.94-.94-2.06-.94 2.06-2.06.94zm-11 1L8.5 8.5l.94-2.06 2.06-.94-2.06-.94L8.5 2.5l-.94 2.06-2.06.94zm10 10l.94 2.06.94-2.06 2.06-.94-2.06-.94-.94-2.06-.94 2.06-2.06.94z\"/><path d=\"M17.41 7.96l-1.37-1.37c-.4-.4-.92-.59-1.43-.59-.52 0-1.04.2-1.43.59L10.3 9.45l-7.72 7.72c-.78.78-.78 2.05 0 2.83L4 21.41c.39.39.9.59 1.41.59.51 0 1.02-.2 1.41-.59l7.78-7.78 2.81-2.81c.8-.78.8-2.07 0-2.86zM5.41 20L4 18.59l7.72-7.72 1.47 1.35L5.41 20z\"/>\n",
              "  </svg>\n",
              "      </button>\n",
              "      \n",
              "  <style>\n",
              "    .colab-df-container {\n",
              "      display:flex;\n",
              "      flex-wrap:wrap;\n",
              "      gap: 12px;\n",
              "    }\n",
              "\n",
              "    .colab-df-convert {\n",
              "      background-color: #E8F0FE;\n",
              "      border: none;\n",
              "      border-radius: 50%;\n",
              "      cursor: pointer;\n",
              "      display: none;\n",
              "      fill: #1967D2;\n",
              "      height: 32px;\n",
              "      padding: 0 0 0 0;\n",
              "      width: 32px;\n",
              "    }\n",
              "\n",
              "    .colab-df-convert:hover {\n",
              "      background-color: #E2EBFA;\n",
              "      box-shadow: 0px 1px 2px rgba(60, 64, 67, 0.3), 0px 1px 3px 1px rgba(60, 64, 67, 0.15);\n",
              "      fill: #174EA6;\n",
              "    }\n",
              "\n",
              "    [theme=dark] .colab-df-convert {\n",
              "      background-color: #3B4455;\n",
              "      fill: #D2E3FC;\n",
              "    }\n",
              "\n",
              "    [theme=dark] .colab-df-convert:hover {\n",
              "      background-color: #434B5C;\n",
              "      box-shadow: 0px 1px 3px 1px rgba(0, 0, 0, 0.15);\n",
              "      filter: drop-shadow(0px 1px 2px rgba(0, 0, 0, 0.3));\n",
              "      fill: #FFFFFF;\n",
              "    }\n",
              "  </style>\n",
              "\n",
              "      <script>\n",
              "        const buttonEl =\n",
              "          document.querySelector('#df-2c221139-16c5-4dfb-8a36-640854ed3254 button.colab-df-convert');\n",
              "        buttonEl.style.display =\n",
              "          google.colab.kernel.accessAllowed ? 'block' : 'none';\n",
              "\n",
              "        async function convertToInteractive(key) {\n",
              "          const element = document.querySelector('#df-2c221139-16c5-4dfb-8a36-640854ed3254');\n",
              "          const dataTable =\n",
              "            await google.colab.kernel.invokeFunction('convertToInteractive',\n",
              "                                                     [key], {});\n",
              "          if (!dataTable) return;\n",
              "\n",
              "          const docLinkHtml = 'Like what you see? Visit the ' +\n",
              "            '<a target=\"_blank\" href=https://colab.research.google.com/notebooks/data_table.ipynb>data table notebook</a>'\n",
              "            + ' to learn more about interactive tables.';\n",
              "          element.innerHTML = '';\n",
              "          dataTable['output_type'] = 'display_data';\n",
              "          await google.colab.output.renderOutput(dataTable, element);\n",
              "          const docLink = document.createElement('div');\n",
              "          docLink.innerHTML = docLinkHtml;\n",
              "          element.appendChild(docLink);\n",
              "        }\n",
              "      </script>\n",
              "    </div>\n",
              "  </div>\n",
              "  "
            ]
          },
          "metadata": {},
          "execution_count": 18
        }
      ]
    },
    {
      "cell_type": "markdown",
      "source": [
        "# Lemmatization"
      ],
      "metadata": {
        "id": "sRETyljoSKAO"
      }
    },
    {
      "cell_type": "code",
      "source": [
        "#st = nltk.PorterStemmer()\n",
        "wn = nltk.WordNetLemmatizer()\n",
        "for i in range(10):\n",
        "  #aggdf_s[col] = aggdf_s[col].apply(lambda x: \" \".join([st.stem(word) for word in x.split()]))\n",
        "  #cybdf_s[col] = cybdf_s[col].apply(lambda x: \" \".join([st.stem(word) for word in x.split()]))\n",
        "  aggdf_s['sessiontext'] = aggdf_s['sessiontext'].apply(lambda x: \" \".join([wn.lemmatize(word) for word in x.split()]))\n",
        "  cybdf_s['sessiontext'] = cybdf_s['sessiontext'].apply(lambda x: \" \".join([wn.lemmatize(word) for word in x.split()]))"
      ],
      "metadata": {
        "id": "G1RPkDPtSASA"
      },
      "execution_count": 19,
      "outputs": []
    },
    {
      "cell_type": "code",
      "source": [
        "aggdf_s = aggdf_s.rename(columns={'question1':'y1'})\n",
        "cybdf_s = cybdf_s.rename(columns={'question2':'y2'})"
      ],
      "metadata": {
        "id": "q1i3okL5LHki"
      },
      "execution_count": 20,
      "outputs": []
    },
    {
      "cell_type": "markdown",
      "source": [
        "Label encoding"
      ],
      "metadata": {
        "id": "DSIsGS-dMTWf"
      }
    },
    {
      "cell_type": "code",
      "source": [
        "aggdf_s['y1'] = aggdf_s['y1'].replace(['aggression','noneAgg'],[1,0])\n",
        "cybdf_s['y2'] = cybdf_s['y2'].replace(['bullying','noneBll'],[1,0])"
      ],
      "metadata": {
        "id": "dSMDi-0rMVOh"
      },
      "execution_count": 21,
      "outputs": []
    },
    {
      "cell_type": "code",
      "source": [
        "print(aggdf_s.columns)\n",
        "print(cybdf_s.columns)"
      ],
      "metadata": {
        "colab": {
          "base_uri": "https://localhost:8080/"
        },
        "id": "MBlZxomAchnz",
        "outputId": "95b31b10-73ab-41b4-b212-82618135365d"
      },
      "execution_count": 22,
      "outputs": [
        {
          "output_type": "stream",
          "name": "stdout",
          "text": [
            "Index(['sessiontext', 'y1'], dtype='object')\n",
            "Index(['sessiontext', 'y2'], dtype='object')\n"
          ]
        }
      ]
    },
    {
      "cell_type": "code",
      "source": [
        "for i in range(10):\n",
        "  aggdf_s['sessiontext'] = aggdf_s['sessiontext'].apply(lambda x: re.sub(r\"( ?\\.)\\1+\", '. ', str(x)))\n",
        "  cybdf_s['sessiontext'] = cybdf_s['sessiontext'].apply(lambda x: re.sub(r\"( ?\\.)\\1+\", '. ', str(x)))"
      ],
      "metadata": {
        "id": "kC0w1N9pc85O"
      },
      "execution_count": 23,
      "outputs": []
    },
    {
      "cell_type": "markdown",
      "source": [
        "# Encode data"
      ],
      "metadata": {
        "id": "Bb9BDPP5LDt4"
      }
    },
    {
      "cell_type": "code",
      "source": [
        "from sklearn.feature_extraction.text import TfidfVectorizer\n",
        "from sklearn import model_selection, metrics, svm\n",
        "from sklearn.svm import SVC"
      ],
      "metadata": {
        "id": "Nv3vgyDq5rDV"
      },
      "execution_count": 24,
      "outputs": []
    },
    {
      "cell_type": "markdown",
      "source": [
        "#TF-IDF"
      ],
      "metadata": {
        "id": "mBgfjP9FOoRq"
      }
    },
    {
      "cell_type": "code",
      "source": [
        "# TFIDF feature generation\n",
        "# tfidf_vect = TfidfVectorizer(analyzer='word', token_pattern=r'\\w{1,}')\n",
        "# tfidf_vect.fit(X1)\n",
        "# x1train_tfidf = tfidf_vect.transform(X1_train)\n",
        "# x1test_tfidf = tfidf_vect.transform(X1_test)\n",
        "\n",
        "# x2train_tfidf = tfidf_vect.transform(X2_train)\n",
        "# x2test_tfidf = tfidf_vect.transform(X2_test)\n",
        "\n",
        "# x2train_tfidf.data\n",
        "\n",
        "\n",
        "def tfIdf_Vectorization(corpus):\n",
        "  vectorizer = TfidfVectorizer(analyzer='word', ngram_range=(1, 2), sublinear_tf=True, use_idf=True)\n",
        "  tdidf_tensor = vectorizer.fit_transform(corpus)\n",
        "  return tdidf_tensor\n",
        "\n",
        "corpus = aggdf_s['sessiontext'].values.astype('U')\n",
        "agg_tdidf_tensor= tfIdf_Vectorization(corpus)\n",
        "print('shape',agg_tdidf_tensor.shape)\n",
        "\n",
        "corpus1 = cybdf_s['sessiontext'].values.astype('U')\n",
        "cyb_tdidf_tensor= tfIdf_Vectorization(corpus1)\n",
        "print('shape',cyb_tdidf_tensor.shape)\n",
        "\n",
        "# Print the first 10 features\n",
        "#print(tfidf_vectorizer.get_feature_names()[:10])"
      ],
      "metadata": {
        "colab": {
          "base_uri": "https://localhost:8080/"
        },
        "id": "uv7sGeZF-HS-",
        "outputId": "79544571-173f-4089-b36a-7ce0b3a6d00a"
      },
      "execution_count": 25,
      "outputs": [
        {
          "output_type": "stream",
          "name": "stdout",
          "text": [
            "shape (10, 8574)\n",
            "shape (10, 10839)\n"
          ]
        }
      ]
    },
    {
      "cell_type": "code",
      "source": [
        "print(\"\\n Aggression Vectors:\")\n",
        "print(\"====================\")\n",
        "print('shape',agg_tdidf_tensor.shape, \"\\n\")\n",
        "print(agg_tdidf_tensor.todense())\n",
        "\n",
        "print(\"\\n Cyberbullying Vectors:\")\n",
        "print(\"=======================\")\n",
        "print('shape',cyb_tdidf_tensor.shape, \"\\n\")\n",
        "print(cyb_tdidf_tensor.todense())"
      ],
      "metadata": {
        "colab": {
          "base_uri": "https://localhost:8080/"
        },
        "id": "FcL6fB-8VhG7",
        "outputId": "2de43bc4-3c2d-47ae-bb44-9809cb4d09fe"
      },
      "execution_count": 26,
      "outputs": [
        {
          "output_type": "stream",
          "name": "stdout",
          "text": [
            "\n",
            " Aggression Vectors:\n",
            "====================\n",
            "shape (10, 8574) \n",
            "\n",
            "[[0.         0.         0.         ... 0.         0.         0.        ]\n",
            " [0.         0.         0.         ... 0.         0.         0.        ]\n",
            " [0.         0.         0.         ... 0.         0.02015743 0.02015743]\n",
            " ...\n",
            " [0.         0.         0.         ... 0.         0.         0.        ]\n",
            " [0.03430643 0.03430643 0.03430643 ... 0.         0.         0.        ]\n",
            " [0.         0.         0.         ... 0.         0.         0.        ]]\n",
            "\n",
            " Cyberbullying Vectors:\n",
            "=======================\n",
            "shape (10, 10839) \n",
            "\n",
            "[[0.         0.         0.         ... 0.         0.         0.        ]\n",
            " [0.         0.         0.         ... 0.         0.         0.        ]\n",
            " [0.         0.         0.         ... 0.         0.         0.        ]\n",
            " ...\n",
            " [0.         0.         0.         ... 0.         0.         0.        ]\n",
            " [0.         0.         0.         ... 0.         0.02064983 0.02064983]\n",
            " [0.         0.         0.         ... 0.         0.         0.        ]]\n"
          ]
        }
      ]
    },
    {
      "cell_type": "markdown",
      "source": [
        "# BERT word embeddings"
      ],
      "metadata": {
        "id": "QbsapBob8vGY"
      }
    },
    {
      "cell_type": "markdown",
      "source": [
        "# XLNet word embeddings"
      ],
      "metadata": {
        "id": "QC4-r2rF8yoe"
      }
    },
    {
      "cell_type": "markdown",
      "source": [
        "# Test train split"
      ],
      "metadata": {
        "id": "rfQt46VCx7O5"
      }
    },
    {
      "cell_type": "code",
      "source": [
        "X1 = agg_tdidf_tensor\n",
        "X2 = cyb_tdidf_tensor\n",
        "Y1 = aggdf_s['y1']\n",
        "Y2 = cybdf_s['y2']"
      ],
      "metadata": {
        "id": "KjkuZ24JQqNE"
      },
      "execution_count": 27,
      "outputs": []
    },
    {
      "cell_type": "code",
      "source": [
        "#Let's split our data for training\n",
        "from sklearn.model_selection import train_test_split\n",
        "\n",
        "X1_train, X1_test, y1_train, y1_test = train_test_split(X1,Y1,test_size=0.2)\n",
        "X2_train, X2_test, y2_train, y2_test = train_test_split(X2,Y2,test_size=0.2)"
      ],
      "metadata": {
        "id": "M4pl26H-TLNd"
      },
      "execution_count": 28,
      "outputs": []
    },
    {
      "cell_type": "code",
      "source": [
        "Y2"
      ],
      "metadata": {
        "colab": {
          "base_uri": "https://localhost:8080/"
        },
        "id": "EueDoJMPXliq",
        "outputId": "cdfdbe87-e730-4cc9-8f1e-64fb6ba129b7"
      },
      "execution_count": 29,
      "outputs": [
        {
          "output_type": "execute_result",
          "data": {
            "text/plain": [
              "_unit_id\n",
              "652910868    1\n",
              "652910869    1\n",
              "652910870    1\n",
              "652910871    1\n",
              "652910876    1\n",
              "652910867    0\n",
              "652910872    0\n",
              "652910873    0\n",
              "652910874    0\n",
              "652910875    0\n",
              "Name: y2, dtype: int64"
            ]
          },
          "metadata": {},
          "execution_count": 29
        }
      ]
    },
    {
      "cell_type": "markdown",
      "source": [
        "# Class Distribution"
      ],
      "metadata": {
        "id": "T--0nxGIXqC1"
      }
    },
    {
      "cell_type": "code",
      "source": [
        "#Class distribution plot\n",
        "plt.bar(y1_train.value_counts().index, y1_train.value_counts())\n",
        "plt.title(\"Aggression class distribution\")\n",
        "plt.xticks([0,1],['Non-aggression','Aggression'])\n",
        "plt.ylabel(\"Frequency\")\n",
        "plt.show()"
      ],
      "metadata": {
        "colab": {
          "base_uri": "https://localhost:8080/",
          "height": 281
        },
        "id": "3u3Ckk1FT9ri",
        "outputId": "1cb4e209-5f74-487c-9005-4f7f1584d8f7"
      },
      "execution_count": 30,
      "outputs": [
        {
          "output_type": "display_data",
          "data": {
            "text/plain": [
              "<Figure size 432x288 with 1 Axes>"
            ],
            "image/png": "[encoded data removed]"
          },
          "metadata": {
            "needs_background": "light"
          }
        }
      ]
    },
    {
      "cell_type": "code",
      "source": [
        "plt.bar(y2_train.value_counts().index, y2_train.value_counts())\n",
        "plt.title(\"Cyberbullying class distribution\")\n",
        "plt.ylabel(\"Frequency\")\n",
        "plt.xticks([0,1],['Non-bullying','Bullying'])\n",
        "plt.show()"
      ],
      "metadata": {
        "colab": {
          "base_uri": "https://localhost:8080/",
          "height": 281
        },
        "id": "FN_1sJOXZwiQ",
        "outputId": "0e5cca4b-da9d-47d8-a92d-c96eccd49736"
      },
      "execution_count": 31,
      "outputs": [
        {
          "output_type": "display_data",
          "data": {
            "text/plain": [
              "<Figure size 432x288 with 1 Axes>"
            ],
            "image/png": "[encoded data removed]"
          },
          "metadata": {
            "needs_background": "light"
          }
        }
      ]
    },
    {
      "cell_type": "markdown",
      "source": [
        "# Resampling to handle class imbalance"
      ],
      "metadata": {
        "id": "qXohr2i2bi-e"
      }
    },
    {
      "cell_type": "markdown",
      "source": [
        "Below code is only needed when we apply to the whole corpus."
      ],
      "metadata": {
        "id": "FEbauInwYS26"
      }
    },
    {
      "cell_type": "code",
      "source": [
        "from imblearn.over_sampling import SMOTE\n",
        "from collections import Counter\n",
        "\n",
        "smote = SMOTE()\n",
        "\n",
        "# fit predictor and target variable\n",
        "x1_smtrain, y1_smtrain = smote.fit_resample(X1_train, y1_train)\n",
        "print(\"Agg Before Resampling:\", Counter(y1_train))\n",
        "print(\"Agg After Resampling:\", Counter(y1_smtrain))\n",
        "\n",
        "# fit predictor and target variable\n",
        "x2_smtrain, y2_smtrain = smote.fit_resample(X2_train, y2_train)\n",
        "print(\"\\nCyb Before Resampling:\", Counter(y2_train))\n",
        "print(\"Cyb After Resampling:\", Counter(y2_smtrain))"
      ],
      "metadata": {
        "colab": {
          "base_uri": "https://localhost:8080/"
        },
        "id": "cdwh4BrVTqUA",
        "outputId": "3d77466f-0aa2-408c-bb9f-e1e1060dddf8"
      },
      "execution_count": 32,
      "outputs": [
        {
          "output_type": "stream",
          "name": "stdout",
          "text": [
            "Agg Before Resampling: Counter({1: 4, 0: 4})\n",
            "Agg After Resampling: Counter({1: 4, 0: 4})\n",
            "\n",
            "Cyb Before Resampling: Counter({1: 4, 0: 4})\n",
            "Cyb After Resampling: Counter({1: 4, 0: 4})\n"
          ]
        }
      ]
    },
    {
      "cell_type": "markdown",
      "source": [],
      "metadata": {
        "id": "noqzaLyXZgbK"
      }
    },
    {
      "cell_type": "code",
      "source": [
        "from sklearn.svm import LinearSVC\n",
        "from sklearn.metrics import confusion_matrix, classification_report, f1_score, accuracy_score, confusion_matrix, make_scorer, recall_score, precision_score\n",
        "from sklearn.pipeline import Pipeline\n",
        "from sklearn.model_selection import StratifiedKFold, cross_val_score, train_test_split, KFold, GridSearchCV,cross_validate\n",
        "from sklearn.ensemble import RandomForestClassifier"
      ],
      "metadata": {
        "id": "zM60qPgyZ-Xs"
      },
      "execution_count": 42,
      "outputs": []
    },
    {
      "cell_type": "code",
      "source": [
        "#Defining train model function that can be called to apply different ML models\n",
        "def train_model(classifier, xtrain, ytrain, xtest):\n",
        "    # fit the training dataset on the classifier\n",
        "    classifier.fit(xtrain, ytrain)\n",
        "    # predict the labels on validation dataset\n",
        "    predictions = classifier.predict(xtest)\n",
        "    return(predictions)\n",
        "\n",
        "#Defining function to update classification reports in pandas dataframes\n",
        "def get_classification_report(y_test, y_pred):\n",
        "    from sklearn import metrics\n",
        "    report = metrics.classification_report(y_test, y_pred, output_dict=True)\n",
        "    df_classification_report = pd.DataFrame(report).transpose()\n",
        "    df_classification_report = df_classification_report\n",
        "    return df_classification_report"
      ],
      "metadata": {
        "id": "cd6lrkDUY08x"
      },
      "execution_count": 43,
      "outputs": []
    },
    {
      "cell_type": "markdown",
      "source": [
        "# Tradition Machine Learning (SVM, RF) + TFIDF"
      ],
      "metadata": {
        "id": "Ci-IH074Z6JY"
      }
    },
    {
      "cell_type": "code",
      "source": [
        "svc = LinearSVC(class_weight=\"balanced\", random_state=42)\n",
        "rfc = RandomForestClassifier(n_estimators=100, n_jobs=-1, random_state=42)"
      ],
      "metadata": {
        "id": "wWXTtiUmZ_xo"
      },
      "execution_count": 44,
      "outputs": []
    },
    {
      "cell_type": "code",
      "source": [
        "y1_svc_pred = train_model(svc, x1_smtrain, y1_smtrain, X1_test)\n",
        "y2_svc_pred = train_model(svc, x2_smtrain, y2_smtrain, X2_test)\n",
        "\n",
        "print(get_classification_report(y1_test, y1_svc_pred))\n",
        "print(get_classification_report(y2_test, y2_svc_pred))"
      ],
      "metadata": {
        "colab": {
          "base_uri": "https://localhost:8080/"
        },
        "id": "brzUs35eb9mY",
        "outputId": "d7b42f84-1c47-4621-b39e-d1b04aaf21c6"
      },
      "execution_count": 48,
      "outputs": [
        {
          "output_type": "stream",
          "name": "stdout",
          "text": [
            "              precision  recall  f1-score  support\n",
            "0                  0.00     0.0  0.000000      1.0\n",
            "1                  0.50     1.0  0.666667      1.0\n",
            "accuracy           0.50     0.5  0.500000      0.5\n",
            "macro avg          0.25     0.5  0.333333      2.0\n",
            "weighted avg       0.25     0.5  0.333333      2.0\n",
            "              precision  recall  f1-score  support\n",
            "0                  0.50     1.0  0.666667      1.0\n",
            "1                  0.00     0.0  0.000000      1.0\n",
            "accuracy           0.50     0.5  0.500000      0.5\n",
            "macro avg          0.25     0.5  0.333333      2.0\n",
            "weighted avg       0.25     0.5  0.333333      2.0\n"
          ]
        },
        {
          "output_type": "stream",
          "name": "stderr",
          "text": [
            "/usr/local/lib/python3.7/dist-packages/sklearn/metrics/_classification.py:1318: UndefinedMetricWarning: Precision and F-score are ill-defined and being set to 0.0 in labels with no predicted samples. Use `zero_division` parameter to control this behavior.\n",
            "  _warn_prf(average, modifier, msg_start, len(result))\n",
            "/usr/local/lib/python3.7/dist-packages/sklearn/metrics/_classification.py:1318: UndefinedMetricWarning: Precision and F-score are ill-defined and being set to 0.0 in labels with no predicted samples. Use `zero_division` parameter to control this behavior.\n",
            "  _warn_prf(average, modifier, msg_start, len(result))\n",
            "/usr/local/lib/python3.7/dist-packages/sklearn/metrics/_classification.py:1318: UndefinedMetricWarning: Precision and F-score are ill-defined and being set to 0.0 in labels with no predicted samples. Use `zero_division` parameter to control this behavior.\n",
            "  _warn_prf(average, modifier, msg_start, len(result))\n",
            "/usr/local/lib/python3.7/dist-packages/sklearn/metrics/_classification.py:1318: UndefinedMetricWarning: Precision and F-score are ill-defined and being set to 0.0 in labels with no predicted samples. Use `zero_division` parameter to control this behavior.\n",
            "  _warn_prf(average, modifier, msg_start, len(result))\n",
            "/usr/local/lib/python3.7/dist-packages/sklearn/metrics/_classification.py:1318: UndefinedMetricWarning: Precision and F-score are ill-defined and being set to 0.0 in labels with no predicted samples. Use `zero_division` parameter to control this behavior.\n",
            "  _warn_prf(average, modifier, msg_start, len(result))\n",
            "/usr/local/lib/python3.7/dist-packages/sklearn/metrics/_classification.py:1318: UndefinedMetricWarning: Precision and F-score are ill-defined and being set to 0.0 in labels with no predicted samples. Use `zero_division` parameter to control this behavior.\n",
            "  _warn_prf(average, modifier, msg_start, len(result))\n"
          ]
        }
      ]
    },
    {
      "cell_type": "code",
      "source": [
        "y1_rfc_pred = train_model(rfc, x1_smtrain, y1_smtrain, X1_test)\n",
        "y2_rfc_pred = train_model(rfc, x2_smtrain, y2_smtrain, X2_test)\n",
        "\n",
        "print(get_classification_report(y1_test, y1_rfc_pred))\n",
        "print(get_classification_report(y2_test, y2_rfc_pred))"
      ],
      "metadata": {
        "colab": {
          "base_uri": "https://localhost:8080/"
        },
        "id": "VcrsLnpAczgR",
        "outputId": "f747a047-0d1a-46b7-dd43-d6500dd2d6cb"
      },
      "execution_count": 49,
      "outputs": [
        {
          "output_type": "stream",
          "name": "stdout",
          "text": [
            "              precision  recall  f1-score  support\n",
            "0                  0.50     1.0  0.666667      1.0\n",
            "1                  0.00     0.0  0.000000      1.0\n",
            "accuracy           0.50     0.5  0.500000      0.5\n",
            "macro avg          0.25     0.5  0.333333      2.0\n",
            "weighted avg       0.25     0.5  0.333333      2.0\n",
            "              precision  recall  f1-score  support\n",
            "0                  0.00     0.0  0.000000      1.0\n",
            "1                  0.50     1.0  0.666667      1.0\n",
            "accuracy           0.50     0.5  0.500000      0.5\n",
            "macro avg          0.25     0.5  0.333333      2.0\n",
            "weighted avg       0.25     0.5  0.333333      2.0\n"
          ]
        },
        {
          "output_type": "stream",
          "name": "stderr",
          "text": [
            "/usr/local/lib/python3.7/dist-packages/sklearn/metrics/_classification.py:1318: UndefinedMetricWarning: Precision and F-score are ill-defined and being set to 0.0 in labels with no predicted samples. Use `zero_division` parameter to control this behavior.\n",
            "  _warn_prf(average, modifier, msg_start, len(result))\n",
            "/usr/local/lib/python3.7/dist-packages/sklearn/metrics/_classification.py:1318: UndefinedMetricWarning: Precision and F-score are ill-defined and being set to 0.0 in labels with no predicted samples. Use `zero_division` parameter to control this behavior.\n",
            "  _warn_prf(average, modifier, msg_start, len(result))\n",
            "/usr/local/lib/python3.7/dist-packages/sklearn/metrics/_classification.py:1318: UndefinedMetricWarning: Precision and F-score are ill-defined and being set to 0.0 in labels with no predicted samples. Use `zero_division` parameter to control this behavior.\n",
            "  _warn_prf(average, modifier, msg_start, len(result))\n",
            "/usr/local/lib/python3.7/dist-packages/sklearn/metrics/_classification.py:1318: UndefinedMetricWarning: Precision and F-score are ill-defined and being set to 0.0 in labels with no predicted samples. Use `zero_division` parameter to control this behavior.\n",
            "  _warn_prf(average, modifier, msg_start, len(result))\n",
            "/usr/local/lib/python3.7/dist-packages/sklearn/metrics/_classification.py:1318: UndefinedMetricWarning: Precision and F-score are ill-defined and being set to 0.0 in labels with no predicted samples. Use `zero_division` parameter to control this behavior.\n",
            "  _warn_prf(average, modifier, msg_start, len(result))\n",
            "/usr/local/lib/python3.7/dist-packages/sklearn/metrics/_classification.py:1318: UndefinedMetricWarning: Precision and F-score are ill-defined and being set to 0.0 in labels with no predicted samples. Use `zero_division` parameter to control this behavior.\n",
            "  _warn_prf(average, modifier, msg_start, len(result))\n"
          ]
        }
      ]
    },
    {
      "cell_type": "markdown",
      "source": [
        "# Traditional Machine Learning (SVM, RF) + BERT embeddings"
      ],
      "metadata": {
        "id": "imCX7kCa9Gjl"
      }
    },
    {
      "cell_type": "markdown",
      "source": [
        "# Traditional Machine Learning (SVM, RF) + XLNet embeddings"
      ],
      "metadata": {
        "id": "RWe0svYB9NDs"
      }
    },
    {
      "cell_type": "markdown",
      "source": [
        "# BiLSTM + BERT embeddings"
      ],
      "metadata": {
        "id": "0_yUB_dB9Pqb"
      }
    },
    {
      "cell_type": "markdown",
      "source": [
        "# BiGRU + BERT embeddings"
      ],
      "metadata": {
        "id": "oZ7DAskU9UFW"
      }
    }
  ]
}